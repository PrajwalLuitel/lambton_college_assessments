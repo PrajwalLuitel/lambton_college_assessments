{
 "cells": [
  {
   "cell_type": "markdown",
   "metadata": {},
   "source": [
    "# Python Challenge: Word Frequency Analysis\n",
    "\n",
    "## Problem Statement\n",
    "\n",
    "You are tasked with writing a Python function named `word_frequency_analysis` that analyzes the frequency of words in a given text. The function should perform the following operations:\n",
    "\n",
    "1. **Preprocessing:**\n",
    "   - Convert the entire text to lowercase to ensure case-insensitive processing.\n",
    "   - Remove any characters that are not alphabetic or spaces (to ensure only words are processed).\n",
    "\n",
    "2. **Word Extraction:**\n",
    "   - Using a while loop, iterate through the preprocessed text to extract individual words.\n",
    "   - Words are defined as sequences of alphabetic characters separated by spaces.\n",
    "\n",
    "3. **Frequency Analysis:**\n",
    "   - Use a dictionary to track the frequency of each word encountered.\n",
    "   - The keys in the dictionary should be the unique words, and the corresponding values should be the counts of those words in the text.\n",
    "\n",
    "4. **Unique Letter Count:**\n",
    "   - For each word, also calculate the number of unique letters it contains.\n",
    "   - Store this information in another dictionary where each word is a key, and the value is the count of unique letters in that word.\n",
    "\n",
    "5. **Return Data:**\n",
    "   - The function should return a tuple containing two elements:\n",
    "     - The first element is the word frequency dictionary.\n",
    "     - The second element is the dictionary with counts of unique letters in each word.\n",
    "\n",
    "### Example\n",
    "\n",
    "- **Input:** `\"Hello, world! Hello, everyone.\"`\n",
    "- **Output:** `({'hello': 2, 'world': 1, 'everyone': 1}, {'hello': 4, 'world': 5, 'everyone': 6})`\n",
    "\n",
    "### Implementation Tips\n",
    "\n",
    "- Consider using the `.replace()` method to handle unwanted characters during preprocessing.\n",
    "- Use a `while` loop to iterate through the text for word extraction.\n",
    "- Utilize a `set` to easily calculate the number of unique letters in each word.\n",
    "- Pay attention to edge cases, such as texts with no alphabetic characters or multiple consecutive spaces.\n",
    "\n",
    "---\n",
    "\n",
    "This challenge will test your ability to manipulate strings, iterate with control structures, and effectively use collections like dictionaries and sets. Good luck!\n"
   ]
  },
  {
   "cell_type": "code",
   "execution_count": 15,
   "metadata": {},
   "outputs": [
    {
     "name": "stdout",
     "output_type": "stream",
     "text": [
      "Hello, There are lots of Hello World Programs. I am fond of programs and I love programming Hello world! gives the following output:\n",
      "({'hello': 3, 'there': 1, 'are': 1, 'lots': 1, 'of': 2, 'world': 2, 'programs': 2, 'i': 2, 'am': 1, 'fond': 1, 'and': 1, 'love': 1, 'programming': 1}, {'hello': 4, 'there': 4, 'are': 3, 'lots': 4, 'of': 2, 'world': 5, 'programs': 7, 'i': 1, 'am': 2, 'fond': 4, 'and': 3, 'love': 4, 'programming': 8})\n",
      "\n",
      "Hello, Hello World everyone! gives the following output:\n",
      "({'hello': 2, 'world': 1, 'everyone': 1}, {'hello': 4, 'world': 5, 'everyone': 6})\n"
     ]
    }
   ],
   "source": [
    "def word_frequency_analysis(string:str) -> tuple[dict[str:int], dict[str:int]]:\n",
    "    \"\"\"\n",
    "    This function accepts any string, iterates over it and then returns the counts of the words and the counts of the unique letters in each word.\n",
    "\n",
    "    arguments:\n",
    "    string : str : the input string on which the operations are to be performed\n",
    "\n",
    "    returns:\n",
    "    my_output: tuple[dict[str:int], dict[str:int]] : the output which contains the dictionary of words and their counts, and the number of unique letters in the words in the next element\n",
    "    \"\"\"\n",
    "\n",
    "    # cleaning the string first\n",
    "    word:str = \"\"\n",
    "    words_list:list[str] = []\n",
    "\n",
    "    # going through the string to remove all the unnecessary characters and selecting words and putting words in the array\n",
    "    string = string.lower()\n",
    "    counter:int = 0\n",
    "\n",
    "    while counter < len(string):\n",
    "        character = string[counter]\n",
    "        if character.isalpha():\n",
    "            word += character\n",
    "        if character == \" \" or counter == len(string)-1:\n",
    "            if word != \"\":\n",
    "                words_list.append(word)\n",
    "                word = \"\"\n",
    "        counter += 1\n",
    "    \n",
    "    # creating a dictionary that stores the word counts\n",
    "    word_counts:dict[str:int] = {}\n",
    "\n",
    "    # counting the number of words in the input string and storing in dictionary\n",
    "    for word in words_list:\n",
    "        if word in word_counts:\n",
    "            word_counts[word] += 1\n",
    "        else:\n",
    "            word_counts[word] = 1\n",
    "    \n",
    "    unique_characters:dict[str:int] = {}\n",
    "\n",
    "    # now, calculating unique characters in each word in word counts\n",
    "    for key in word_counts:\n",
    "        unique_characters[key] = len(set(key))\n",
    "\n",
    "    return (word_counts, unique_characters)\n",
    "\n",
    "# testing the function\n",
    "my_string = \"Hello, There are lots of Hello World Programs. I am fond of programs and I love programming Hello world!\"\n",
    "print(f\"{my_string} gives the following output:\\n{word_frequency_analysis(my_string)}\")\n",
    "\n",
    "# testing the function again\n",
    "my_another_string = \"Hello, Hello World everyone!\"\n",
    "print(f\"\\n{my_another_string} gives the following output:\\n{word_frequency_analysis(my_another_string)}\")"
   ]
  },
  {
   "cell_type": "markdown",
   "metadata": {},
   "source": [
    "#### 1. Write a Python function that takes a string and calculates the length of a string and returns it. Print the returned value."
   ]
  },
  {
   "cell_type": "code",
   "execution_count": 4,
   "metadata": {},
   "outputs": [
    {
     "name": "stdout",
     "output_type": "stream",
     "text": [
      "The number of characters in Hello World! is 12\n"
     ]
    }
   ],
   "source": [
    "def calculate_length(string:str):\n",
    "    \"\"\"\n",
    "    This function takes a string as an input and returns the number of characters in the string.\n",
    "\n",
    "    arguments:\n",
    "    string: str: the string whose length is to be calculated\n",
    "\n",
    "    returns:\n",
    "    length_of_string: int: the number of characters in the string\n",
    "    \"\"\"\n",
    "\n",
    "    length_of_string:int = 0\n",
    "\n",
    "    for char in string:\n",
    "        length_of_string+=1\n",
    "    \n",
    "    return length_of_string\n",
    "\n",
    "my_string = \"Hello World!\"\n",
    "\n",
    "# Testing the function\n",
    "print(f\"The number of characters in {my_string} is\",calculate_length(my_string))"
   ]
  },
  {
   "cell_type": "markdown",
   "metadata": {},
   "source": [
    "#### 2. Write a Python function that takes a string and counts the number of characters (character frequency) in a string. For example, if we send 'google.com' to the function, it should return a dictionary like this 'g': 2, 'O': 3, '\"': 1, 'e': 1, !: 1, 'C: 1, 'm': 1}"
   ]
  },
  {
   "cell_type": "code",
   "execution_count": 5,
   "metadata": {},
   "outputs": [
    {
     "name": "stdout",
     "output_type": "stream",
     "text": [
      "The frequency dictionary for characters in Hello World! is\n",
      "{'H': 1, 'e': 1, 'l': 3, 'o': 2, ' ': 1, 'W': 1, 'r': 1, 'd': 1, '!': 1}\n"
     ]
    }
   ],
   "source": [
    "def character_frequency(string:str):\n",
    "    \"\"\"\n",
    "    This function takes a string and counts the occurrences of each character in the string and returns a dictionary with appropriate values.\n",
    "\n",
    "    arguments:\n",
    "    string: str: The string to count the occurrences of the characters\n",
    "\n",
    "    returns:\n",
    "    frequency_dictionary: dict[str:int] : The dictionary that contains the character frequency\n",
    "    \"\"\"\n",
    "    frequency_dictionary:dict[str:int] = {}\n",
    "\n",
    "    for character in string:\n",
    "        if character in frequency_dictionary:\n",
    "            frequency_dictionary[character] += 1\n",
    "        else:\n",
    "            frequency_dictionary[character] = 1\n",
    "    \n",
    "    return frequency_dictionary\n",
    "\n",
    "# Testing the function\n",
    "print(f\"The frequency dictionary for characters in {my_string} is\\n{character_frequency(my_string)}\")"
   ]
  },
  {
   "cell_type": "markdown",
   "metadata": {},
   "source": [
    "#### 3. Create a string of your choice and apply a minimum of 8 of following methods to it and print the result."
   ]
  },
  {
   "cell_type": "code",
   "execution_count": 6,
   "metadata": {},
   "outputs": [
    {
     "data": {
      "text/plain": [
       "'Hello world, i love programming in python! and i am 23 years old!'"
      ]
     },
     "execution_count": 6,
     "metadata": {},
     "output_type": "execute_result"
    }
   ],
   "source": [
    "# creating a string\n",
    "my_string = \"Hello World, I love programming in python! And I am 23 years old!\"\n",
    "\n",
    "# using capitalize\n",
    "my_string.capitalize()"
   ]
  },
  {
   "cell_type": "code",
   "execution_count": 7,
   "metadata": {},
   "outputs": [
    {
     "data": {
      "text/plain": [
       "'hello world, i love programming in python! and i am 23 years old!'"
      ]
     },
     "execution_count": 7,
     "metadata": {},
     "output_type": "execute_result"
    }
   ],
   "source": [
    "# using lower()\n",
    "my_string.lower()"
   ]
  },
  {
   "cell_type": "code",
   "execution_count": 8,
   "metadata": {},
   "outputs": [
    {
     "data": {
      "text/plain": [
       "'Hello World, I Love Programming In Python! And I Am 23 Years Old!'"
      ]
     },
     "execution_count": 8,
     "metadata": {},
     "output_type": "execute_result"
    }
   ],
   "source": [
    "# using title case\n",
    "my_string.title()"
   ]
  },
  {
   "cell_type": "code",
   "execution_count": 9,
   "metadata": {},
   "outputs": [
    {
     "data": {
      "text/plain": [
       "True"
      ]
     },
     "execution_count": 9,
     "metadata": {},
     "output_type": "execute_result"
    }
   ],
   "source": [
    "# using the endswith to check whether string ends with a value\n",
    "my_string.endswith(\"old!\")"
   ]
  },
  {
   "cell_type": "code",
   "execution_count": 10,
   "metadata": {},
   "outputs": [
    {
     "data": {
      "text/plain": [
       "False"
      ]
     },
     "execution_count": 10,
     "metadata": {},
     "output_type": "execute_result"
    }
   ],
   "source": [
    "# using the startswith to check whether string starts with a value\n",
    "my_string.startswith(\"Prajwal\")"
   ]
  },
  {
   "cell_type": "code",
   "execution_count": 11,
   "metadata": {},
   "outputs": [
    {
     "data": {
      "text/plain": [
       "20"
      ]
     },
     "execution_count": 11,
     "metadata": {},
     "output_type": "execute_result"
    }
   ],
   "source": [
    "# locating programming in the string\n",
    "my_string.find(\"programming\")"
   ]
  },
  {
   "cell_type": "code",
   "execution_count": 12,
   "metadata": {},
   "outputs": [
    {
     "data": {
      "text/plain": [
       "['Hello',\n",
       " 'World,',\n",
       " 'I',\n",
       " 'love',\n",
       " 'programming',\n",
       " 'in',\n",
       " 'python!',\n",
       " 'And',\n",
       " 'I',\n",
       " 'am',\n",
       " '23',\n",
       " 'years',\n",
       " 'old!']"
      ]
     },
     "execution_count": 12,
     "metadata": {},
     "output_type": "execute_result"
    }
   ],
   "source": [
    "# splitting the string characters\n",
    "my_string.split()"
   ]
  },
  {
   "cell_type": "code",
   "execution_count": 13,
   "metadata": {},
   "outputs": [
    {
     "data": {
      "text/plain": [
       "'Hello there Are You fine ?'"
      ]
     },
     "execution_count": 13,
     "metadata": {},
     "output_type": "execute_result"
    }
   ],
   "source": [
    "# using the join method to join a list to create a string\n",
    "\" \".join([\"Hello\", \"there\", \"Are\", \"You\", \"fine\", \"?\"])"
   ]
  },
  {
   "cell_type": "markdown",
   "metadata": {},
   "source": [
    "#### 4) Write a Python function that converts temperatures from Fahrenheit to Celsius."
   ]
  },
  {
   "cell_type": "code",
   "execution_count": 14,
   "metadata": {},
   "outputs": [
    {
     "name": "stdout",
     "output_type": "stream",
     "text": [
      "32 Degree Farhenheit is equal to 0.0 Degrees Celsius\n"
     ]
    }
   ],
   "source": [
    "def farhenheit_to_celsius(farhenheit:float) -> float:\n",
    "    \"\"\"\n",
    "    This function takes the temperature value in farhenheit and converts it to Celsius.\n",
    "\n",
    "    arguments:\n",
    "    farhenheit: float: The temperature value in Farhenheit\n",
    "\n",
    "    returns:\n",
    "    celsius: float: The temperature in Celsius\n",
    "    \"\"\"    \n",
    "\n",
    "    celsius:float = (farhenheit - 32) * (5/9)\n",
    "    return celsius\n",
    "\n",
    "my_temp:float = 32\n",
    "print(f\"{my_temp} Degree Farhenheit is equal to {farhenheit_to_celsius(my_temp)} Degrees Celsius\")"
   ]
  }
 ],
 "metadata": {
  "kernelspec": {
   "display_name": "Python 3",
   "language": "python",
   "name": "python3"
  },
  "language_info": {
   "codemirror_mode": {
    "name": "ipython",
    "version": 3
   },
   "file_extension": ".py",
   "mimetype": "text/x-python",
   "name": "python",
   "nbconvert_exporter": "python",
   "pygments_lexer": "ipython3",
   "version": "3.11.5"
  }
 },
 "nbformat": 4,
 "nbformat_minor": 2
}

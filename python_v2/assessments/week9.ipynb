{
 "cells": [
  {
   "cell_type": "markdown",
   "metadata": {},
   "source": [
    "## Advanced python programming for AI and ML\n",
    "#### Prajwal Luitel (C0927658)\n",
    "### Week 9"
   ]
  },
  {
   "cell_type": "markdown",
   "metadata": {},
   "source": [
    "Q1: A phrase is a palindrome if, after converting all uppercase letters into lowercase letters and removing all non-alphanumeric characters, it reads the same forward and backward. Alphanumeric characters include letters and numbers. Given a string s, return true if it is a palindrome, or false otherwise.\n",
    "\n",
    "Example 1:\n",
    "\n",
    "Input: s = \"A man, a plan, a canal: Panama\"\n",
    "\n",
    "Output: true\n",
    "\n",
    "Explanation: \"amanaplanacanalpanama\" is a palindrome.\n",
    "\n",
    "Example 2:\n",
    "\n",
    "Input: s = \"race a car\"\n",
    "\n",
    "Output: false\n",
    "\n",
    "Explanation: \"raceacar\" is not a palindrome."
   ]
  },
  {
   "cell_type": "code",
   "execution_count": 1,
   "metadata": {},
   "outputs": [],
   "source": [
    "def palindrome(input_string:str)-> bool:\n",
    "    \"\"\"\n",
    "    Checks the given string if it is palindrome or not including only the alphanumeric characters.\n",
    "\n",
    "    Arguments:\n",
    "    input_string: str : the string which is to be checked for palindrome.\n",
    "\n",
    "    Returns:\n",
    "    isPalindrome: bool : true if the string is palindrome after cleaning, false if not.\n",
    "    \"\"\"\n",
    "    cleaned_string:str = \"\".join([el for el in input_string.lower() if el.isalnum()])\n",
    "    if cleaned_string == cleaned_string[::-1]:\n",
    "        return True\n",
    "    return False"
   ]
  },
  {
   "cell_type": "code",
   "execution_count": 2,
   "metadata": {},
   "outputs": [
    {
     "data": {
      "text/plain": [
       "True"
      ]
     },
     "execution_count": 2,
     "metadata": {},
     "output_type": "execute_result"
    }
   ],
   "source": [
    "palindrome(\"A man, a plan, a canal: Panama\")"
   ]
  },
  {
   "cell_type": "markdown",
   "metadata": {},
   "source": [
    "Q2 Given an array nums of size n, return the majority element. The majority element is the element that appears more than ⌊n / 2⌋ times. You may assume that the majority element always exists in the array.\n",
    "\n",
    "Example 1:\n",
    "\n",
    "Input: nums = [3,2,3]\n",
    "\n",
    "Output: 3\n",
    "\n",
    "Example 2:\n",
    "\n",
    "Input: nums = [2,2,1,1,1,2,2]\n",
    "\n",
    "Output: 2\n",
    "\n"
   ]
  },
  {
   "cell_type": "code",
   "execution_count": 3,
   "metadata": {},
   "outputs": [],
   "source": [
    "def get_majority(nums:list[int]) -> int:\n",
    "    \"\"\"\n",
    "    Evaluates and returns the majority element of the list. Majority means the element which appears more than 50% of the times.\n",
    "\n",
    "    Arguments:\n",
    "    nums: list[int] : The list of numbers to check for the majority element.\n",
    "\n",
    "    Returns:\n",
    "    num: int : the majority element in the given list.\n",
    "    \"\"\"\n",
    "    counts:dict[int:int] = {}\n",
    "    half:float = len(nums)/2\n",
    "\n",
    "    for num in nums:\n",
    "        count = counts.get(num,0)\n",
    "        if count+1 > half:\n",
    "            return num\n",
    "        counts[num] = count + 1"
   ]
  },
  {
   "cell_type": "code",
   "execution_count": 4,
   "metadata": {},
   "outputs": [
    {
     "data": {
      "text/plain": [
       "2"
      ]
     },
     "execution_count": 4,
     "metadata": {},
     "output_type": "execute_result"
    }
   ],
   "source": [
    "get_majority([2,2,1,1,1,2,2])"
   ]
  },
  {
   "cell_type": "markdown",
   "metadata": {},
   "source": [
    "Q3 Write an algorithm to determine if a number n is happy. A happy number is a number defined by the following process:\n",
    "\n",
    "Starting with any positive integer, replace the number by the sum of the squares of its digits.\n",
    "Repeat the process until the number equals 1 (where it will stay), or it loops endlessly in a cycle which does not include 1.\n",
    "Those numbers for which this process ends in 1 are happy.\n",
    "Return true if n is a happy number, and false if not.\n",
    "\n",
    " Example 1:\n",
    "\n",
    "Input: n = 19\n",
    "\n",
    "Output: true\n",
    "\n",
    "Explanation:\n",
    "\n",
    "1^2 + 9^2 = 82\n",
    "\n",
    "8^2 + 2^2 = 68\n",
    "\n",
    "6^2 + 8^2 = 100\n",
    "\n",
    "1^2 + 0^2 + 0^2 = 1\n",
    "\n",
    "Example 2:\n",
    "\n",
    "Input: n = 2\n",
    "\n",
    "Output: false\n",
    "\n"
   ]
  },
  {
   "cell_type": "code",
   "execution_count": 14,
   "metadata": {},
   "outputs": [],
   "source": [
    "def happy(n:int)->bool:\n",
    "    \"\"\"\n",
    "    Checks if the given number is a happy number or not. A happy number is a number whose recursive sum of squares is equal to one.\n",
    "\n",
    "    Arguments:\n",
    "    n : int : the number to be checked for a happy number.\n",
    "\n",
    "    Returns:\n",
    "    isHappy : bool : True is the number is a happy number, else False.\n",
    "\n",
    "    \"\"\"\n",
    "    def sum_of_squares(num:int)-> int:\n",
    "        \"\"\"\n",
    "        Evaluates the sum of squares of the digits of a given number.\n",
    "\n",
    "        Arguments:\n",
    "        num : int : the number whose sum of squares is to be evaluated.\n",
    "\n",
    "        Returns:\n",
    "        sum_of_squares : int : The sum of squares of each digit of the number.\n",
    "        \"\"\"\n",
    "        sum_of_squares:int = 0\n",
    "        while num != 0:\n",
    "            sum_of_squares += (num%10)**2\n",
    "            num//=10\n",
    "        return sum_of_squares\n",
    "\n",
    "  # Putting the threshold for infinite loop check (i.e. 1000)  \n",
    "    for i in range(1000):\n",
    "        s:int = sum_of_squares(n)\n",
    "        if s == 1: return True\n",
    "        n = s\n",
    "    \n",
    "    return False\n"
   ]
  },
  {
   "cell_type": "code",
   "execution_count": 15,
   "metadata": {},
   "outputs": [
    {
     "data": {
      "text/plain": [
       "True"
      ]
     },
     "execution_count": 15,
     "metadata": {},
     "output_type": "execute_result"
    }
   ],
   "source": [
    "happy(19)"
   ]
  },
  {
   "cell_type": "code",
   "execution_count": 16,
   "metadata": {},
   "outputs": [
    {
     "data": {
      "text/plain": [
       "False"
      ]
     },
     "execution_count": 16,
     "metadata": {},
     "output_type": "execute_result"
    }
   ],
   "source": [
    "happy(2)"
   ]
  }
 ],
 "metadata": {
  "kernelspec": {
   "display_name": "Python 3",
   "language": "python",
   "name": "python3"
  },
  "language_info": {
   "codemirror_mode": {
    "name": "ipython",
    "version": 3
   },
   "file_extension": ".py",
   "mimetype": "text/x-python",
   "name": "python",
   "nbconvert_exporter": "python",
   "pygments_lexer": "ipython3",
   "version": "3.11.5"
  }
 },
 "nbformat": 4,
 "nbformat_minor": 2
}

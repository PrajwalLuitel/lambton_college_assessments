{
 "cells": [
  {
   "cell_type": "markdown",
   "metadata": {},
   "source": [
    "## A code to display my name, program name and courses I'm taking this semester"
   ]
  },
  {
   "cell_type": "code",
   "execution_count": 1,
   "metadata": {},
   "outputs": [],
   "source": [
    "\"\"\"This section stores the values into the appropriate variables\n",
    "my_name: String : my name\n",
    "my_program: String : the program I'm enrolled in\n",
    "my_courses: List : the collection of all my courses (Strings)\n",
    "\"\"\"\n",
    "\n",
    "my_name = \"Prajwal Luitel\"\n",
    "my_program = \"Artificial Intelligence and Machine Learning (AIMT)\"\n",
    "my_courses = [\"AML1114 - Data Science and Machine Learning\", \"AML1214 - Python Programming\", \"AML1301 - Careers in Artificial Intelligence in Canada\", \"AML1413 - Introduction to Artificial Intelligence\", \"CBD2214 - Big Data Fundamental Data Storage Networking\", \"COM3013 - Professional Communications\"]"
   ]
  },
  {
   "cell_type": "code",
   "execution_count": 2,
   "metadata": {},
   "outputs": [
    {
     "name": "stdout",
     "output_type": "stream",
     "text": [
      "My name is: Prajwal Luitel\n",
      "My academic program is: Artificial Intelligence and Machine Learning (AIMT)\n",
      "My courses are: \n",
      "\tAML1114 - Data Science and Machine Learning\n",
      "\tAML1214 - Python Programming\n",
      "\tAML1301 - Careers in Artificial Intelligence in Canada\n",
      "\tAML1413 - Introduction to Artificial Intelligence\n",
      "\tCBD2214 - Big Data Fundamental Data Storage Networking\n",
      "\tCOM3013 - Professional Communications\n"
     ]
    }
   ],
   "source": [
    "\"\"\"This section is responsible for displaying the data as required\n",
    "Name and program are displayed directly with the print statement whereas the courses list is iterated to display individual courses\n",
    "\"\"\"\n",
    "\n",
    "print(\"My name is: \"+my_name)\n",
    "print(\"My academic program is: \"+my_program)\n",
    "\n",
    "print(\"My courses are: \")\n",
    "for course in my_courses:\n",
    "    print(\"\\t\"+ course)"
   ]
  }
 ],
 "metadata": {
  "kernelspec": {
   "display_name": "Python 3",
   "language": "python",
   "name": "python3"
  },
  "language_info": {
   "codemirror_mode": {
    "name": "ipython",
    "version": 3
   },
   "file_extension": ".py",
   "mimetype": "text/x-python",
   "name": "python",
   "nbconvert_exporter": "python",
   "pygments_lexer": "ipython3",
   "version": "3.11.5"
  }
 },
 "nbformat": 4,
 "nbformat_minor": 2
}

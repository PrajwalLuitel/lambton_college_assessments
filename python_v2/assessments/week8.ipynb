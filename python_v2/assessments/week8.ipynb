{
 "cells": [
  {
   "cell_type": "markdown",
   "metadata": {},
   "source": [
    "## Advanced python programming for AI and ML\n",
    "#### Prajwal Luitel (C0927658)\n",
    "### Week 8"
   ]
  },
  {
   "cell_type": "markdown",
   "metadata": {},
   "source": [
    "Q1. Write a function to find the longest common prefix string amongst an array of strings.\n",
    "\n",
    "If there is no common prefix, return an empty string \"\".\n",
    "\n",
    " \n",
    "\n",
    "Example 1:\n",
    "\n",
    "Input: strs = [\"flower\",\"flow\",\"flight\"]\n",
    "\n",
    "Output: \"fl\""
   ]
  },
  {
   "cell_type": "code",
   "execution_count": 1,
   "metadata": {},
   "outputs": [],
   "source": [
    "def longest_common_prefix(strings: list[str])-> str:\n",
    "    \"\"\"\n",
    "    Evaluates and returns the longest common prefix among the strings provided.\n",
    "\n",
    "    Arguments:\n",
    "    strings: list[str] : The list of strings to check for longest common prefix.\n",
    "\n",
    "    Returns:\n",
    "    prefix_string: str : the longest common prefix among the strings provided.\n",
    "    \"\"\"\n",
    "    prefix_string:str = \"\"\n",
    "    \n",
    "    for i in strings[0]:\n",
    "        prefix_string += i \n",
    "        for el in strings:\n",
    "            if not el.startswith(prefix_string): return prefix_string[:-1]\n",
    "\n",
    "    return prefix_string"
   ]
  },
  {
   "cell_type": "code",
   "execution_count": 2,
   "metadata": {},
   "outputs": [
    {
     "data": {
      "text/plain": [
       "'fl'"
      ]
     },
     "execution_count": 2,
     "metadata": {},
     "output_type": "execute_result"
    }
   ],
   "source": [
    "longest_common_prefix(['flower','flow','flight'])"
   ]
  },
  {
   "cell_type": "code",
   "execution_count": 3,
   "metadata": {},
   "outputs": [
    {
     "data": {
      "text/plain": [
       "''"
      ]
     },
     "execution_count": 3,
     "metadata": {},
     "output_type": "execute_result"
    }
   ],
   "source": [
    "longest_common_prefix(['apple','orange','banana'])"
   ]
  },
  {
   "cell_type": "markdown",
   "metadata": {},
   "source": [
    "Q2. Given an array nums of size n, return the majority element.\n",
    "\n",
    "The majority element is the element that appears more than ⌊n / 2⌋ times. You may assume that the majority element always exists in the array.\n",
    "\n",
    " \n",
    "\n",
    "Example 1:\n",
    "\n",
    "Input: nums = [3,2,3]\n",
    "\n",
    "Output: 3\n",
    "\n"
   ]
  },
  {
   "cell_type": "code",
   "execution_count": 10,
   "metadata": {},
   "outputs": [],
   "source": [
    "def get_majority(nums:list[int]) -> int:\n",
    "    \"\"\"\n",
    "    Evaluates and returns the majority element of the list. Majority means the element which appears more than 50% of the times.\n",
    "\n",
    "    Arguments:\n",
    "    nums: list[int] : The list of numbers to check for the majority element.\n",
    "\n",
    "    Returns:\n",
    "    num: int : the majority element in the given list.\n",
    "    \"\"\"\n",
    "    counts:dict[int:int] = {}\n",
    "    half:float = len(nums)/2\n",
    "\n",
    "    for num in nums:\n",
    "        count = counts.get(num,0)\n",
    "        if count+1 > half:\n",
    "            return num\n",
    "        counts[num] = count + 1\n"
   ]
  },
  {
   "cell_type": "code",
   "execution_count": 11,
   "metadata": {},
   "outputs": [
    {
     "data": {
      "text/plain": [
       "3"
      ]
     },
     "execution_count": 11,
     "metadata": {},
     "output_type": "execute_result"
    }
   ],
   "source": [
    "get_majority([3,2,3])"
   ]
  },
  {
   "cell_type": "code",
   "execution_count": 13,
   "metadata": {},
   "outputs": [
    {
     "data": {
      "text/plain": [
       "4"
      ]
     },
     "execution_count": 13,
     "metadata": {},
     "output_type": "execute_result"
    }
   ],
   "source": [
    "get_majority([1,2,3,4,54,3,4,4,5,6,7,8,4,4,4,4,4,9,0,0,0,9,9,4,4,4,4,4,4,4,4,4,4])"
   ]
  }
 ],
 "metadata": {
  "kernelspec": {
   "display_name": "Python 3",
   "language": "python",
   "name": "python3"
  },
  "language_info": {
   "codemirror_mode": {
    "name": "ipython",
    "version": 3
   },
   "file_extension": ".py",
   "mimetype": "text/x-python",
   "name": "python",
   "nbconvert_exporter": "python",
   "pygments_lexer": "ipython3",
   "version": "3.11.5"
  }
 },
 "nbformat": 4,
 "nbformat_minor": 2
}

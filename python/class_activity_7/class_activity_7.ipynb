{
 "cells": [
  {
   "cell_type": "markdown",
   "metadata": {},
   "source": [
    "#### 1. Write a Python function that takes a string and calculates the length of a string and returns it. Print the returned value."
   ]
  },
  {
   "cell_type": "code",
   "execution_count": 3,
   "metadata": {},
   "outputs": [
    {
     "name": "stdout",
     "output_type": "stream",
     "text": [
      "The number of characters in Hello World! is 12\n"
     ]
    }
   ],
   "source": [
    "def calculate_length(string:str):\n",
    "    \"\"\"\n",
    "    This function takes a string as an input and returns the number of characters in the string.\n",
    "\n",
    "    arguments:\n",
    "    string: str: the string whose length is to be calculated\n",
    "\n",
    "    returns:\n",
    "    length_of_string: int: the number of characters in the string\n",
    "    \"\"\"\n",
    "\n",
    "    length_of_string:int = 0\n",
    "\n",
    "    for char in string:\n",
    "        length_of_string+=1\n",
    "    \n",
    "    return length_of_string\n",
    "\n",
    "my_string = \"Hello World!\"\n",
    "\n",
    "# Testing the function\n",
    "print(f\"The number of characters in {my_string} is\",calculate_length(my_string))"
   ]
  },
  {
   "cell_type": "markdown",
   "metadata": {},
   "source": [
    "#### 2. Write a Python function that takes a string and counts the number of characters (character frequency) in a string. For example, if we send 'google.com' to the function, it should return a dictionary like this 'g': 2, 'O': 3, '\"': 1, 'e': 1, !: 1, 'C: 1, 'm': 1}"
   ]
  },
  {
   "cell_type": "code",
   "execution_count": 4,
   "metadata": {},
   "outputs": [
    {
     "name": "stdout",
     "output_type": "stream",
     "text": [
      "The frequency dictionary for characters in Hello World! is\n",
      "{'H': 1, 'e': 1, 'l': 3, 'o': 2, ' ': 1, 'W': 1, 'r': 1, 'd': 1, '!': 1}\n"
     ]
    }
   ],
   "source": [
    "def character_frequency(string:str):\n",
    "    \"\"\"\n",
    "    This function takes a string and counts the occurrences of each character in the string and returns a dictionary with appropriate values.\n",
    "\n",
    "    arguments:\n",
    "    string: str: The string to count the occurrences of the characters\n",
    "\n",
    "    returns:\n",
    "    frequency_dictionary: dict[str:int] : The dictionary that contains the character frequency\n",
    "    \"\"\"\n",
    "    frequency_dictionary:dict[str:int] = {}\n",
    "\n",
    "    for character in string:\n",
    "        if character in frequency_dictionary:\n",
    "            frequency_dictionary[character] += 1\n",
    "        else:\n",
    "            frequency_dictionary[character] = 1\n",
    "    \n",
    "    return frequency_dictionary\n",
    "\n",
    "# Testing the function\n",
    "print(f\"The frequency dictionary for characters in {my_string} is\\n{character_frequency(my_string)}\")"
   ]
  },
  {
   "cell_type": "markdown",
   "metadata": {},
   "source": [
    "#### 3. Create a string of your choice and apply a minimum of 8 of following methods to it and print the result."
   ]
  },
  {
   "cell_type": "code",
   "execution_count": 6,
   "metadata": {},
   "outputs": [
    {
     "data": {
      "text/plain": [
       "'Hello world, i love programming in python! and i am 23 years old!'"
      ]
     },
     "execution_count": 6,
     "metadata": {},
     "output_type": "execute_result"
    }
   ],
   "source": [
    "# creating a string\n",
    "my_string = \"Hello World, I love programming in python! And I am 23 years old!\"\n",
    "\n",
    "# using capitalize\n",
    "my_string.capitalize()"
   ]
  },
  {
   "cell_type": "code",
   "execution_count": 7,
   "metadata": {},
   "outputs": [
    {
     "data": {
      "text/plain": [
       "'hello world, i love programming in python! and i am 23 years old!'"
      ]
     },
     "execution_count": 7,
     "metadata": {},
     "output_type": "execute_result"
    }
   ],
   "source": [
    "# using lower()\n",
    "my_string.lower()"
   ]
  },
  {
   "cell_type": "code",
   "execution_count": 8,
   "metadata": {},
   "outputs": [
    {
     "data": {
      "text/plain": [
       "'Hello World, I Love Programming In Python! And I Am 23 Years Old!'"
      ]
     },
     "execution_count": 8,
     "metadata": {},
     "output_type": "execute_result"
    }
   ],
   "source": [
    "# using title case\n",
    "my_string.title()"
   ]
  },
  {
   "cell_type": "code",
   "execution_count": 9,
   "metadata": {},
   "outputs": [
    {
     "data": {
      "text/plain": [
       "True"
      ]
     },
     "execution_count": 9,
     "metadata": {},
     "output_type": "execute_result"
    }
   ],
   "source": [
    "# using the endswith to check whether string ends with a value\n",
    "my_string.endswith(\"old!\")"
   ]
  },
  {
   "cell_type": "code",
   "execution_count": 10,
   "metadata": {},
   "outputs": [
    {
     "data": {
      "text/plain": [
       "False"
      ]
     },
     "execution_count": 10,
     "metadata": {},
     "output_type": "execute_result"
    }
   ],
   "source": [
    "# using the startswith to check whether string starts with a value\n",
    "my_string.startswith(\"Prajwal\")"
   ]
  },
  {
   "cell_type": "code",
   "execution_count": 12,
   "metadata": {},
   "outputs": [
    {
     "data": {
      "text/plain": [
       "20"
      ]
     },
     "execution_count": 12,
     "metadata": {},
     "output_type": "execute_result"
    }
   ],
   "source": [
    "# locating programming in the string\n",
    "my_string.find(\"programming\")"
   ]
  },
  {
   "cell_type": "code",
   "execution_count": 13,
   "metadata": {},
   "outputs": [
    {
     "data": {
      "text/plain": [
       "['Hello',\n",
       " 'World,',\n",
       " 'I',\n",
       " 'love',\n",
       " 'programming',\n",
       " 'in',\n",
       " 'python!',\n",
       " 'And',\n",
       " 'I',\n",
       " 'am',\n",
       " '23',\n",
       " 'years',\n",
       " 'old!']"
      ]
     },
     "execution_count": 13,
     "metadata": {},
     "output_type": "execute_result"
    }
   ],
   "source": [
    "# splitting the string characters\n",
    "my_string.split()"
   ]
  },
  {
   "cell_type": "code",
   "execution_count": 14,
   "metadata": {},
   "outputs": [
    {
     "data": {
      "text/plain": [
       "'Hello there Are You fine ?'"
      ]
     },
     "execution_count": 14,
     "metadata": {},
     "output_type": "execute_result"
    }
   ],
   "source": [
    "# using the join method to join a list to create a string\n",
    "\" \".join([\"Hello\", \"there\", \"Are\", \"You\", \"fine\", \"?\"])"
   ]
  },
  {
   "cell_type": "markdown",
   "metadata": {},
   "source": [
    "#### 4) Write a Python function that converts temperatures from Fahrenheit to Celsius."
   ]
  },
  {
   "cell_type": "code",
   "execution_count": 18,
   "metadata": {},
   "outputs": [
    {
     "name": "stdout",
     "output_type": "stream",
     "text": [
      "32 Degree Farhenheit is equal to 0.0 Degrees Celsius\n"
     ]
    }
   ],
   "source": [
    "def farhenheit_to_celsius(farhenheit:float) -> float:\n",
    "    \"\"\"\n",
    "    This function takes the temperature value in farhenheit and converts it to Celsius.\n",
    "\n",
    "    arguments:\n",
    "    farhenheit: float: The temperature value in Farhenheit\n",
    "\n",
    "    returns:\n",
    "    celsius: float: The temperature in Celsius\n",
    "    \"\"\"    \n",
    "\n",
    "    celsius:float = (farhenheit - 32) * (5/9)\n",
    "    return celsius\n",
    "\n",
    "my_temp:float = 32\n",
    "print(f\"{my_temp} Degree Farhenheit is equal to {farhenheit_to_celsius(my_temp)} Degrees Celsius\")"
   ]
  },
  {
   "cell_type": "markdown",
   "metadata": {},
   "source": [
    "# Working with the Dataset"
   ]
  },
  {
   "cell_type": "markdown",
   "metadata": {},
   "source": [
    "#### Step - 2: Learning Pandas"
   ]
  },
  {
   "cell_type": "code",
   "execution_count": null,
   "metadata": {},
   "outputs": [],
   "source": [
    "# Approach 1 List\n",
    "carloans = [[1, 34689.96, 687.23, 202.93, 484.3, 34205.66, 60, 0.0702, 'Toyota Sienna'],\n",
    "            [2, 34205.66, 687.23, 200.1, 487.13, 33718.53, 60, 0.0702, 'Toyota Sienna'],\n",
    "            [3, 33718.53, 687.23, 197.25, 489.98, 33228.55, 60, 0.0702, 'Toyota Sienna'],\n",
    "            [4, 33228.55, 687.23, 194.38, 492.85, 32735.7, 60, 0.0702, 'Toyota Sienna'],\n",
    "            [5, 32735.7, 687.23, 191.5, 495.73, 32239.97, 60, 0.0702, 'Toyota Sienna' ]]\n",
    "\n",
    "colNames = [ 'Month',\n",
    "'Starting Balance',\n",
    "' Repayment',\n",
    "' Interest Paid',\n",
    "'Principal Paid',\n",
    "'New Balance',\n",
    "'term'\n",
    "'interest rate',\n",
    "'car_type']"
   ]
  }
 ],
 "metadata": {
  "kernelspec": {
   "display_name": "Python 3",
   "language": "python",
   "name": "python3"
  },
  "language_info": {
   "codemirror_mode": {
    "name": "ipython",
    "version": 3
   },
   "file_extension": ".py",
   "mimetype": "text/x-python",
   "name": "python",
   "nbconvert_exporter": "python",
   "pygments_lexer": "ipython3",
   "version": "3.11.5"
  }
 },
 "nbformat": 4,
 "nbformat_minor": 2
}

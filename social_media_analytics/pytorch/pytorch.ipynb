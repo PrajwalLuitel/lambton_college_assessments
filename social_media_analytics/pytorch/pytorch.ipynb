{
 "cells": [
  {
   "cell_type": "markdown",
   "id": "cd8c0af2",
   "metadata": {},
   "source": [
    "# Getting Started with PyTorch\n"
   ]
  },
  {
   "cell_type": "code",
   "execution_count": 1,
   "id": "f0e6631b",
   "metadata": {},
   "outputs": [
    {
     "name": "stdout",
     "output_type": "stream",
     "text": [
      "PyTorch version: 2.2.2\n"
     ]
    }
   ],
   "source": [
    "import torch\n",
    "print(\"PyTorch version:\", torch.__version__)"
   ]
  },
  {
   "cell_type": "markdown",
   "id": "a29646f9",
   "metadata": {},
   "source": [
    "## Tensor Basics\n",
    "\n",
    "Create a tensor from a Python list and convert a NumPy array to a tensor."
   ]
  },
  {
   "cell_type": "code",
   "execution_count": 2,
   "id": "788b3b6c",
   "metadata": {},
   "outputs": [
    {
     "name": "stdout",
     "output_type": "stream",
     "text": [
      "Tensor x:\n",
      " tensor([[2.5000, 0.1000],\n",
      "        [0.5000, 9.6000]])\n",
      "Tensor b: tensor([1., 1., 1., 1., 1.], dtype=torch.float64)\n"
     ]
    }
   ],
   "source": [
    "import numpy as np\n",
    "\n",
    "# Create a tensor from a Python list\n",
    "x = torch.tensor([[2.5, 0.1], [0.5, 9.6]])\n",
    "print(\"Tensor x:\\n\", x)\n",
    "\n",
    "# Convert a numpy array to a tensor\n",
    "a = np.ones(5)\n",
    "b = torch.from_numpy(a)\n",
    "print(\"Tensor b:\", b)"
   ]
  },
  {
   "cell_type": "markdown",
   "id": "338e9f0c",
   "metadata": {},
   "source": [
    "## Autograd Example\n",
    "\n",
    "Creating a tensor with `requires_grad=True` and compute gradients using a simple operation."
   ]
  },
  {
   "cell_type": "code",
   "execution_count": 3,
   "id": "d3f9c892",
   "metadata": {},
   "outputs": [
    {
     "name": "stdout",
     "output_type": "stream",
     "text": [
      "Initial tensor x: tensor([ 1.0439, -0.2978, -0.7423], requires_grad=True)\n",
      "Gradient of x: tensor([2.0000, 0.2000, 0.0020])\n"
     ]
    }
   ],
   "source": [
    "# Create a tensor with gradient tracking\n",
    "x = torch.randn(3, requires_grad=True)\n",
    "print(\"Initial tensor x:\", x)\n",
    "\n",
    "# Perform a simple operation (multiply by 2)\n",
    "y = x * 2\n",
    "\n",
    "# Define a vector to use in the backward pass\n",
    "v = torch.tensor([1.0, 0.1, 0.001], dtype=torch.float32)\n",
    "\n",
    "# Compute gradients (vector-Jacobian product)\n",
    "y.backward(v)\n",
    "print(\"Gradient of x:\", x.grad)"
   ]
  },
  {
   "cell_type": "markdown",
   "id": "1d4f25f3",
   "metadata": {},
   "source": [
    "## Simple Feed-Forward Neural Network\n",
    "\n",
    "This cell defines a basic neural network with one hidden layer and runs a dummy training loop using random data."
   ]
  },
  {
   "cell_type": "code",
   "execution_count": 4,
   "id": "e41f6f1e",
   "metadata": {},
   "outputs": [
    {
     "name": "stderr",
     "output_type": "stream",
     "text": [
      "/Library/Frameworks/Python.framework/Versions/3.11/lib/python3.11/site-packages/tqdm/auto.py:21: TqdmWarning: IProgress not found. Please update jupyter and ipywidgets. See https://ipywidgets.readthedocs.io/en/stable/user_install.html\n",
      "  from .autonotebook import tqdm as notebook_tqdm\n"
     ]
    },
    {
     "name": "stdout",
     "output_type": "stream",
     "text": [
      "Epoch [1/2], Loss: 1.0792\n",
      "Epoch [2/2], Loss: 0.8187\n"
     ]
    }
   ],
   "source": [
    "import torch.nn as nn\n",
    "import torch.optim as optim\n",
    "\n",
    "# Set device (GPU if available, else CPU)\n",
    "device = torch.device('cuda' if torch.cuda.is_available() else 'cpu')\n",
    "\n",
    "# Define a simple feed-forward neural network\n",
    "class NeuralNet(nn.Module):\n",
    "    def __init__(self, input_size, hidden_size, num_classes):\n",
    "        super(NeuralNet, self).__init__()\n",
    "        self.l1 = nn.Linear(input_size, hidden_size)\n",
    "        self.relu = nn.ReLU()\n",
    "        self.l2 = nn.Linear(hidden_size, num_classes)\n",
    "        \n",
    "    def forward(self, x):\n",
    "        out = self.l1(x)\n",
    "        out = self.relu(out)\n",
    "        out = self.l2(out)\n",
    "        return out\n",
    "\n",
    "# Hyperparameters\n",
    "input_size = 10\n",
    "hidden_size = 5\n",
    "num_classes = 2\n",
    "learning_rate = 0.01\n",
    "\n",
    "# Create model instance\n",
    "model = NeuralNet(input_size, hidden_size, num_classes).to(device)\n",
    "criterion = nn.CrossEntropyLoss()\n",
    "optimizer = optim.SGD(model.parameters(), lr=learning_rate)\n",
    "\n",
    "# Dummy training loop with random data\n",
    "for epoch in range(2):  # 2 epochs for demonstration\n",
    "    # Create dummy input and labels\n",
    "    inputs = torch.randn(4, input_size).to(device)\n",
    "    labels = torch.randint(0, num_classes, (4,)).to(device)\n",
    "    \n",
    "    # Forward pass\n",
    "    outputs = model(inputs)\n",
    "    loss = criterion(outputs, labels)\n",
    "    \n",
    "    # Backward pass and optimization\n",
    "    loss.backward()\n",
    "    optimizer.step()\n",
    "    optimizer.zero_grad()\n",
    "    \n",
    "    print(f\"Epoch [{epoch+1}/2], Loss: {loss.item():.4f}\")"
   ]
  },
  {
   "cell_type": "markdown",
   "id": "85118b9a",
   "metadata": {},
   "source": [
    "## Save and Load Model Example\n",
    "\n",
    "This cell shows how to save the model's state and later load it into a new model instance."
   ]
  },
  {
   "cell_type": "code",
   "execution_count": 5,
   "id": "9d76e0b2",
   "metadata": {},
   "outputs": [
    {
     "name": "stdout",
     "output_type": "stream",
     "text": [
      "Model saved.\n",
      "Model loaded and set to evaluation mode.\n"
     ]
    }
   ],
   "source": [
    "# Save the model's state dictionary\n",
    "PATH = 'model_state_dict.pth'\n",
    "torch.save(model.state_dict(), PATH)\n",
    "print(\"Model saved.\")\n",
    "\n",
    "# Create a new instance of the model and load the state dictionary\n",
    "loaded_model = NeuralNet(input_size, hidden_size, num_classes)\n",
    "loaded_model.load_state_dict(torch.load(PATH))\n",
    "loaded_model.eval()\n",
    "print(\"Model loaded and set to evaluation mode.\")"
   ]
  },
  {
   "cell_type": "markdown",
   "metadata": {},
   "source": [
    "# Matrix Factorization in PyTorch"
   ]
  },
  {
   "cell_type": "code",
   "execution_count": 6,
   "metadata": {},
   "outputs": [
    {
     "name": "stdout",
     "output_type": "stream",
     "text": [
      "Ratings shape: (1000, 1000)\n"
     ]
    }
   ],
   "source": [
    "import numpy as np\n",
    "from scipy.sparse import rand as sprand\n",
    "import torch\n",
    "\n",
    "# Create synthetic ratings data\n",
    "n_users = 1000\n",
    "n_items = 1000\n",
    "\n",
    "# Create a sparse random matrix with 1% density\n",
    "ratings = sprand(n_users, n_items, density=0.01, format=\"csr\")\n",
    "# Replace the non-zero entries with random integer ratings from 1 to 4\n",
    "ratings.data = np.random.randint(1, 5, size=ratings.nnz).astype(np.float64)\n",
    "ratings = ratings.toarray()\n",
    "\n",
    "print(\"Ratings shape:\", ratings.shape)"
   ]
  },
  {
   "cell_type": "code",
   "execution_count": 7,
   "metadata": {},
   "outputs": [
    {
     "name": "stdout",
     "output_type": "stream",
     "text": [
      "MatrixFactorization(\n",
      "  (user_factors): Embedding(1000, 20, sparse=True)\n",
      "  (item_factors): Embedding(1000, 20, sparse=True)\n",
      ")\n"
     ]
    }
   ],
   "source": [
    "import torch.nn as nn\n",
    "\n",
    "class MatrixFactorization(nn.Module):\n",
    "    def __init__(self, n_users, n_items, n_factors=20):\n",
    "        super(MatrixFactorization, self).__init__()\n",
    "        # User and item embeddings represent the latent factors\n",
    "        self.user_factors = nn.Embedding(n_users, n_factors, sparse=True)\n",
    "        self.item_factors = nn.Embedding(n_items, n_factors, sparse=True)\n",
    "\n",
    "    def forward(self, user, item):\n",
    "        # Dot product of user and item latent vectors\n",
    "        return (self.user_factors(user) * self.item_factors(item)).sum(1)\n",
    "\n",
    "# Instantiate the model\n",
    "model = MatrixFactorization(n_users, n_items, n_factors=20)\n",
    "print(model)"
   ]
  },
  {
   "cell_type": "code",
   "execution_count": 8,
   "metadata": {},
   "outputs": [
    {
     "name": "stdout",
     "output_type": "stream",
     "text": [
      "Total training samples: 10000\n",
      "Training complete.\n"
     ]
    }
   ],
   "source": [
    "# Define the loss function and optimizer\n",
    "loss_func = torch.nn.MSELoss()\n",
    "optimizer = torch.optim.SGD(model.parameters(), lr=1e-6)\n",
    "\n",
    "# Get the indices of the non-zero ratings\n",
    "rows, cols = ratings.nonzero()\n",
    "# Shuffle the non-zero indices\n",
    "p = np.random.permutation(len(rows))\n",
    "rows, cols = rows[p], cols[p]\n",
    "\n",
    "print(f\"Total training samples: {len(rows)}\")\n",
    "\n",
    "# Training loop: iterate over each non-zero rating\n",
    "for row, col in zip(rows, cols):\n",
    "    optimizer.zero_grad()\n",
    "    \n",
    "    # Convert the rating and indices to PyTorch tensors\n",
    "    rating = torch.FloatTensor([ratings[row, col]])\n",
    "    user = torch.LongTensor([row])\n",
    "    item = torch.LongTensor([col])\n",
    "    \n",
    "    # Forward pass: predict the rating\n",
    "    prediction = model(user, item)\n",
    "    \n",
    "    # Compute the loss\n",
    "    loss = loss_func(prediction, rating)\n",
    "    \n",
    "    # Backward pass\n",
    "    loss.backward()\n",
    "    \n",
    "    # Update parameters\n",
    "    optimizer.step()\n",
    "\n",
    "print(\"Training complete.\")"
   ]
  }
 ],
 "metadata": {
  "kernelspec": {
   "display_name": "Python 3",
   "language": "python",
   "name": "python3"
  },
  "language_info": {
   "codemirror_mode": {
    "name": "ipython",
    "version": 3
   },
   "file_extension": ".py",
   "mimetype": "text/x-python",
   "name": "python",
   "nbconvert_exporter": "python",
   "pygments_lexer": "ipython3",
   "version": "3.11.5"
  }
 },
 "nbformat": 4,
 "nbformat_minor": 2
}

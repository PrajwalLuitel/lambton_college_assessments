{
 "cells": [
  {
   "cell_type": "markdown",
   "metadata": {},
   "source": [
    "## Advanced python programming for AI and ML\n",
    "#### Prajwal Luitel (C0927658)\n",
    "### Week 7"
   ]
  },
  {
   "cell_type": "markdown",
   "metadata": {},
   "source": [
    "#### Given an integer x, return true if x is palindrome integer.\n",
    "\n",
    "#### An integer is a palindrome when it reads the same backward as forward.\n",
    "\n",
    "#### For example, 121 is a palindrome while 123 is not."
   ]
  },
  {
   "cell_type": "code",
   "execution_count": 1,
   "metadata": {},
   "outputs": [],
   "source": [
    "def palindromeInteger(x:int) -> bool:\n",
    "    \"\"\"\n",
    "    Checks if the given integer is palindrome or not\n",
    "\n",
    "    Arguments:\n",
    "    x : int : the number to be checked for palindrome\n",
    "\n",
    "    Returns:\n",
    "\n",
    "    isPalindrome : bool : True if the given integer is palindrome else False\n",
    "    \"\"\"\n",
    "    return True if int(str(x)[::-1])== x else False        "
   ]
  },
  {
   "cell_type": "code",
   "execution_count": 2,
   "metadata": {},
   "outputs": [
    {
     "data": {
      "text/plain": [
       "True"
      ]
     },
     "execution_count": 2,
     "metadata": {},
     "output_type": "execute_result"
    }
   ],
   "source": [
    "palindromeInteger(121)"
   ]
  },
  {
   "cell_type": "code",
   "execution_count": 3,
   "metadata": {},
   "outputs": [
    {
     "data": {
      "text/plain": [
       "False"
      ]
     },
     "execution_count": 3,
     "metadata": {},
     "output_type": "execute_result"
    }
   ],
   "source": [
    "palindromeInteger(123)"
   ]
  },
  {
   "cell_type": "markdown",
   "metadata": {},
   "source": [
    "Roman numerals are represented by seven different symbols: I, V, X, L, C, D and M.\n",
    "\n",
    "Symbol       Value\n",
    "\n",
    "I             1\n",
    "\n",
    "V             5\n",
    "\n",
    "X             10\n",
    "\n",
    "L             50\n",
    "\n",
    "C             100\n",
    "\n",
    "D             500\n",
    "\n",
    "M             1000\n",
    "\n",
    "For example, 2 is written as II in Roman numeral, just two ones added together. 12 is written as XII, which is simply X + II. The number 27 is written as XXVII, which is XX + V + II.\n",
    "\n",
    "Roman numerals are usually written largest to smallest from left to right. However, the numeral for four is not IIII. Instead, the number four is written as IV. Because the one is before the five we subtract it making four. The same principle applies to the number nine, which is written as IX. There are six instances where subtraction is used:\n",
    "\n",
    "I can be placed before V (5) and X (10) to make 4 and 9. \n",
    "X can be placed before L (50) and C (100) to make 40 and 90. \n",
    "C can be placed before D (500) and M (1000) to make 400 and 900.\n",
    "Given a roman numeral, convert it to an integer."
   ]
  },
  {
   "cell_type": "code",
   "execution_count": 8,
   "metadata": {},
   "outputs": [],
   "source": [
    "def roman_to_integer(roman:str) -> int:\n",
    "    \"\"\"\n",
    "    Converts a roman numeral to an integer.\n",
    "\n",
    "    Arguments:\n",
    "    roman : str : the roman numeral which is to be converted to an integer.\n",
    "\n",
    "    Retutns:\n",
    "    numeric : int : the equivalent integer for the provided roman numeral\n",
    "\n",
    "    \"\"\"\n",
    "    roman = roman.upper()\n",
    "    roman_num_dict:dict[str, int] = {'I':1, 'V':5, 'X':10, 'L':50, 'C':100, 'D':500, 'M':1000}\n",
    "    numeric:int = 0\n",
    "\n",
    "    # Filtering out the substraction cases\n",
    "    while \"IX\" in roman or \"IV\" in roman or \"XL\" in roman or \"XC\" in roman or \"CD\" in roman or \"CM\" in roman:\n",
    "        if \"IX\" in roman:\n",
    "            roman = roman.replace(\"IX\", \"\")\n",
    "            numeric += 9\n",
    "        if \"IV\" in roman:\n",
    "            roman = roman.replace(\"IV\", \"\")\n",
    "            numeric += 4\n",
    "        if \"XL\" in roman:\n",
    "            roman = roman.replace(\"XL\", \"\")\n",
    "            numeric += 40 \n",
    "        if \"XC\" in roman:\n",
    "            roman = roman.replace(\"XC\", \"\")\n",
    "            numeric += 90\n",
    "        if \"CD\" in roman:\n",
    "            roman = roman.replace(\"CD\", \"\")\n",
    "            numeric += 400\n",
    "        if \"CM\" in roman:\n",
    "            roman = roman.replace(\"CM\", \"\")\n",
    "            numeric += 900\n",
    "\n",
    "    # Adding the remaining literal values\n",
    "    for digit in roman:\n",
    "        numeric += roman_num_dict[digit]\n",
    "    \n",
    "    return numeric\n"
   ]
  },
  {
   "cell_type": "code",
   "execution_count": 5,
   "metadata": {},
   "outputs": [
    {
     "data": {
      "text/plain": [
       "3"
      ]
     },
     "execution_count": 5,
     "metadata": {},
     "output_type": "execute_result"
    }
   ],
   "source": [
    "roman_to_integer(\"III\")"
   ]
  },
  {
   "cell_type": "code",
   "execution_count": 6,
   "metadata": {},
   "outputs": [
    {
     "data": {
      "text/plain": [
       "58"
      ]
     },
     "execution_count": 6,
     "metadata": {},
     "output_type": "execute_result"
    }
   ],
   "source": [
    "roman_to_integer(\"LViii\")"
   ]
  },
  {
   "cell_type": "code",
   "execution_count": 9,
   "metadata": {},
   "outputs": [
    {
     "data": {
      "text/plain": [
       "4"
      ]
     },
     "execution_count": 9,
     "metadata": {},
     "output_type": "execute_result"
    }
   ],
   "source": [
    "roman_to_integer(\"IV\")"
   ]
  }
 ],
 "metadata": {
  "kernelspec": {
   "display_name": "Python 3",
   "language": "python",
   "name": "python3"
  },
  "language_info": {
   "codemirror_mode": {
    "name": "ipython",
    "version": 3
   },
   "file_extension": ".py",
   "mimetype": "text/x-python",
   "name": "python",
   "nbconvert_exporter": "python",
   "pygments_lexer": "ipython3",
   "version": "3.11.5"
  }
 },
 "nbformat": 4,
 "nbformat_minor": 2
}

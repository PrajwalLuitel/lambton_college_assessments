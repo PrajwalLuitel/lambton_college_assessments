{
 "cells": [
  {
   "cell_type": "code",
   "execution_count": 1,
   "metadata": {},
   "outputs": [],
   "source": [
    "import pandas as pd\n",
    "import numpy as np\n",
    "\n",
    "import plotly.express as px\n",
    "import matplotlib.pyplot as plt\n",
    "import seaborn as sns\n",
    "from scipy import stats\n",
    "\n",
    "from sklearn.model_selection import train_test_split\n",
    "from sklearn.preprocessing import StandardScaler, LabelEncoder\n",
    "from sklearn.impute import SimpleImputer\n",
    "from sklearn. metrics import confusion_matrix, ConfusionMatrixDisplay"
   ]
  },
  {
   "cell_type": "markdown",
   "metadata": {},
   "source": [
    "## Data import"
   ]
  },
  {
   "cell_type": "code",
   "execution_count": 2,
   "metadata": {},
   "outputs": [
    {
     "data": {
      "text/html": [
       "<div>\n",
       "<style scoped>\n",
       "    .dataframe tbody tr th:only-of-type {\n",
       "        vertical-align: middle;\n",
       "    }\n",
       "\n",
       "    .dataframe tbody tr th {\n",
       "        vertical-align: top;\n",
       "    }\n",
       "\n",
       "    .dataframe thead th {\n",
       "        text-align: right;\n",
       "    }\n",
       "</style>\n",
       "<table border=\"1\" class=\"dataframe\">\n",
       "  <thead>\n",
       "    <tr style=\"text-align: right;\">\n",
       "      <th></th>\n",
       "      <th>FILENAME</th>\n",
       "      <th>URL</th>\n",
       "      <th>URLLength</th>\n",
       "      <th>Domain</th>\n",
       "      <th>DomainLength</th>\n",
       "      <th>IsDomainIP</th>\n",
       "      <th>TLD</th>\n",
       "      <th>URLSimilarityIndex</th>\n",
       "      <th>CharContinuationRate</th>\n",
       "      <th>TLDLegitimateProb</th>\n",
       "      <th>...</th>\n",
       "      <th>Pay</th>\n",
       "      <th>Crypto</th>\n",
       "      <th>HasCopyrightInfo</th>\n",
       "      <th>NoOfImage</th>\n",
       "      <th>NoOfCSS</th>\n",
       "      <th>NoOfJS</th>\n",
       "      <th>NoOfSelfRef</th>\n",
       "      <th>NoOfEmptyRef</th>\n",
       "      <th>NoOfExternalRef</th>\n",
       "      <th>label</th>\n",
       "    </tr>\n",
       "  </thead>\n",
       "  <tbody>\n",
       "    <tr>\n",
       "      <th>0</th>\n",
       "      <td>521848.txt</td>\n",
       "      <td>https://www.southbankmosaics.com</td>\n",
       "      <td>31</td>\n",
       "      <td>www.southbankmosaics.com</td>\n",
       "      <td>24</td>\n",
       "      <td>0</td>\n",
       "      <td>com</td>\n",
       "      <td>100.0</td>\n",
       "      <td>1.000000</td>\n",
       "      <td>0.522907</td>\n",
       "      <td>...</td>\n",
       "      <td>0</td>\n",
       "      <td>0</td>\n",
       "      <td>1</td>\n",
       "      <td>34</td>\n",
       "      <td>20</td>\n",
       "      <td>28</td>\n",
       "      <td>119</td>\n",
       "      <td>0</td>\n",
       "      <td>124</td>\n",
       "      <td>1</td>\n",
       "    </tr>\n",
       "    <tr>\n",
       "      <th>1</th>\n",
       "      <td>31372.txt</td>\n",
       "      <td>https://www.uni-mainz.de</td>\n",
       "      <td>23</td>\n",
       "      <td>www.uni-mainz.de</td>\n",
       "      <td>16</td>\n",
       "      <td>0</td>\n",
       "      <td>de</td>\n",
       "      <td>100.0</td>\n",
       "      <td>0.666667</td>\n",
       "      <td>0.032650</td>\n",
       "      <td>...</td>\n",
       "      <td>0</td>\n",
       "      <td>0</td>\n",
       "      <td>1</td>\n",
       "      <td>50</td>\n",
       "      <td>9</td>\n",
       "      <td>8</td>\n",
       "      <td>39</td>\n",
       "      <td>0</td>\n",
       "      <td>217</td>\n",
       "      <td>1</td>\n",
       "    </tr>\n",
       "    <tr>\n",
       "      <th>2</th>\n",
       "      <td>597387.txt</td>\n",
       "      <td>https://www.voicefmradio.co.uk</td>\n",
       "      <td>29</td>\n",
       "      <td>www.voicefmradio.co.uk</td>\n",
       "      <td>22</td>\n",
       "      <td>0</td>\n",
       "      <td>uk</td>\n",
       "      <td>100.0</td>\n",
       "      <td>0.866667</td>\n",
       "      <td>0.028555</td>\n",
       "      <td>...</td>\n",
       "      <td>0</td>\n",
       "      <td>0</td>\n",
       "      <td>1</td>\n",
       "      <td>10</td>\n",
       "      <td>2</td>\n",
       "      <td>7</td>\n",
       "      <td>42</td>\n",
       "      <td>2</td>\n",
       "      <td>5</td>\n",
       "      <td>1</td>\n",
       "    </tr>\n",
       "    <tr>\n",
       "      <th>3</th>\n",
       "      <td>554095.txt</td>\n",
       "      <td>https://www.sfnmjournal.com</td>\n",
       "      <td>26</td>\n",
       "      <td>www.sfnmjournal.com</td>\n",
       "      <td>19</td>\n",
       "      <td>0</td>\n",
       "      <td>com</td>\n",
       "      <td>100.0</td>\n",
       "      <td>1.000000</td>\n",
       "      <td>0.522907</td>\n",
       "      <td>...</td>\n",
       "      <td>1</td>\n",
       "      <td>1</td>\n",
       "      <td>1</td>\n",
       "      <td>3</td>\n",
       "      <td>27</td>\n",
       "      <td>15</td>\n",
       "      <td>22</td>\n",
       "      <td>1</td>\n",
       "      <td>31</td>\n",
       "      <td>1</td>\n",
       "    </tr>\n",
       "    <tr>\n",
       "      <th>4</th>\n",
       "      <td>151578.txt</td>\n",
       "      <td>https://www.rewildingargentina.org</td>\n",
       "      <td>33</td>\n",
       "      <td>www.rewildingargentina.org</td>\n",
       "      <td>26</td>\n",
       "      <td>0</td>\n",
       "      <td>org</td>\n",
       "      <td>100.0</td>\n",
       "      <td>1.000000</td>\n",
       "      <td>0.079963</td>\n",
       "      <td>...</td>\n",
       "      <td>1</td>\n",
       "      <td>0</td>\n",
       "      <td>1</td>\n",
       "      <td>244</td>\n",
       "      <td>15</td>\n",
       "      <td>34</td>\n",
       "      <td>72</td>\n",
       "      <td>1</td>\n",
       "      <td>85</td>\n",
       "      <td>1</td>\n",
       "    </tr>\n",
       "  </tbody>\n",
       "</table>\n",
       "<p>5 rows × 56 columns</p>\n",
       "</div>"
      ],
      "text/plain": [
       "     FILENAME                                 URL  URLLength  \\\n",
       "0  521848.txt    https://www.southbankmosaics.com         31   \n",
       "1   31372.txt            https://www.uni-mainz.de         23   \n",
       "2  597387.txt      https://www.voicefmradio.co.uk         29   \n",
       "3  554095.txt         https://www.sfnmjournal.com         26   \n",
       "4  151578.txt  https://www.rewildingargentina.org         33   \n",
       "\n",
       "                       Domain  DomainLength  IsDomainIP  TLD  \\\n",
       "0    www.southbankmosaics.com            24           0  com   \n",
       "1            www.uni-mainz.de            16           0   de   \n",
       "2      www.voicefmradio.co.uk            22           0   uk   \n",
       "3         www.sfnmjournal.com            19           0  com   \n",
       "4  www.rewildingargentina.org            26           0  org   \n",
       "\n",
       "   URLSimilarityIndex  CharContinuationRate  TLDLegitimateProb  ...  Pay  \\\n",
       "0               100.0              1.000000           0.522907  ...    0   \n",
       "1               100.0              0.666667           0.032650  ...    0   \n",
       "2               100.0              0.866667           0.028555  ...    0   \n",
       "3               100.0              1.000000           0.522907  ...    1   \n",
       "4               100.0              1.000000           0.079963  ...    1   \n",
       "\n",
       "   Crypto  HasCopyrightInfo  NoOfImage  NoOfCSS  NoOfJS  NoOfSelfRef  \\\n",
       "0       0                 1         34       20      28          119   \n",
       "1       0                 1         50        9       8           39   \n",
       "2       0                 1         10        2       7           42   \n",
       "3       1                 1          3       27      15           22   \n",
       "4       0                 1        244       15      34           72   \n",
       "\n",
       "   NoOfEmptyRef  NoOfExternalRef  label  \n",
       "0             0              124      1  \n",
       "1             0              217      1  \n",
       "2             2                5      1  \n",
       "3             1               31      1  \n",
       "4             1               85      1  \n",
       "\n",
       "[5 rows x 56 columns]"
      ]
     },
     "execution_count": 2,
     "metadata": {},
     "output_type": "execute_result"
    }
   ],
   "source": [
    "# I have a mac and it keeps giving me error to download the datast. If this brings some problem to you, please remove the part from import ssl to the else: block. Thank you.\n",
    "import ssl\n",
    "\n",
    "try:\n",
    "    _create_unverified_https_context = ssl._create_unverified_context\n",
    "except AttributeError:\n",
    "    pass\n",
    "else:\n",
    "    ssl._create_default_https_context = _create_unverified_https_context\n",
    "\n",
    "# Importing the dataset from the github repository\n",
    "phishing_dataframe = pd.read_csv('https://raw.githubusercontent.com/PrajwalLuitel/data_mining_datasets/main/phishing_url_dataset.csv')\n",
    "phishing_dataframe.head()"
   ]
  },
  {
   "cell_type": "markdown",
   "metadata": {},
   "source": [
    "## Data Exploration"
   ]
  },
  {
   "cell_type": "code",
   "execution_count": 3,
   "metadata": {},
   "outputs": [
    {
     "name": "stdout",
     "output_type": "stream",
     "text": [
      "The number of rows in the dataset : 235795 \n",
      "The number of columns in the dataset : 56\n"
     ]
    }
   ],
   "source": [
    "print(f\"The number of rows in the dataset : {phishing_dataframe.shape[0]} \\nThe number of columns in the dataset : {phishing_dataframe.shape[1]}\")"
   ]
  },
  {
   "cell_type": "code",
   "execution_count": 4,
   "metadata": {},
   "outputs": [
    {
     "data": {
      "text/plain": [
       "Index(['FILENAME', 'URL', 'URLLength', 'Domain', 'DomainLength', 'IsDomainIP',\n",
       "       'TLD', 'URLSimilarityIndex', 'CharContinuationRate',\n",
       "       'TLDLegitimateProb', 'URLCharProb', 'TLDLength', 'NoOfSubDomain',\n",
       "       'HasObfuscation', 'NoOfObfuscatedChar', 'ObfuscationRatio',\n",
       "       'NoOfLettersInURL', 'LetterRatioInURL', 'NoOfDegitsInURL',\n",
       "       'DegitRatioInURL', 'NoOfEqualsInURL', 'NoOfQMarkInURL',\n",
       "       'NoOfAmpersandInURL', 'NoOfOtherSpecialCharsInURL',\n",
       "       'SpacialCharRatioInURL', 'IsHTTPS', 'LineOfCode', 'LargestLineLength',\n",
       "       'HasTitle', 'Title', 'DomainTitleMatchScore', 'URLTitleMatchScore',\n",
       "       'HasFavicon', 'Robots', 'IsResponsive', 'NoOfURLRedirect',\n",
       "       'NoOfSelfRedirect', 'HasDescription', 'NoOfPopup', 'NoOfiFrame',\n",
       "       'HasExternalFormSubmit', 'HasSocialNet', 'HasSubmitButton',\n",
       "       'HasHiddenFields', 'HasPasswordField', 'Bank', 'Pay', 'Crypto',\n",
       "       'HasCopyrightInfo', 'NoOfImage', 'NoOfCSS', 'NoOfJS', 'NoOfSelfRef',\n",
       "       'NoOfEmptyRef', 'NoOfExternalRef', 'label'],\n",
       "      dtype='object')"
      ]
     },
     "execution_count": 4,
     "metadata": {},
     "output_type": "execute_result"
    }
   ],
   "source": [
    "phishing_dataframe.columns"
   ]
  },
  {
   "cell_type": "code",
   "execution_count": 5,
   "metadata": {},
   "outputs": [
    {
     "data": {
      "text/plain": [
       "int64      41\n",
       "float64    10\n",
       "object      5\n",
       "Name: count, dtype: int64"
      ]
     },
     "execution_count": 5,
     "metadata": {},
     "output_type": "execute_result"
    }
   ],
   "source": [
    "phishing_dataframe.dtypes.value_counts()"
   ]
  },
  {
   "cell_type": "code",
   "execution_count": 6,
   "metadata": {},
   "outputs": [
    {
     "data": {
      "text/plain": [
       "['FILENAME', 'URL', 'Domain', 'TLD', 'Title']"
      ]
     },
     "execution_count": 6,
     "metadata": {},
     "output_type": "execute_result"
    }
   ],
   "source": [
    "non_numeric_columns = [col for col in phishing_dataframe if phishing_dataframe[f'{col}'].dtype == 'object']\n",
    "non_numeric_columns"
   ]
  },
  {
   "cell_type": "code",
   "execution_count": 7,
   "metadata": {},
   "outputs": [
    {
     "data": {
      "text/plain": [
       "[235795, 235370, 220086, 695, 197874]"
      ]
     },
     "execution_count": 7,
     "metadata": {},
     "output_type": "execute_result"
    }
   ],
   "source": [
    "[phishing_dataframe[f'{col}'].nunique() for col in non_numeric_columns]"
   ]
  },
  {
   "cell_type": "code",
   "execution_count": 8,
   "metadata": {},
   "outputs": [],
   "source": [
    "phishing_dataframe.drop(['FILENAME', 'URL', 'Domain', 'Title'], axis=1, inplace=True)"
   ]
  },
  {
   "cell_type": "code",
   "execution_count": 9,
   "metadata": {},
   "outputs": [
    {
     "name": "stdout",
     "output_type": "stream",
     "text": [
      "The number of rows in the dataset : 235795 \n",
      "The number of columns in the dataset : 52\n"
     ]
    }
   ],
   "source": [
    "print(f\"The number of rows in the dataset : {phishing_dataframe.shape[0]} \\nThe number of columns in the dataset : {phishing_dataframe.shape[1]}\")"
   ]
  },
  {
   "cell_type": "markdown",
   "metadata": {},
   "source": [
    "## Data Preprocessing"
   ]
  },
  {
   "cell_type": "markdown",
   "metadata": {},
   "source": [
    "### Checking for missing values, features type exploration and feature encoding"
   ]
  },
  {
   "cell_type": "code",
   "execution_count": 10,
   "metadata": {},
   "outputs": [
    {
     "name": "stdout",
     "output_type": "stream",
     "text": [
      "<class 'pandas.core.frame.DataFrame'>\n",
      "RangeIndex: 235795 entries, 0 to 235794\n",
      "Data columns (total 52 columns):\n",
      " #   Column                      Non-Null Count   Dtype  \n",
      "---  ------                      --------------   -----  \n",
      " 0   URLLength                   235795 non-null  int64  \n",
      " 1   DomainLength                235795 non-null  int64  \n",
      " 2   IsDomainIP                  235795 non-null  int64  \n",
      " 3   TLD                         235795 non-null  object \n",
      " 4   URLSimilarityIndex          235795 non-null  float64\n",
      " 5   CharContinuationRate        235795 non-null  float64\n",
      " 6   TLDLegitimateProb           235795 non-null  float64\n",
      " 7   URLCharProb                 235795 non-null  float64\n",
      " 8   TLDLength                   235795 non-null  int64  \n",
      " 9   NoOfSubDomain               235795 non-null  int64  \n",
      " 10  HasObfuscation              235795 non-null  int64  \n",
      " 11  NoOfObfuscatedChar          235795 non-null  int64  \n",
      " 12  ObfuscationRatio            235795 non-null  float64\n",
      " 13  NoOfLettersInURL            235795 non-null  int64  \n",
      " 14  LetterRatioInURL            235795 non-null  float64\n",
      " 15  NoOfDegitsInURL             235795 non-null  int64  \n",
      " 16  DegitRatioInURL             235795 non-null  float64\n",
      " 17  NoOfEqualsInURL             235795 non-null  int64  \n",
      " 18  NoOfQMarkInURL              235795 non-null  int64  \n",
      " 19  NoOfAmpersandInURL          235795 non-null  int64  \n",
      " 20  NoOfOtherSpecialCharsInURL  235795 non-null  int64  \n",
      " 21  SpacialCharRatioInURL       235795 non-null  float64\n",
      " 22  IsHTTPS                     235795 non-null  int64  \n",
      " 23  LineOfCode                  235795 non-null  int64  \n",
      " 24  LargestLineLength           235795 non-null  int64  \n",
      " 25  HasTitle                    235795 non-null  int64  \n",
      " 26  DomainTitleMatchScore       235795 non-null  float64\n",
      " 27  URLTitleMatchScore          235795 non-null  float64\n",
      " 28  HasFavicon                  235795 non-null  int64  \n",
      " 29  Robots                      235795 non-null  int64  \n",
      " 30  IsResponsive                235795 non-null  int64  \n",
      " 31  NoOfURLRedirect             235795 non-null  int64  \n",
      " 32  NoOfSelfRedirect            235795 non-null  int64  \n",
      " 33  HasDescription              235795 non-null  int64  \n",
      " 34  NoOfPopup                   235795 non-null  int64  \n",
      " 35  NoOfiFrame                  235795 non-null  int64  \n",
      " 36  HasExternalFormSubmit       235795 non-null  int64  \n",
      " 37  HasSocialNet                235795 non-null  int64  \n",
      " 38  HasSubmitButton             235795 non-null  int64  \n",
      " 39  HasHiddenFields             235795 non-null  int64  \n",
      " 40  HasPasswordField            235795 non-null  int64  \n",
      " 41  Bank                        235795 non-null  int64  \n",
      " 42  Pay                         235795 non-null  int64  \n",
      " 43  Crypto                      235795 non-null  int64  \n",
      " 44  HasCopyrightInfo            235795 non-null  int64  \n",
      " 45  NoOfImage                   235795 non-null  int64  \n",
      " 46  NoOfCSS                     235795 non-null  int64  \n",
      " 47  NoOfJS                      235795 non-null  int64  \n",
      " 48  NoOfSelfRef                 235795 non-null  int64  \n",
      " 49  NoOfEmptyRef                235795 non-null  int64  \n",
      " 50  NoOfExternalRef             235795 non-null  int64  \n",
      " 51  label                       235795 non-null  int64  \n",
      "dtypes: float64(10), int64(41), object(1)\n",
      "memory usage: 93.5+ MB\n"
     ]
    }
   ],
   "source": [
    "# Display basic information about the dataset\n",
    "phishing_dataframe.info()"
   ]
  },
  {
   "cell_type": "code",
   "execution_count": 11,
   "metadata": {},
   "outputs": [
    {
     "name": "stdout",
     "output_type": "stream",
     "text": [
      "Missing Values:\n",
      " URLLength                     0\n",
      "DomainLength                  0\n",
      "IsDomainIP                    0\n",
      "TLD                           0\n",
      "URLSimilarityIndex            0\n",
      "CharContinuationRate          0\n",
      "TLDLegitimateProb             0\n",
      "URLCharProb                   0\n",
      "TLDLength                     0\n",
      "NoOfSubDomain                 0\n",
      "HasObfuscation                0\n",
      "NoOfObfuscatedChar            0\n",
      "ObfuscationRatio              0\n",
      "NoOfLettersInURL              0\n",
      "LetterRatioInURL              0\n",
      "NoOfDegitsInURL               0\n",
      "DegitRatioInURL               0\n",
      "NoOfEqualsInURL               0\n",
      "NoOfQMarkInURL                0\n",
      "NoOfAmpersandInURL            0\n",
      "NoOfOtherSpecialCharsInURL    0\n",
      "SpacialCharRatioInURL         0\n",
      "IsHTTPS                       0\n",
      "LineOfCode                    0\n",
      "LargestLineLength             0\n",
      "HasTitle                      0\n",
      "DomainTitleMatchScore         0\n",
      "URLTitleMatchScore            0\n",
      "HasFavicon                    0\n",
      "Robots                        0\n",
      "IsResponsive                  0\n",
      "NoOfURLRedirect               0\n",
      "NoOfSelfRedirect              0\n",
      "HasDescription                0\n",
      "NoOfPopup                     0\n",
      "NoOfiFrame                    0\n",
      "HasExternalFormSubmit         0\n",
      "HasSocialNet                  0\n",
      "HasSubmitButton               0\n",
      "HasHiddenFields               0\n",
      "HasPasswordField              0\n",
      "Bank                          0\n",
      "Pay                           0\n",
      "Crypto                        0\n",
      "HasCopyrightInfo              0\n",
      "NoOfImage                     0\n",
      "NoOfCSS                       0\n",
      "NoOfJS                        0\n",
      "NoOfSelfRef                   0\n",
      "NoOfEmptyRef                  0\n",
      "NoOfExternalRef               0\n",
      "label                         0\n",
      "dtype: int64\n"
     ]
    }
   ],
   "source": [
    "# Check for missing values\n",
    "missing_values = phishing_dataframe.isnull().sum()\n",
    "print(\"Missing Values:\\n\", missing_values)"
   ]
  },
  {
   "cell_type": "code",
   "execution_count": 12,
   "metadata": {},
   "outputs": [],
   "source": [
    "for column in phishing_dataframe.columns:\n",
    "    if phishing_dataframe[column].dtype == 'object':\n",
    "        le = LabelEncoder()\n",
    "        phishing_dataframe[column] = le.fit_transform(phishing_dataframe[column])\n"
   ]
  },
  {
   "cell_type": "code",
   "execution_count": 13,
   "metadata": {},
   "outputs": [
    {
     "name": "stdout",
     "output_type": "stream",
     "text": [
      "<class 'pandas.core.frame.DataFrame'>\n",
      "RangeIndex: 235795 entries, 0 to 235794\n",
      "Data columns (total 52 columns):\n",
      " #   Column                      Non-Null Count   Dtype  \n",
      "---  ------                      --------------   -----  \n",
      " 0   URLLength                   235795 non-null  int64  \n",
      " 1   DomainLength                235795 non-null  int64  \n",
      " 2   IsDomainIP                  235795 non-null  int64  \n",
      " 3   TLD                         235795 non-null  int64  \n",
      " 4   URLSimilarityIndex          235795 non-null  float64\n",
      " 5   CharContinuationRate        235795 non-null  float64\n",
      " 6   TLDLegitimateProb           235795 non-null  float64\n",
      " 7   URLCharProb                 235795 non-null  float64\n",
      " 8   TLDLength                   235795 non-null  int64  \n",
      " 9   NoOfSubDomain               235795 non-null  int64  \n",
      " 10  HasObfuscation              235795 non-null  int64  \n",
      " 11  NoOfObfuscatedChar          235795 non-null  int64  \n",
      " 12  ObfuscationRatio            235795 non-null  float64\n",
      " 13  NoOfLettersInURL            235795 non-null  int64  \n",
      " 14  LetterRatioInURL            235795 non-null  float64\n",
      " 15  NoOfDegitsInURL             235795 non-null  int64  \n",
      " 16  DegitRatioInURL             235795 non-null  float64\n",
      " 17  NoOfEqualsInURL             235795 non-null  int64  \n",
      " 18  NoOfQMarkInURL              235795 non-null  int64  \n",
      " 19  NoOfAmpersandInURL          235795 non-null  int64  \n",
      " 20  NoOfOtherSpecialCharsInURL  235795 non-null  int64  \n",
      " 21  SpacialCharRatioInURL       235795 non-null  float64\n",
      " 22  IsHTTPS                     235795 non-null  int64  \n",
      " 23  LineOfCode                  235795 non-null  int64  \n",
      " 24  LargestLineLength           235795 non-null  int64  \n",
      " 25  HasTitle                    235795 non-null  int64  \n",
      " 26  DomainTitleMatchScore       235795 non-null  float64\n",
      " 27  URLTitleMatchScore          235795 non-null  float64\n",
      " 28  HasFavicon                  235795 non-null  int64  \n",
      " 29  Robots                      235795 non-null  int64  \n",
      " 30  IsResponsive                235795 non-null  int64  \n",
      " 31  NoOfURLRedirect             235795 non-null  int64  \n",
      " 32  NoOfSelfRedirect            235795 non-null  int64  \n",
      " 33  HasDescription              235795 non-null  int64  \n",
      " 34  NoOfPopup                   235795 non-null  int64  \n",
      " 35  NoOfiFrame                  235795 non-null  int64  \n",
      " 36  HasExternalFormSubmit       235795 non-null  int64  \n",
      " 37  HasSocialNet                235795 non-null  int64  \n",
      " 38  HasSubmitButton             235795 non-null  int64  \n",
      " 39  HasHiddenFields             235795 non-null  int64  \n",
      " 40  HasPasswordField            235795 non-null  int64  \n",
      " 41  Bank                        235795 non-null  int64  \n",
      " 42  Pay                         235795 non-null  int64  \n",
      " 43  Crypto                      235795 non-null  int64  \n",
      " 44  HasCopyrightInfo            235795 non-null  int64  \n",
      " 45  NoOfImage                   235795 non-null  int64  \n",
      " 46  NoOfCSS                     235795 non-null  int64  \n",
      " 47  NoOfJS                      235795 non-null  int64  \n",
      " 48  NoOfSelfRef                 235795 non-null  int64  \n",
      " 49  NoOfEmptyRef                235795 non-null  int64  \n",
      " 50  NoOfExternalRef             235795 non-null  int64  \n",
      " 51  label                       235795 non-null  int64  \n",
      "dtypes: float64(10), int64(42)\n",
      "memory usage: 93.5 MB\n"
     ]
    }
   ],
   "source": [
    "phishing_dataframe.info()"
   ]
  },
  {
   "cell_type": "code",
   "execution_count": 14,
   "metadata": {},
   "outputs": [
    {
     "data": {
      "text/html": [
       "<div>\n",
       "<style scoped>\n",
       "    .dataframe tbody tr th:only-of-type {\n",
       "        vertical-align: middle;\n",
       "    }\n",
       "\n",
       "    .dataframe tbody tr th {\n",
       "        vertical-align: top;\n",
       "    }\n",
       "\n",
       "    .dataframe thead th {\n",
       "        text-align: right;\n",
       "    }\n",
       "</style>\n",
       "<table border=\"1\" class=\"dataframe\">\n",
       "  <thead>\n",
       "    <tr style=\"text-align: right;\">\n",
       "      <th></th>\n",
       "      <th>URLLength</th>\n",
       "      <th>DomainLength</th>\n",
       "      <th>IsDomainIP</th>\n",
       "      <th>TLD</th>\n",
       "      <th>URLSimilarityIndex</th>\n",
       "      <th>CharContinuationRate</th>\n",
       "      <th>TLDLegitimateProb</th>\n",
       "      <th>URLCharProb</th>\n",
       "      <th>TLDLength</th>\n",
       "      <th>NoOfSubDomain</th>\n",
       "      <th>...</th>\n",
       "      <th>Pay</th>\n",
       "      <th>Crypto</th>\n",
       "      <th>HasCopyrightInfo</th>\n",
       "      <th>NoOfImage</th>\n",
       "      <th>NoOfCSS</th>\n",
       "      <th>NoOfJS</th>\n",
       "      <th>NoOfSelfRef</th>\n",
       "      <th>NoOfEmptyRef</th>\n",
       "      <th>NoOfExternalRef</th>\n",
       "      <th>label</th>\n",
       "    </tr>\n",
       "  </thead>\n",
       "  <tbody>\n",
       "    <tr>\n",
       "      <th>0</th>\n",
       "      <td>31</td>\n",
       "      <td>24</td>\n",
       "      <td>0</td>\n",
       "      <td>231</td>\n",
       "      <td>100.0</td>\n",
       "      <td>1.000000</td>\n",
       "      <td>0.522907</td>\n",
       "      <td>0.061933</td>\n",
       "      <td>3</td>\n",
       "      <td>1</td>\n",
       "      <td>...</td>\n",
       "      <td>0</td>\n",
       "      <td>0</td>\n",
       "      <td>1</td>\n",
       "      <td>34</td>\n",
       "      <td>20</td>\n",
       "      <td>28</td>\n",
       "      <td>119</td>\n",
       "      <td>0</td>\n",
       "      <td>124</td>\n",
       "      <td>1</td>\n",
       "    </tr>\n",
       "    <tr>\n",
       "      <th>1</th>\n",
       "      <td>23</td>\n",
       "      <td>16</td>\n",
       "      <td>0</td>\n",
       "      <td>254</td>\n",
       "      <td>100.0</td>\n",
       "      <td>0.666667</td>\n",
       "      <td>0.032650</td>\n",
       "      <td>0.050207</td>\n",
       "      <td>2</td>\n",
       "      <td>1</td>\n",
       "      <td>...</td>\n",
       "      <td>0</td>\n",
       "      <td>0</td>\n",
       "      <td>1</td>\n",
       "      <td>50</td>\n",
       "      <td>9</td>\n",
       "      <td>8</td>\n",
       "      <td>39</td>\n",
       "      <td>0</td>\n",
       "      <td>217</td>\n",
       "      <td>1</td>\n",
       "    </tr>\n",
       "    <tr>\n",
       "      <th>2</th>\n",
       "      <td>29</td>\n",
       "      <td>22</td>\n",
       "      <td>0</td>\n",
       "      <td>647</td>\n",
       "      <td>100.0</td>\n",
       "      <td>0.866667</td>\n",
       "      <td>0.028555</td>\n",
       "      <td>0.064129</td>\n",
       "      <td>2</td>\n",
       "      <td>2</td>\n",
       "      <td>...</td>\n",
       "      <td>0</td>\n",
       "      <td>0</td>\n",
       "      <td>1</td>\n",
       "      <td>10</td>\n",
       "      <td>2</td>\n",
       "      <td>7</td>\n",
       "      <td>42</td>\n",
       "      <td>2</td>\n",
       "      <td>5</td>\n",
       "      <td>1</td>\n",
       "    </tr>\n",
       "    <tr>\n",
       "      <th>3</th>\n",
       "      <td>26</td>\n",
       "      <td>19</td>\n",
       "      <td>0</td>\n",
       "      <td>231</td>\n",
       "      <td>100.0</td>\n",
       "      <td>1.000000</td>\n",
       "      <td>0.522907</td>\n",
       "      <td>0.057606</td>\n",
       "      <td>3</td>\n",
       "      <td>1</td>\n",
       "      <td>...</td>\n",
       "      <td>1</td>\n",
       "      <td>1</td>\n",
       "      <td>1</td>\n",
       "      <td>3</td>\n",
       "      <td>27</td>\n",
       "      <td>15</td>\n",
       "      <td>22</td>\n",
       "      <td>1</td>\n",
       "      <td>31</td>\n",
       "      <td>1</td>\n",
       "    </tr>\n",
       "    <tr>\n",
       "      <th>4</th>\n",
       "      <td>33</td>\n",
       "      <td>26</td>\n",
       "      <td>0</td>\n",
       "      <td>503</td>\n",
       "      <td>100.0</td>\n",
       "      <td>1.000000</td>\n",
       "      <td>0.079963</td>\n",
       "      <td>0.059441</td>\n",
       "      <td>3</td>\n",
       "      <td>1</td>\n",
       "      <td>...</td>\n",
       "      <td>1</td>\n",
       "      <td>0</td>\n",
       "      <td>1</td>\n",
       "      <td>244</td>\n",
       "      <td>15</td>\n",
       "      <td>34</td>\n",
       "      <td>72</td>\n",
       "      <td>1</td>\n",
       "      <td>85</td>\n",
       "      <td>1</td>\n",
       "    </tr>\n",
       "  </tbody>\n",
       "</table>\n",
       "<p>5 rows × 52 columns</p>\n",
       "</div>"
      ],
      "text/plain": [
       "   URLLength  DomainLength  IsDomainIP  TLD  URLSimilarityIndex  \\\n",
       "0         31            24           0  231               100.0   \n",
       "1         23            16           0  254               100.0   \n",
       "2         29            22           0  647               100.0   \n",
       "3         26            19           0  231               100.0   \n",
       "4         33            26           0  503               100.0   \n",
       "\n",
       "   CharContinuationRate  TLDLegitimateProb  URLCharProb  TLDLength  \\\n",
       "0              1.000000           0.522907     0.061933          3   \n",
       "1              0.666667           0.032650     0.050207          2   \n",
       "2              0.866667           0.028555     0.064129          2   \n",
       "3              1.000000           0.522907     0.057606          3   \n",
       "4              1.000000           0.079963     0.059441          3   \n",
       "\n",
       "   NoOfSubDomain  ...  Pay  Crypto  HasCopyrightInfo  NoOfImage  NoOfCSS  \\\n",
       "0              1  ...    0       0                 1         34       20   \n",
       "1              1  ...    0       0                 1         50        9   \n",
       "2              2  ...    0       0                 1         10        2   \n",
       "3              1  ...    1       1                 1          3       27   \n",
       "4              1  ...    1       0                 1        244       15   \n",
       "\n",
       "   NoOfJS  NoOfSelfRef  NoOfEmptyRef  NoOfExternalRef  label  \n",
       "0      28          119             0              124      1  \n",
       "1       8           39             0              217      1  \n",
       "2       7           42             2                5      1  \n",
       "3      15           22             1               31      1  \n",
       "4      34           72             1               85      1  \n",
       "\n",
       "[5 rows x 52 columns]"
      ]
     },
     "execution_count": 14,
     "metadata": {},
     "output_type": "execute_result"
    }
   ],
   "source": [
    "phishing_dataframe.head()"
   ]
  },
  {
   "cell_type": "code",
   "execution_count": 15,
   "metadata": {},
   "outputs": [
    {
     "data": {
      "application/vnd.plotly.v1+json": {
       "config": {
        "plotlyServerURL": "https://plot.ly"
       },
       "data": [
        {
         "coloraxis": "coloraxis",
         "hovertemplate": "x: %{x}<br>y: %{y}<br>color: %{z}<extra></extra>",
         "name": "0",
         "texttemplate": "%{z}",
         "type": "heatmap",
         "x": [
          "URLLength",
          "DomainLength",
          "IsDomainIP",
          "TLD",
          "URLSimilarityIndex",
          "CharContinuationRate",
          "TLDLegitimateProb",
          "URLCharProb",
          "TLDLength",
          "NoOfSubDomain",
          "HasObfuscation",
          "NoOfObfuscatedChar",
          "ObfuscationRatio",
          "NoOfLettersInURL",
          "LetterRatioInURL",
          "NoOfDegitsInURL",
          "DegitRatioInURL",
          "NoOfEqualsInURL",
          "NoOfQMarkInURL",
          "NoOfAmpersandInURL",
          "NoOfOtherSpecialCharsInURL",
          "SpacialCharRatioInURL",
          "IsHTTPS",
          "LineOfCode",
          "LargestLineLength",
          "HasTitle",
          "DomainTitleMatchScore",
          "URLTitleMatchScore",
          "HasFavicon",
          "Robots",
          "IsResponsive",
          "NoOfURLRedirect",
          "NoOfSelfRedirect",
          "HasDescription",
          "NoOfPopup",
          "NoOfiFrame",
          "HasExternalFormSubmit",
          "HasSocialNet",
          "HasSubmitButton",
          "HasHiddenFields",
          "HasPasswordField",
          "Bank",
          "Pay",
          "Crypto",
          "HasCopyrightInfo",
          "NoOfImage",
          "NoOfCSS",
          "NoOfJS",
          "NoOfSelfRef",
          "NoOfEmptyRef",
          "NoOfExternalRef",
          "label"
         ],
         "xaxis": "x",
         "y": [
          "URLLength",
          "DomainLength",
          "IsDomainIP",
          "TLD",
          "URLSimilarityIndex",
          "CharContinuationRate",
          "TLDLegitimateProb",
          "URLCharProb",
          "TLDLength",
          "NoOfSubDomain",
          "HasObfuscation",
          "NoOfObfuscatedChar",
          "ObfuscationRatio",
          "NoOfLettersInURL",
          "LetterRatioInURL",
          "NoOfDegitsInURL",
          "DegitRatioInURL",
          "NoOfEqualsInURL",
          "NoOfQMarkInURL",
          "NoOfAmpersandInURL",
          "NoOfOtherSpecialCharsInURL",
          "SpacialCharRatioInURL",
          "IsHTTPS",
          "LineOfCode",
          "LargestLineLength",
          "HasTitle",
          "DomainTitleMatchScore",
          "URLTitleMatchScore",
          "HasFavicon",
          "Robots",
          "IsResponsive",
          "NoOfURLRedirect",
          "NoOfSelfRedirect",
          "HasDescription",
          "NoOfPopup",
          "NoOfiFrame",
          "HasExternalFormSubmit",
          "HasSocialNet",
          "HasSubmitButton",
          "HasHiddenFields",
          "HasPasswordField",
          "Bank",
          "Pay",
          "Crypto",
          "HasCopyrightInfo",
          "NoOfImage",
          "NoOfCSS",
          "NoOfJS",
          "NoOfSelfRef",
          "NoOfEmptyRef",
          "NoOfExternalRef",
          "label"
         ],
         "yaxis": "y",
         "z": [
          [
           1,
           0.24309138684232842,
           0.27727175172663426,
           -0.03203836935007562,
           -0.4211042197858617,
           -0.24110437581686453,
           -0.016655613939931268,
           -0.24521507082712196,
           0.03333897957090656,
           0.07105807118177496,
           0.16198047862214376,
           0.459094097850203,
           0.12747227699951708,
           0.9560469859044239,
           0.31263210349740794,
           0.8358093990245989,
           0.30437897748366344,
           0.685091345799589,
           0.47490143708610344,
           0.5003868541440457,
           0.7825819191340413,
           0.19911163631548806,
           0.01311723077753639,
           -0.06063647765413159,
           0.045219239298329106,
           -0.07545554895139765,
           -0.21587693817377102,
           -0.19323380864873235,
           -0.09454788162582957,
           -0.0737697567316917,
           -0.08254865713079564,
           0.02997477445789746,
           -0.0051677940448874304,
           -0.14910414518410953,
           -0.010952412674526386,
           -0.04487497167017705,
           -0.03544349299974048,
           -0.18090878784807266,
           -0.06742047513415779,
           -0.0725507057039636,
           0.021561112303345228,
           -0.03173439766549623,
           -0.05781569902076708,
           -0.025162919784919996,
           -0.1264204225835732,
           -0.06463902681568212,
           -0.014507119797878172,
           -0.07864303214147722,
           -0.07472202141173108,
           -0.023206097041523946,
           -0.05905495958936134,
           -0.23344507450505567
          ],
          [
           0.24309138684232842,
           1,
           -0.04139819461671197,
           -0.04477079161371382,
           -0.4206944656629212,
           -0.5774246352402355,
           0.027209085126708228,
           -0.17810360884929805,
           0.15266926317022744,
           0.39915746210115594,
           0.04164252646059364,
           0.011304388428913367,
           0.021626772608194636,
           0.27760152453370346,
           0.5478538027950637,
           0.13170862101833847,
           0.28962815754972876,
           0.0200328285742544,
           0.0644766523294746,
           0.016320271133957537,
           0.2729298362816265,
           0.18280338826264683,
           -0.01921798679371032,
           -0.07517097633839852,
           0.06713094000422393,
           -0.10713284695677346,
           -0.2964926650510587,
           -0.32860319497056995,
           -0.1483165334956098,
           -0.08259370114808749,
           -0.1197369551941459,
           0.019386703995570242,
           -0.04680266790493817,
           -0.2028211705216636,
           -0.012502163337866266,
           -0.051686878135451454,
           -0.03856029795721725,
           -0.21605472001851747,
           -0.11107657167084645,
           -0.11188153540186312,
           0.009409024311438976,
           -0.03994352153193041,
           -0.06589461793206661,
           -0.03477272559429615,
           -0.19685982272860092,
           -0.08345789316521925,
           -0.01759554517732567,
           -0.10221637552856724,
           -0.09671157413380307,
           -0.03167286847733963,
           -0.07009857119334688,
           -0.2831518897971002
          ],
          [
           0.27727175172663426,
           -0.04139819461671197,
           1,
           -0.08364571093873699,
           -0.12143931588410971,
           -0.10130658891500606,
           -0.05321952301231209,
           -0.11176858268852138,
           -0.011124868881499052,
           0.08461882376906056,
           0.00123926270373058,
           0.0003541518706628619,
           0.0009770348260253906,
           0.24430003092494507,
           -0.0026298559050599484,
           0.22470335632374025,
           0.1612568381236877,
           0.28835084428499674,
           0.38952348867810643,
           0.17881412539225486,
           0.28584615416565123,
           0.11548398401042348,
           -0.011740601253481812,
           -0.01621100184410168,
           0.002159382884956477,
           -0.0046018369943162255,
           -0.05203279158308344,
           -0.05445763265736594,
           -0.030890065945530974,
           -0.028260697435616707,
           -0.0064806200770631955,
           0.023496634641634248,
           -0.010230958692633987,
           -0.021517965870558597,
           -0.0027945352567406334,
           -0.009740947061405096,
           -0.007987871749082665,
           -0.0464322038572984,
           -0.011489407279050623,
           -0.011961625432499,
           -0.008418555118621896,
           -0.01570773971487739,
           -0.013863379059841028,
           -0.005918778468241269,
           -0.02279608830852128,
           -0.016501994152854558,
           -0.00414883084060777,
           -0.023126096221169408,
           -0.01898145402477533,
           -0.006793452651167943,
           -0.015269191879923016,
           -0.060202489834388584
          ],
          [
           -0.03203836935007562,
           -0.04477079161371382,
           -0.08364571093873699,
           1,
           0.011216061241352918,
           -0.03534208983581657,
           -0.5614543257035034,
           -0.08496985286106948,
           -0.14215464795585653,
           0.19242036026268522,
           0.01858120320727387,
           0.0011315004046359128,
           0.008580027031757457,
           -0.03778412516998853,
           -0.11751982318599255,
           -0.022847540206284055,
           -0.007839835277270299,
           -0.028070146068647682,
           -0.025705957401940708,
           -0.010154022198030055,
           -0.010981448815363854,
           0.06015616718551148,
           -0.07959146752527194,
           -0.011298490655775538,
           -0.005826945813755383,
           0.000496768243849361,
           -0.11035666772337865,
           -0.1082270152149236,
           0.02637840429668363,
           0.004270571820948628,
           -0.008078059547773483,
           -0.03021053646340921,
           -0.005512388709355762,
           -0.016557568601420446,
           -0.0013151829316518507,
           -0.04068813446621054,
           0.003685108175110649,
           0.011105864087550142,
           0.014886760188571315,
           0.002190862224124006,
           -0.04151524191858146,
           -0.028738705222528648,
           -0.01870552012248224,
           -0.016437776373093634,
           0.01024496570547159,
           -0.02008997239561192,
           0.0017351766671659739,
           -0.003923647484512154,
           0.0011804665289938125,
           -0.004497420192460001,
           -0.004976950520573877,
           0.039270923897324825
          ],
          [
           -0.4211042197858617,
           -0.4206944656629212,
           -0.12143931588410971,
           0.011216061241352918,
           1,
           0.5729379086681935,
           0.16204242039690697,
           0.5716215837285202,
           -0.05391526462954755,
           -0.05848123232369528,
           -0.10015924597414155,
           -0.032256584065052975,
           -0.07898883861116796,
           -0.4491197947048915,
           -0.49176067158101905,
           -0.29959112550261985,
           -0.5612379424583164,
           -0.16107479659435742,
           -0.3417220810120667,
           -0.07534642205482091,
           -0.5405543777661652,
           -0.6048853774297273,
           0.34638920448274346,
           0.23114725328602917,
           -0.07849633215672246,
           0.35212322183917066,
           0.6040447116510508,
           0.5439693808084921,
           0.4023337494266691,
           0.3132931897579037,
           0.4334134178650906,
           -0.06083958889428482,
           -0.0496342921776593,
           0.5901952250785204,
           0.041041827223318395,
           0.19120765858434272,
           0.13920238394543882,
           0.6736904232566363,
           0.44822735830336563,
           0.40465496734751827,
           0.061552645376000754,
           0.15128994115718566,
           0.2915421936039312,
           0.08722785451806041,
           0.6136200897893561,
           0.2357280221891255,
           0.05768258903725575,
           0.3156786168546694,
           0.27158956086041164,
           0.09155576470424856,
           0.22195962067254152,
           0.8603580349950561
          ],
          [
           -0.24110437581686453,
           -0.5774246352402355,
           -0.10130658891500606,
           -0.03534208983581657,
           0.5729379086681935,
           1,
           0.2372209708907506,
           0.3498103704523163,
           0.0514382066518983,
           -0.4823141510947111,
           -0.03623118355011,
           -0.004371391250905671,
           -0.021257295794271654,
           -0.252761137386783,
           -0.30444842700245883,
           -0.1584974019888779,
           -0.34388043910156846,
           -0.06851730918375633,
           -0.14534657720358463,
           -0.034872407791852335,
           -0.4255415466997266,
           -0.711019988229347,
           0.0891703977348594,
           0.13335121494229726,
           -0.06886090891430324,
           0.16452928929289196,
           0.5509426553147707,
           0.5685599751060102,
           0.21301970287652583,
           0.1772684068997841,
           0.20670463912373027,
           -0.031916127348381035,
           0.019088593648967377,
           0.3407221550566165,
           0.021261697356721992,
           0.1271505255273586,
           0.08603644593877963,
           0.38069416452791904,
           0.24525687810272923,
           0.22021307527034248,
           0.07502633885773215,
           0.09580914901323984,
           0.17914516635197517,
           0.05966716028047313,
           0.3455656644459951,
           0.13593148976630393,
           0.027943466048410928,
           0.1839004950219728,
           0.14788090849873364,
           0.04996308586240264,
           0.12174510432777735,
           0.4677352998341208
          ],
          [
           -0.016655613939931268,
           0.027209085126708228,
           -0.05321952301231209,
           -0.5614543257035034,
           0.16204242039690697,
           0.2372209708907506,
           1,
           0.27422424451579064,
           0.38679378797412184,
           -0.25004833714734886,
           -0.01657691072154247,
           0.0012071890223491802,
           -0.010992855840017853,
           -0.0048639375242601505,
           0.12846644803880522,
           -0.02910075993345213,
           -0.09083148186401437,
           -0.009375908184313308,
           -0.036019205419248516,
           -0.011254950144085896,
           -0.09430741807283158,
           -0.28027455266109635,
           0.043764354420394266,
           0.04165847611274429,
           -0.02527185614544209,
           0.0055971466697868795,
           0.29856486836759194,
           0.29625344440819584,
           0.03345202713651914,
           0.05815012736358137,
           0.08156033906880936,
           -0.008145209206900985,
           -0.036883616834859835,
           0.11906080164920389,
           0.005315806586304269,
           0.09321939824257551,
           0.02729448653413448,
           0.09784288361184355,
           0.0630035913632491,
           0.07543992959233782,
           0.07030970751236923,
           0.0854410864937493,
           0.11149383029901055,
           0.038672750262817426,
           0.11439352477783371,
           0.05343199985267536,
           0.008296283651846188,
           0.05847473098517827,
           0.02821614628860102,
           0.015251621669066686,
           0.03318222919458858,
           0.09738926357111853
          ],
          [
           -0.24521507082712196,
           -0.17810360884929805,
           -0.11176858268852138,
           -0.08496985286106948,
           0.5716215837285202,
           0.3498103704523163,
           0.27422424451579064,
           1,
           0.06981765491713027,
           -0.08157643683554773,
           -0.056108040359628006,
           -0.0290295239021363,
           -0.04462340801768788,
           -0.21470069534781142,
           0.04557728800595148,
           -0.29073389952802414,
           -0.7088752996288782,
           -0.10336321551405649,
           -0.193289736760593,
           -0.05523049870249352,
           -0.307038310374796,
           -0.39698227853123097,
           0.1611590862757488,
           0.12488380955823059,
           -0.05865989570816686,
           0.15694187198520873,
           0.36132946298366947,
           0.3311818217386349,
           0.2160968613809298,
           0.18093048402814585,
           0.23305947255208045,
           -0.03598065052979788,
           -0.030074470707791377,
           0.32985397848942205,
           0.019266909202806024,
           0.11557471415296573,
           0.07697956054692856,
           0.3787128969438863,
           0.25087056309086514,
           0.21364489711874973,
           0.04604629409073356,
           0.07252271098485681,
           0.16232330310411863,
           0.06218748165622789,
           0.34953014765291546,
           0.12861659691710686,
           0.034469768387117114,
           0.17611861806280885,
           0.14454304492027856,
           0.050854667155688246,
           0.12084053642100637,
           0.4697485899604126
          ],
          [
           0.03333897957090656,
           0.15266926317022744,
           -0.011124868881499052,
           -0.14215464795585653,
           -0.05391526462954755,
           0.0514382066518983,
           0.38679378797412184,
           0.06981765491713027,
           1,
           -0.16243118130480944,
           0.0009737281045103383,
           0.0019023770524796005,
           -0.004028495305033176,
           0.04834266366122213,
           0.1646080638764883,
           0.011448468564219088,
           0.020573050229897936,
           0.006096472592603389,
           0.005701677280275798,
           -0.002412867017322862,
           -0.013363395359760055,
           -0.13947062284591819,
           -0.039501089536773934,
           -0.027197585900447702,
           0.005978612494279302,
           -0.10405493376237328,
           0.17462232590239962,
           0.16906375330188136,
           -0.056487600206926114,
           -0.030552081769036947,
           -0.0176191225612728,
           -0.005091861459562247,
           -0.05735619674593691,
           -0.04963302216247006,
           -0.006564684647451364,
           0.014930432542647053,
           -0.01503270523640751,
           -0.05772382821156143,
           -0.04655026844367502,
           -0.009889711057787383,
           0.006106787107106914,
           0.008312568317999232,
           0.02310342168553322,
           0.017689062779406288,
           -0.043483601613990404,
           -0.02907418824056412,
           -0.004248903468590371,
           -0.02410857709278642,
           -0.04645144346991263,
           -0.014442346219249268,
           -0.026486294873167185,
           -0.07915862308106522
          ],
          [
           0.07105807118177496,
           0.39915746210115594,
           0.08461882376906056,
           0.19242036026268522,
           -0.05848123232369528,
           -0.4823141510947111,
           -0.25004833714734886,
           -0.08157643683554773,
           -0.16243118130480944,
           1,
           0.015902002781626668,
           -0.0014774248421659372,
           0.0024609102077813505,
           0.054144760763962234,
           -0.047033706142014006,
           0.03875769265258173,
           0.06619206222042716,
           0.018708775262659866,
           0.029092502630729024,
           0.024868330795287562,
           0.16447112116095727,
           0.28334284482352884,
           -0.10936585361857908,
           -0.003514841352857381,
           0.011149015932511554,
           -0.06320701297155118,
           -0.312068492069192,
           -0.3817706769527098,
           0.0037991621191004383,
           -0.039196312766547614,
           -0.043306245079434876,
           -0.009067489565821022,
           -0.023957437798803154,
           -0.03166843854327597,
           -0.0002212236979279942,
           -0.01818676708840941,
           -0.004434588258501021,
           -0.009581384644306024,
           0.0010148057256060396,
           -0.009476813185042015,
           -0.04455025225712893,
           -0.03530408798225099,
           -0.02498311780936526,
           -0.016590087217343796,
           -0.006321012524688679,
           -0.009473826674915711,
           -0.0010029332621281047,
           -0.01022631756135324,
           0.003107512459098787,
           0.0017019134086065438,
           -0.001538123299691359,
           -0.005955129316836138
          ],
          [
           0.16198047862214376,
           0.04164252646059364,
           0.00123926270373058,
           0.01858120320727387,
           -0.10015924597414155,
           -0.03623118355011,
           -0.01657691072154247,
           -0.056108040359628006,
           0.0009737281045103383,
           0.015902002781626668,
           1,
           0.2918575517791222,
           0.7987907525888073,
           0.1337741838509324,
           0.04271601366857539,
           0.15770179531146647,
           0.08266034121620845,
           0.1327755474197269,
           0.10678179616510503,
           0.33526709252936904,
           0.16643184142987924,
           0.08608527324109332,
           -0.014200840680550657,
           -0.011577196841905363,
           0.005220319909632142,
           -0.006150182856006846,
           -0.04575123894347449,
           -0.04166341807435322,
           -0.021323054556091764,
           -0.013183601873121257,
           -0.010223597272916461,
           0.005858602849725118,
           -0.008802937492924053,
           -0.03648591156389042,
           -0.002577007356663835,
           -0.009998043995465566,
           -0.006999466763312951,
           -0.04029789418543086,
           0.0066631267539181424,
           0.004395748877492064,
           0.018351933566874735,
           -0.00692436279600291,
           -0.009674085861771922,
           -0.0027109631349341214,
           -0.014249303934339874,
           -0.012996645239627258,
           -0.0028414412657364056,
           -0.0157003134532192,
           -0.01654136968858845,
           -0.004463316798957829,
           -0.013342481091285299,
           -0.052472740482021024
          ],
          [
           0.459094097850203,
           0.011304388428913367,
           0.0003541518706628619,
           0.0011315004046359128,
           -0.032256584065052975,
           -0.004371391250905671,
           0.0012071890223491802,
           -0.0290295239021363,
           0.0019023770524796005,
           -0.0014774248421659372,
           0.2918575517791222,
           1,
           0.34946682084583836,
           0.24256288012609276,
           0.0018697385188106187,
           0.7212156849311786,
           0.04570794069590728,
           0.7545426882253207,
           0.024794781586182243,
           0.7864506569560159,
           0.5657660490798913,
           0.03396595707538018,
           -0.004114216130664495,
           -0.003089306985410703,
           0.0003887747885675839,
           0.000688480610870159,
           -0.013344899041750288,
           -0.012952509739275312,
           -0.008381112996566456,
           -0.005227009855584479,
           -0.007117824209140334,
           -0.0012909668753401892,
           -0.0024665208071571487,
           -0.011134682458836523,
           -0.0007574255373293225,
           -0.0031233163397739994,
           -0.002610721778021943,
           -0.012009039501702764,
           0.0006808118617588781,
           0.003493510405720351,
           0.00689710825594419,
           0.0047572551119422005,
           0.0014812215546161566,
           -0.0014720880082738242,
           0.0021685602137413687,
           -0.003829784081079767,
           -0.000577320325735196,
           -0.0033557310412545395,
           -0.00482794348815516,
           -0.0016013263249993223,
           -0.003515024054016926,
           -0.015314565572224242
          ],
          [
           0.12747227699951708,
           0.021626772608194636,
           0.0009770348260253906,
           0.008580027031757457,
           -0.07898883861116796,
           -0.021257295794271654,
           -0.010992855840017853,
           -0.04462340801768788,
           -0.004028495305033176,
           0.0024609102077813505,
           0.7987907525888073,
           0.34946682084583836,
           1,
           0.09534878616773775,
           0.028305170830004896,
           0.1440494766992388,
           0.07114622483150136,
           0.10932362467625173,
           0.06757367057371494,
           0.345574441376204,
           0.13052831868456555,
           0.0757103864265086,
           -0.011939942735443503,
           -0.00964363400372621,
           0.002851673133730439,
           -0.004298526381733676,
           -0.036522302132967685,
           -0.032405435365744535,
           -0.019349127866698852,
           -0.009450878828790811,
           -0.012432227742750237,
           0.004020179518435729,
           -0.00673896558733711,
           -0.02888055845480145,
           -0.0020703448901224207,
           -0.007662183757697909,
           -0.005660490916442456,
           -0.03233926528809957,
           -0.0008710035577924267,
           -0.00010018825008041057,
           0.014638042021333664,
           -0.005004544456584997,
           -0.00835296629966897,
           -0.004154918593906413,
           -0.015128012719977659,
           -0.010495245196328974,
           -0.0023623859357798905,
           -0.013051392197723423,
           -0.013189478080071882,
           -0.0038060828431306045,
           -0.010588213053427858,
           -0.04191473986003089
          ],
          [
           0.9560469859044239,
           0.27760152453370346,
           0.24430003092494507,
           -0.03778412516998853,
           -0.4491197947048915,
           -0.252761137386783,
           -0.0048639375242601505,
           -0.21470069534781142,
           0.04834266366122213,
           0.054144760763962234,
           0.1337741838509324,
           0.24256288012609276,
           0.09534878616773775,
           1,
           0.4170037577927524,
           0.6479507561850816,
           0.2329037087029325,
           0.4935311668766303,
           0.46397019215647134,
           0.3272676551582445,
           0.6524969898097503,
           0.18339778450476701,
           0.013452437808785828,
           -0.06736614531810117,
           0.04658481211279546,
           -0.08516159226390514,
           -0.23374077055504525,
           -0.2057110258489714,
           -0.1076922328686307,
           -0.07911814199145605,
           -0.0928733337121721,
           0.03537597194464184,
           -0.0014788118949140337,
           -0.16564447883645536,
           -0.01202934553745558,
           -0.048431994194012104,
           -0.03938774054094592,
           -0.19934896528231802,
           -0.07749528672683276,
           -0.08514109504795055,
           0.023382899452408495,
           -0.038875114818229535,
           -0.06684544956480475,
           -0.027067372795179036,
           -0.14542053203777439,
           -0.07206305995933161,
           -0.01623566677742999,
           -0.08849871235775278,
           -0.08325724313329841,
           -0.02596532088898473,
           -0.06528640888161799,
           -0.2580904986712053
          ],
          [
           0.31263210349740794,
           0.5478538027950637,
           -0.0026298559050599484,
           -0.11751982318599255,
           -0.49176067158101905,
           -0.30444842700245883,
           0.12846644803880522,
           0.04557728800595148,
           0.1646080638764883,
           -0.047033706142014006,
           0.04271601366857539,
           0.0018697385188106187,
           0.028305170830004896,
           0.4170037577927524,
           1,
           0.044946424972135364,
           -0.09217820937068998,
           0.06685260626587,
           0.16757819763022308,
           0.0199879332467653,
           0.2815026333284405,
           0.11577504513104674,
           -0.004062249676919868,
           -0.09884095973747448,
           0.04439929149875623,
           -0.12283964583789296,
           -0.3208684930821871,
           -0.27939610755902433,
           -0.19020117486242807,
           -0.09030516517282182,
           -0.1382205501799907,
           0.030569141859938725,
           -0.016552977917195063,
           -0.23996563231419224,
           -0.016221117437842644,
           -0.054833448093683824,
           -0.049074746750333645,
           -0.2762705037979431,
           -0.14680928855277864,
           -0.1492632992695724,
           0.02444938919423993,
           -0.05135774750817758,
           -0.09006976921282273,
           -0.034967084423611225,
           -0.24146806284344577,
           -0.10773174938860049,
           -0.023209990221224004,
           -0.12698320373373814,
           -0.12691593398294507,
           -0.03940458653483643,
           -0.09079864051946197,
           -0.36779433694229174
          ],
          [
           0.8358093990245989,
           0.13170862101833847,
           0.22470335632374025,
           -0.022847540206284055,
           -0.29959112550261985,
           -0.1584974019888779,
           -0.02910075993345213,
           -0.29073389952802414,
           0.011448468564219088,
           0.03875769265258173,
           0.15770179531146647,
           0.7212156849311786,
           0.1440494766992388,
           0.6479507561850816,
           0.044946424972135364,
           1,
           0.4293746533440392,
           0.80602442162387,
           0.32442144944731605,
           0.6575097505530465,
           0.7674765491355232,
           0.15661015616321655,
           -0.011489033054790302,
           -0.045854892674166085,
           0.0369798887322594,
           -0.05751142551721868,
           -0.14737463680274224,
           -0.13508452127260842,
           -0.07192291706785917,
           -0.061815333180434355,
           -0.06850717262829209,
           0.015821018472153666,
           -0.007463938392848584,
           -0.11359217073321859,
           -0.008518030403495878,
           -0.0372075219249979,
           -0.026368754548669587,
           -0.138908610470652,
           -0.062190786129376,
           -0.057133401416222404,
           0.008822271799154027,
           -0.017051455815369567,
           -0.041314533680279715,
           -0.01936684124747509,
           -0.10010331051863551,
           -0.04764282733708758,
           -0.011190380187113243,
           -0.05864647217984622,
           -0.055735804324031316,
           -0.017546863266902336,
           -0.04517495165992276,
           -0.17798040993403197
          ],
          [
           0.30437897748366344,
           0.28962815754972876,
           0.1612568381236877,
           -0.007839835277270299,
           -0.5612379424583164,
           -0.34388043910156846,
           -0.09083148186401437,
           -0.7088752996288782,
           0.020573050229897936,
           0.06619206222042716,
           0.08266034121620845,
           0.04570794069590728,
           0.07114622483150136,
           0.2329037087029325,
           -0.09217820937068998,
           0.4293746533440392,
           1,
           0.13871701079166027,
           0.24896995340762348,
           0.08255206260679725,
           0.36621932032889415,
           0.37449215657043994,
           -0.1001851069265957,
           -0.11260790847651399,
           0.06816911613543773,
           -0.13527064811190506,
           -0.33448323424062093,
           -0.31503881442920284,
           -0.1804763572151712,
           -0.15978010230587467,
           -0.18910608283469488,
           0.01481042719293519,
           -0.012484483942396022,
           -0.29683942255360934,
           -0.020612914913803446,
           -0.09520416948311042,
           -0.06251394988305622,
           -0.33847632771139535,
           -0.2185657809869809,
           -0.17155431022911766,
           -0.02215148019722135,
           -0.041966561203440604,
           -0.10998022815930625,
           -0.049192069439464345,
           -0.304335517370503,
           -0.11427949286274103,
           -0.028181614010752296,
           -0.1497123980985689,
           -0.13572971020844532,
           -0.04552414081357461,
           -0.1101856329498299,
           -0.432032148469367
          ],
          [
           0.685091345799589,
           0.0200328285742544,
           0.28835084428499674,
           -0.028070146068647682,
           -0.16107479659435742,
           -0.06851730918375633,
           -0.009375908184313308,
           -0.10336321551405649,
           0.006096472592603389,
           0.018708775262659866,
           0.1327755474197269,
           0.7545426882253207,
           0.10932362467625173,
           0.4935311668766303,
           0.06685260626587,
           0.80602442162387,
           0.13871701079166027,
           1,
           0.42675930009103225,
           0.6949691156122412,
           0.7846540804023516,
           0.1230385889518204,
           0.001927271188384759,
           -0.019168528069864493,
           0.0037457321418929023,
           -0.011982058354561205,
           -0.06703265256514787,
           -0.0625192863935541,
           -0.024657269859416044,
           -0.030156816244256826,
           -0.016381450457742305,
           0.013525303309743433,
           0.005443298989021396,
           -0.0421828879544347,
           -0.003693323355541554,
           -0.013536311651346672,
           -0.012977999581085257,
           -0.05971464311221875,
           -0.014693747472091472,
           -0.011113634339142609,
           0.007295612031748811,
           -0.00810751094271823,
           -0.01650931325969929,
           -0.0068777069445113345,
           -0.01915299271645594,
           -0.020480529352466362,
           -0.004563341212014872,
           -0.026113664273971923,
           -0.024252130411087442,
           -0.007599191582588704,
           -0.01927834576426128,
           -0.07696317102518686
          ],
          [
           0.47490143708610344,
           0.0644766523294746,
           0.38952348867810643,
           -0.025705957401940708,
           -0.3417220810120667,
           -0.14534657720358463,
           -0.036019205419248516,
           -0.193289736760593,
           0.005701677280275798,
           0.029092502630729024,
           0.10678179616510503,
           0.024794781586182243,
           0.06757367057371494,
           0.46397019215647134,
           0.16757819763022308,
           0.32442144944731605,
           0.24896995340762348,
           0.42675930009103225,
           1,
           0.10641414048500658,
           0.4714187589819581,
           0.2378993846699102,
           -0.014662289737646751,
           -0.04488288106149648,
           0.01060005125932829,
           -0.04800338588518125,
           -0.15285789419160178,
           -0.13280037958736568,
           -0.0548305001244344,
           -0.05650419381196392,
           -0.051810125105873794,
           0.006694893058238993,
           0.0026739873554001304,
           -0.10904194480956354,
           -0.008383191161770503,
           -0.03456814934312296,
           -0.027249400961874982,
           -0.13580013725546664,
           -0.043127747551736165,
           -0.04141945707513668,
           0.014106046376501898,
           -0.030802175763919033,
           -0.05067107228308027,
           -0.017333748495035883,
           -0.07948898699953776,
           -0.04680654088733463,
           -0.01086473793020688,
           -0.06268777785241193,
           -0.05536508876240747,
           -0.015783106377977526,
           -0.044960405712942034,
           -0.17562142325541863
          ],
          [
           0.5003868541440457,
           0.016320271133957537,
           0.17881412539225486,
           -0.010154022198030055,
           -0.07534642205482091,
           -0.034872407791852335,
           -0.011254950144085896,
           -0.05523049870249352,
           -0.002412867017322862,
           0.024868330795287562,
           0.33526709252936904,
           0.7864506569560159,
           0.345574441376204,
           0.3272676551582445,
           0.0199879332467653,
           0.6575097505530465,
           0.08255206260679725,
           0.6949691156122412,
           0.10641414048500658,
           1,
           0.5380205945955557,
           0.07157871164246263,
           -0.0014474229099084625,
           -0.007894995526056665,
           0.002624708108090638,
           0.00020052082564064338,
           -0.030155335182302498,
           -0.03029908982508792,
           -0.018764372641267735,
           -0.014674856426167542,
           0.0011871052050600923,
           0.021406037262721774,
           -0.005141073206242893,
           -0.006920904626586188,
           -0.001712356795498985,
           -0.004296065308665982,
           -0.0061534289945116135,
           -0.027202349201066383,
           0.011716391869656805,
           0.017725278612389664,
           0.005485889229624977,
           -0.002159217550703344,
           -0.0013143446176269663,
           -0.0025345042616964613,
           0.011859726222571858,
           -0.008791035735368222,
           -0.0018915310484553668,
           -0.010538696532350521,
           -0.010865173082761716,
           -0.003257234584612471,
           -0.008330526952861347,
           -0.03462192236770192
          ],
          [
           0.7825819191340413,
           0.2729298362816265,
           0.28584615416565123,
           -0.010981448815363854,
           -0.5405543777661652,
           -0.4255415466997266,
           -0.09430741807283158,
           -0.307038310374796,
           -0.013363395359760055,
           0.16447112116095727,
           0.16643184142987924,
           0.5657660490798913,
           0.13052831868456555,
           0.6524969898097503,
           0.2815026333284405,
           0.7674765491355232,
           0.36621932032889415,
           0.7846540804023516,
           0.4714187589819581,
           0.5380205945955557,
           1,
           0.529267717987885,
           -0.027252568453918866,
           -0.09533126201047708,
           0.0543989695604041,
           -0.10913980036649296,
           -0.3499811230368575,
           -0.33145568639437456,
           -0.14064809430860628,
           -0.1271619618333226,
           -0.1335290704573713,
           0.027163039836476884,
           -0.01432706475422361,
           -0.2441856662636497,
           -0.017132427377323504,
           -0.08168520622469148,
           -0.05701112336471201,
           -0.283350735346469,
           -0.14595820601095816,
           -0.13214781130814837,
           -0.0032266259446954056,
           -0.04139996032797345,
           -0.10351529849742026,
           -0.040099979214214515,
           -0.2205358054856121,
           -0.09834556216837484,
           -0.022104509694060137,
           -0.12251370361033889,
           -0.11206795597798462,
           -0.03649693910323723,
           -0.09205767665765179,
           -0.3588907898975622
          ],
          [
           0.19911163631548806,
           0.18280338826264683,
           0.11548398401042348,
           0.06015616718551148,
           -0.6048853774297273,
           -0.711019988229347,
           -0.28027455266109635,
           -0.39698227853123097,
           -0.13947062284591819,
           0.28334284482352884,
           0.08608527324109332,
           0.03396595707538018,
           0.0757103864265086,
           0.18339778450476701,
           0.11577504513104674,
           0.15661015616321655,
           0.37449215657043994,
           0.1230385889518204,
           0.2378993846699102,
           0.07157871164246263,
           0.529267717987885,
           1,
           -0.10743657810971101,
           -0.14721234063541466,
           0.04488439630051535,
           -0.15670716686632064,
           -0.5877578876313344,
           -0.5609440449674291,
           -0.20185146495878267,
           -0.20891680814771443,
           -0.20937468075066362,
           0.03210429078180647,
           -0.016629274936996348,
           -0.3792479133641901,
           -0.025299127446559308,
           -0.14503354983799485,
           -0.09019926212281648,
           -0.4300952982514861,
           -0.2863263807267702,
           -0.23455338358867575,
           -0.07444618747347996,
           -0.07045136996611055,
           -0.1841745041932616,
           -0.06487779510724874,
           -0.3848040163121436,
           -0.14692903133408203,
           -0.031864360133424086,
           -0.19595446070019337,
           -0.16268732982717865,
           -0.05492836959950355,
           -0.1389495832934564,
           -0.5335367395646079
          ],
          [
           0.01311723077753639,
           -0.01921798679371032,
           -0.011740601253481812,
           -0.07959146752527194,
           0.34638920448274346,
           0.0891703977348594,
           0.043764354420394266,
           0.1611590862757488,
           -0.039501089536773934,
           -0.10936585361857908,
           -0.014200840680550657,
           -0.004114216130664495,
           -0.011939942735443503,
           0.013452437808785828,
           -0.004062249676919868,
           -0.011489033054790302,
           -0.1001851069265957,
           0.001927271188384759,
           -0.014662289737646751,
           -0.0014474229099084625,
           -0.027252568453918866,
           -0.10743657810971101,
           1,
           0.17131400871814798,
           0.015022544282984237,
           0.42882996571636917,
           0.22047106949990772,
           0.22074877804221116,
           0.3433948442745972,
           0.288100210858171,
           0.480040665003807,
           0.004520343837427653,
           -0.13595022467254989,
           0.4317432624782801,
           0.028556967876521455,
           0.1404947845137246,
           0.10021141538507294,
           0.479354800980931,
           0.3933630060768322,
           0.368530748448128,
           0.13134860340608023,
           0.16213470945151687,
           0.2639653023870688,
           0.0619479395508177,
           0.46483553461027516,
           0.17066440249600878,
           0.04289303216266423,
           0.23501041909560735,
           0.19272256173858449,
           0.06825191448983979,
           0.15921455489009484,
           0.6091318990621681
          ],
          [
           -0.06063647765413159,
           -0.07517097633839852,
           -0.01621100184410168,
           -0.011298490655775538,
           0.23114725328602917,
           0.13335121494229726,
           0.04165847611274429,
           0.12488380955823059,
           -0.027197585900447702,
           -0.003514841352857381,
           -0.011577196841905363,
           -0.003089306985410703,
           -0.00964363400372621,
           -0.06736614531810117,
           -0.09884095973747448,
           -0.045854892674166085,
           -0.11260790847651399,
           -0.019168528069864493,
           -0.04488288106149648,
           -0.007894995526056665,
           -0.09533126201047708,
           -0.14721234063541466,
           0.17131400871814798,
           1,
           0.00743874873999766,
           0.13157238007339997,
           0.1582622165021975,
           0.14627179292997072,
           0.1550231678174182,
           0.09357991782892006,
           0.1706366439487582,
           0.05726729290905664,
           0.009543967089484592,
           0.20856315383577484,
           0.036931460740658825,
           0.21840851313587456,
           0.0654583510494193,
           0.26063753556711644,
           0.22453915063938115,
           0.221019623464342,
           0.1611398509273736,
           0.18476688797626706,
           0.22966880945062415,
           0.09615906571016584,
           0.22603392830151472,
           0.39537683068960283,
           0.13512411992867532,
           0.19729743434050084,
           0.404282252803115,
           0.13138243807902006,
           0.31210333979025473,
           0.2722569038851917
          ],
          [
           0.045219239298329106,
           0.06713094000422393,
           0.002159382884956477,
           -0.005826945813755383,
           -0.07849633215672246,
           -0.06886090891430324,
           -0.02527185614544209,
           -0.05865989570816686,
           0.005978612494279302,
           0.011149015932511554,
           0.005220319909632142,
           0.0003887747885675839,
           0.002851673133730439,
           0.04658481211279546,
           0.04439929149875623,
           0.0369798887322594,
           0.06816911613543773,
           0.0037457321418929023,
           0.01060005125932829,
           0.002624708108090638,
           0.0543989695604041,
           0.04488439630051535,
           0.015022544282984237,
           0.00743874873999766,
           1,
           -0.02776661170806644,
           -0.037308360122797854,
           -0.037368580732997925,
           -0.01777677831823435,
           0.01761916735503274,
           0.006271519312082691,
           0.0008759428093037231,
           -0.010293852495521469,
           -0.028222208006778535,
           -0.0017417206231953358,
           0.004276803835539681,
           -0.0021731178688481436,
           -0.026013735183665024,
           0.005233586897781836,
           0.001742549367538327,
           0.025265024838707646,
           0.026350696929094353,
           0.03325089031342259,
           0.015132613632116987,
           -0.011908600639499648,
           0.0006094338770699483,
           -0.0009544537907426188,
           0.004904788371173508,
           -0.002414624933903631,
           0.00030973119516434914,
           -0.0018443852909127492,
           -0.041110561921196144
          ],
          [
           -0.07545554895139765,
           -0.10713284695677346,
           -0.0046018369943162255,
           0.000496768243849361,
           0.35212322183917066,
           0.16452928929289196,
           0.0055971466697868795,
           0.15694187198520873,
           -0.10405493376237328,
           -0.06320701297155118,
           -0.006150182856006846,
           0.000688480610870159,
           -0.004298526381733676,
           -0.08516159226390514,
           -0.12283964583789296,
           -0.05751142551721868,
           -0.13527064811190506,
           -0.011982058354561205,
           -0.04800338588518125,
           0.00020052082564064338,
           -0.10913980036649296,
           -0.15670716686632064,
           0.42882996571636917,
           0.13157238007339997,
           -0.02776661170806644,
           1,
           0.40064169969984176,
           0.41706049941778833,
           0.2776120517519556,
           0.23462484435707062,
           0.45896135477818534,
           0.014514332648874575,
           0.0651581645266112,
           0.35303140555828605,
           0.020926224100802443,
           0.10395192158062176,
           0.08573333523655784,
           0.36278840662760736,
           0.3132778921214247,
           0.3059932284534917,
           0.12084399857800984,
           0.1275074872206437,
           0.20124695492863837,
           0.052584415447367236,
           0.38027482826569775,
           0.13024776433177096,
           0.033331616490191576,
           0.1846163904631849,
           0.14647192877062692,
           0.05352333289457822,
           0.1214347369081615,
           0.45972468196678845
          ],
          [
           -0.21587693817377102,
           -0.2964926650510587,
           -0.05203279158308344,
           -0.11035666772337865,
           0.6040447116510508,
           0.5509426553147707,
           0.29856486836759194,
           0.36132946298366947,
           0.17462232590239962,
           -0.312068492069192,
           -0.04575123894347449,
           -0.013344899041750288,
           -0.036522302132967685,
           -0.23374077055504525,
           -0.3208684930821871,
           -0.14737463680274224,
           -0.33448323424062093,
           -0.06703265256514787,
           -0.15285789419160178,
           -0.030155335182302498,
           -0.3499811230368575,
           -0.5877578876313344,
           0.22047106949990772,
           0.1582622165021975,
           -0.037308360122797854,
           0.40064169969984176,
           1,
           0.9610084343550412,
           0.2620910508412914,
           0.23313538571767753,
           0.3122018979693803,
           -0.003227181467932205,
           0.03901212651151974,
           0.42646332440234624,
           0.026376377045114065,
           0.15251590003529475,
           0.0993745028575059,
           0.4602083892261835,
           0.3204704355917789,
           0.28256502207205303,
           0.08538818734439133,
           0.11021245932167843,
           0.21958493068808543,
           0.07694284691090454,
           0.4421227065333942,
           0.16271236656778876,
           0.03942125487443938,
           0.21441410585181206,
           0.17584491810611905,
           0.0593168104196448,
           0.149198426981524,
           0.584904581546974
          ],
          [
           -0.19323380864873235,
           -0.32860319497056995,
           -0.05445763265736594,
           -0.1082270152149236,
           0.5439693808084921,
           0.5685599751060102,
           0.29625344440819584,
           0.3311818217386349,
           0.16906375330188136,
           -0.3817706769527098,
           -0.04166341807435322,
           -0.012952509739275312,
           -0.032405435365744535,
           -0.2057110258489714,
           -0.27939610755902433,
           -0.13508452127260842,
           -0.31503881442920284,
           -0.0625192863935541,
           -0.13280037958736568,
           -0.03029908982508792,
           -0.33145568639437456,
           -0.5609440449674291,
           0.22074877804221116,
           0.14627179292997072,
           -0.037368580732997925,
           0.41706049941778833,
           0.9610084343550412,
           1,
           0.24545205594387465,
           0.2228343817543141,
           0.2971639967748035,
           0.006097304489232086,
           0.045006184753902855,
           0.39848810678664864,
           0.02425495359439336,
           0.14291595035539986,
           0.09228942044181705,
           0.42539410079966256,
           0.3028932447254501,
           0.2650975566832272,
           0.09342787650097402,
           0.10197101159432206,
           0.20385060209521147,
           0.0731968062550823,
           0.41314399901497856,
           0.15034468779313925,
           0.03663278649740102,
           0.19900286885771717,
           0.16162454929957962,
           0.05499431847173306,
           0.13757481865246698,
           0.5394186582391072
          ],
          [
           -0.09454788162582957,
           -0.1483165334956098,
           -0.030890065945530974,
           0.02637840429668363,
           0.4023337494266691,
           0.21301970287652583,
           0.03345202713651914,
           0.2160968613809298,
           -0.056487600206926114,
           0.0037991621191004383,
           -0.021323054556091764,
           -0.008381112996566456,
           -0.019349127866698852,
           -0.1076922328686307,
           -0.19020117486242807,
           -0.07192291706785917,
           -0.1804763572151712,
           -0.024657269859416044,
           -0.0548305001244344,
           -0.018764372641267735,
           -0.14064809430860628,
           -0.20185146495878267,
           0.3433948442745972,
           0.1550231678174182,
           -0.01777677831823435,
           0.2776120517519556,
           0.2620910508412914,
           0.24545205594387465,
           1,
           0.17163353619367988,
           0.38727075616443346,
           -0.013280074160436812,
           -0.044228103023032664,
           0.40617537320692226,
           0.0266493383994594,
           0.11883160446128337,
           0.09600978599475327,
           0.43443407339921625,
           0.31897541055543116,
           0.28909053218921565,
           0.0723771659725729,
           0.1525496628947028,
           0.23207321076821283,
           0.07529413162356739,
           0.3901844823297903,
           0.15964007239617387,
           0.033054916490499645,
           0.19290834404478874,
           0.18259995093577644,
           0.05060109876027546,
           0.12444600225235854,
           0.49371066140795805
          ],
          [
           -0.0737697567316917,
           -0.08259370114808749,
           -0.028260697435616707,
           0.004270571820948628,
           0.3132931897579037,
           0.1772684068997841,
           0.05815012736358137,
           0.18093048402814585,
           -0.030552081769036947,
           -0.039196312766547614,
           -0.013183601873121257,
           -0.005227009855584479,
           -0.009450878828790811,
           -0.07911814199145605,
           -0.09030516517282182,
           -0.061815333180434355,
           -0.15978010230587467,
           -0.030156816244256826,
           -0.05650419381196392,
           -0.014674856426167542,
           -0.1271619618333226,
           -0.20891680814771443,
           0.288100210858171,
           0.09357991782892006,
           0.01761916735503274,
           0.23462484435707062,
           0.23313538571767753,
           0.2228343817543141,
           0.17163353619367988,
           1,
           0.32123617719867853,
           -0.03340947146592938,
           -0.04207409901281989,
           0.3010186164998825,
           0.020787368298051803,
           0.051819972639168134,
           0.1960014245218712,
           0.3438577506418787,
           0.34495055591577034,
           0.303194557301631,
           0.06929287301370915,
           0.0427232633487669,
           0.11542535533837157,
           0.04762166174426963,
           0.34111783635296383,
           0.12370874025917611,
           0.04555751322215827,
           0.24996747976846484,
           0.16276285575803867,
           0.04114581027705733,
           0.2123202761994458,
           0.39261993295674086
          ],
          [
           -0.08254865713079564,
           -0.1197369551941459,
           -0.0064806200770631955,
           -0.008078059547773483,
           0.4334134178650906,
           0.20670463912373027,
           0.08156033906880936,
           0.23305947255208045,
           -0.0176191225612728,
           -0.043306245079434876,
           -0.010223597272916461,
           -0.007117824209140334,
           -0.012432227742750237,
           -0.0928733337121721,
           -0.1382205501799907,
           -0.06850717262829209,
           -0.18910608283469488,
           -0.016381450457742305,
           -0.051810125105873794,
           0.0011871052050600923,
           -0.1335290704573713,
           -0.20937468075066362,
           0.480040665003807,
           0.1706366439487582,
           0.006271519312082691,
           0.45896135477818534,
           0.3122018979693803,
           0.2971639967748035,
           0.38727075616443346,
           0.32123617719867853,
           1,
           -0.05595664887232867,
           -0.10551812376299789,
           0.4568487092657253,
           0.01353907846233705,
           0.1365708396907787,
           0.138395042178836,
           0.47292121441960416,
           0.4106781824902698,
           0.3998988934267915,
           0.1605097515939289,
           0.18711453970281955,
           0.2814499106135654,
           0.07076268893588604,
           0.4638558276109825,
           0.16366508444379718,
           0.048802200581159715,
           0.270635651768479,
           0.18923050332023467,
           0.0839096464184538,
           0.13785244016362355,
           0.5486075477021791
          ],
          [
           0.02997477445789746,
           0.019386703995570242,
           0.023496634641634248,
           -0.03021053646340921,
           -0.06083958889428482,
           -0.031916127348381035,
           -0.008145209206900985,
           -0.03598065052979788,
           -0.005091861459562247,
           -0.009067489565821022,
           0.005858602849725118,
           -0.0012909668753401892,
           0.004020179518435729,
           0.03537597194464184,
           0.030569141859938725,
           0.015821018472153666,
           0.01481042719293519,
           0.013525303309743433,
           0.006694893058238993,
           0.021406037262721774,
           0.027163039836476884,
           0.03210429078180647,
           0.004520343837427653,
           0.05726729290905664,
           0.0008759428093037231,
           0.014514332648874575,
           -0.003227181467932205,
           0.006097304489232086,
           -0.013280074160436812,
           -0.03340947146592938,
           -0.05595664887232867,
           1,
           0.5209045141609563,
           -0.012409285955453177,
           0.01357327059582543,
           0.06040492435546444,
           -0.010218493107282891,
           -0.013033021037564232,
           0.014240083595939828,
           0.024847565451113964,
           0.10798395210157537,
           0.027643879527420506,
           0.06240511735375224,
           0.008766367767544952,
           -0.0044882363712997605,
           0.04313471106598807,
           0.00606075663436809,
           0.03011545761928219,
           0.024281468136147094,
           0.015263692392864736,
           0.006177273284397647,
           -0.0464561378501761
          ],
          [
           -0.0051677940448874304,
           -0.04680266790493817,
           -0.010230958692633987,
           -0.005512388709355762,
           -0.0496342921776593,
           0.019088593648967377,
           -0.036883616834859835,
           -0.030074470707791377,
           -0.05735619674593691,
           -0.023957437798803154,
           -0.008802937492924053,
           -0.0024665208071571487,
           -0.00673896558733711,
           -0.0014788118949140337,
           -0.016552977917195063,
           -0.007463938392848584,
           -0.012484483942396022,
           0.005443298989021396,
           0.0026739873554001304,
           -0.005141073206242893,
           -0.01432706475422361,
           -0.016629274936996348,
           -0.13595022467254989,
           0.009543967089484592,
           -0.010293852495521469,
           0.0651581645266112,
           0.03901212651151974,
           0.045006184753902855,
           -0.044228103023032664,
           -0.04207409901281989,
           -0.10551812376299789,
           0.5209045141609563,
           1,
           -0.06029702483362708,
           0.0016740341657838908,
           0.008294057587343098,
           -0.008220140828575792,
           -0.049762394893102004,
           -0.046863753985210366,
           -0.038689119798727425,
           -0.0045011179778660275,
           -0.01465845403844816,
           -0.01933361522081598,
           -0.004852683075895948,
           -0.0499653519484375,
           0.008913493877780801,
           0.001613233829242986,
           -0.01217834716627942,
           -0.004282533950347472,
           -0.0010331637483015908,
           -0.0004996821085913806,
           -0.07646302933726293
          ],
          [
           -0.14910414518410953,
           -0.2028211705216636,
           -0.021517965870558597,
           -0.016557568601420446,
           0.5901952250785204,
           0.3407221550566165,
           0.11906080164920389,
           0.32985397848942205,
           -0.04963302216247006,
           -0.03166843854327597,
           -0.03648591156389042,
           -0.011134682458836523,
           -0.02888055845480145,
           -0.16564447883645536,
           -0.23996563231419224,
           -0.11359217073321859,
           -0.29683942255360934,
           -0.0421828879544347,
           -0.10904194480956354,
           -0.006920904626586188,
           -0.2441856662636497,
           -0.3792479133641901,
           0.4317432624782801,
           0.20856315383577484,
           -0.028222208006778535,
           0.35303140555828605,
           0.42646332440234624,
           0.39848810678664864,
           0.40617537320692226,
           0.3010186164998825,
           0.4568487092657253,
           -0.012409285955453177,
           -0.06029702483362708,
           1,
           0.02434479750169734,
           0.19497010812561585,
           0.13316611868645717,
           0.577114496511027,
           0.4101419458050567,
           0.3718407316905572,
           0.14901376506021233,
           0.17675453577865027,
           0.3073878595065418,
           0.079991093858664,
           0.5530170310666135,
           0.22949675988380788,
           0.04347601431949191,
           0.26880797052388306,
           0.23050567631805285,
           0.08810586059261087,
           0.1624749877907344,
           0.6902317838721201
          ],
          [
           -0.010952412674526386,
           -0.012502163337866266,
           -0.0027945352567406334,
           -0.0013151829316518507,
           0.041041827223318395,
           0.021261697356721992,
           0.005315806586304269,
           0.019266909202806024,
           -0.006564684647451364,
           -0.0002212236979279942,
           -0.002577007356663835,
           -0.0007574255373293225,
           -0.0020703448901224207,
           -0.01202934553745558,
           -0.016221117437842644,
           -0.008518030403495878,
           -0.020612914913803446,
           -0.003693323355541554,
           -0.008383191161770503,
           -0.001712356795498985,
           -0.017132427377323504,
           -0.025299127446559308,
           0.028556967876521455,
           0.036931460740658825,
           -0.0017417206231953358,
           0.020926224100802443,
           0.026376377045114065,
           0.02425495359439336,
           0.0266493383994594,
           0.020787368298051803,
           0.01353907846233705,
           0.01357327059582543,
           0.0016740341657838908,
           0.02434479750169734,
           1,
           0.023972933896560182,
           0.011636659569802414,
           0.046974079569452404,
           0.03503058086828576,
           0.021572453459743977,
           0.004761149837911258,
           0.012377072929877551,
           0.020839059978137477,
           0.0060902093989298,
           0.03445688816313076,
           0.047262541199474845,
           0.004689252051508494,
           0.025586769588825307,
           0.045823142411206524,
           0.007966535342151691,
           0.05595829228599351,
           0.04739104099530868
          ],
          [
           -0.04487497167017705,
           -0.051686878135451454,
           -0.009740947061405096,
           -0.04068813446621054,
           0.19120765858434272,
           0.1271505255273586,
           0.09321939824257551,
           0.11557471415296573,
           0.014930432542647053,
           -0.01818676708840941,
           -0.009998043995465566,
           -0.0031233163397739994,
           -0.007662183757697909,
           -0.048431994194012104,
           -0.054833448093683824,
           -0.0372075219249979,
           -0.09520416948311042,
           -0.013536311651346672,
           -0.03456814934312296,
           -0.004296065308665982,
           -0.08168520622469148,
           -0.14503354983799485,
           0.1404947845137246,
           0.21840851313587456,
           0.004276803835539681,
           0.10395192158062176,
           0.15251590003529475,
           0.14291595035539986,
           0.11883160446128337,
           0.051819972639168134,
           0.1365708396907787,
           0.06040492435546444,
           0.008294057587343098,
           0.19497010812561585,
           0.023972933896560182,
           1,
           0.026096813850744187,
           0.22967316411828542,
           0.20875739820564757,
           0.20773841425750084,
           0.27247706800874727,
           0.26227881306312595,
           0.25040293321722734,
           0.04473437232981999,
           0.20051561768179263,
           0.24049961185437865,
           0.02548030713339866,
           0.16463140496072406,
           0.13448087531326153,
           0.09118203123817424,
           0.08883053440231602,
           0.22582228184745096
          ],
          [
           -0.03544349299974048,
           -0.03856029795721725,
           -0.007987871749082665,
           0.003685108175110649,
           0.13920238394543882,
           0.08603644593877963,
           0.02729448653413448,
           0.07697956054692856,
           -0.01503270523640751,
           -0.004434588258501021,
           -0.006999466763312951,
           -0.002610721778021943,
           -0.005660490916442456,
           -0.03938774054094592,
           -0.049074746750333645,
           -0.026368754548669587,
           -0.06251394988305622,
           -0.012977999581085257,
           -0.027249400961874982,
           -0.0061534289945116135,
           -0.05701112336471201,
           -0.09019926212281648,
           0.10021141538507294,
           0.0654583510494193,
           -0.0021731178688481436,
           0.08573333523655784,
           0.0993745028575059,
           0.09228942044181705,
           0.09600978599475327,
           0.1960014245218712,
           0.138395042178836,
           -0.010218493107282891,
           -0.008220140828575792,
           0.13316611868645717,
           0.011636659569802414,
           0.026096813850744187,
           1,
           0.167007144564049,
           0.21629165011426457,
           0.17367033335758175,
           0.10110887058320941,
           0.028365188263604704,
           0.0901051437136686,
           0.03053316937587815,
           0.15198235890163958,
           0.05964185988438692,
           0.02372335367856818,
           0.11847478645676189,
           0.08029275364688067,
           0.03618969052254689,
           0.1035636404846565,
           0.16757350654390898
          ],
          [
           -0.18090878784807266,
           -0.21605472001851747,
           -0.0464322038572984,
           0.011105864087550142,
           0.6736904232566363,
           0.38069416452791904,
           0.09784288361184355,
           0.3787128969438863,
           -0.05772382821156143,
           -0.009581384644306024,
           -0.04029789418543086,
           -0.012009039501702764,
           -0.03233926528809957,
           -0.19934896528231802,
           -0.2762705037979431,
           -0.138908610470652,
           -0.33847632771139535,
           -0.05971464311221875,
           -0.13580013725546664,
           -0.027202349201066383,
           -0.283350735346469,
           -0.4300952982514861,
           0.479354800980931,
           0.26063753556711644,
           -0.026013735183665024,
           0.36278840662760736,
           0.4602083892261835,
           0.42539410079966256,
           0.43443407339921625,
           0.3438577506418787,
           0.47292121441960416,
           -0.013033021037564232,
           -0.049762394893102004,
           0.577114496511027,
           0.046974079569452404,
           0.22967316411828542,
           0.167007144564049,
           1,
           0.5081094446404847,
           0.4525478358062426,
           0.13029199734992014,
           0.16914491208731897,
           0.333931930070648,
           0.08592045936826055,
           0.6074791764401255,
           0.26080385303505677,
           0.0626652441411592,
           0.35514374323934245,
           0.29387041833397254,
           0.10357966374191727,
           0.23900183030010733,
           0.7842545048611174
          ],
          [
           -0.06742047513415779,
           -0.11107657167084645,
           -0.011489407279050623,
           0.014886760188571315,
           0.44822735830336563,
           0.24525687810272923,
           0.0630035913632491,
           0.25087056309086514,
           -0.04655026844367502,
           0.0010148057256060396,
           0.0066631267539181424,
           0.0006808118617588781,
           -0.0008710035577924267,
           -0.07749528672683276,
           -0.14680928855277864,
           -0.062190786129376,
           -0.2185657809869809,
           -0.014693747472091472,
           -0.043127747551736165,
           0.011716391869656805,
           -0.14595820601095816,
           -0.2863263807267702,
           0.3933630060768322,
           0.22453915063938115,
           0.005233586897781836,
           0.3132778921214247,
           0.3204704355917789,
           0.3028932447254501,
           0.31897541055543116,
           0.34495055591577034,
           0.4106781824902698,
           0.014240083595939828,
           -0.046863753985210366,
           0.4101419458050567,
           0.03503058086828576,
           0.20875739820564757,
           0.21629165011426457,
           0.5081094446404847,
           1,
           0.5501335320650814,
           0.316392605112067,
           0.20553629045560762,
           0.3132555993067042,
           0.09341868225781857,
           0.513847841853057,
           0.2161134521315349,
           0.056300051745456235,
           0.30128970855992704,
           0.26924170313542145,
           0.0956109363377487,
           0.22066509307979762,
           0.5785609362364156
          ],
          [
           -0.0725507057039636,
           -0.11188153540186312,
           -0.011961625432499,
           0.002190862224124006,
           0.40465496734751827,
           0.22021307527034248,
           0.07543992959233782,
           0.21364489711874973,
           -0.009889711057787383,
           -0.009476813185042015,
           0.004395748877492064,
           0.003493510405720351,
           -0.00010018825008041057,
           -0.08514109504795055,
           -0.1492632992695724,
           -0.057133401416222404,
           -0.17155431022911766,
           -0.011113634339142609,
           -0.04141945707513668,
           0.017725278612389664,
           -0.13214781130814837,
           -0.23455338358867575,
           0.368530748448128,
           0.221019623464342,
           0.001742549367538327,
           0.3059932284534917,
           0.28256502207205303,
           0.2650975566832272,
           0.28909053218921565,
           0.303194557301631,
           0.3998988934267915,
           0.024847565451113964,
           -0.038689119798727425,
           0.3718407316905572,
           0.021572453459743977,
           0.20773841425750084,
           0.17367033335758175,
           0.4525478358062426,
           0.5501335320650814,
           1,
           0.2583847123568618,
           0.22581552517269746,
           0.3457925675330228,
           0.09208594342932934,
           0.4392929808068254,
           0.20317695610809064,
           0.05801178368722938,
           0.3035456030745889,
           0.23201990959558938,
           0.09645935893825658,
           0.17221216448627338,
           0.5077314631770538
          ],
          [
           0.021561112303345228,
           0.009409024311438976,
           -0.008418555118621896,
           -0.04151524191858146,
           0.061552645376000754,
           0.07502633885773215,
           0.07030970751236923,
           0.04604629409073356,
           0.006106787107106914,
           -0.04455025225712893,
           0.018351933566874735,
           0.00689710825594419,
           0.014638042021333664,
           0.023382899452408495,
           0.02444938919423993,
           0.008822271799154027,
           -0.02215148019722135,
           0.007295612031748811,
           0.014106046376501898,
           0.005485889229624977,
           -0.0032266259446954056,
           -0.07444618747347996,
           0.13134860340608023,
           0.1611398509273736,
           0.025265024838707646,
           0.12084399857800984,
           0.08538818734439133,
           0.09342787650097402,
           0.0723771659725729,
           0.06929287301370915,
           0.1605097515939289,
           0.10798395210157537,
           -0.0045011179778660275,
           0.14901376506021233,
           0.004761149837911258,
           0.27247706800874727,
           0.10110887058320941,
           0.13029199734992014,
           0.316392605112067,
           0.2583847123568618,
           1,
           0.2523725771078035,
           0.24929885759834206,
           0.025698477561989938,
           0.18447129875665952,
           0.1587512838541124,
           0.022352416551119147,
           0.14566100542682806,
           0.09848883908133158,
           0.09796002909024802,
           0.0502412597202854,
           0.13818288763616837
          ],
          [
           -0.03173439766549623,
           -0.03994352153193041,
           -0.01570773971487739,
           -0.028738705222528648,
           0.15128994115718566,
           0.09580914901323984,
           0.0854410864937493,
           0.07252271098485681,
           0.008312568317999232,
           -0.03530408798225099,
           -0.00692436279600291,
           0.0047572551119422005,
           -0.005004544456584997,
           -0.038875114818229535,
           -0.05135774750817758,
           -0.017051455815369567,
           -0.041966561203440604,
           -0.00810751094271823,
           -0.030802175763919033,
           -0.002159217550703344,
           -0.04139996032797345,
           -0.07045136996611055,
           0.16213470945151687,
           0.18476688797626706,
           0.026350696929094353,
           0.1275074872206437,
           0.11021245932167843,
           0.10197101159432206,
           0.1525496628947028,
           0.0427232633487669,
           0.18711453970281955,
           0.027643879527420506,
           -0.01465845403844816,
           0.17675453577865027,
           0.012377072929877551,
           0.26227881306312595,
           0.028365188263604704,
           0.16914491208731897,
           0.20553629045560762,
           0.22581552517269746,
           0.2523725771078035,
           1,
           0.3407621558095867,
           0.1187113897174403,
           0.19508043075471201,
           0.20120778186563387,
           0.016398921064785847,
           0.12900791965707556,
           0.1600697209797481,
           0.08434265336042193,
           0.10308487070765056,
           0.18895899537842964
          ],
          [
           -0.05781569902076708,
           -0.06589461793206661,
           -0.013863379059841028,
           -0.01870552012248224,
           0.2915421936039312,
           0.17914516635197517,
           0.11149383029901055,
           0.16232330310411863,
           0.02310342168553322,
           -0.02498311780936526,
           -0.009674085861771922,
           0.0014812215546161566,
           -0.00835296629966897,
           -0.06684544956480475,
           -0.09006976921282273,
           -0.041314533680279715,
           -0.10998022815930625,
           -0.01650931325969929,
           -0.05067107228308027,
           -0.0013143446176269663,
           -0.10351529849742026,
           -0.1841745041932616,
           0.2639653023870688,
           0.22966880945062415,
           0.03325089031342259,
           0.20124695492863837,
           0.21958493068808543,
           0.20385060209521147,
           0.23207321076821283,
           0.11542535533837157,
           0.2814499106135654,
           0.06240511735375224,
           -0.01933361522081598,
           0.3073878595065418,
           0.020839059978137477,
           0.25040293321722734,
           0.0901051437136686,
           0.333931930070648,
           0.3132555993067042,
           0.3457925675330228,
           0.24929885759834206,
           0.3407621558095867,
           1,
           0.11403296418958932,
           0.2990466550973783,
           0.20337616664700894,
           0.035918957611467316,
           0.21435631513905984,
           0.19780012397072724,
           0.08986230307983108,
           0.1405069277851009,
           0.35974655776652503
          ],
          [
           -0.025162919784919996,
           -0.03477272559429615,
           -0.005918778468241269,
           -0.016437776373093634,
           0.08722785451806041,
           0.05966716028047313,
           0.038672750262817426,
           0.06218748165622789,
           0.017689062779406288,
           -0.016590087217343796,
           -0.0027109631349341214,
           -0.0014720880082738242,
           -0.004154918593906413,
           -0.027067372795179036,
           -0.034967084423611225,
           -0.01936684124747509,
           -0.049192069439464345,
           -0.0068777069445113345,
           -0.017333748495035883,
           -0.0025345042616964613,
           -0.040099979214214515,
           -0.06487779510724874,
           0.0619479395508177,
           0.09615906571016584,
           0.015132613632116987,
           0.052584415447367236,
           0.07694284691090454,
           0.0731968062550823,
           0.07529413162356739,
           0.04762166174426963,
           0.07076268893588604,
           0.008766367767544952,
           -0.004852683075895948,
           0.079991093858664,
           0.0060902093989298,
           0.04473437232981999,
           0.03053316937587815,
           0.08592045936826055,
           0.09341868225781857,
           0.09208594342932934,
           0.025698477561989938,
           0.1187113897174403,
           0.11403296418958932,
           1,
           0.09749649922621197,
           0.06285587019243323,
           0.00854194493759308,
           0.06706106336506365,
           0.1001081907128085,
           0.022639170812284184,
           0.09002193930721616,
           0.09960999331335088
          ],
          [
           -0.1264204225835732,
           -0.19685982272860092,
           -0.02279608830852128,
           0.01024496570547159,
           0.6136200897893561,
           0.3455656644459951,
           0.11439352477783371,
           0.34953014765291546,
           -0.043483601613990404,
           -0.006321012524688679,
           -0.014249303934339874,
           0.0021685602137413687,
           -0.015128012719977659,
           -0.14542053203777439,
           -0.24146806284344577,
           -0.10010331051863551,
           -0.304335517370503,
           -0.01915299271645594,
           -0.07948898699953776,
           0.011859726222571858,
           -0.2205358054856121,
           -0.3848040163121436,
           0.46483553461027516,
           0.22603392830151472,
           -0.011908600639499648,
           0.38027482826569775,
           0.4421227065333942,
           0.41314399901497856,
           0.3901844823297903,
           0.34111783635296383,
           0.4638558276109825,
           -0.0044882363712997605,
           -0.0499653519484375,
           0.5530170310666135,
           0.03445688816313076,
           0.20051561768179263,
           0.15198235890163958,
           0.6074791764401255,
           0.513847841853057,
           0.4392929808068254,
           0.18447129875665952,
           0.19508043075471201,
           0.2990466550973783,
           0.09749649922621197,
           1,
           0.2302587857240179,
           0.05827508124212989,
           0.314261955420731,
           0.26132245004986276,
           0.09990583456172211,
           0.21412831950866199,
           0.7433575121575826
          ],
          [
           -0.06463902681568212,
           -0.08345789316521925,
           -0.016501994152854558,
           -0.02008997239561192,
           0.2357280221891255,
           0.13593148976630393,
           0.05343199985267536,
           0.12861659691710686,
           -0.02907418824056412,
           -0.009473826674915711,
           -0.012996645239627258,
           -0.003829784081079767,
           -0.010495245196328974,
           -0.07206305995933161,
           -0.10773174938860049,
           -0.04764282733708758,
           -0.11427949286274103,
           -0.020480529352466362,
           -0.04680654088733463,
           -0.008791035735368222,
           -0.09834556216837484,
           -0.14692903133408203,
           0.17066440249600878,
           0.39537683068960283,
           0.0006094338770699483,
           0.13024776433177096,
           0.16271236656778876,
           0.15034468779313925,
           0.15964007239617387,
           0.12370874025917611,
           0.16366508444379718,
           0.04313471106598807,
           0.008913493877780801,
           0.22949675988380788,
           0.047262541199474845,
           0.24049961185437865,
           0.05964185988438692,
           0.26080385303505677,
           0.2161134521315349,
           0.20317695610809064,
           0.1587512838541124,
           0.20120778186563387,
           0.20337616664700894,
           0.06285587019243323,
           0.2302587857240179,
           1,
           0.25069261924508884,
           0.15210370228468262,
           0.2952861969279538,
           0.12433247272368862,
           0.21457166514748657,
           0.2746576771104897
          ],
          [
           -0.014507119797878172,
           -0.01759554517732567,
           -0.00414883084060777,
           0.0017351766671659739,
           0.05768258903725575,
           0.027943466048410928,
           0.008296283651846188,
           0.034469768387117114,
           -0.004248903468590371,
           -0.0010029332621281047,
           -0.0028414412657364056,
           -0.000577320325735196,
           -0.0023623859357798905,
           -0.01623566677742999,
           -0.023209990221224004,
           -0.011190380187113243,
           -0.028181614010752296,
           -0.004563341212014872,
           -0.01086473793020688,
           -0.0018915310484553668,
           -0.022104509694060137,
           -0.031864360133424086,
           0.04289303216266423,
           0.13512411992867532,
           -0.0009544537907426188,
           0.033331616490191576,
           0.03942125487443938,
           0.03663278649740102,
           0.033054916490499645,
           0.04555751322215827,
           0.048802200581159715,
           0.00606075663436809,
           0.001613233829242986,
           0.04347601431949191,
           0.004689252051508494,
           0.02548030713339866,
           0.02372335367856818,
           0.0626652441411592,
           0.056300051745456235,
           0.05801178368722938,
           0.022352416551119147,
           0.016398921064785847,
           0.035918957611467316,
           0.00854194493759308,
           0.05827508124212989,
           0.25069261924508884,
           1,
           0.06254872826054021,
           0.033314249373301894,
           0.014054132541484765,
           0.03251680325753418,
           0.06810899607762137
          ],
          [
           -0.07864303214147722,
           -0.10221637552856724,
           -0.023126096221169408,
           -0.003923647484512154,
           0.3156786168546694,
           0.1839004950219728,
           0.05847473098517827,
           0.17611861806280885,
           -0.02410857709278642,
           -0.01022631756135324,
           -0.0157003134532192,
           -0.0033557310412545395,
           -0.013051392197723423,
           -0.08849871235775278,
           -0.12698320373373814,
           -0.05864647217984622,
           -0.1497123980985689,
           -0.026113664273971923,
           -0.06268777785241193,
           -0.010538696532350521,
           -0.12251370361033889,
           -0.19595446070019337,
           0.23501041909560735,
           0.19729743434050084,
           0.004904788371173508,
           0.1846163904631849,
           0.21441410585181206,
           0.19900286885771717,
           0.19290834404478874,
           0.24996747976846484,
           0.270635651768479,
           0.03011545761928219,
           -0.01217834716627942,
           0.26880797052388306,
           0.025586769588825307,
           0.16463140496072406,
           0.11847478645676189,
           0.35514374323934245,
           0.30128970855992704,
           0.3035456030745889,
           0.14566100542682806,
           0.12900791965707556,
           0.21435631513905984,
           0.06706106336506365,
           0.314261955420731,
           0.15210370228468262,
           0.06254872826054021,
           1,
           0.1770121481720411,
           0.07714834096510745,
           0.15403139525473866,
           0.3735000743129739
          ],
          [
           -0.07472202141173108,
           -0.09671157413380307,
           -0.01898145402477533,
           0.0011804665289938125,
           0.27158956086041164,
           0.14788090849873364,
           0.02821614628860102,
           0.14454304492027856,
           -0.04645144346991263,
           0.003107512459098787,
           -0.01654136968858845,
           -0.00482794348815516,
           -0.013189478080071882,
           -0.08325724313329841,
           -0.12691593398294507,
           -0.055735804324031316,
           -0.13572971020844532,
           -0.024252130411087442,
           -0.05536508876240747,
           -0.010865173082761716,
           -0.11206795597798462,
           -0.16268732982717865,
           0.19272256173858449,
           0.404282252803115,
           -0.002414624933903631,
           0.14647192877062692,
           0.17584491810611905,
           0.16162454929957962,
           0.18259995093577644,
           0.16276285575803867,
           0.18923050332023467,
           0.024281468136147094,
           -0.004282533950347472,
           0.23050567631805285,
           0.045823142411206524,
           0.13448087531326153,
           0.08029275364688067,
           0.29387041833397254,
           0.26924170313542145,
           0.23201990959558938,
           0.09848883908133158,
           0.1600697209797481,
           0.19780012397072724,
           0.1001081907128085,
           0.26132245004986276,
           0.2952861969279538,
           0.033314249373301894,
           0.1770121481720411,
           1,
           0.10530333103696851,
           0.7006683522041147,
           0.316210934594145
          ],
          [
           -0.023206097041523946,
           -0.03167286847733963,
           -0.006793452651167943,
           -0.004497420192460001,
           0.09155576470424856,
           0.04996308586240264,
           0.015251621669066686,
           0.050854667155688246,
           -0.014442346219249268,
           0.0017019134086065438,
           -0.004463316798957829,
           -0.0016013263249993223,
           -0.0038060828431306045,
           -0.02596532088898473,
           -0.03940458653483643,
           -0.017546863266902336,
           -0.04552414081357461,
           -0.007599191582588704,
           -0.015783106377977526,
           -0.003257234584612471,
           -0.03649693910323723,
           -0.05492836959950355,
           0.06825191448983979,
           0.13138243807902006,
           0.00030973119516434914,
           0.05352333289457822,
           0.0593168104196448,
           0.05499431847173306,
           0.05060109876027546,
           0.04114581027705733,
           0.0839096464184538,
           0.015263692392864736,
           -0.0010331637483015908,
           0.08810586059261087,
           0.007966535342151691,
           0.09118203123817424,
           0.03618969052254689,
           0.10357966374191727,
           0.0956109363377487,
           0.09645935893825658,
           0.09796002909024802,
           0.08434265336042193,
           0.08986230307983108,
           0.022639170812284184,
           0.09990583456172211,
           0.12433247272368862,
           0.014054132541484765,
           0.07714834096510745,
           0.10530333103696851,
           1,
           0.06344362117045986,
           0.10923484909816714
          ],
          [
           -0.05905495958936134,
           -0.07009857119334688,
           -0.015269191879923016,
           -0.004976950520573877,
           0.22195962067254152,
           0.12174510432777735,
           0.03318222919458858,
           0.12084053642100637,
           -0.026486294873167185,
           -0.001538123299691359,
           -0.013342481091285299,
           -0.003515024054016926,
           -0.010588213053427858,
           -0.06528640888161799,
           -0.09079864051946197,
           -0.04517495165992276,
           -0.1101856329498299,
           -0.01927834576426128,
           -0.044960405712942034,
           -0.008330526952861347,
           -0.09205767665765179,
           -0.1389495832934564,
           0.15921455489009484,
           0.31210333979025473,
           -0.0018443852909127492,
           0.1214347369081615,
           0.149198426981524,
           0.13757481865246698,
           0.12444600225235854,
           0.2123202761994458,
           0.13785244016362355,
           0.006177273284397647,
           -0.0004996821085913806,
           0.1624749877907344,
           0.05595829228599351,
           0.08883053440231602,
           0.1035636404846565,
           0.23900183030010733,
           0.22066509307979762,
           0.17221216448627338,
           0.0502412597202854,
           0.10308487070765056,
           0.1405069277851009,
           0.09002193930721616,
           0.21412831950866199,
           0.21457166514748657,
           0.03251680325753418,
           0.15403139525473866,
           0.7006683522041147,
           0.06344362117045986,
           1,
           0.25862679982558456
          ],
          [
           -0.23344507450505567,
           -0.2831518897971002,
           -0.060202489834388584,
           0.039270923897324825,
           0.8603580349950561,
           0.4677352998341208,
           0.09738926357111853,
           0.4697485899604126,
           -0.07915862308106522,
           -0.005955129316836138,
           -0.052472740482021024,
           -0.015314565572224242,
           -0.04191473986003089,
           -0.2580904986712053,
           -0.36779433694229174,
           -0.17798040993403197,
           -0.432032148469367,
           -0.07696317102518686,
           -0.17562142325541863,
           -0.03462192236770192,
           -0.3588907898975622,
           -0.5335367395646079,
           0.6091318990621681,
           0.2722569038851917,
           -0.041110561921196144,
           0.45972468196678845,
           0.584904581546974,
           0.5394186582391072,
           0.49371066140795805,
           0.39261993295674086,
           0.5486075477021791,
           -0.0464561378501761,
           -0.07646302933726293,
           0.6902317838721201,
           0.04739104099530868,
           0.22582228184745096,
           0.16757350654390898,
           0.7842545048611174,
           0.5785609362364156,
           0.5077314631770538,
           0.13818288763616837,
           0.18895899537842964,
           0.35974655776652503,
           0.09960999331335088,
           0.7433575121575826,
           0.2746576771104897,
           0.06810899607762137,
           0.3735000743129739,
           0.316210934594145,
           0.10923484909816714,
           0.25862679982558456,
           1
          ]
         ]
        }
       ],
       "layout": {
        "coloraxis": {
         "colorscale": [
          [
           0,
           "#0d0887"
          ],
          [
           0.1111111111111111,
           "#46039f"
          ],
          [
           0.2222222222222222,
           "#7201a8"
          ],
          [
           0.3333333333333333,
           "#9c179e"
          ],
          [
           0.4444444444444444,
           "#bd3786"
          ],
          [
           0.5555555555555556,
           "#d8576b"
          ],
          [
           0.6666666666666666,
           "#ed7953"
          ],
          [
           0.7777777777777778,
           "#fb9f3a"
          ],
          [
           0.8888888888888888,
           "#fdca26"
          ],
          [
           1,
           "#f0f921"
          ]
         ]
        },
        "margin": {
         "t": 60
        },
        "template": {
         "data": {
          "bar": [
           {
            "error_x": {
             "color": "#2a3f5f"
            },
            "error_y": {
             "color": "#2a3f5f"
            },
            "marker": {
             "line": {
              "color": "#E5ECF6",
              "width": 0.5
             },
             "pattern": {
              "fillmode": "overlay",
              "size": 10,
              "solidity": 0.2
             }
            },
            "type": "bar"
           }
          ],
          "barpolar": [
           {
            "marker": {
             "line": {
              "color": "#E5ECF6",
              "width": 0.5
             },
             "pattern": {
              "fillmode": "overlay",
              "size": 10,
              "solidity": 0.2
             }
            },
            "type": "barpolar"
           }
          ],
          "carpet": [
           {
            "aaxis": {
             "endlinecolor": "#2a3f5f",
             "gridcolor": "white",
             "linecolor": "white",
             "minorgridcolor": "white",
             "startlinecolor": "#2a3f5f"
            },
            "baxis": {
             "endlinecolor": "#2a3f5f",
             "gridcolor": "white",
             "linecolor": "white",
             "minorgridcolor": "white",
             "startlinecolor": "#2a3f5f"
            },
            "type": "carpet"
           }
          ],
          "choropleth": [
           {
            "colorbar": {
             "outlinewidth": 0,
             "ticks": ""
            },
            "type": "choropleth"
           }
          ],
          "contour": [
           {
            "colorbar": {
             "outlinewidth": 0,
             "ticks": ""
            },
            "colorscale": [
             [
              0,
              "#0d0887"
             ],
             [
              0.1111111111111111,
              "#46039f"
             ],
             [
              0.2222222222222222,
              "#7201a8"
             ],
             [
              0.3333333333333333,
              "#9c179e"
             ],
             [
              0.4444444444444444,
              "#bd3786"
             ],
             [
              0.5555555555555556,
              "#d8576b"
             ],
             [
              0.6666666666666666,
              "#ed7953"
             ],
             [
              0.7777777777777778,
              "#fb9f3a"
             ],
             [
              0.8888888888888888,
              "#fdca26"
             ],
             [
              1,
              "#f0f921"
             ]
            ],
            "type": "contour"
           }
          ],
          "contourcarpet": [
           {
            "colorbar": {
             "outlinewidth": 0,
             "ticks": ""
            },
            "type": "contourcarpet"
           }
          ],
          "heatmap": [
           {
            "colorbar": {
             "outlinewidth": 0,
             "ticks": ""
            },
            "colorscale": [
             [
              0,
              "#0d0887"
             ],
             [
              0.1111111111111111,
              "#46039f"
             ],
             [
              0.2222222222222222,
              "#7201a8"
             ],
             [
              0.3333333333333333,
              "#9c179e"
             ],
             [
              0.4444444444444444,
              "#bd3786"
             ],
             [
              0.5555555555555556,
              "#d8576b"
             ],
             [
              0.6666666666666666,
              "#ed7953"
             ],
             [
              0.7777777777777778,
              "#fb9f3a"
             ],
             [
              0.8888888888888888,
              "#fdca26"
             ],
             [
              1,
              "#f0f921"
             ]
            ],
            "type": "heatmap"
           }
          ],
          "heatmapgl": [
           {
            "colorbar": {
             "outlinewidth": 0,
             "ticks": ""
            },
            "colorscale": [
             [
              0,
              "#0d0887"
             ],
             [
              0.1111111111111111,
              "#46039f"
             ],
             [
              0.2222222222222222,
              "#7201a8"
             ],
             [
              0.3333333333333333,
              "#9c179e"
             ],
             [
              0.4444444444444444,
              "#bd3786"
             ],
             [
              0.5555555555555556,
              "#d8576b"
             ],
             [
              0.6666666666666666,
              "#ed7953"
             ],
             [
              0.7777777777777778,
              "#fb9f3a"
             ],
             [
              0.8888888888888888,
              "#fdca26"
             ],
             [
              1,
              "#f0f921"
             ]
            ],
            "type": "heatmapgl"
           }
          ],
          "histogram": [
           {
            "marker": {
             "pattern": {
              "fillmode": "overlay",
              "size": 10,
              "solidity": 0.2
             }
            },
            "type": "histogram"
           }
          ],
          "histogram2d": [
           {
            "colorbar": {
             "outlinewidth": 0,
             "ticks": ""
            },
            "colorscale": [
             [
              0,
              "#0d0887"
             ],
             [
              0.1111111111111111,
              "#46039f"
             ],
             [
              0.2222222222222222,
              "#7201a8"
             ],
             [
              0.3333333333333333,
              "#9c179e"
             ],
             [
              0.4444444444444444,
              "#bd3786"
             ],
             [
              0.5555555555555556,
              "#d8576b"
             ],
             [
              0.6666666666666666,
              "#ed7953"
             ],
             [
              0.7777777777777778,
              "#fb9f3a"
             ],
             [
              0.8888888888888888,
              "#fdca26"
             ],
             [
              1,
              "#f0f921"
             ]
            ],
            "type": "histogram2d"
           }
          ],
          "histogram2dcontour": [
           {
            "colorbar": {
             "outlinewidth": 0,
             "ticks": ""
            },
            "colorscale": [
             [
              0,
              "#0d0887"
             ],
             [
              0.1111111111111111,
              "#46039f"
             ],
             [
              0.2222222222222222,
              "#7201a8"
             ],
             [
              0.3333333333333333,
              "#9c179e"
             ],
             [
              0.4444444444444444,
              "#bd3786"
             ],
             [
              0.5555555555555556,
              "#d8576b"
             ],
             [
              0.6666666666666666,
              "#ed7953"
             ],
             [
              0.7777777777777778,
              "#fb9f3a"
             ],
             [
              0.8888888888888888,
              "#fdca26"
             ],
             [
              1,
              "#f0f921"
             ]
            ],
            "type": "histogram2dcontour"
           }
          ],
          "mesh3d": [
           {
            "colorbar": {
             "outlinewidth": 0,
             "ticks": ""
            },
            "type": "mesh3d"
           }
          ],
          "parcoords": [
           {
            "line": {
             "colorbar": {
              "outlinewidth": 0,
              "ticks": ""
             }
            },
            "type": "parcoords"
           }
          ],
          "pie": [
           {
            "automargin": true,
            "type": "pie"
           }
          ],
          "scatter": [
           {
            "fillpattern": {
             "fillmode": "overlay",
             "size": 10,
             "solidity": 0.2
            },
            "type": "scatter"
           }
          ],
          "scatter3d": [
           {
            "line": {
             "colorbar": {
              "outlinewidth": 0,
              "ticks": ""
             }
            },
            "marker": {
             "colorbar": {
              "outlinewidth": 0,
              "ticks": ""
             }
            },
            "type": "scatter3d"
           }
          ],
          "scattercarpet": [
           {
            "marker": {
             "colorbar": {
              "outlinewidth": 0,
              "ticks": ""
             }
            },
            "type": "scattercarpet"
           }
          ],
          "scattergeo": [
           {
            "marker": {
             "colorbar": {
              "outlinewidth": 0,
              "ticks": ""
             }
            },
            "type": "scattergeo"
           }
          ],
          "scattergl": [
           {
            "marker": {
             "colorbar": {
              "outlinewidth": 0,
              "ticks": ""
             }
            },
            "type": "scattergl"
           }
          ],
          "scattermapbox": [
           {
            "marker": {
             "colorbar": {
              "outlinewidth": 0,
              "ticks": ""
             }
            },
            "type": "scattermapbox"
           }
          ],
          "scatterpolar": [
           {
            "marker": {
             "colorbar": {
              "outlinewidth": 0,
              "ticks": ""
             }
            },
            "type": "scatterpolar"
           }
          ],
          "scatterpolargl": [
           {
            "marker": {
             "colorbar": {
              "outlinewidth": 0,
              "ticks": ""
             }
            },
            "type": "scatterpolargl"
           }
          ],
          "scatterternary": [
           {
            "marker": {
             "colorbar": {
              "outlinewidth": 0,
              "ticks": ""
             }
            },
            "type": "scatterternary"
           }
          ],
          "surface": [
           {
            "colorbar": {
             "outlinewidth": 0,
             "ticks": ""
            },
            "colorscale": [
             [
              0,
              "#0d0887"
             ],
             [
              0.1111111111111111,
              "#46039f"
             ],
             [
              0.2222222222222222,
              "#7201a8"
             ],
             [
              0.3333333333333333,
              "#9c179e"
             ],
             [
              0.4444444444444444,
              "#bd3786"
             ],
             [
              0.5555555555555556,
              "#d8576b"
             ],
             [
              0.6666666666666666,
              "#ed7953"
             ],
             [
              0.7777777777777778,
              "#fb9f3a"
             ],
             [
              0.8888888888888888,
              "#fdca26"
             ],
             [
              1,
              "#f0f921"
             ]
            ],
            "type": "surface"
           }
          ],
          "table": [
           {
            "cells": {
             "fill": {
              "color": "#EBF0F8"
             },
             "line": {
              "color": "white"
             }
            },
            "header": {
             "fill": {
              "color": "#C8D4E3"
             },
             "line": {
              "color": "white"
             }
            },
            "type": "table"
           }
          ]
         },
         "layout": {
          "annotationdefaults": {
           "arrowcolor": "#2a3f5f",
           "arrowhead": 0,
           "arrowwidth": 1
          },
          "autotypenumbers": "strict",
          "coloraxis": {
           "colorbar": {
            "outlinewidth": 0,
            "ticks": ""
           }
          },
          "colorscale": {
           "diverging": [
            [
             0,
             "#8e0152"
            ],
            [
             0.1,
             "#c51b7d"
            ],
            [
             0.2,
             "#de77ae"
            ],
            [
             0.3,
             "#f1b6da"
            ],
            [
             0.4,
             "#fde0ef"
            ],
            [
             0.5,
             "#f7f7f7"
            ],
            [
             0.6,
             "#e6f5d0"
            ],
            [
             0.7,
             "#b8e186"
            ],
            [
             0.8,
             "#7fbc41"
            ],
            [
             0.9,
             "#4d9221"
            ],
            [
             1,
             "#276419"
            ]
           ],
           "sequential": [
            [
             0,
             "#0d0887"
            ],
            [
             0.1111111111111111,
             "#46039f"
            ],
            [
             0.2222222222222222,
             "#7201a8"
            ],
            [
             0.3333333333333333,
             "#9c179e"
            ],
            [
             0.4444444444444444,
             "#bd3786"
            ],
            [
             0.5555555555555556,
             "#d8576b"
            ],
            [
             0.6666666666666666,
             "#ed7953"
            ],
            [
             0.7777777777777778,
             "#fb9f3a"
            ],
            [
             0.8888888888888888,
             "#fdca26"
            ],
            [
             1,
             "#f0f921"
            ]
           ],
           "sequentialminus": [
            [
             0,
             "#0d0887"
            ],
            [
             0.1111111111111111,
             "#46039f"
            ],
            [
             0.2222222222222222,
             "#7201a8"
            ],
            [
             0.3333333333333333,
             "#9c179e"
            ],
            [
             0.4444444444444444,
             "#bd3786"
            ],
            [
             0.5555555555555556,
             "#d8576b"
            ],
            [
             0.6666666666666666,
             "#ed7953"
            ],
            [
             0.7777777777777778,
             "#fb9f3a"
            ],
            [
             0.8888888888888888,
             "#fdca26"
            ],
            [
             1,
             "#f0f921"
            ]
           ]
          },
          "colorway": [
           "#636efa",
           "#EF553B",
           "#00cc96",
           "#ab63fa",
           "#FFA15A",
           "#19d3f3",
           "#FF6692",
           "#B6E880",
           "#FF97FF",
           "#FECB52"
          ],
          "font": {
           "color": "#2a3f5f"
          },
          "geo": {
           "bgcolor": "white",
           "lakecolor": "white",
           "landcolor": "#E5ECF6",
           "showlakes": true,
           "showland": true,
           "subunitcolor": "white"
          },
          "hoverlabel": {
           "align": "left"
          },
          "hovermode": "closest",
          "mapbox": {
           "style": "light"
          },
          "paper_bgcolor": "white",
          "plot_bgcolor": "#E5ECF6",
          "polar": {
           "angularaxis": {
            "gridcolor": "white",
            "linecolor": "white",
            "ticks": ""
           },
           "bgcolor": "#E5ECF6",
           "radialaxis": {
            "gridcolor": "white",
            "linecolor": "white",
            "ticks": ""
           }
          },
          "scene": {
           "xaxis": {
            "backgroundcolor": "#E5ECF6",
            "gridcolor": "white",
            "gridwidth": 2,
            "linecolor": "white",
            "showbackground": true,
            "ticks": "",
            "zerolinecolor": "white"
           },
           "yaxis": {
            "backgroundcolor": "#E5ECF6",
            "gridcolor": "white",
            "gridwidth": 2,
            "linecolor": "white",
            "showbackground": true,
            "ticks": "",
            "zerolinecolor": "white"
           },
           "zaxis": {
            "backgroundcolor": "#E5ECF6",
            "gridcolor": "white",
            "gridwidth": 2,
            "linecolor": "white",
            "showbackground": true,
            "ticks": "",
            "zerolinecolor": "white"
           }
          },
          "shapedefaults": {
           "line": {
            "color": "#2a3f5f"
           }
          },
          "ternary": {
           "aaxis": {
            "gridcolor": "white",
            "linecolor": "white",
            "ticks": ""
           },
           "baxis": {
            "gridcolor": "white",
            "linecolor": "white",
            "ticks": ""
           },
           "bgcolor": "#E5ECF6",
           "caxis": {
            "gridcolor": "white",
            "linecolor": "white",
            "ticks": ""
           }
          },
          "title": {
           "x": 0.05
          },
          "xaxis": {
           "automargin": true,
           "gridcolor": "white",
           "linecolor": "white",
           "ticks": "",
           "title": {
            "standoff": 15
           },
           "zerolinecolor": "white",
           "zerolinewidth": 2
          },
          "yaxis": {
           "automargin": true,
           "gridcolor": "white",
           "linecolor": "white",
           "ticks": "",
           "title": {
            "standoff": 15
           },
           "zerolinecolor": "white",
           "zerolinewidth": 2
          }
         }
        },
        "title": {
         "text": "Correlation Heatmap"
        },
        "xaxis": {
         "anchor": "y",
         "constrain": "domain",
         "domain": [
          0,
          1
         ],
         "scaleanchor": "y"
        },
        "yaxis": {
         "anchor": "x",
         "autorange": "reversed",
         "constrain": "domain",
         "domain": [
          0,
          1
         ]
        }
       }
      }
     },
     "metadata": {},
     "output_type": "display_data"
    }
   ],
   "source": [
    "# Checking the correlation heatmap\n",
    "correlation_matrix = phishing_dataframe.corr()\n",
    "fig = px.imshow(correlation_matrix, text_auto=True)\n",
    "fig.update_layout(title='Correlation Heatmap')\n",
    "fig.show()"
   ]
  },
  {
   "cell_type": "markdown",
   "metadata": {},
   "source": [
    "#### Outlier detection and removal"
   ]
  },
  {
   "cell_type": "code",
   "execution_count": 16,
   "metadata": {},
   "outputs": [
    {
     "name": "stdout",
     "output_type": "stream",
     "text": [
      "0         False\n",
      "1         False\n",
      "2         False\n",
      "3          True\n",
      "4          True\n",
      "          ...  \n",
      "235790    False\n",
      "235791    False\n",
      "235792    False\n",
      "235793    False\n",
      "235794    False\n",
      "Length: 235795, dtype: bool\n"
     ]
    }
   ],
   "source": [
    "from scipy.stats import zscore\n",
    "\n",
    "numerical_features = phishing_dataframe.select_dtypes(include=['int64', 'float64']).columns\n",
    "\n",
    "# Calculate z-scores of the numerical columns\n",
    "z_scores = phishing_dataframe[numerical_features].apply(zscore)\n",
    "\n",
    "# Set threshold for z-score\n",
    "threshold = 3\n",
    "\n",
    "# Identify outliers\n",
    "outliers = (z_scores > threshold).sum(axis=1) > 0\n",
    "print(outliers)\n",
    "# Remove outliers\n",
    "phishing_dataframe = phishing_dataframe[~outliers]"
   ]
  },
  {
   "cell_type": "markdown",
   "metadata": {},
   "source": [
    "## Features Selection"
   ]
  },
  {
   "cell_type": "code",
   "execution_count": 17,
   "metadata": {},
   "outputs": [
    {
     "name": "stdout",
     "output_type": "stream",
     "text": [
      "Selected Features:\n",
      " Index(['URLLength', 'DomainLength', 'TLD', 'URLSimilarityIndex',\n",
      "       'NoOfLettersInURL', 'NoOfDegitsInURL', 'NoOfOtherSpecialCharsInURL',\n",
      "       'IsHTTPS', 'LineOfCode', 'LargestLineLength', 'HasTitle',\n",
      "       'DomainTitleMatchScore', 'URLTitleMatchScore', 'HasFavicon', 'Robots',\n",
      "       'IsResponsive', 'HasDescription', 'NoOfPopup', 'NoOfiFrame',\n",
      "       'HasSocialNet', 'HasSubmitButton', 'HasHiddenFields', 'Pay',\n",
      "       'HasCopyrightInfo', 'NoOfImage', 'NoOfCSS', 'NoOfJS', 'NoOfSelfRef',\n",
      "       'NoOfEmptyRef', 'NoOfExternalRef'],\n",
      "      dtype='object')\n"
     ]
    }
   ],
   "source": [
    "from sklearn.feature_selection import SelectKBest, chi2\n",
    "\n",
    "# Assuming 'class' is the target variable\n",
    "X = phishing_dataframe.drop('label', axis=1)\n",
    "y = phishing_dataframe['label']\n",
    "\n",
    "# Select top 30 features\n",
    "selector = SelectKBest(score_func=chi2, k=30)\n",
    "X_new = selector.fit_transform(X, y)\n",
    "selected_features = X.columns[selector.get_support(indices=True)]\n",
    "\n",
    "print(\"Selected Features:\\n\", selected_features)\n",
    "\n",
    "# Create a new DataFrame with only the selected features\n",
    "phishing_dataframe = phishing_dataframe[selected_features.tolist()[20:] + ['label']]\n"
   ]
  },
  {
   "cell_type": "code",
   "execution_count": 18,
   "metadata": {},
   "outputs": [
    {
     "data": {
      "application/vnd.plotly.v1+json": {
       "config": {
        "plotlyServerURL": "https://plot.ly"
       },
       "data": [
        {
         "coloraxis": "coloraxis",
         "hovertemplate": "x: %{x}<br>y: %{y}<br>color: %{z}<extra></extra>",
         "name": "0",
         "texttemplate": "%{z}",
         "type": "heatmap",
         "x": [
          "HasSubmitButton",
          "HasHiddenFields",
          "Pay",
          "HasCopyrightInfo",
          "NoOfImage",
          "NoOfCSS",
          "NoOfJS",
          "NoOfSelfRef",
          "NoOfEmptyRef",
          "NoOfExternalRef",
          "label"
         ],
         "xaxis": "x",
         "y": [
          "HasSubmitButton",
          "HasHiddenFields",
          "Pay",
          "HasCopyrightInfo",
          "NoOfImage",
          "NoOfCSS",
          "NoOfJS",
          "NoOfSelfRef",
          "NoOfEmptyRef",
          "NoOfExternalRef",
          "label"
         ],
         "yaxis": "y",
         "z": [
          [
           1,
           0.51051690015975,
           0.24340772976982297,
           0.4727683214674166,
           0.36414542488739937,
           0.362457143404471,
           0.4681144999261208,
           0.4654960203438116,
           0.2219442445225238,
           0.4264564918713586,
           0.5586391911836417
          ],
          [
           0.51051690015975,
           1,
           0.29534591717286296,
           0.3907720067697512,
           0.31182719465776604,
           0.36649515801326993,
           0.452812671667701,
           0.3817109916065071,
           0.18686428154419996,
           0.32089899712413106,
           0.47280559971963687
          ],
          [
           0.24340772976982297,
           0.29534591717286296,
           1,
           0.2384195317730983,
           0.23777844717875082,
           0.18142686766236837,
           0.2731205374094284,
           0.26269315250208336,
           0.12101429224812411,
           0.21561447846869117,
           0.3124050780179769
          ],
          [
           0.4727683214674166,
           0.3907720067697512,
           0.2384195317730983,
           1,
           0.4180495698639064,
           0.3884985694189575,
           0.4972045242352092,
           0.4563051182829814,
           0.24786943541777925,
           0.41460178767464195,
           0.7411594123631767
          ],
          [
           0.36414542488739937,
           0.31182719465776604,
           0.23777844717875082,
           0.4180495698639064,
           1,
           0.292213709009141,
           0.4163175365141347,
           0.5925519007209119,
           0.2607058615375492,
           0.5206323540208313,
           0.5141476461467179
          ],
          [
           0.362457143404471,
           0.36649515801326993,
           0.18142686766236837,
           0.3884985694189575,
           0.292213709009141,
           1,
           0.6987295804034225,
           0.38605331971968737,
           0.21644336988859966,
           0.4143802921608351,
           0.4631479314676434
          ],
          [
           0.4681144999261208,
           0.452812671667701,
           0.2731205374094284,
           0.4972045242352092,
           0.4163175365141347,
           0.6987295804034225,
           1,
           0.5027735900325015,
           0.28221472699577493,
           0.5030244314984277,
           0.6003130781756376
          ],
          [
           0.4654960203438116,
           0.3817109916065071,
           0.26269315250208336,
           0.4563051182829814,
           0.5925519007209119,
           0.38605331971968737,
           0.5027735900325015,
           1,
           0.30395076882068156,
           0.7165705954577535,
           0.5519260666661109
          ],
          [
           0.2219442445225238,
           0.18686428154419996,
           0.12101429224812411,
           0.24786943541777925,
           0.2607058615375492,
           0.21644336988859966,
           0.28221472699577493,
           0.30395076882068156,
           1,
           0.2640431587334653,
           0.28166335298470063
          ],
          [
           0.4264564918713586,
           0.32089899712413106,
           0.21561447846869117,
           0.41460178767464195,
           0.5206323540208313,
           0.4143802921608351,
           0.5030244314984277,
           0.7165705954577535,
           0.2640431587334653,
           1,
           0.4901225256573485
          ],
          [
           0.5586391911836417,
           0.47280559971963687,
           0.3124050780179769,
           0.7411594123631767,
           0.5141476461467179,
           0.4631479314676434,
           0.6003130781756376,
           0.5519260666661109,
           0.28166335298470063,
           0.4901225256573485,
           1
          ]
         ]
        }
       ],
       "layout": {
        "coloraxis": {
         "colorscale": [
          [
           0,
           "#0d0887"
          ],
          [
           0.1111111111111111,
           "#46039f"
          ],
          [
           0.2222222222222222,
           "#7201a8"
          ],
          [
           0.3333333333333333,
           "#9c179e"
          ],
          [
           0.4444444444444444,
           "#bd3786"
          ],
          [
           0.5555555555555556,
           "#d8576b"
          ],
          [
           0.6666666666666666,
           "#ed7953"
          ],
          [
           0.7777777777777778,
           "#fb9f3a"
          ],
          [
           0.8888888888888888,
           "#fdca26"
          ],
          [
           1,
           "#f0f921"
          ]
         ]
        },
        "margin": {
         "t": 60
        },
        "template": {
         "data": {
          "bar": [
           {
            "error_x": {
             "color": "#2a3f5f"
            },
            "error_y": {
             "color": "#2a3f5f"
            },
            "marker": {
             "line": {
              "color": "#E5ECF6",
              "width": 0.5
             },
             "pattern": {
              "fillmode": "overlay",
              "size": 10,
              "solidity": 0.2
             }
            },
            "type": "bar"
           }
          ],
          "barpolar": [
           {
            "marker": {
             "line": {
              "color": "#E5ECF6",
              "width": 0.5
             },
             "pattern": {
              "fillmode": "overlay",
              "size": 10,
              "solidity": 0.2
             }
            },
            "type": "barpolar"
           }
          ],
          "carpet": [
           {
            "aaxis": {
             "endlinecolor": "#2a3f5f",
             "gridcolor": "white",
             "linecolor": "white",
             "minorgridcolor": "white",
             "startlinecolor": "#2a3f5f"
            },
            "baxis": {
             "endlinecolor": "#2a3f5f",
             "gridcolor": "white",
             "linecolor": "white",
             "minorgridcolor": "white",
             "startlinecolor": "#2a3f5f"
            },
            "type": "carpet"
           }
          ],
          "choropleth": [
           {
            "colorbar": {
             "outlinewidth": 0,
             "ticks": ""
            },
            "type": "choropleth"
           }
          ],
          "contour": [
           {
            "colorbar": {
             "outlinewidth": 0,
             "ticks": ""
            },
            "colorscale": [
             [
              0,
              "#0d0887"
             ],
             [
              0.1111111111111111,
              "#46039f"
             ],
             [
              0.2222222222222222,
              "#7201a8"
             ],
             [
              0.3333333333333333,
              "#9c179e"
             ],
             [
              0.4444444444444444,
              "#bd3786"
             ],
             [
              0.5555555555555556,
              "#d8576b"
             ],
             [
              0.6666666666666666,
              "#ed7953"
             ],
             [
              0.7777777777777778,
              "#fb9f3a"
             ],
             [
              0.8888888888888888,
              "#fdca26"
             ],
             [
              1,
              "#f0f921"
             ]
            ],
            "type": "contour"
           }
          ],
          "contourcarpet": [
           {
            "colorbar": {
             "outlinewidth": 0,
             "ticks": ""
            },
            "type": "contourcarpet"
           }
          ],
          "heatmap": [
           {
            "colorbar": {
             "outlinewidth": 0,
             "ticks": ""
            },
            "colorscale": [
             [
              0,
              "#0d0887"
             ],
             [
              0.1111111111111111,
              "#46039f"
             ],
             [
              0.2222222222222222,
              "#7201a8"
             ],
             [
              0.3333333333333333,
              "#9c179e"
             ],
             [
              0.4444444444444444,
              "#bd3786"
             ],
             [
              0.5555555555555556,
              "#d8576b"
             ],
             [
              0.6666666666666666,
              "#ed7953"
             ],
             [
              0.7777777777777778,
              "#fb9f3a"
             ],
             [
              0.8888888888888888,
              "#fdca26"
             ],
             [
              1,
              "#f0f921"
             ]
            ],
            "type": "heatmap"
           }
          ],
          "heatmapgl": [
           {
            "colorbar": {
             "outlinewidth": 0,
             "ticks": ""
            },
            "colorscale": [
             [
              0,
              "#0d0887"
             ],
             [
              0.1111111111111111,
              "#46039f"
             ],
             [
              0.2222222222222222,
              "#7201a8"
             ],
             [
              0.3333333333333333,
              "#9c179e"
             ],
             [
              0.4444444444444444,
              "#bd3786"
             ],
             [
              0.5555555555555556,
              "#d8576b"
             ],
             [
              0.6666666666666666,
              "#ed7953"
             ],
             [
              0.7777777777777778,
              "#fb9f3a"
             ],
             [
              0.8888888888888888,
              "#fdca26"
             ],
             [
              1,
              "#f0f921"
             ]
            ],
            "type": "heatmapgl"
           }
          ],
          "histogram": [
           {
            "marker": {
             "pattern": {
              "fillmode": "overlay",
              "size": 10,
              "solidity": 0.2
             }
            },
            "type": "histogram"
           }
          ],
          "histogram2d": [
           {
            "colorbar": {
             "outlinewidth": 0,
             "ticks": ""
            },
            "colorscale": [
             [
              0,
              "#0d0887"
             ],
             [
              0.1111111111111111,
              "#46039f"
             ],
             [
              0.2222222222222222,
              "#7201a8"
             ],
             [
              0.3333333333333333,
              "#9c179e"
             ],
             [
              0.4444444444444444,
              "#bd3786"
             ],
             [
              0.5555555555555556,
              "#d8576b"
             ],
             [
              0.6666666666666666,
              "#ed7953"
             ],
             [
              0.7777777777777778,
              "#fb9f3a"
             ],
             [
              0.8888888888888888,
              "#fdca26"
             ],
             [
              1,
              "#f0f921"
             ]
            ],
            "type": "histogram2d"
           }
          ],
          "histogram2dcontour": [
           {
            "colorbar": {
             "outlinewidth": 0,
             "ticks": ""
            },
            "colorscale": [
             [
              0,
              "#0d0887"
             ],
             [
              0.1111111111111111,
              "#46039f"
             ],
             [
              0.2222222222222222,
              "#7201a8"
             ],
             [
              0.3333333333333333,
              "#9c179e"
             ],
             [
              0.4444444444444444,
              "#bd3786"
             ],
             [
              0.5555555555555556,
              "#d8576b"
             ],
             [
              0.6666666666666666,
              "#ed7953"
             ],
             [
              0.7777777777777778,
              "#fb9f3a"
             ],
             [
              0.8888888888888888,
              "#fdca26"
             ],
             [
              1,
              "#f0f921"
             ]
            ],
            "type": "histogram2dcontour"
           }
          ],
          "mesh3d": [
           {
            "colorbar": {
             "outlinewidth": 0,
             "ticks": ""
            },
            "type": "mesh3d"
           }
          ],
          "parcoords": [
           {
            "line": {
             "colorbar": {
              "outlinewidth": 0,
              "ticks": ""
             }
            },
            "type": "parcoords"
           }
          ],
          "pie": [
           {
            "automargin": true,
            "type": "pie"
           }
          ],
          "scatter": [
           {
            "fillpattern": {
             "fillmode": "overlay",
             "size": 10,
             "solidity": 0.2
            },
            "type": "scatter"
           }
          ],
          "scatter3d": [
           {
            "line": {
             "colorbar": {
              "outlinewidth": 0,
              "ticks": ""
             }
            },
            "marker": {
             "colorbar": {
              "outlinewidth": 0,
              "ticks": ""
             }
            },
            "type": "scatter3d"
           }
          ],
          "scattercarpet": [
           {
            "marker": {
             "colorbar": {
              "outlinewidth": 0,
              "ticks": ""
             }
            },
            "type": "scattercarpet"
           }
          ],
          "scattergeo": [
           {
            "marker": {
             "colorbar": {
              "outlinewidth": 0,
              "ticks": ""
             }
            },
            "type": "scattergeo"
           }
          ],
          "scattergl": [
           {
            "marker": {
             "colorbar": {
              "outlinewidth": 0,
              "ticks": ""
             }
            },
            "type": "scattergl"
           }
          ],
          "scattermapbox": [
           {
            "marker": {
             "colorbar": {
              "outlinewidth": 0,
              "ticks": ""
             }
            },
            "type": "scattermapbox"
           }
          ],
          "scatterpolar": [
           {
            "marker": {
             "colorbar": {
              "outlinewidth": 0,
              "ticks": ""
             }
            },
            "type": "scatterpolar"
           }
          ],
          "scatterpolargl": [
           {
            "marker": {
             "colorbar": {
              "outlinewidth": 0,
              "ticks": ""
             }
            },
            "type": "scatterpolargl"
           }
          ],
          "scatterternary": [
           {
            "marker": {
             "colorbar": {
              "outlinewidth": 0,
              "ticks": ""
             }
            },
            "type": "scatterternary"
           }
          ],
          "surface": [
           {
            "colorbar": {
             "outlinewidth": 0,
             "ticks": ""
            },
            "colorscale": [
             [
              0,
              "#0d0887"
             ],
             [
              0.1111111111111111,
              "#46039f"
             ],
             [
              0.2222222222222222,
              "#7201a8"
             ],
             [
              0.3333333333333333,
              "#9c179e"
             ],
             [
              0.4444444444444444,
              "#bd3786"
             ],
             [
              0.5555555555555556,
              "#d8576b"
             ],
             [
              0.6666666666666666,
              "#ed7953"
             ],
             [
              0.7777777777777778,
              "#fb9f3a"
             ],
             [
              0.8888888888888888,
              "#fdca26"
             ],
             [
              1,
              "#f0f921"
             ]
            ],
            "type": "surface"
           }
          ],
          "table": [
           {
            "cells": {
             "fill": {
              "color": "#EBF0F8"
             },
             "line": {
              "color": "white"
             }
            },
            "header": {
             "fill": {
              "color": "#C8D4E3"
             },
             "line": {
              "color": "white"
             }
            },
            "type": "table"
           }
          ]
         },
         "layout": {
          "annotationdefaults": {
           "arrowcolor": "#2a3f5f",
           "arrowhead": 0,
           "arrowwidth": 1
          },
          "autotypenumbers": "strict",
          "coloraxis": {
           "colorbar": {
            "outlinewidth": 0,
            "ticks": ""
           }
          },
          "colorscale": {
           "diverging": [
            [
             0,
             "#8e0152"
            ],
            [
             0.1,
             "#c51b7d"
            ],
            [
             0.2,
             "#de77ae"
            ],
            [
             0.3,
             "#f1b6da"
            ],
            [
             0.4,
             "#fde0ef"
            ],
            [
             0.5,
             "#f7f7f7"
            ],
            [
             0.6,
             "#e6f5d0"
            ],
            [
             0.7,
             "#b8e186"
            ],
            [
             0.8,
             "#7fbc41"
            ],
            [
             0.9,
             "#4d9221"
            ],
            [
             1,
             "#276419"
            ]
           ],
           "sequential": [
            [
             0,
             "#0d0887"
            ],
            [
             0.1111111111111111,
             "#46039f"
            ],
            [
             0.2222222222222222,
             "#7201a8"
            ],
            [
             0.3333333333333333,
             "#9c179e"
            ],
            [
             0.4444444444444444,
             "#bd3786"
            ],
            [
             0.5555555555555556,
             "#d8576b"
            ],
            [
             0.6666666666666666,
             "#ed7953"
            ],
            [
             0.7777777777777778,
             "#fb9f3a"
            ],
            [
             0.8888888888888888,
             "#fdca26"
            ],
            [
             1,
             "#f0f921"
            ]
           ],
           "sequentialminus": [
            [
             0,
             "#0d0887"
            ],
            [
             0.1111111111111111,
             "#46039f"
            ],
            [
             0.2222222222222222,
             "#7201a8"
            ],
            [
             0.3333333333333333,
             "#9c179e"
            ],
            [
             0.4444444444444444,
             "#bd3786"
            ],
            [
             0.5555555555555556,
             "#d8576b"
            ],
            [
             0.6666666666666666,
             "#ed7953"
            ],
            [
             0.7777777777777778,
             "#fb9f3a"
            ],
            [
             0.8888888888888888,
             "#fdca26"
            ],
            [
             1,
             "#f0f921"
            ]
           ]
          },
          "colorway": [
           "#636efa",
           "#EF553B",
           "#00cc96",
           "#ab63fa",
           "#FFA15A",
           "#19d3f3",
           "#FF6692",
           "#B6E880",
           "#FF97FF",
           "#FECB52"
          ],
          "font": {
           "color": "#2a3f5f"
          },
          "geo": {
           "bgcolor": "white",
           "lakecolor": "white",
           "landcolor": "#E5ECF6",
           "showlakes": true,
           "showland": true,
           "subunitcolor": "white"
          },
          "hoverlabel": {
           "align": "left"
          },
          "hovermode": "closest",
          "mapbox": {
           "style": "light"
          },
          "paper_bgcolor": "white",
          "plot_bgcolor": "#E5ECF6",
          "polar": {
           "angularaxis": {
            "gridcolor": "white",
            "linecolor": "white",
            "ticks": ""
           },
           "bgcolor": "#E5ECF6",
           "radialaxis": {
            "gridcolor": "white",
            "linecolor": "white",
            "ticks": ""
           }
          },
          "scene": {
           "xaxis": {
            "backgroundcolor": "#E5ECF6",
            "gridcolor": "white",
            "gridwidth": 2,
            "linecolor": "white",
            "showbackground": true,
            "ticks": "",
            "zerolinecolor": "white"
           },
           "yaxis": {
            "backgroundcolor": "#E5ECF6",
            "gridcolor": "white",
            "gridwidth": 2,
            "linecolor": "white",
            "showbackground": true,
            "ticks": "",
            "zerolinecolor": "white"
           },
           "zaxis": {
            "backgroundcolor": "#E5ECF6",
            "gridcolor": "white",
            "gridwidth": 2,
            "linecolor": "white",
            "showbackground": true,
            "ticks": "",
            "zerolinecolor": "white"
           }
          },
          "shapedefaults": {
           "line": {
            "color": "#2a3f5f"
           }
          },
          "ternary": {
           "aaxis": {
            "gridcolor": "white",
            "linecolor": "white",
            "ticks": ""
           },
           "baxis": {
            "gridcolor": "white",
            "linecolor": "white",
            "ticks": ""
           },
           "bgcolor": "#E5ECF6",
           "caxis": {
            "gridcolor": "white",
            "linecolor": "white",
            "ticks": ""
           }
          },
          "title": {
           "x": 0.05
          },
          "xaxis": {
           "automargin": true,
           "gridcolor": "white",
           "linecolor": "white",
           "ticks": "",
           "title": {
            "standoff": 15
           },
           "zerolinecolor": "white",
           "zerolinewidth": 2
          },
          "yaxis": {
           "automargin": true,
           "gridcolor": "white",
           "linecolor": "white",
           "ticks": "",
           "title": {
            "standoff": 15
           },
           "zerolinecolor": "white",
           "zerolinewidth": 2
          }
         }
        },
        "title": {
         "text": "Correlation Heatmap"
        },
        "xaxis": {
         "anchor": "y",
         "constrain": "domain",
         "domain": [
          0,
          1
         ],
         "scaleanchor": "y"
        },
        "yaxis": {
         "anchor": "x",
         "autorange": "reversed",
         "constrain": "domain",
         "domain": [
          0,
          1
         ]
        }
       }
      }
     },
     "metadata": {},
     "output_type": "display_data"
    }
   ],
   "source": [
    "# Checking the correlation heatmap\n",
    "correlation_matrix = phishing_dataframe.corr()\n",
    "fig = px.imshow(correlation_matrix, text_auto=True)\n",
    "fig.update_layout(title='Correlation Heatmap')\n",
    "fig.show()"
   ]
  },
  {
   "cell_type": "markdown",
   "metadata": {},
   "source": [
    "## Classification algorithms"
   ]
  },
  {
   "cell_type": "code",
   "execution_count": 19,
   "metadata": {},
   "outputs": [
    {
     "name": "stdout",
     "output_type": "stream",
     "text": [
      "Training accuracy of decision trees: 0.9777947391482565\n",
      "Validation accuracy of decision trees: 0.9790812720848057\n",
      "Training accuracy of Random Forest: 0.9803813481462635\n",
      "Validation accuracy of Random Forest: 0.9814558303886926\n"
     ]
    }
   ],
   "source": [
    "from sklearn.model_selection import train_test_split, GridSearchCV\n",
    "from sklearn.tree import DecisionTreeClassifier\n",
    "from sklearn.ensemble import RandomForestClassifier\n",
    "from sklearn.metrics import accuracy_score\n",
    "\n",
    "# Split the data into train and test sets\n",
    "X_train, X_test, y_train, y_test = train_test_split(phishing_dataframe[[col for col in phishing_dataframe if col != 'label']], phishing_dataframe['label'], test_size=0.2, random_state=0)\n",
    "\n",
    "# Initialize classifiers\n",
    "dt_classifier = DecisionTreeClassifier( max_depth=2, min_samples_split=2, min_samples_leaf=2)\n",
    "rf_classifier = RandomForestClassifier(n_estimators=20, max_depth=2, min_samples_split=2, min_samples_leaf=2)\n",
    "\n",
    "\n",
    "# Fit and evaluate Decision Tree before hyperparameter tuning\n",
    "dt_classifier.fit(X_train, y_train)\n",
    "y_pred_dt = dt_classifier.predict(X_test)\n",
    "y_train_pred_dt = dt_classifier.predict(X_train)\n",
    "\n",
    "print(\"Training accuracy of decision trees:\", accuracy_score(y_train, y_train_pred_dt))\n",
    "print(\"Validation accuracy of decision trees:\", accuracy_score(y_test, y_pred_dt))\n",
    "\n",
    "# Fit and evaluate Random Forest before hyperparameter tuning\n",
    "rf_classifier.fit(X_train, y_train)\n",
    "y_pred_rf = rf_classifier.predict(X_test)\n",
    "y_train_pred_rf = rf_classifier.predict(X_train)\n",
    "\n",
    "\n",
    "print(\"Training accuracy of Random Forest:\", accuracy_score(y_train, y_train_pred_rf))\n",
    "print(\"Validation accuracy of Random Forest:\", accuracy_score(y_test, y_pred_rf))"
   ]
  },
  {
   "cell_type": "code",
   "execution_count": 20,
   "metadata": {},
   "outputs": [
    {
     "data": {
      "image/png": "[encoded data removed]",
      "text/plain": [
       "<Figure size 640x480 with 2 Axes>"
      ]
     },
     "metadata": {},
     "output_type": "display_data"
    }
   ],
   "source": [
    "\n",
    "\n",
    "confusion_matrix_dt =  confusion_matrix(y_test, y_pred_dt)\n",
    "cm_display = ConfusionMatrixDisplay(confusion_matrix = confusion_matrix_dt, display_labels = [0, 1])\n",
    "\n",
    "cm_display.plot()\n",
    "plt.show()"
   ]
  },
  {
   "cell_type": "code",
   "execution_count": 21,
   "metadata": {},
   "outputs": [
    {
     "data": {
      "image/png": "[encoded data removed]",
      "text/plain": [
       "<Figure size 640x480 with 2 Axes>"
      ]
     },
     "metadata": {},
     "output_type": "display_data"
    }
   ],
   "source": [
    "confusion_matrix_rf =  confusion_matrix(y_test, y_pred_rf)\n",
    "cm_display = ConfusionMatrixDisplay(confusion_matrix = confusion_matrix_rf, display_labels = [0, 1])\n",
    "\n",
    "cm_display.plot()\n",
    "plt.show()"
   ]
  },
  {
   "cell_type": "markdown",
   "metadata": {},
   "source": [
    "## Hyperparameter Tuning"
   ]
  },
  {
   "cell_type": "code",
   "execution_count": 22,
   "metadata": {},
   "outputs": [
    {
     "name": "stdout",
     "output_type": "stream",
     "text": [
      "Fitting 3 folds for each of 8 candidates, totalling 24 fits\n",
      "[CV] END max_depth=3, min_samples_leaf=1, min_samples_split=5; total time=   0.2s\n",
      "[CV] END max_depth=3, min_samples_leaf=2, min_samples_split=2; total time=   0.2s\n",
      "[CV] END max_depth=3, min_samples_leaf=1, min_samples_split=5; total time=   0.2s\n",
      "[CV] END max_depth=3, min_samples_leaf=1, min_samples_split=2; total time=   0.2s\n",
      "[CV] END max_depth=3, min_samples_leaf=2, min_samples_split=2; total time=   0.2s\n",
      "[CV] END max_depth=3, min_samples_leaf=1, min_samples_split=2; total time=   0.2s\n",
      "[CV] END max_depth=3, min_samples_leaf=1, min_samples_split=5; total time=   0.2s\n",
      "[CV] END max_depth=3, min_samples_leaf=1, min_samples_split=2; total time=   0.2s\n",
      "[CV] END max_depth=3, min_samples_leaf=2, min_samples_split=2; total time=   0.1s\n",
      "[CV] END max_depth=3, min_samples_leaf=2, min_samples_split=5; total time=   0.1s\n",
      "[CV] END max_depth=3, min_samples_leaf=2, min_samples_split=5; total time=   0.1s\n",
      "[CV] END max_depth=3, min_samples_leaf=2, min_samples_split=5; total time=   0.1s\n",
      "[CV] END max_depth=5, min_samples_leaf=1, min_samples_split=2; total time=   0.2s\n",
      "[CV] END max_depth=5, min_samples_leaf=1, min_samples_split=2; total time=   0.2s\n",
      "[CV] END max_depth=5, min_samples_leaf=1, min_samples_split=2; total time=   0.2s\n",
      "[CV] END max_depth=5, min_samples_leaf=1, min_samples_split=5; total time=   0.3s\n",
      "[CV] END max_depth=5, min_samples_leaf=1, min_samples_split=5; total time=   0.4s\n",
      "[CV] END max_depth=5, min_samples_leaf=1, min_samples_split=5; total time=   0.4s\n",
      "[CV] END max_depth=5, min_samples_leaf=2, min_samples_split=2; total time=   0.5s\n",
      "[CV] END max_depth=5, min_samples_leaf=2, min_samples_split=2; total time=   0.5s\n",
      "[CV] END max_depth=5, min_samples_leaf=2, min_samples_split=2; total time=   0.4s\n",
      "[CV] END max_depth=5, min_samples_leaf=2, min_samples_split=5; total time=   0.4s\n",
      "[CV] END max_depth=5, min_samples_leaf=2, min_samples_split=5; total time=   0.3s\n",
      "[CV] END max_depth=5, min_samples_leaf=2, min_samples_split=5; total time=   0.3s\n",
      "Fitting 3 folds for each of 8 candidates, totalling 24 fits\n",
      "[CV] END max_depth=3, min_samples_leaf=1, min_samples_split=2, n_estimators=50; total time=   3.3s\n",
      "[CV] END max_depth=3, min_samples_leaf=1, min_samples_split=2, n_estimators=50; total time=   3.3s\n",
      "[CV] END max_depth=3, min_samples_leaf=1, min_samples_split=5, n_estimators=50; total time=   3.2s\n",
      "[CV] END max_depth=3, min_samples_leaf=1, min_samples_split=5, n_estimators=50; total time=   3.3s\n",
      "[CV] END max_depth=3, min_samples_leaf=1, min_samples_split=2, n_estimators=50; total time=   3.3s\n",
      "[CV] END max_depth=3, min_samples_leaf=1, min_samples_split=5, n_estimators=50; total time=   3.2s\n",
      "[CV] END max_depth=3, min_samples_leaf=2, min_samples_split=2, n_estimators=50; total time=   3.2s\n",
      "[CV] END max_depth=3, min_samples_leaf=2, min_samples_split=2, n_estimators=50; total time=   3.2s\n",
      "[CV] END max_depth=3, min_samples_leaf=2, min_samples_split=2, n_estimators=50; total time=   3.0s\n",
      "[CV] END max_depth=3, min_samples_leaf=2, min_samples_split=5, n_estimators=50; total time=   3.0s\n",
      "[CV] END max_depth=3, min_samples_leaf=2, min_samples_split=5, n_estimators=50; total time=   3.0s\n",
      "[CV] END max_depth=3, min_samples_leaf=2, min_samples_split=5, n_estimators=50; total time=   3.1s\n",
      "[CV] END max_depth=5, min_samples_leaf=1, min_samples_split=2, n_estimators=50; total time=   4.1s\n",
      "[CV] END max_depth=5, min_samples_leaf=1, min_samples_split=2, n_estimators=50; total time=   4.2s\n",
      "[CV] END max_depth=5, min_samples_leaf=1, min_samples_split=2, n_estimators=50; total time=   4.2s\n",
      "[CV] END max_depth=5, min_samples_leaf=1, min_samples_split=5, n_estimators=50; total time=   4.2s\n",
      "[CV] END max_depth=5, min_samples_leaf=1, min_samples_split=5, n_estimators=50; total time=   4.2s\n",
      "[CV] END max_depth=5, min_samples_leaf=1, min_samples_split=5, n_estimators=50; total time=   4.3s\n",
      "[CV] END max_depth=5, min_samples_leaf=2, min_samples_split=2, n_estimators=50; total time=   4.2s\n",
      "[CV] END max_depth=5, min_samples_leaf=2, min_samples_split=2, n_estimators=50; total time=   4.2s\n",
      "[CV] END max_depth=5, min_samples_leaf=2, min_samples_split=2, n_estimators=50; total time=   3.7s\n",
      "[CV] END max_depth=5, min_samples_leaf=2, min_samples_split=5, n_estimators=50; total time=   3.7s\n",
      "[CV] END max_depth=5, min_samples_leaf=2, min_samples_split=5, n_estimators=50; total time=   3.6s\n",
      "[CV] END max_depth=5, min_samples_leaf=2, min_samples_split=5, n_estimators=50; total time=   3.6s\n"
     ]
    }
   ],
   "source": [
    "# Hyperparameter tuning for Decision Tree\n",
    "param_grid_dt = {'max_depth': [3, 5],\n",
    "                 'min_samples_split': [2, 5],\n",
    "                 'min_samples_leaf': [1, 2]}\n",
    "grid_search_dt = GridSearchCV(estimator=dt_classifier, param_grid=param_grid_dt, cv=3, n_jobs=-1, verbose=2)\n",
    "grid_search_dt.fit(X_train, y_train)\n",
    "best_dt = grid_search_dt.best_estimator_\n",
    "\n",
    "# Hyperparameter tuning for Random Forest\n",
    "param_grid_rf = {'n_estimators': [50],\n",
    "                 'max_depth': [3, 5],\n",
    "                 'min_samples_split': [2, 5],\n",
    "                 'min_samples_leaf': [1, 2]}\n",
    "grid_search_rf = GridSearchCV(estimator=rf_classifier, param_grid=param_grid_rf, cv=3, n_jobs=-1, verbose=2)\n",
    "grid_search_rf.fit(X_train, y_train)\n",
    "best_rf = grid_search_rf.best_estimator_"
   ]
  },
  {
   "cell_type": "code",
   "execution_count": 23,
   "metadata": {},
   "outputs": [
    {
     "name": "stdout",
     "output_type": "stream",
     "text": [
      "Training Accuracy of decision tree after tuning: 0.9868549378789806\n",
      "Validation Accuracy of decision tree after tuning: 0.9883250883392226\n",
      "Training Accuracy of random forest after tuning: 0.9877454098291142\n",
      "Validation Accuracy of random forest after tuning: 0.9880989399293286\n"
     ]
    }
   ],
   "source": [
    "# Evaluate tuned models\n",
    "y_pred_dt_tuned = best_dt.predict(X_test)\n",
    "y_train_pred_dt_tuned = best_dt.predict(X_train)\n",
    "print(\"Training Accuracy of decision tree after tuning:\", accuracy_score(y_train, y_train_pred_dt_tuned))\n",
    "print(\"Validation Accuracy of decision tree after tuning:\", accuracy_score(y_test, y_pred_dt_tuned))\n",
    "\n",
    "\n",
    "\n",
    "y_pred_rf_tuned = best_rf.predict(X_test)\n",
    "y_train_pred_rf_tuned = best_rf.predict(X_train)\n",
    "print(\"Training Accuracy of random forest after tuning:\", accuracy_score(y_train, y_train_pred_rf_tuned))\n",
    "print(\"Validation Accuracy of random forest after tuning:\", accuracy_score(y_test, y_pred_rf_tuned))"
   ]
  },
  {
   "cell_type": "code",
   "execution_count": 24,
   "metadata": {},
   "outputs": [
    {
     "data": {
      "image/png": "[encoded data removed]",
      "text/plain": [
       "<Figure size 640x480 with 2 Axes>"
      ]
     },
     "metadata": {},
     "output_type": "display_data"
    }
   ],
   "source": [
    "from sklearn. metrics import confusion_matrix, ConfusionMatrixDisplay\n",
    "\n",
    "confusion_matrix_dt_tuned =  confusion_matrix(y_test, y_pred_dt_tuned)\n",
    "cm_display = ConfusionMatrixDisplay(confusion_matrix = confusion_matrix_dt_tuned, display_labels = [0, 1])\n",
    "\n",
    "cm_display.plot()\n",
    "plt.show()"
   ]
  },
  {
   "cell_type": "code",
   "execution_count": 25,
   "metadata": {},
   "outputs": [
    {
     "data": {
      "image/png": "[encoded data removed]",
      "text/plain": [
       "<Figure size 640x480 with 2 Axes>"
      ]
     },
     "metadata": {},
     "output_type": "display_data"
    }
   ],
   "source": [
    "confusion_matrix_rf_tuned =  confusion_matrix(y_test, y_pred_rf_tuned)\n",
    "cm_display = ConfusionMatrixDisplay(confusion_matrix = confusion_matrix_rf_tuned, display_labels = [0, 1])\n",
    "\n",
    "cm_display.plot()\n",
    "plt.show()"
   ]
  }
 ],
 "metadata": {
  "kernelspec": {
   "display_name": "Python 3",
   "language": "python",
   "name": "python3"
  },
  "language_info": {
   "codemirror_mode": {
    "name": "ipython",
    "version": 3
   },
   "file_extension": ".py",
   "mimetype": "text/x-python",
   "name": "python",
   "nbconvert_exporter": "python",
   "pygments_lexer": "ipython3",
   "version": "3.11.5"
  }
 },
 "nbformat": 4,
 "nbformat_minor": 2
}

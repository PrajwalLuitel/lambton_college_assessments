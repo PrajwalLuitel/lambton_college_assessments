{
 "cells": [
  {
   "cell_type": "markdown",
   "metadata": {},
   "source": [
    "## Advanced python programming for AI and ML\n",
    "#### Prajwal Luitel (C0927658)\n",
    "### Week 13"
   ]
  },
  {
   "cell_type": "markdown",
   "metadata": {},
   "source": [
    "Q1Given a signed 32-bit integer x, return x with its digits reversed. If reversing x causes the value to go outside the signed 32-bit integer range [-231, 231 - 1], then return 0.\n",
    "\n",
    "Assume the environment does not allow you to store 64-bit integers (signed or unsigned).\n",
    "\n",
    "Example 1:\n",
    "\n",
    "Input: x = 123\n",
    "\n",
    "Output: 321"
   ]
  },
  {
   "cell_type": "code",
   "execution_count": 3,
   "metadata": {},
   "outputs": [],
   "source": [
    "def reverse_integer(number:int) -> int: \n",
    "    \"\"\"\n",
    "    reverses the given integer and returns the result if the result is within the signed 32-bit integer range. [-2^31, 2^31 - 1], else returns 0.\n",
    "\n",
    "    Arguments:\n",
    "    number : int : the integer to reverse.\n",
    "\n",
    "    Returns:\n",
    "    reversed_with_sign : int : the integer reversed within signed 32-bit integer range.\n",
    "    \"\"\"\n",
    "    sign:str = \"-\" if str(number)[0]==\"-\" else \"\"\n",
    "\n",
    "    absolute_number:int = abs(number)\n",
    "    reversed_number:str = \"\"\n",
    "\n",
    "    while absolute_number >0:\n",
    "        reversed_number += str(absolute_number%10)\n",
    "        absolute_number //= 10\n",
    "\n",
    "    reversed_with_sign = int(sign+reversed_number)\n",
    "\n",
    "    if reversed_with_sign > (-2)**31 and reversed_with_sign < (2)**31-1:\n",
    "        return reversed_with_sign\n",
    "    else:\n",
    "        return 0\n"
   ]
  },
  {
   "cell_type": "code",
   "execution_count": 4,
   "metadata": {},
   "outputs": [
    {
     "data": {
      "text/plain": [
       "321"
      ]
     },
     "execution_count": 4,
     "metadata": {},
     "output_type": "execute_result"
    }
   ],
   "source": [
    "reverse_integer(123)"
   ]
  },
  {
   "cell_type": "markdown",
   "metadata": {},
   "source": [
    "Q2 You are given an n x n 2D matrix representing an image, rotate the image by 90 degrees (clockwise).\n",
    "\n",
    "You have to rotate the image in-place, which means you have to modify the input 2D matrix directly. DO NOT allocate another 2D matrix and do the rotation.\n",
    "\n",
    " \n",
    "\n",
    "Example 1:\n",
    "\n",
    "\n",
    "\n",
    "Input: matrix = [[1,2,3],[4,5,6],[7,8,9]]\n",
    "\n",
    "Output: [[7,4,1],[8,5,2],[9,6,3]]\n",
    "\n"
   ]
  },
  {
   "cell_type": "code",
   "execution_count": 5,
   "metadata": {},
   "outputs": [],
   "source": [
    "def rotate_matrix(matrix:list[list[int]]) -> list[list[int]]:\n",
    "    \"\"\"\n",
    "    Rotates a given n x n matrix and returns the matrix.\n",
    "\n",
    "    Arguments:\n",
    "    matrix : list[list[int]] : the matrix to be rotated.\n",
    "\n",
    "    Returns:\n",
    "    matrix : list[list[int]] : the matrix that is rotated.\n",
    "    \"\"\"\n",
    "    n:int = len(matrix)\n",
    "    \n",
    "    for i in range(n):\n",
    "        for j in range(i, n):\n",
    "            matrix[i][j], matrix[j][i] = matrix[j][i], matrix[i][j]\n",
    "    \n",
    "    for i in range(n):\n",
    "        matrix[i].reverse()\n",
    "    \n",
    "    return matrix"
   ]
  },
  {
   "cell_type": "code",
   "execution_count": 6,
   "metadata": {},
   "outputs": [
    {
     "data": {
      "text/plain": [
       "[[7, 4, 1], [8, 5, 2], [9, 6, 3]]"
      ]
     },
     "execution_count": 6,
     "metadata": {},
     "output_type": "execute_result"
    }
   ],
   "source": [
    "rotate_matrix([[1,2,3],[4,5,6],[7,8,9]])"
   ]
  },
  {
   "cell_type": "code",
   "execution_count": 7,
   "metadata": {},
   "outputs": [],
   "source": [
    "def check_board(board:list[list[str]], word:str) -> bool:\n",
    "    def dfs(board, word, i, j, index):\n",
    "        if index == len(word):\n",
    "            return True\n",
    "        \n",
    "        if i < 0 or i >= len(board) or j < 0 or j >= len(board[0]) or board[i][j] != word[index]:\n",
    "            return False\n",
    "        \n",
    "        temp = board[i][j]\n",
    "        board[i][j] = '#'\n",
    "        \n",
    "        found = (dfs(board, word, i+1, j, index+1) or\n",
    "                dfs(board, word, i-1, j, index+1) or\n",
    "                dfs(board, word, i, j+1, index+1) or\n",
    "                dfs(board, word, i, j-1, index+1))\n",
    "        \n",
    "        board[i][j] = temp\n",
    "        \n",
    "        return found\n",
    "    \n",
    "    for i in range(len(board)):\n",
    "        for j in range(len(board[0])):\n",
    "            if dfs(board, word, i, j, 0):\n",
    "                return True\n",
    "    \n",
    "    return False"
   ]
  },
  {
   "cell_type": "code",
   "execution_count": 8,
   "metadata": {},
   "outputs": [
    {
     "data": {
      "text/plain": [
       "True"
      ]
     },
     "execution_count": 8,
     "metadata": {},
     "output_type": "execute_result"
    }
   ],
   "source": [
    "board = [\n",
    "    [\"A\",\"B\",\"C\",\"E\"],\n",
    "    [\"S\",\"F\",\"C\",\"S\"],\n",
    "    [\"A\",\"D\",\"E\",\"E\"]\n",
    "]\n",
    "word = \"ABCCED\"\n",
    "\n",
    "check_board(board, word)"
   ]
  }
 ],
 "metadata": {
  "kernelspec": {
   "display_name": "Python 3",
   "language": "python",
   "name": "python3"
  },
  "language_info": {
   "codemirror_mode": {
    "name": "ipython",
    "version": 3
   },
   "file_extension": ".py",
   "mimetype": "text/x-python",
   "name": "python",
   "nbconvert_exporter": "python",
   "pygments_lexer": "ipython3",
   "version": "3.11.5"
  }
 },
 "nbformat": 4,
 "nbformat_minor": 2
}

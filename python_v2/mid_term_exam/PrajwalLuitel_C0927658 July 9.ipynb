{
 "cells": [
  {
   "cell_type": "markdown",
   "metadata": {},
   "source": [
    "# Question 1 (10 marks)"
   ]
  },
  {
   "cell_type": "markdown",
   "metadata": {},
   "source": [
    "Given an m x n grid of characters board and a string word, return true if word exists in the grid.\n",
    "\n",
    "The word can be constructed from letters of sequentially adjacent cells, where adjacent cells are horizontally or vertically neighboring. The same letter cell may not be used more than once.\n",
    "\n",
    "Input: board = [[\"A\",\"B\",\"C\",\"E\"],[\"S\",\"F\",\"C\",\"S\"],[\"A\",\"D\",\"E\",\"E\"]], word = \"ABCCED\"\n",
    "\n",
    "Output: true\n",
    "\n",
    "Write function and use input method to test it!\n",
    "\n",
    "\n"
   ]
  },
  {
   "cell_type": "code",
   "execution_count": 44,
   "metadata": {},
   "outputs": [],
   "source": [
    "#Answer\n",
    "\n",
    "def check_grid(board, word) -> bool:\n",
    "    first = []\n",
    "    # the idea is to identify the coordinates of the first element of the text in the grid, then try moving to other positions\n",
    "    def get_first(board, word):\n",
    "        for row in range(len(board)):\n",
    "            for column in range(len(board[0])):\n",
    "                if board[row][column] == word[0]:\n",
    "                    return [row, column]\n",
    "    first = get_first(board, word)\n",
    "    if first == []: return False\n",
    "\n",
    "\n",
    "    for i in range(1,len(word[1:])):\n",
    "        try:\n",
    "            if board[first[0]+1][first[1]] == word[i]:\n",
    "                first[0] = first[0]+1\n",
    "            elif board[first[0]-1][first[1]] == word[i]:\n",
    "                first[0] = first[0]-1\n",
    "            elif board[first[0]][first[1]+1] == word[i]:\n",
    "                first[1] = first[1]+1\n",
    "            elif board[first[0]][first[1]-1] == word[i]:\n",
    "                first[1] = first[1]-1\n",
    "            else:\n",
    "                return False\n",
    "        except IndexError:\n",
    "            pass\n",
    "        \n",
    "\n",
    "    return True"
   ]
  },
  {
   "cell_type": "code",
   "execution_count": 45,
   "metadata": {},
   "outputs": [
    {
     "data": {
      "text/plain": [
       "True"
      ]
     },
     "execution_count": 45,
     "metadata": {},
     "output_type": "execute_result"
    }
   ],
   "source": [
    "check_grid([[\"A\",\"B\",\"C\",\"E\"],[\"S\",\"F\",\"C\",\"S\"],[\"A\",\"D\",\"E\",\"E\"]], \"ABCCED\")"
   ]
  },
  {
   "cell_type": "markdown",
   "metadata": {},
   "source": [
    "# Question 2 (15 marks)"
   ]
  },
  {
   "cell_type": "markdown",
   "metadata": {},
   "source": [
    "Given a string containing just the characters   '('   and   ')'  , return the length of the longest valid (well-formed) parentheses \n",
    "substring\n",
    "\n",
    "Write function and use input method to test it!\n",
    "\n",
    "Your code must also print out true or false showing if we have proper parantheses in terms of number and order etc...so we do not get a syntax error for parantheses\n",
    "\n",
    "Example 1:\n",
    "\n",
    "Input: s = \"(())\"\n",
    "\n",
    "Output: 2, True\n",
    "\n",
    "Explanation: The longest valid parentheses substring is \"(())\".  \n",
    "\n",
    "Example 2:\n",
    "\n",
    "Input: s = \")()())\"\n",
    "\n",
    "Output: 4, false\n",
    "\n",
    "Explanation: The longest valid parentheses substring is \"()()\".\n",
    "\n",
    "Your code must get the input in the format shown in the examples (like between quatations)\n",
    "\n"
   ]
  },
  {
   "cell_type": "code",
   "execution_count": 18,
   "metadata": {},
   "outputs": [],
   "source": [
    "#Answer\n",
    "def get_longest_valid_parantheses(s) -> tuple[int, bool]:\n",
    "    max_counter = 0\n",
    "    stack = []\n",
    "    counter = 0\n",
    "    valid_boolean = True\n",
    "\n",
    "    for el in s:\n",
    "        if el == \"(\":\n",
    "            stack.append(\"(\")\n",
    "        elif el == \")\":\n",
    "            try:\n",
    "                stack.pop()\n",
    "                counter += 2\n",
    "            except IndexError:\n",
    "                valid_boolean = False\n",
    "                if counter > max_counter:\n",
    "                    max_counter = counter\n",
    "                counter = 0\n",
    "    \n",
    "    if counter > max_counter:\n",
    "        max_counter = counter\n",
    "\n",
    "    if len(stack) > 0:\n",
    "        valid_boolean = False\n",
    "    \n",
    "    return (max_counter, valid_boolean)"
   ]
  },
  {
   "cell_type": "code",
   "execution_count": 19,
   "metadata": {},
   "outputs": [
    {
     "data": {
      "text/plain": [
       "(4, True)"
      ]
     },
     "execution_count": 19,
     "metadata": {},
     "output_type": "execute_result"
    }
   ],
   "source": [
    "get_longest_valid_parantheses(\"()()\")"
   ]
  },
  {
   "cell_type": "code",
   "execution_count": 20,
   "metadata": {},
   "outputs": [
    {
     "data": {
      "text/plain": [
       "(4, False)"
      ]
     },
     "execution_count": 20,
     "metadata": {},
     "output_type": "execute_result"
    }
   ],
   "source": [
    "get_longest_valid_parantheses(\")()())\")"
   ]
  },
  {
   "cell_type": "code",
   "execution_count": 21,
   "metadata": {},
   "outputs": [
    {
     "data": {
      "text/plain": [
       "(4, True)"
      ]
     },
     "execution_count": 21,
     "metadata": {},
     "output_type": "execute_result"
    }
   ],
   "source": [
    "get_longest_valid_parantheses(\"(())\")"
   ]
  },
  {
   "cell_type": "markdown",
   "metadata": {},
   "source": [
    "# Question 3 (15 Marks)"
   ]
  },
  {
   "cell_type": "markdown",
   "metadata": {},
   "source": [
    "Write function and use input method\n",
    "\n",
    "Use a function and use input method to test your code\n",
    "\n",
    "Given an integer array nums, return the maximum difference between two successive elements in its sorted form and also return those two numbers. If the array contains less than two elements, return 0.\n",
    "\n",
    "\n",
    "Example 1:\n",
    "\n",
    "Input: nums = [3,60,9,1] Output: [51, the two numbers are 9 and 60 ]\n",
    "\n",
    "\n",
    "Explanation: The sorted form of the array is [1,3,9,60], (9,61) has the maximum difference 51.\n",
    "\n",
    "Example 2:\n",
    "\n",
    "Input: nums = [10] Output: 0 Explanation: The array contains less than 2 elements, therefore return 0.\n"
   ]
  },
  {
   "cell_type": "code",
   "execution_count": 12,
   "metadata": {},
   "outputs": [],
   "source": [
    "#Answer\n",
    "def get_maximum_distance(array:list[int]):\n",
    "    if len(array) <2:\n",
    "        return [0, \"the array length is less than two\"]\n",
    "    \n",
    "    max_distance = 0\n",
    "    el1 = 0\n",
    "    el2 = 0\n",
    "\n",
    "    array.sort()\n",
    "    for i in range(len(array)-1):\n",
    "        distance = array[i+1] - array[i]\n",
    "        if distance > max_distance:\n",
    "            max_distance = distance\n",
    "            el1 = array[i]\n",
    "            el2 = array[i+1]\n",
    "    \n",
    "    return [max_distance, f\"the two numbers are {el1} and {el2}\"]\n"
   ]
  },
  {
   "cell_type": "code",
   "execution_count": 13,
   "metadata": {},
   "outputs": [
    {
     "name": "stdout",
     "output_type": "stream",
     "text": [
      "[51, 'the two numbers are 9 and 60']\n"
     ]
    }
   ],
   "source": [
    "check = input(\"Please enter an integer array to check for the maximum distance between sorted elements: \")\n",
    "check = [int(el) for el in list(check[1:-1].split(\",\"))]\n",
    "\n",
    "print(get_maximum_distance(check))"
   ]
  },
  {
   "cell_type": "code",
   "execution_count": null,
   "metadata": {},
   "outputs": [],
   "source": []
  },
  {
   "cell_type": "markdown",
   "metadata": {},
   "source": [
    "# Good Luck "
   ]
  },
  {
   "cell_type": "code",
   "execution_count": null,
   "metadata": {},
   "outputs": [],
   "source": []
  }
 ],
 "metadata": {
  "kernelspec": {
   "display_name": "Python 3 (ipykernel)",
   "language": "python",
   "name": "python3"
  },
  "language_info": {
   "codemirror_mode": {
    "name": "ipython",
    "version": 3
   },
   "file_extension": ".py",
   "mimetype": "text/x-python",
   "name": "python",
   "nbconvert_exporter": "python",
   "pygments_lexer": "ipython3",
   "version": "3.11.5"
  }
 },
 "nbformat": 4,
 "nbformat_minor": 2
}

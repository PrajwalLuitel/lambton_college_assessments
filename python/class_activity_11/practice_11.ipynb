{
 "cells": [
  {
   "cell_type": "markdown",
   "metadata": {},
   "source": [
    "### Prajwal Luitel (C0927658)"
   ]
  },
  {
   "cell_type": "markdown",
   "metadata": {},
   "source": [
    "#### 10-1. Learning Python: Open a blank file in your text editor and write a few lines summarizing what you've learned about Python so far. Start each line with the phrase In Python you can. ... Save the file as learning_python.txt in the same directory as your exercises from this chapter. Write a program that reads the file and prints what you wrote three times. Print the contents once by reading in the entire file, once by looping over the file object, and once by storing the lines in a list and then working with them outside the with block."
   ]
  },
  {
   "cell_type": "code",
   "execution_count": 3,
   "metadata": {},
   "outputs": [
    {
     "name": "stdout",
     "output_type": "stream",
     "text": [
      "Hello World !!\n",
      "\n",
      "I've done quite a lot of coding and learnt a lot in python.\n",
      "I've learnt dictionaries, lists, tuples, sets, strings, integers, and many more.\n",
      "Now, I have also learnt file handling and thereby I am practicing it!!\n"
     ]
    }
   ],
   "source": [
    "# Displaying it the first way, by reading all at once\n",
    "with open(\"learning_python.txt\") as learning_python:\n",
    "    print(learning_python.read())\n",
    "\n",
    "learning_python.close()"
   ]
  },
  {
   "cell_type": "code",
   "execution_count": 4,
   "metadata": {},
   "outputs": [
    {
     "name": "stdout",
     "output_type": "stream",
     "text": [
      "Line number 0 :Hello World !!\n",
      "\n",
      "Line number 1 :\n",
      "\n",
      "Line number 2 :I've done quite a lot of coding and learnt a lot in python.\n",
      "\n",
      "Line number 3 :I've learnt dictionaries, lists, tuples, sets, strings, integers, and many more.\n",
      "\n",
      "Line number 4 :Now, I have also learnt file handling and thereby I am practicing it!!\n"
     ]
    }
   ],
   "source": [
    "# Now, reading by looping over the file object\n",
    "with open(\"learning_python.txt\") as learning_python:\n",
    "    for index, line in enumerate(learning_python):\n",
    "        print(f\"Line number {index} :{line}\")\n",
    "learning_python.close()"
   ]
  },
  {
   "cell_type": "code",
   "execution_count": 6,
   "metadata": {},
   "outputs": [
    {
     "name": "stdout",
     "output_type": "stream",
     "text": [
      "Type is : <class 'list'>\n",
      "Line number 0 :Hello World !!\n",
      "\n",
      "Line number 1 :\n",
      "\n",
      "Line number 2 :I've done quite a lot of coding and learnt a lot in python.\n",
      "\n",
      "Line number 3 :I've learnt dictionaries, lists, tuples, sets, strings, integers, and many more.\n",
      "\n",
      "Line number 4 :Now, I have also learnt file handling and thereby I am practicing it!!\n"
     ]
    }
   ],
   "source": [
    "# Now, reading by creating a list of every line in the file\n",
    "with open(\"learning_python.txt\") as learning_python:\n",
    "    my_list = learning_python.readlines()\n",
    "\n",
    "    print(f\"Type is : {type(my_list)}\")\n",
    "\n",
    "learning_python.close()\n",
    "for index, item in enumerate(my_list):\n",
    "    print(f\"Line number {index} :{item}\")\n",
    "\n"
   ]
  },
  {
   "cell_type": "markdown",
   "metadata": {},
   "source": [
    "#### 10-2. Learning C: You can use the replace() method to replace any word in a string with a different word. Here's a quick example showing how to replace 'dog' with 'cat' in a sentence:\n",
    "### >>> message = \"I really like dogs.\"\n",
    "### >>> message.replace('dog', 'cat')\n",
    "### 'I really like cats.'\n",
    "#### Read in each line from the file you just created, learning_python.txt, and replace the word Python with the name of another language, such as C. Print each modified line to the screen."
   ]
  },
  {
   "cell_type": "code",
   "execution_count": 7,
   "metadata": {},
   "outputs": [
    {
     "name": "stdout",
     "output_type": "stream",
     "text": [
      "Line number 2 contains python, now the line is: I've done quite a lot of coding and learnt a lot in C.\n",
      "\n"
     ]
    }
   ],
   "source": [
    "# Now, reading by creating a list of every line in the file\n",
    "with open(\"learning_python.txt\") as learning_python:\n",
    "    my_list = learning_python.readlines()\n",
    "    # Iterating through the list of lines\n",
    "    for index, item in enumerate(my_list):\n",
    "        # Checking if python exists and replacing it with C\n",
    "        if \"python\" in item:\n",
    "            print(f\"Line number {index} contains python, now the line is: {item.replace('python', 'C')}\")\n",
    "# Closing the file\n",
    "learning_python.close()"
   ]
  },
  {
   "cell_type": "markdown",
   "metadata": {},
   "source": [
    "#### 10-3. Guest: Write a program that prompts the user for their name. When they respond, write their name to a file called guest. txt."
   ]
  },
  {
   "cell_type": "code",
   "execution_count": 8,
   "metadata": {},
   "outputs": [],
   "source": [
    "# Receiving input from the user\n",
    "name = input(\"Please enter your name: \")\n",
    "\n",
    "# Opening the file\n",
    "with open(\"guest.txt\", \"w\") as guest:\n",
    "    # Writing in file\n",
    "    guest.write(name)\n",
    "# Closing the file\n",
    "guest.close()"
   ]
  },
  {
   "cell_type": "markdown",
   "metadata": {},
   "source": [
    "It was done successfully !!"
   ]
  },
  {
   "cell_type": "markdown",
   "metadata": {},
   "source": [
    "#### 10-4. Guest Book: Write a while loop that prompts users for their name. When they enter their name, print a greeting to the screen and add a line recording their visit in a file called guest_book.txt. Make sure each entry appears on a new line in the file."
   ]
  },
  {
   "cell_type": "code",
   "execution_count": 11,
   "metadata": {},
   "outputs": [
    {
     "name": "stdout",
     "output_type": "stream",
     "text": [
      "Prajwal Luitel\n",
      "Samridhi Parajuli\n",
      "Deeplab Acharya\n",
      "Aayush Parajuli\n",
      "Anughra Kumar Nepal\n",
      "\n"
     ]
    }
   ],
   "source": [
    "users = 0\n",
    "# Opening the file\n",
    "with open(\"guest.txt\", \"a\") as guest:\n",
    "    while users < 5:\n",
    "        name = input(\"Please enter your name: \")\n",
    "        users += 1\n",
    "        # Writing in file\n",
    "        guest.write(name+\"\\n\")\n",
    "\n",
    "guest.close()\n",
    "\n",
    "# Checking the content of the file\n",
    "with open(\"guest.txt\") as guest:\n",
    "    print(guest.read())\n",
    "\n",
    "guest.close()"
   ]
  },
  {
   "cell_type": "markdown",
   "metadata": {},
   "source": [
    "#### 10-5. Programming Poll: Write a while loop that asks people why they like programming. Each time someone enters a reason, add their reason to a file that stores all the responses."
   ]
  },
  {
   "cell_type": "code",
   "execution_count": 12,
   "metadata": {},
   "outputs": [
    {
     "name": "stdout",
     "output_type": "stream",
     "text": [
      "I love computer logics\n",
      "I don't know\n",
      "I lose track of time\n",
      "I am really into technology\n",
      "I think AI is gonna take over\n",
      "\n"
     ]
    }
   ],
   "source": [
    "users = 0\n",
    "# Opening the file\n",
    "with open(\"programming.txt\", \"a\") as programming:\n",
    "    while users < 5:\n",
    "        response = input(\"Why do you like programming? \")\n",
    "        users += 1\n",
    "        # Writing in file\n",
    "        programming.write(response+\"\\n\")\n",
    "programming.close()\n",
    "\n",
    "# Checking the content of the file\n",
    "with open(\"programming.txt\") as programming:\n",
    "    print(programming.read())\n",
    "programming.close()\n"
   ]
  },
  {
   "cell_type": "markdown",
   "metadata": {},
   "source": [
    "#### Interesting task \n",
    " \n",
    "#### Create a file called credentials that contains rows including username and password of various users  (like the example below). \n",
    " \n",
    "#### Username:  user1 , Password: password1 \n",
    "#### Username:  user2 , Password: password2 \n",
    "#### Username:  John, Password: JonPa$$1 \n",
    " \n",
    "#### Then write a python program that ask for the user and password (as for of input) and then return “User authenticated” if the username/password is found in the file and return “User not authenticated” if a matching username AND password is not present (remember, even if user matches, but password doesn’t match or vise versa, we can not authenticate the user). "
   ]
  },
  {
   "cell_type": "code",
   "execution_count": 17,
   "metadata": {},
   "outputs": [
    {
     "name": "stdout",
     "output_type": "stream",
     "text": [
      "Your username or password is incorrect !! Not able to Authenticate !!\n"
     ]
    }
   ],
   "source": [
    "# Getting username and password from the user\n",
    "username = input(\"Please enter your username: \")\n",
    "password = input(\"Please enter your password: \")\n",
    "\n",
    "# Opening the file to check the credentials\n",
    "with open(\"credentials.txt\") as credentials:\n",
    "    not_found_flag = True\n",
    "    # Iterating throught the credentials\n",
    "    for credential in credentials:\n",
    "        # matching the username and password from the data to the user input\n",
    "        if username == credential.split(\",\")[0].strip().split(\":\")[1].strip() and password == credential.split(\",\")[1].strip().split(\":\")[1].strip():\n",
    "            not_found_flag = False\n",
    "            print(\"User authenticated !!\")\n",
    "    # If the user and password combination isn't found, we return a message saying unable to authenticate\n",
    "    if not_found_flag:\n",
    "        print(\"Your username or password is incorrect !! Not able to Authenticate !!\")        \n",
    "# Closing the file\n",
    "credentials.close() "
   ]
  }
 ],
 "metadata": {
  "kernelspec": {
   "display_name": "Python 3",
   "language": "python",
   "name": "python3"
  },
  "language_info": {
   "codemirror_mode": {
    "name": "ipython",
    "version": 3
   },
   "file_extension": ".py",
   "mimetype": "text/x-python",
   "name": "python",
   "nbconvert_exporter": "python",
   "pygments_lexer": "ipython3",
   "version": "3.11.5"
  }
 },
 "nbformat": 4,
 "nbformat_minor": 2
}

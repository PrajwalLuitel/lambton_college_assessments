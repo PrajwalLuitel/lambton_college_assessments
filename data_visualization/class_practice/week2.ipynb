{
 "cells": [
  {
   "cell_type": "markdown",
   "metadata": {},
   "source": [
    "# Data Visualization with Python"
   ]
  },
  {
   "cell_type": "code",
   "execution_count": 2,
   "metadata": {},
   "outputs": [],
   "source": [
    "import pandas as pd\n",
    "import matplotlib.pyplot as plt\n",
    "\n",
    "%matplotlib inline\n"
   ]
  },
  {
   "cell_type": "code",
   "execution_count": 3,
   "metadata": {},
   "outputs": [
    {
     "data": {
      "text/html": [
       "<div>\n",
       "<style scoped>\n",
       "    .dataframe tbody tr th:only-of-type {\n",
       "        vertical-align: middle;\n",
       "    }\n",
       "\n",
       "    .dataframe tbody tr th {\n",
       "        vertical-align: top;\n",
       "    }\n",
       "\n",
       "    .dataframe thead th {\n",
       "        text-align: right;\n",
       "    }\n",
       "</style>\n",
       "<table border=\"1\" class=\"dataframe\">\n",
       "  <thead>\n",
       "    <tr style=\"text-align: right;\">\n",
       "      <th></th>\n",
       "      <th>customer_id</th>\n",
       "      <th>id</th>\n",
       "      <th>txn_type</th>\n",
       "      <th>txn_total</th>\n",
       "      <th>Customers</th>\n",
       "      <th>Products</th>\n",
       "      <th>Province</th>\n",
       "      <th>Relationship</th>\n",
       "      <th>Category</th>\n",
       "    </tr>\n",
       "  </thead>\n",
       "  <tbody>\n",
       "    <tr>\n",
       "      <th>0</th>\n",
       "      <td>1001</td>\n",
       "      <td>1</td>\n",
       "      <td>Debit</td>\n",
       "      <td>165.78</td>\n",
       "      <td>Johnny Awesome</td>\n",
       "      <td>3</td>\n",
       "      <td>ON</td>\n",
       "      <td>1</td>\n",
       "      <td>wealth</td>\n",
       "    </tr>\n",
       "    <tr>\n",
       "      <th>1</th>\n",
       "      <td>1001</td>\n",
       "      <td>2</td>\n",
       "      <td>Credit</td>\n",
       "      <td>42.10</td>\n",
       "      <td>Johnny Awesome</td>\n",
       "      <td>3</td>\n",
       "      <td>ON</td>\n",
       "      <td>1</td>\n",
       "      <td>wealth</td>\n",
       "    </tr>\n",
       "    <tr>\n",
       "      <th>2</th>\n",
       "      <td>1001</td>\n",
       "      <td>4</td>\n",
       "      <td>Credit</td>\n",
       "      <td>103.03</td>\n",
       "      <td>Johnny Awesome</td>\n",
       "      <td>3</td>\n",
       "      <td>ON</td>\n",
       "      <td>1</td>\n",
       "      <td>wealth</td>\n",
       "    </tr>\n",
       "    <tr>\n",
       "      <th>3</th>\n",
       "      <td>1001</td>\n",
       "      <td>5</td>\n",
       "      <td>Credit</td>\n",
       "      <td>56.60</td>\n",
       "      <td>Johnny Awesome</td>\n",
       "      <td>3</td>\n",
       "      <td>ON</td>\n",
       "      <td>1</td>\n",
       "      <td>wealth</td>\n",
       "    </tr>\n",
       "    <tr>\n",
       "      <th>4</th>\n",
       "      <td>1002</td>\n",
       "      <td>6</td>\n",
       "      <td>Debit</td>\n",
       "      <td>214.34</td>\n",
       "      <td>Bob Marley</td>\n",
       "      <td>4</td>\n",
       "      <td>ON</td>\n",
       "      <td>1</td>\n",
       "      <td>personal_banking</td>\n",
       "    </tr>\n",
       "  </tbody>\n",
       "</table>\n",
       "</div>"
      ],
      "text/plain": [
       "   customer_id  id txn_type  txn_total       Customers  Products Province  \\\n",
       "0         1001   1    Debit     165.78  Johnny Awesome         3       ON   \n",
       "1         1001   2   Credit      42.10  Johnny Awesome         3       ON   \n",
       "2         1001   4   Credit     103.03  Johnny Awesome         3       ON   \n",
       "3         1001   5   Credit      56.60  Johnny Awesome         3       ON   \n",
       "4         1002   6    Debit     214.34      Bob Marley         4       ON   \n",
       "\n",
       "   Relationship          Category  \n",
       "0             1            wealth  \n",
       "1             1            wealth  \n",
       "2             1            wealth  \n",
       "3             1            wealth  \n",
       "4             1  personal_banking  "
      ]
     },
     "execution_count": 3,
     "metadata": {},
     "output_type": "execute_result"
    }
   ],
   "source": [
    "df = pd.read_csv(\"./customers.csv\")\n",
    "df.head()"
   ]
  },
  {
   "cell_type": "markdown",
   "metadata": {},
   "source": [
    "## Boxplots"
   ]
  },
  {
   "cell_type": "code",
   "execution_count": 8,
   "metadata": {},
   "outputs": [
    {
     "data": {
      "image/png": "[encoded data removed]",
      "text/plain": [
       "<Figure size 640x480 with 1 Axes>"
      ]
     },
     "metadata": {},
     "output_type": "display_data"
    }
   ],
   "source": [
    "plt.boxplot(df[\"txn_total\"])\n",
    "plt.title(\"Box plot of Txn_amounts\")\n",
    "plt.xlabel(\"Txn_amt\")\n",
    "plt.ylabel(\"Ranges\")\n",
    "plt.show()"
   ]
  },
  {
   "cell_type": "code",
   "execution_count": 5,
   "metadata": {},
   "outputs": [
    {
     "data": {
      "text/plain": [
       "count     34.000000\n",
       "mean     207.296765\n",
       "std      124.283187\n",
       "min        5.920000\n",
       "25%      106.195000\n",
       "50%      220.115000\n",
       "75%      273.582500\n",
       "max      449.390000\n",
       "Name: txn_total, dtype: float64"
      ]
     },
     "execution_count": 5,
     "metadata": {},
     "output_type": "execute_result"
    }
   ],
   "source": [
    "df[\"txn_total\"].describe()"
   ]
  },
  {
   "cell_type": "code",
   "execution_count": null,
   "metadata": {},
   "outputs": [],
   "source": []
  }
 ],
 "metadata": {
  "kernelspec": {
   "display_name": "Python 3",
   "language": "python",
   "name": "python3"
  },
  "language_info": {
   "codemirror_mode": {
    "name": "ipython",
    "version": 3
   },
   "file_extension": ".py",
   "mimetype": "text/x-python",
   "name": "python",
   "nbconvert_exporter": "python",
   "pygments_lexer": "ipython3",
   "version": "3.11.5"
  }
 },
 "nbformat": 4,
 "nbformat_minor": 2
}

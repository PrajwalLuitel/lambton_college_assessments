{
 "cells": [
  {
   "cell_type": "markdown",
   "metadata": {},
   "source": [
    "## Advanced python programming for AI and ML\n",
    "#### Prajwal Luitel (C0927658)\n",
    "### Week 4"
   ]
  },
  {
   "cell_type": "markdown",
   "metadata": {},
   "source": [
    "#### Write a Python program to find the single element in a list where every element appears multiple times except for one.\n",
    "#### Input : [5, 3, 4, 3, 5, 5, 3],\n",
    "#### Output : 4"
   ]
  },
  {
   "cell_type": "code",
   "execution_count": 1,
   "metadata": {},
   "outputs": [],
   "source": [
    "def find_one_unique(array:list[int])-> int:\n",
    "    \"\"\"A function to find one unique number from the given array.\n",
    "    \n",
    "    Arguments:\n",
    "    array: list[int] : the array of numbers\n",
    "    \n",
    "    Returns:\n",
    "    el: int : the unique number in the given array\n",
    "    \"\"\"\n",
    "    my_set:set = set(array)\n",
    "\n",
    "    for el in my_set:\n",
    "        if array.count(el) == 1:\n",
    "            return el"
   ]
  },
  {
   "cell_type": "code",
   "execution_count": 2,
   "metadata": {},
   "outputs": [
    {
     "data": {
      "text/plain": [
       "4"
      ]
     },
     "execution_count": 2,
     "metadata": {},
     "output_type": "execute_result"
    }
   ],
   "source": [
    "find_one_unique([5,3,4,3,5,5,3])"
   ]
  },
  {
   "cell_type": "code",
   "execution_count": 3,
   "metadata": {},
   "outputs": [
    {
     "data": {
      "text/plain": [
       "7"
      ]
     },
     "execution_count": 3,
     "metadata": {},
     "output_type": "execute_result"
    }
   ],
   "source": [
    "find_one_unique([5,7,9,9,9,5])"
   ]
  },
  {
   "cell_type": "markdown",
   "metadata": {},
   "source": [
    "#### Write a Python program to compute and return the square root of a given 'integer'. \n",
    "#### Input : 16\n",
    "#### Output : 4\n",
    "#### Note : The returned value will be an 'integer', do not use square root functions from python.\n",
    "\n"
   ]
  },
  {
   "cell_type": "code",
   "execution_count": 4,
   "metadata": {},
   "outputs": [],
   "source": [
    "def find_square_root(number:int)->int:\n",
    "    \"\"\"\n",
    "    A function to find the square root of the given number.\n",
    "    \n",
    "    Arguments:\n",
    "    number: int : the number whose square root is to be found\n",
    "    \n",
    "    Returns:\n",
    "    i: int : the square root of the number (0 if it has no whole square root)\n",
    "    \"\"\"\n",
    "    half:int = (number//2)+1\n",
    "\n",
    "    for i in range(half+1):\n",
    "        if i**2 == number:\n",
    "            return i\n",
    "    \n",
    "    return 0"
   ]
  },
  {
   "cell_type": "code",
   "execution_count": 5,
   "metadata": {},
   "outputs": [
    {
     "data": {
      "text/plain": [
       "8"
      ]
     },
     "execution_count": 5,
     "metadata": {},
     "output_type": "execute_result"
    }
   ],
   "source": [
    "find_square_root(64)"
   ]
  },
  {
   "cell_type": "code",
   "execution_count": 6,
   "metadata": {},
   "outputs": [
    {
     "data": {
      "text/plain": [
       "0"
      ]
     },
     "execution_count": 6,
     "metadata": {},
     "output_type": "execute_result"
    }
   ],
   "source": [
    "find_square_root(90)"
   ]
  },
  {
   "cell_type": "code",
   "execution_count": 7,
   "metadata": {},
   "outputs": [
    {
     "data": {
      "text/plain": [
       "2"
      ]
     },
     "execution_count": 7,
     "metadata": {},
     "output_type": "execute_result"
    }
   ],
   "source": [
    "find_square_root(4)"
   ]
  },
  {
   "cell_type": "code",
   "execution_count": null,
   "metadata": {},
   "outputs": [],
   "source": []
  }
 ],
 "metadata": {
  "kernelspec": {
   "display_name": "Python 3",
   "language": "python",
   "name": "python3"
  },
  "language_info": {
   "codemirror_mode": {
    "name": "ipython",
    "version": 3
   },
   "file_extension": ".py",
   "mimetype": "text/x-python",
   "name": "python",
   "nbconvert_exporter": "python",
   "pygments_lexer": "ipython3",
   "version": "3.11.5"
  }
 },
 "nbformat": 4,
 "nbformat_minor": 2
}

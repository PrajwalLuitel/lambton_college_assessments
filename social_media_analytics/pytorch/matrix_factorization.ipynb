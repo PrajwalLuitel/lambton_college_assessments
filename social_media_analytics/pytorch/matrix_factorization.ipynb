{
 "cells": [
  {
   "cell_type": "markdown",
   "id": "4eecf0d4",
   "metadata": {},
   "source": [
    "# Matrix Factorization in PyTorch\n",
    "\n",
    "This notebook demonstrates how to perform matrix factorization using PyTorch. It creates synthetic user-item rating data, defines a matrix factorization model using embedding layers, and trains the model with a simple stochastic gradient descent loop."
   ]
  },
  {
   "cell_type": "code",
   "execution_count": 1,
   "id": "ee5c6f4c",
   "metadata": {},
   "outputs": [
    {
     "name": "stdout",
     "output_type": "stream",
     "text": [
      "Ratings shape: (1000, 1000)\n"
     ]
    }
   ],
   "source": [
    "import numpy as np\n",
    "from scipy.sparse import rand as sprand\n",
    "import torch\n",
    "\n",
    "# Create synthetic ratings data\n",
    "n_users = 1000\n",
    "n_items = 1000\n",
    "\n",
    "# Create a sparse random matrix with 1% density\n",
    "ratings = sprand(n_users, n_items, density=0.01, format=\"csr\")\n",
    "# Replace the non-zero entries with random integer ratings from 1 to 4\n",
    "ratings.data = np.random.randint(1, 5, size=ratings.nnz).astype(np.float64)\n",
    "ratings = ratings.toarray()\n",
    "\n",
    "print(\"Ratings shape:\", ratings.shape)"
   ]
  },
  {
   "cell_type": "code",
   "execution_count": 2,
   "id": "71d4cde2",
   "metadata": {},
   "outputs": [
    {
     "name": "stdout",
     "output_type": "stream",
     "text": [
      "MatrixFactorization(\n",
      "  (user_factors): Embedding(1000, 20, sparse=True)\n",
      "  (item_factors): Embedding(1000, 20, sparse=True)\n",
      ")\n"
     ]
    }
   ],
   "source": [
    "import torch.nn as nn\n",
    "\n",
    "class MatrixFactorization(nn.Module):\n",
    "    def __init__(self, n_users, n_items, n_factors=20):\n",
    "        super(MatrixFactorization, self).__init__()\n",
    "        # User and item embeddings represent the latent factors\n",
    "        self.user_factors = nn.Embedding(n_users, n_factors, sparse=True)\n",
    "        self.item_factors = nn.Embedding(n_items, n_factors, sparse=True)\n",
    "\n",
    "    def forward(self, user, item):\n",
    "        # Dot product of user and item latent vectors\n",
    "        return (self.user_factors(user) * self.item_factors(item)).sum(1)\n",
    "\n",
    "# Instantiate the model\n",
    "model = MatrixFactorization(n_users, n_items, n_factors=20)\n",
    "print(model)"
   ]
  },
  {
   "cell_type": "code",
   "execution_count": 3,
   "id": "16b7d8fa",
   "metadata": {},
   "outputs": [
    {
     "name": "stderr",
     "output_type": "stream",
     "text": [
      "/Library/Frameworks/Python.framework/Versions/3.11/lib/python3.11/site-packages/tqdm/auto.py:21: TqdmWarning: IProgress not found. Please update jupyter and ipywidgets. See https://ipywidgets.readthedocs.io/en/stable/user_install.html\n",
      "  from .autonotebook import tqdm as notebook_tqdm\n"
     ]
    },
    {
     "name": "stdout",
     "output_type": "stream",
     "text": [
      "Total training samples: 10000\n",
      "Training complete.\n"
     ]
    }
   ],
   "source": [
    "# Define the loss function and optimizer\n",
    "loss_func = torch.nn.MSELoss()\n",
    "optimizer = torch.optim.SGD(model.parameters(), lr=1e-6)\n",
    "\n",
    "# Get the indices of the non-zero ratings\n",
    "rows, cols = ratings.nonzero()\n",
    "# Shuffle the non-zero indices\n",
    "p = np.random.permutation(len(rows))\n",
    "rows, cols = rows[p], cols[p]\n",
    "\n",
    "print(f\"Total training samples: {len(rows)}\")\n",
    "\n",
    "# Training loop: iterate over each non-zero rating\n",
    "for row, col in zip(rows, cols):\n",
    "    optimizer.zero_grad()\n",
    "    \n",
    "    # Convert the rating and indices to PyTorch tensors\n",
    "    rating = torch.FloatTensor([ratings[row, col]])\n",
    "    user = torch.LongTensor([row])\n",
    "    item = torch.LongTensor([col])\n",
    "    \n",
    "    # Forward pass: predict the rating\n",
    "    prediction = model(user, item)\n",
    "    \n",
    "    # Compute the loss\n",
    "    loss = loss_func(prediction, rating)\n",
    "    \n",
    "    # Backward pass\n",
    "    loss.backward()\n",
    "    \n",
    "    # Update parameters\n",
    "    optimizer.step()\n",
    "\n",
    "print(\"Training complete.\")"
   ]
  }
 ],
 "metadata": {
  "kernelspec": {
   "display_name": "Python 3",
   "language": "python",
   "name": "python3"
  },
  "language_info": {
   "codemirror_mode": {
    "name": "ipython",
    "version": 3
   },
   "file_extension": ".py",
   "mimetype": "text/x-python",
   "name": "python",
   "nbconvert_exporter": "python",
   "pygments_lexer": "ipython3",
   "version": "3.11.5"
  }
 },
 "nbformat": 4,
 "nbformat_minor": 2
}

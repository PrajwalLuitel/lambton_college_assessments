{
 "cells": [
  {
   "cell_type": "markdown",
   "metadata": {},
   "source": [
    "## Python exercises with if-else, for and while loops. "
   ]
  },
  {
   "cell_type": "markdown",
   "metadata": {},
   "source": [
    "#### Question 1: Print First 10 natural numbers using while loop"
   ]
  },
  {
   "cell_type": "code",
   "execution_count": 2,
   "metadata": {},
   "outputs": [
    {
     "name": "stdout",
     "output_type": "stream",
     "text": [
      "1\n",
      "2\n",
      "3\n",
      "4\n",
      "5\n",
      "6\n",
      "7\n",
      "8\n",
      "9\n",
      "10\n"
     ]
    }
   ],
   "source": [
    "# The beginning of natural numbers is 1\n",
    "num:int = 1\n",
    "\n",
    "# Looping through the natural numbers to 10\n",
    "while num<=10:\n",
    "    # Displaying numbers\n",
    "    print(num)\n",
    "    # Incrementing the number\n",
    "    num += 1"
   ]
  },
  {
   "cell_type": "markdown",
   "metadata": {},
   "source": [
    "#### Question 2: Print the following pattern.\n",
    "```\n",
    "1          1\n",
    "1 2        1\n",
    "1 2 3      1\n",
    "1 2 3 4    1\n",
    "```"
   ]
  },
  {
   "cell_type": "code",
   "execution_count": 29,
   "metadata": {},
   "outputs": [
    {
     "name": "stdout",
     "output_type": "stream",
     "text": [
      "1         1\n",
      "1 2       1\n",
      "1 2 3     1\n",
      "1 2 3 4   1\n"
     ]
    }
   ],
   "source": [
    "# initializing the outer loop\n",
    "for i in range(1,5):\n",
    "    # the inner loop\n",
    "    for j in range(1,i+1):\n",
    "        # displaying the numbers\n",
    "        print(j, end=\" \")\n",
    "    # displaying the 1 after each set of iteration\n",
    "    print(\"  \"*(5-i), end=\"1\\n\")"
   ]
  },
  {
   "cell_type": "markdown",
   "metadata": {},
   "source": [
    "#### Question 3: Accept number from user and calculate the sum of all number between 1 and given\n",
    "#### number.\n",
    "#### Expected output:\n",
    "#### For example, user given 10 so the output should be 55 "
   ]
  },
  {
   "cell_type": "code",
   "execution_count": 9,
   "metadata": {},
   "outputs": [
    {
     "name": "stdout",
     "output_type": "stream",
     "text": [
      "The sum of the number between 1 and 10 is 55\n"
     ]
    }
   ],
   "source": [
    "# accepting input from the user\n",
    "number:int = int(input(\"Please enter a number: \"))\n",
    "# initializing the sum to 0\n",
    "my_sum:int = 0 \n",
    "\n",
    "# Iterating through the elements\n",
    "for i in range(1,number+1):\n",
    "    # Incrementing the sum\n",
    "    my_sum += i\n",
    "\n",
    "# Displaying the result\n",
    "print(f\"The sum of the number between 1 and {number} is {my_sum}\")\n"
   ]
  },
  {
   "cell_type": "markdown",
   "metadata": {},
   "source": [
    "#### Question 4: Print multiplication table of given number.\n",
    "#### Expected output:\n",
    "#### For example, num = 2 so the output should be\n",
    "\n",
    "####    2\n",
    "####    4\n",
    "####    6\n",
    "####    8\n",
    "####    10\n",
    "####    12\n",
    "####    14\n",
    "####    16\n",
    "####    18\n",
    "####    20 "
   ]
  },
  {
   "cell_type": "code",
   "execution_count": 10,
   "metadata": {},
   "outputs": [
    {
     "name": "stdout",
     "output_type": "stream",
     "text": [
      "2 x 1 = 2\n",
      "2 x 2 = 4\n",
      "2 x 3 = 6\n",
      "2 x 4 = 8\n",
      "2 x 5 = 10\n",
      "2 x 6 = 12\n",
      "2 x 7 = 14\n",
      "2 x 8 = 16\n",
      "2 x 9 = 18\n",
      "2 x 10 = 20\n"
     ]
    }
   ],
   "source": [
    "# accepting input from the user\n",
    "number = int(input(\"Enter a number: \"))\n",
    "\n",
    "# Iterating through the loop\n",
    "for i in range(1,11):\n",
    "    # Displaying the multiplication table of the given number\n",
    "    print(f\"{number} x {i} = {number*i}\")"
   ]
  },
  {
   "cell_type": "markdown",
   "metadata": {},
   "source": [
    "#### Question 5: Given a list iterate it and display numbers which are divisible by 5 and if you find number\n",
    "#### greater than 150 stop the loop iteration.\n",
    "#### list1 = [12, 15, 32, 42, 55, 75, 122, 132, 150, 180, 200]\n",
    "#### Expected output:\n",
    "#### 15\n",
    "#### 55\n",
    "#### 75\n",
    "#### 150"
   ]
  },
  {
   "cell_type": "code",
   "execution_count": 11,
   "metadata": {},
   "outputs": [
    {
     "name": "stdout",
     "output_type": "stream",
     "text": [
      "15 is divisible by 5\n",
      "55 is divisible by 5\n",
      "75 is divisible by 5\n",
      "150 is divisible by 5\n"
     ]
    }
   ],
   "source": [
    "# Initializing the example list\n",
    "example_list = [12, 15, 32, 42, 55, 75, 122, 132, 150, 180, 200]\n",
    "\n",
    "# initializing the loop through the list\n",
    "for number in example_list:\n",
    "    # exit condition\n",
    "    if number > 150: break\n",
    "    # Checking for divisibility by 5\n",
    "    if number %5 == 0:\n",
    "        # Displaying the result\n",
    "        print(f\"{number} is divisible by 5\")"
   ]
  },
  {
   "cell_type": "markdown",
   "metadata": {},
   "source": [
    "#### Question 6: Given a number count the total number of digits in a number.\n",
    "#### Expected output:\n",
    "#### For example, the number is 75869, so the output should be 5. "
   ]
  },
  {
   "cell_type": "code",
   "execution_count": 12,
   "metadata": {},
   "outputs": [
    {
     "name": "stdout",
     "output_type": "stream",
     "text": [
      "The number of digits are: 3\n"
     ]
    }
   ],
   "source": [
    "# accepting input from the user\n",
    "number = int(input(\"Enter a number: \"))\n",
    "\n",
    "# Initializing counter\n",
    "counter = 0\n",
    "\n",
    "# Creating condition to count digits\n",
    "while number >0:\n",
    "    # Integer division by 10 and store it (removes last digit)\n",
    "    number //=10\n",
    "    # Increment the counter\n",
    "    counter += 1\n",
    "# Displaying the result\n",
    "print(f\"The number of digits are: {counter}\")"
   ]
  },
  {
   "cell_type": "markdown",
   "metadata": {},
   "source": [
    "#### Question 7: Print the following pattern using for loop. Expected\n",
    "#### output:\n",
    "#### 5 4 3 2 1\n",
    "#### 4 3 2 1\n",
    "#### 3 2 1\n",
    "#### 2 1\n",
    "#### 1 "
   ]
  },
  {
   "cell_type": "code",
   "execution_count": 13,
   "metadata": {},
   "outputs": [
    {
     "name": "stdout",
     "output_type": "stream",
     "text": [
      "5 4 3 2 1 \n",
      "\n",
      "4 3 2 1 \n",
      "\n",
      "3 2 1 \n",
      "\n",
      "2 1 \n",
      "\n",
      "1 \n",
      "\n"
     ]
    }
   ],
   "source": [
    "# Initializing the outer loop\n",
    "for i in range(5,0,-1):\n",
    "    # Initializing the inner loop\n",
    "    for j in range(i,0,-1):\n",
    "        # Displaying numbers\n",
    "        print(j, end=\" \")\n",
    "    # Creating new line\n",
    "    print(\"\\n\")"
   ]
  },
  {
   "cell_type": "markdown",
   "metadata": {},
   "source": [
    "#### Question 8: Reverse the following list using for loop. list\n",
    "#### = [10, 20, 30, 40, 50]\n",
    "#### Expected output:\n",
    "#### 50\n",
    "#### 40\n",
    "#### 30\n",
    "#### 20\n",
    "#### 10 "
   ]
  },
  {
   "cell_type": "code",
   "execution_count": 14,
   "metadata": {},
   "outputs": [
    {
     "name": "stdout",
     "output_type": "stream",
     "text": [
      "50\n",
      "40\n",
      "30\n",
      "20\n",
      "10\n"
     ]
    }
   ],
   "source": [
    "# Initializing an example list\n",
    "example_list = [10,20,30,40,50]\n",
    "\n",
    "# Printing the original list in reverse\n",
    "for element in example_list[::-1]:\n",
    "    print(element)"
   ]
  },
  {
   "cell_type": "markdown",
   "metadata": {},
   "source": [
    "#### Question 9: Display a message “Done” after successful execution of for loop. Expected\n",
    "#### output:\n",
    "#### 0\n",
    "#### 1\n",
    "#### Done! "
   ]
  },
  {
   "cell_type": "code",
   "execution_count": 15,
   "metadata": {},
   "outputs": [
    {
     "name": "stdout",
     "output_type": "stream",
     "text": [
      "0\n",
      "1\n",
      "Done\n"
     ]
    }
   ],
   "source": [
    "# Iterating through a loop\n",
    "for i in range(2):\n",
    "    print(i)\n",
    "# Displaying the done message\n",
    "print(\"Done\")"
   ]
  },
  {
   "cell_type": "markdown",
   "metadata": {},
   "source": [
    "#### Question 10: Display Fibonacci series up to 10 terms.\n",
    "#### Fibonacci sequence: Each number is the sum of the two preceding ones, starting from 0 and 1.\n",
    "#### Expected output:\n",
    "#### Fibonacci sequence:\n",
    "#### 0 1 1 2 3 5 8 13 21 34 "
   ]
  },
  {
   "cell_type": "code",
   "execution_count": 31,
   "metadata": {},
   "outputs": [
    {
     "name": "stdout",
     "output_type": "stream",
     "text": [
      "Fibonacci series: [0, 1, 1, 2, 3, 5, 8, 13, 21, 34]\n"
     ]
    }
   ],
   "source": [
    "# Initializing the first two elements of fibonacci\n",
    "fibonacci = [0,1]\n",
    "\n",
    "# Iterating throught the loop\n",
    "for i in range(8):\n",
    "    # Adding last two numbers and adding to the list\n",
    "    fibonacci.append(fibonacci[i] + fibonacci[i+1])\n",
    "# Displaying the result\n",
    "print(f\"Fibonacci series: {fibonacci}\")"
   ]
  },
  {
   "cell_type": "markdown",
   "metadata": {},
   "source": [
    "#### Question 11: Write a loop to find the factorial of any number.\n",
    "#### Note: The factorial (symbol: !) means to multiply all whole numbers from our chosen number down to 1.\n",
    "#### Examples: Calculate the factorial of 5\n",
    "#### 5! = 5 × 4 × 3 × 2 × 1 = 120 "
   ]
  },
  {
   "cell_type": "code",
   "execution_count": 19,
   "metadata": {},
   "outputs": [
    {
     "name": "stdout",
     "output_type": "stream",
     "text": [
      "The factorial of 5 is 120\n"
     ]
    }
   ],
   "source": [
    "# Getting input from user\n",
    "number = int(input(\"Enter a number: \"))\n",
    "#  Initializing factorial to 1\n",
    "factorial = 1\n",
    "\n",
    "# Checking for 0\n",
    "if number <=1:\n",
    "    factorial = 1 \n",
    "else:\n",
    "    # Calculating the factorial through for loop\n",
    "    for i in range(number,1,-1):\n",
    "        factorial *= i\n",
    "\n",
    "# displaying the output\n",
    "print(f\"The factorial of {number} is {factorial}\")"
   ]
  },
  {
   "cell_type": "markdown",
   "metadata": {},
   "source": [
    "#### Question 12: Python program to display all the prime numbers within a range.\n",
    "#### Note: A Prime Number is a whole number that cannot be made by multiplying other whole numbers.\n",
    "#### Examples:\n",
    "#### 37 is a Prime Number because no other whole numbers multiply together to make it. o 6\n",
    "#### is not a Prime Number because it can be made by 2×3 = 6\n",
    "#### start = 25 end\n",
    "#### = 40\n",
    "#### Expected output:\n",
    "#### Prime numbers between 25 and 40 are:\n",
    "#### 29\n",
    "#### 31\n",
    "#### 37"
   ]
  },
  {
   "cell_type": "code",
   "execution_count": 32,
   "metadata": {},
   "outputs": [
    {
     "name": "stdout",
     "output_type": "stream",
     "text": [
      "The prime numbers between 25 and 40 are: [29, 31, 37]\n"
     ]
    }
   ],
   "source": [
    "# Creating a function that provides a list of prime numbers provided the range\n",
    "def get_primes(start, end):\n",
    "    # Initializing the list\n",
    "    prime_numbers = []\n",
    "    # Iterating through the range\n",
    "    for number in range(start,end+1):\n",
    "        factors = 0 # number of factors = 0 initially\n",
    "        # Iterating for the prime numbers check\n",
    "        for i in range(2,number//2):\n",
    "            # Checking for factors\n",
    "            if  (number % i) == 0:\n",
    "                factors += 1\n",
    "        # If there are no factors except 1 and the number itself, then it is prime, added to the list\n",
    "        if factors == 0:\n",
    "            prime_numbers.append(number)\n",
    "    return prime_numbers\n",
    "\n",
    "# Calling the function and displaying the result\n",
    "print(f\"The prime numbers between 25 and 40 are: {get_primes(25,40)}\")"
   ]
  }
 ],
 "metadata": {
  "kernelspec": {
   "display_name": "Python 3",
   "language": "python",
   "name": "python3"
  },
  "language_info": {
   "codemirror_mode": {
    "name": "ipython",
    "version": 3
   },
   "file_extension": ".py",
   "mimetype": "text/x-python",
   "name": "python",
   "nbconvert_exporter": "python",
   "pygments_lexer": "ipython3",
   "version": "3.11.5"
  }
 },
 "nbformat": 4,
 "nbformat_minor": 2
}

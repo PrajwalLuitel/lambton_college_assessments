{
 "cells": [
  {
   "cell_type": "markdown",
   "metadata": {},
   "source": [
    "## Advanced python programming for AI and ML\n",
    "#### Prajwal Luitel (C0927658)\n",
    "### Week 11"
   ]
  },
  {
   "cell_type": "markdown",
   "metadata": {},
   "source": [
    "Q1 - You are given two integer arrays nums1 and nums2, sorted in non-decreasing order, and two integers m and n, representing the number of elements in nums1 and nums2 respectively.\n",
    "\n",
    "Merge nums1 and nums2 into a single array sorted in non-decreasing order.\n",
    "\n",
    "The final sorted array should not be returned by the function, but instead be stored inside the array nums1. To accommodate this, nums1 has a length of m + n, where the first m elements denote the elements that should be merged, and the last n elements are set to 0 and should be ignored. nums2 has a length of n.\n",
    "\n",
    "Example 1:\n",
    "\n",
    "Input: nums1 = [1,2,3,0,0,0], m = 3, nums2 = [2,5,6], n = 3\n",
    "\n",
    "Output: [1,2,2,3,5,6]\n",
    "\n",
    "Explanation: The arrays we are merging are [1,2,3] and [2,5,6].\n",
    "\n",
    "The result of the merge is [1,2,2,3,5,6] with the underlined elements coming from nums1."
   ]
  },
  {
   "cell_type": "code",
   "execution_count": 8,
   "metadata": {},
   "outputs": [],
   "source": [
    "def merge_arrays(arr1: list[int], m:int, arr2: list[int], n:int) -> list[int]:\n",
    "    \"\"\"\n",
    "    Returns the merged array from the given arrays and the number of digits from each array.\n",
    "\n",
    "    Args:\n",
    "    arr1 : list[int] : The first array to merge.\n",
    "    m : int : number of numbers from first array.\n",
    "    arr2 : list[int] : The second array to merge.\n",
    "    n : int : number of numbers from second array.\n",
    "\n",
    "    Returns:\n",
    "    merged : list[int] : The merged array.\n",
    "    \"\"\"\n",
    "    merged:list[int] = []\n",
    "    pointer1 = 0\n",
    "    pointer2 = 0\n",
    "\n",
    "    while pointer1 < m or pointer2 < n:\n",
    "        if pointer1 >= m:\n",
    "            merged.append(arr2[pointer2])\n",
    "            pointer2 += 1\n",
    "        elif pointer2 >= n:\n",
    "            merged.append(arr1[pointer1])\n",
    "            pointer1 += 1\n",
    "\n",
    "        else:\n",
    "            if arr1[pointer1] <= arr2[pointer2]:\n",
    "                merged.append(arr1[pointer1])\n",
    "                pointer1 += 1\n",
    "            else:\n",
    "                merged.append(arr2[pointer2])\n",
    "                pointer2 += 1\n",
    "\n",
    "    return merged"
   ]
  },
  {
   "cell_type": "code",
   "execution_count": 9,
   "metadata": {},
   "outputs": [
    {
     "data": {
      "text/plain": [
       "[1, 2, 2, 3, 5, 6]"
      ]
     },
     "execution_count": 9,
     "metadata": {},
     "output_type": "execute_result"
    }
   ],
   "source": [
    "merge_arrays([1,2,3,0,0,0],3, [2,5,6],3)"
   ]
  },
  {
   "cell_type": "markdown",
   "metadata": {},
   "source": [
    "Q2- Given an input string s and a pattern p, implement regular expression matching with support for '.' and '*' where:\n",
    "\n",
    "'.' Matches any single character.​​​​\n",
    "'*' Matches zero or more of the preceding element.\n",
    "The matching should cover the entire input string (not partial).\n",
    "\n",
    "Example 1: Input: s = \"aa\", p = \"a\"\n",
    "\n",
    "Output: false\n",
    "\n",
    "Explanation: \"a\" does not match the entire string \"aa\".\n",
    "\n",
    "Example 2: Input: s = \"aa\", p = \"a*\"\n",
    "\n",
    "Output: true\n",
    "\n",
    "Explanation: '*' means zero or more of the preceding element, 'a'. Therefore, by repeating 'a' once, it becomes \"aa\"."
   ]
  },
  {
   "cell_type": "code",
   "execution_count": 10,
   "metadata": {},
   "outputs": [],
   "source": [
    "def pattern_match(s:str, p:str) -> bool:\n",
    "    \"\"\"\n",
    "    Matches a string with the pattern given. Only matches the patterns with . and * symbols.\n",
    "\n",
    "    Args:\n",
    "    s : str : the string to match.\n",
    "    p : str : the pattern to match.\n",
    "\n",
    "    Returns:\n",
    "    matched : bool : True if the string matches the pattern else False.\n",
    "    \"\"\"\n",
    "    if p.isalnum():\n",
    "        if p == s:\n",
    "            return True\n",
    "        else:\n",
    "            return False\n",
    "    \n",
    "    character = \"\"\n",
    "\n",
    "\n",
    "    for el in p:\n",
    "        if el.isalnum(): \n",
    "            character = el\n",
    "        elif el == \".\":\n",
    "            if s[0] == character and len(s) == 2:\n",
    "                return True\n",
    "        elif el == \"*\":\n",
    "            if s[0] == character and s.count(character) == len(s):\n",
    "                return True\n",
    "    \n",
    "    return False"
   ]
  },
  {
   "cell_type": "code",
   "execution_count": 11,
   "metadata": {},
   "outputs": [
    {
     "data": {
      "text/plain": [
       "False"
      ]
     },
     "execution_count": 11,
     "metadata": {},
     "output_type": "execute_result"
    }
   ],
   "source": [
    "pattern_match(\"aa\",\"a\")"
   ]
  },
  {
   "cell_type": "code",
   "execution_count": 12,
   "metadata": {},
   "outputs": [
    {
     "data": {
      "text/plain": [
       "True"
      ]
     },
     "execution_count": 12,
     "metadata": {},
     "output_type": "execute_result"
    }
   ],
   "source": [
    "pattern_match(\"aaaaa\",\"a*\")"
   ]
  },
  {
   "cell_type": "code",
   "execution_count": 13,
   "metadata": {},
   "outputs": [
    {
     "data": {
      "text/plain": [
       "True"
      ]
     },
     "execution_count": 13,
     "metadata": {},
     "output_type": "execute_result"
    }
   ],
   "source": [
    "pattern_match(\"ab\",\"a.\")"
   ]
  },
  {
   "cell_type": "code",
   "execution_count": 14,
   "metadata": {},
   "outputs": [
    {
     "data": {
      "text/plain": [
       "False"
      ]
     },
     "execution_count": 14,
     "metadata": {},
     "output_type": "execute_result"
    }
   ],
   "source": [
    "pattern_match(\"ab\",\"a*\")"
   ]
  },
  {
   "cell_type": "markdown",
   "metadata": {},
   "source": [
    "Q3- A permutation of an array of integers is an arrangement of its members into a sequence or linear order.\n",
    "\n",
    "For example, for arr = [1,2,3], the following are considered permutations of arr: [1,2,3], [1,3,2], [3,1,2], [2,3,1].\n",
    "The next permutation of an array of integers is the next lexicographically greater permutation of its integer. More formally, if all the permutations of the array are sorted in one container according to their lexicographical order, then the next permutation of that array is the permutation that follows it in the sorted container. If such arrangement is not possible, the array must be rearranged as the lowest possible order (i.e., sorted in ascending order).\n",
    "\n",
    "For example, the next permutation of arr = [1,2,3] is [1,3,2].\n",
    "Similarly, the next permutation of arr = [2,3,1] is [3,1,2].\n",
    "While the next permutation of arr = [3,2,1] is [1,2,3] because [3,2,1] does not have a lexicographical larger rearrangement.\n",
    "Given an array of integers nums, find the next permutation of nums.\n",
    "\n",
    "The replacement must be in place and use only constant extra memory.\n",
    "\n",
    " Example 1:\n",
    "\n",
    "Input: nums = [1,2,3]\n",
    "Output: [1,3,2]\n"
   ]
  },
  {
   "cell_type": "code",
   "execution_count": 17,
   "metadata": {},
   "outputs": [],
   "source": [
    "def next_permutation(nums: list[int]) -> list[int]:\n",
    "    \"\"\"\n",
    "    Evaluates the next permutation of a given list and returns the corresponding permutation.\n",
    "\n",
    "    Args:\n",
    "    nums : list[int] : the array for which next permutation is to be evaluated.\n",
    "\n",
    "    Returns:\n",
    "    next_permutation : list[int] : the corresponding permutation of the given list.\n",
    "    \"\"\"\n",
    "\n",
    "\n",
    "    length = len(nums)\n",
    "    \n",
    "    last = -1\n",
    "    for i in range(length - 2, -1, -1):\n",
    "        if nums[i] < nums[i + 1]:\n",
    "            last = i\n",
    "            break\n",
    "    \n",
    "    if last == -1:\n",
    "        nums.reverse()\n",
    "        return nums\n",
    "    \n",
    "    for i in range(length - 1, last, -1):\n",
    "        if nums[i] > nums[last]:\n",
    "            l = i\n",
    "            break\n",
    "    \n",
    "    nums[last], nums[l] = nums[l], nums[last]\n",
    "    nums[last + 1:] = reversed(nums[last + 1:])\n",
    "\n",
    "    return nums\n"
   ]
  },
  {
   "cell_type": "code",
   "execution_count": 18,
   "metadata": {},
   "outputs": [
    {
     "data": {
      "text/plain": [
       "[1, 3, 2]"
      ]
     },
     "execution_count": 18,
     "metadata": {},
     "output_type": "execute_result"
    }
   ],
   "source": [
    "next_permutation([1,2,3])"
   ]
  }
 ],
 "metadata": {
  "kernelspec": {
   "display_name": "Python 3",
   "language": "python",
   "name": "python3"
  },
  "language_info": {
   "codemirror_mode": {
    "name": "ipython",
    "version": 3
   },
   "file_extension": ".py",
   "mimetype": "text/x-python",
   "name": "python",
   "nbconvert_exporter": "python",
   "pygments_lexer": "ipython3",
   "version": "3.11.5"
  }
 },
 "nbformat": 4,
 "nbformat_minor": 2
}

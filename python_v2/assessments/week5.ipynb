{
 "cells": [
  {
   "cell_type": "markdown",
   "metadata": {},
   "source": [
    "## Advanced python programming for AI and ML\n",
    "#### Prajwal Luitel (C0927658)\n",
    "### Week 4"
   ]
  },
  {
   "cell_type": "markdown",
   "metadata": {},
   "source": [
    "#### Write a Python program to find all the numbers from 0-9 from a string:\n",
    "\n",
    "#### input: '89ADFRE41'\n",
    "\n",
    "#### Output :[8941]"
   ]
  },
  {
   "cell_type": "code",
   "execution_count": 5,
   "metadata": {},
   "outputs": [],
   "source": [
    "import re\n",
    "\n",
    "def find_nums(text:str)->list[str]:\n",
    "    \"\"\"\n",
    "    Finds the digits from a given string and returns it as an element of a list.\n",
    "\n",
    "    Arguments:\n",
    "    text: str : the text from which the numbers are to be identified\n",
    "\n",
    "    Returns:\n",
    "    numbers : list[int] : a list containing the numbers in the text as a single element\n",
    "    \"\"\"\n",
    "    all_nums:list = re.findall(\"[0-9]\", text)\n",
    "    numbers:list[int] = [int(\"\".join(all_nums))]\n",
    "\n",
    "    return numbers\n",
    "    "
   ]
  },
  {
   "cell_type": "code",
   "execution_count": 6,
   "metadata": {},
   "outputs": [
    {
     "data": {
      "text/plain": [
       "[8941]"
      ]
     },
     "execution_count": 6,
     "metadata": {},
     "output_type": "execute_result"
    }
   ],
   "source": [
    "find_nums(\"89ADFRE41\")"
   ]
  },
  {
   "cell_type": "markdown",
   "metadata": {},
   "source": [
    "#### Write a Python program to find two elements once in a list where every element appears exactly n times in the list. \n",
    "#### Input : [1, 2, 1, 3, 2, 5], 2    (n=2)\n",
    "#### Output :[5, 3]\n",
    "\n"
   ]
  },
  {
   "cell_type": "code",
   "execution_count": 16,
   "metadata": {},
   "outputs": [],
   "source": [
    "def find_two_once(array:list[int], n:int)->list[int]:\n",
    "    \"\"\"\n",
    "    Finds two elements which appear once in a list where every other element appears n times.\n",
    "\n",
    "    Arguments:\n",
    "    array: list[int] : the array which contains integers\n",
    "    n: int : the frequency of all the numbers except two numbers\n",
    "\n",
    "    Returns:\n",
    "    appears_once : list[int] : a list containing the two numbers which appear just once.\n",
    "    \"\"\"\n",
    "\n",
    "    # Sorting the array to easily count the frequency\n",
    "    array.sort()\n",
    "    length:int = len(array)\n",
    "    i:int = 0\n",
    "    appears_once:list[int] = []\n",
    "\n",
    "    # If the array[i] and array[i+n-1] are equal, they appear n times, else not. If the single element appears at end of array, indexerror occurrs, so handling it with try/except block\n",
    "    while i<length:\n",
    "        try:\n",
    "            if array[i] == array[i+n-1]:\n",
    "                i += n\n",
    "            else:\n",
    "                raise IndexError\n",
    "\n",
    "        except IndexError:\n",
    "            appears_once.append(array[i])\n",
    "            i += 1\n",
    "    \n",
    "    return appears_once"
   ]
  },
  {
   "cell_type": "code",
   "execution_count": 17,
   "metadata": {},
   "outputs": [
    {
     "data": {
      "text/plain": [
       "[3, 5]"
      ]
     },
     "execution_count": 17,
     "metadata": {},
     "output_type": "execute_result"
    }
   ],
   "source": [
    "find_two_once([1,2,1,3,2,5], 2)"
   ]
  },
  {
   "cell_type": "code",
   "execution_count": 18,
   "metadata": {},
   "outputs": [
    {
     "data": {
      "text/plain": [
       "[7, 9]"
      ]
     },
     "execution_count": 18,
     "metadata": {},
     "output_type": "execute_result"
    }
   ],
   "source": [
    "find_two_once([1,1,2,2,4,5,6,6,6,1,2,5,4,5,4,3,3,3,7,9],3)"
   ]
  },
  {
   "cell_type": "markdown",
   "metadata": {},
   "source": [
    "#### Write a Python program to reverse the digits of an integer. \n",
    "#### Input : 234\n",
    "#### Input : -234\n",
    "#### Output: 432\n",
    "#### Output : -432"
   ]
  },
  {
   "cell_type": "code",
   "execution_count": 19,
   "metadata": {},
   "outputs": [],
   "source": [
    "def reverse_digits(number:int)->int:\n",
    "    \"\"\"\n",
    "    Reverses the digits of an integer irrespective of it's sign (+ve or -ve)\n",
    "\n",
    "    Arguments:\n",
    "    number: int : the number which is to be reversed\n",
    "\n",
    "    Returns:\n",
    "    reversed_with_sign : int : a reverse of the provided number\n",
    "    \"\"\"\n",
    "\n",
    "    # storing the sign in a variable\n",
    "    sign:str = \"-\" if str(number)[0]==\"-\" else \"\"\n",
    "    # removing the sign\n",
    "    absolute_number:int = abs(number)\n",
    "    reversed_number:str = \"\"\n",
    "    # reversing using math\n",
    "    while absolute_number >0:\n",
    "        reversed_number += str(absolute_number%10)\n",
    "        absolute_number //= 10\n",
    "    # adding the sign\n",
    "    reversed_with_sign = int(sign+reversed_number)\n",
    "\n",
    "    return reversed_with_sign\n",
    "    \n"
   ]
  },
  {
   "cell_type": "code",
   "execution_count": 20,
   "metadata": {},
   "outputs": [
    {
     "data": {
      "text/plain": [
       "54321"
      ]
     },
     "execution_count": 20,
     "metadata": {},
     "output_type": "execute_result"
    }
   ],
   "source": [
    "reverse_digits(12345)"
   ]
  },
  {
   "cell_type": "code",
   "execution_count": 21,
   "metadata": {},
   "outputs": [
    {
     "data": {
      "text/plain": [
       "-12345"
      ]
     },
     "execution_count": 21,
     "metadata": {},
     "output_type": "execute_result"
    }
   ],
   "source": [
    "reverse_digits(-54321)"
   ]
  }
 ],
 "metadata": {
  "kernelspec": {
   "display_name": "Python 3",
   "language": "python",
   "name": "python3"
  },
  "language_info": {
   "codemirror_mode": {
    "name": "ipython",
    "version": 3
   },
   "file_extension": ".py",
   "mimetype": "text/x-python",
   "name": "python",
   "nbconvert_exporter": "python",
   "pygments_lexer": "ipython3",
   "version": "3.11.5"
  }
 },
 "nbformat": 4,
 "nbformat_minor": 2
}

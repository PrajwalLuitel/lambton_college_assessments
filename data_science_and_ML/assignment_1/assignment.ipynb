{
 "cells": [
  {
   "cell_type": "markdown",
   "metadata": {},
   "source": [
    "## Assignment -1 \n",
    "### Data Science and Machine Learning AML 1114_2\n",
    "\n",
    "##### Prajwal Luitel (C0927658)"
   ]
  },
  {
   "cell_type": "markdown",
   "metadata": {},
   "source": [
    "##\n",
    "##\n",
    "## (I) Explore the data:\n",
    "#### Q1. Find the dimensions of the DF. Make the colnames lowercase.\n"
   ]
  },
  {
   "cell_type": "code",
   "execution_count": 1,
   "metadata": {},
   "outputs": [
    {
     "name": "stderr",
     "output_type": "stream",
     "text": [
      "/var/folders/6x/_cgtd_2j2qj3m9pv_1lyx7040000gp/T/ipykernel_39336/1362650638.py:5: DtypeWarning: Columns (7) have mixed types. Specify dtype option on import or set low_memory=False.\n",
      "  fires_df = pd.read_csv(\"fires.csv\")\n"
     ]
    },
    {
     "data": {
      "text/html": [
       "<div>\n",
       "<style scoped>\n",
       "    .dataframe tbody tr th:only-of-type {\n",
       "        vertical-align: middle;\n",
       "    }\n",
       "\n",
       "    .dataframe tbody tr th {\n",
       "        vertical-align: top;\n",
       "    }\n",
       "\n",
       "    .dataframe thead th {\n",
       "        text-align: right;\n",
       "    }\n",
       "</style>\n",
       "<table border=\"1\" class=\"dataframe\">\n",
       "  <thead>\n",
       "    <tr style=\"text-align: right;\">\n",
       "      <th></th>\n",
       "      <th>FIRE_NAME</th>\n",
       "      <th>FIRE_SIZE</th>\n",
       "      <th>STATE</th>\n",
       "      <th>LATITUDE</th>\n",
       "      <th>LONGITUDE</th>\n",
       "      <th>FIRE_YEAR</th>\n",
       "      <th>discovery_date</th>\n",
       "      <th>contain_date</th>\n",
       "    </tr>\n",
       "  </thead>\n",
       "  <tbody>\n",
       "    <tr>\n",
       "      <th>0</th>\n",
       "      <td>FOUNTAIN</td>\n",
       "      <td>0.10</td>\n",
       "      <td>CA</td>\n",
       "      <td>40.036944</td>\n",
       "      <td>-121.005833</td>\n",
       "      <td>2005</td>\n",
       "      <td>2005-02-02 00:00:00</td>\n",
       "      <td>2005-02-02 00:00:00</td>\n",
       "    </tr>\n",
       "    <tr>\n",
       "      <th>1</th>\n",
       "      <td>PIGEON</td>\n",
       "      <td>0.25</td>\n",
       "      <td>CA</td>\n",
       "      <td>38.933056</td>\n",
       "      <td>-120.404444</td>\n",
       "      <td>2004</td>\n",
       "      <td>2004-05-12 00:00:00</td>\n",
       "      <td>2004-05-12 00:00:00</td>\n",
       "    </tr>\n",
       "    <tr>\n",
       "      <th>2</th>\n",
       "      <td>SLACK</td>\n",
       "      <td>0.10</td>\n",
       "      <td>CA</td>\n",
       "      <td>38.984167</td>\n",
       "      <td>-120.735556</td>\n",
       "      <td>2004</td>\n",
       "      <td>2004-05-31 00:00:00</td>\n",
       "      <td>2004-05-31 00:00:00</td>\n",
       "    </tr>\n",
       "    <tr>\n",
       "      <th>3</th>\n",
       "      <td>DEER</td>\n",
       "      <td>0.10</td>\n",
       "      <td>CA</td>\n",
       "      <td>38.559167</td>\n",
       "      <td>-119.913333</td>\n",
       "      <td>2004</td>\n",
       "      <td>2004-06-28 00:00:00</td>\n",
       "      <td>2004-07-03 00:00:00</td>\n",
       "    </tr>\n",
       "    <tr>\n",
       "      <th>4</th>\n",
       "      <td>STEVENOT</td>\n",
       "      <td>0.10</td>\n",
       "      <td>CA</td>\n",
       "      <td>38.559167</td>\n",
       "      <td>-119.933056</td>\n",
       "      <td>2004</td>\n",
       "      <td>2004-06-28 00:00:00</td>\n",
       "      <td>2004-07-03 00:00:00</td>\n",
       "    </tr>\n",
       "  </tbody>\n",
       "</table>\n",
       "</div>"
      ],
      "text/plain": [
       "  FIRE_NAME  FIRE_SIZE STATE   LATITUDE   LONGITUDE  FIRE_YEAR  \\\n",
       "0  FOUNTAIN       0.10    CA  40.036944 -121.005833       2005   \n",
       "1    PIGEON       0.25    CA  38.933056 -120.404444       2004   \n",
       "2     SLACK       0.10    CA  38.984167 -120.735556       2004   \n",
       "3      DEER       0.10    CA  38.559167 -119.913333       2004   \n",
       "4  STEVENOT       0.10    CA  38.559167 -119.933056       2004   \n",
       "\n",
       "        discovery_date         contain_date  \n",
       "0  2005-02-02 00:00:00  2005-02-02 00:00:00  \n",
       "1  2004-05-12 00:00:00  2004-05-12 00:00:00  \n",
       "2  2004-05-31 00:00:00  2004-05-31 00:00:00  \n",
       "3  2004-06-28 00:00:00  2004-07-03 00:00:00  \n",
       "4  2004-06-28 00:00:00  2004-07-03 00:00:00  "
      ]
     },
     "execution_count": 1,
     "metadata": {},
     "output_type": "execute_result"
    }
   ],
   "source": [
    "# importing the required libraries\n",
    "import pandas as pd\n",
    "\n",
    "# read the dataset\n",
    "fires_df = pd.read_csv(\"fires.csv\")\n",
    "\n",
    "# Verify the dataset\n",
    "fires_df.head()"
   ]
  },
  {
   "cell_type": "code",
   "execution_count": 2,
   "metadata": {},
   "outputs": [
    {
     "name": "stdout",
     "output_type": "stream",
     "text": [
      "The dataset has 1880465 rows and 8 columns\n"
     ]
    }
   ],
   "source": [
    "# Dimension of dataset:\n",
    "dim = fires_df.shape\n",
    "print(f\"The dataset has {dim[0]} rows and {dim[1]} columns\")"
   ]
  },
  {
   "cell_type": "code",
   "execution_count": 3,
   "metadata": {},
   "outputs": [
    {
     "data": {
      "text/html": [
       "<div>\n",
       "<style scoped>\n",
       "    .dataframe tbody tr th:only-of-type {\n",
       "        vertical-align: middle;\n",
       "    }\n",
       "\n",
       "    .dataframe tbody tr th {\n",
       "        vertical-align: top;\n",
       "    }\n",
       "\n",
       "    .dataframe thead th {\n",
       "        text-align: right;\n",
       "    }\n",
       "</style>\n",
       "<table border=\"1\" class=\"dataframe\">\n",
       "  <thead>\n",
       "    <tr style=\"text-align: right;\">\n",
       "      <th></th>\n",
       "      <th>fire_name</th>\n",
       "      <th>fire_size</th>\n",
       "      <th>state</th>\n",
       "      <th>latitude</th>\n",
       "      <th>longitude</th>\n",
       "      <th>fire_year</th>\n",
       "      <th>discovery_date</th>\n",
       "      <th>contain_date</th>\n",
       "    </tr>\n",
       "  </thead>\n",
       "  <tbody>\n",
       "    <tr>\n",
       "      <th>0</th>\n",
       "      <td>FOUNTAIN</td>\n",
       "      <td>0.10</td>\n",
       "      <td>CA</td>\n",
       "      <td>40.036944</td>\n",
       "      <td>-121.005833</td>\n",
       "      <td>2005</td>\n",
       "      <td>2005-02-02 00:00:00</td>\n",
       "      <td>2005-02-02 00:00:00</td>\n",
       "    </tr>\n",
       "    <tr>\n",
       "      <th>1</th>\n",
       "      <td>PIGEON</td>\n",
       "      <td>0.25</td>\n",
       "      <td>CA</td>\n",
       "      <td>38.933056</td>\n",
       "      <td>-120.404444</td>\n",
       "      <td>2004</td>\n",
       "      <td>2004-05-12 00:00:00</td>\n",
       "      <td>2004-05-12 00:00:00</td>\n",
       "    </tr>\n",
       "    <tr>\n",
       "      <th>2</th>\n",
       "      <td>SLACK</td>\n",
       "      <td>0.10</td>\n",
       "      <td>CA</td>\n",
       "      <td>38.984167</td>\n",
       "      <td>-120.735556</td>\n",
       "      <td>2004</td>\n",
       "      <td>2004-05-31 00:00:00</td>\n",
       "      <td>2004-05-31 00:00:00</td>\n",
       "    </tr>\n",
       "    <tr>\n",
       "      <th>3</th>\n",
       "      <td>DEER</td>\n",
       "      <td>0.10</td>\n",
       "      <td>CA</td>\n",
       "      <td>38.559167</td>\n",
       "      <td>-119.913333</td>\n",
       "      <td>2004</td>\n",
       "      <td>2004-06-28 00:00:00</td>\n",
       "      <td>2004-07-03 00:00:00</td>\n",
       "    </tr>\n",
       "    <tr>\n",
       "      <th>4</th>\n",
       "      <td>STEVENOT</td>\n",
       "      <td>0.10</td>\n",
       "      <td>CA</td>\n",
       "      <td>38.559167</td>\n",
       "      <td>-119.933056</td>\n",
       "      <td>2004</td>\n",
       "      <td>2004-06-28 00:00:00</td>\n",
       "      <td>2004-07-03 00:00:00</td>\n",
       "    </tr>\n",
       "  </tbody>\n",
       "</table>\n",
       "</div>"
      ],
      "text/plain": [
       "  fire_name  fire_size state   latitude   longitude  fire_year  \\\n",
       "0  FOUNTAIN       0.10    CA  40.036944 -121.005833       2005   \n",
       "1    PIGEON       0.25    CA  38.933056 -120.404444       2004   \n",
       "2     SLACK       0.10    CA  38.984167 -120.735556       2004   \n",
       "3      DEER       0.10    CA  38.559167 -119.913333       2004   \n",
       "4  STEVENOT       0.10    CA  38.559167 -119.933056       2004   \n",
       "\n",
       "        discovery_date         contain_date  \n",
       "0  2005-02-02 00:00:00  2005-02-02 00:00:00  \n",
       "1  2004-05-12 00:00:00  2004-05-12 00:00:00  \n",
       "2  2004-05-31 00:00:00  2004-05-31 00:00:00  \n",
       "3  2004-06-28 00:00:00  2004-07-03 00:00:00  \n",
       "4  2004-06-28 00:00:00  2004-07-03 00:00:00  "
      ]
     },
     "execution_count": 3,
     "metadata": {},
     "output_type": "execute_result"
    }
   ],
   "source": [
    "# lowering the case fo the headers of the dataset\n",
    "fires_df.columns = [col.lower() for col in fires_df.columns]\n",
    "\n",
    "# Checking the column names\n",
    "fires_df.head()"
   ]
  },
  {
   "cell_type": "markdown",
   "metadata": {},
   "source": [
    "#### Q2. Rename the column `fire_size` to `acres_burned`."
   ]
  },
  {
   "cell_type": "code",
   "execution_count": 4,
   "metadata": {},
   "outputs": [
    {
     "data": {
      "text/plain": [
       "Index(['fire_name', 'acres_burned', 'state', 'latitude', 'longitude',\n",
       "       'fire_year', 'discovery_date', 'contain_date'],\n",
       "      dtype='object')"
      ]
     },
     "execution_count": 4,
     "metadata": {},
     "output_type": "execute_result"
    }
   ],
   "source": [
    "# Renaming a column\n",
    "fires_df.rename(columns={\"fire_size\":\"acres_burned\"}, inplace=True)\n",
    "\n",
    "# Checking the column name\n",
    "fires_df.columns"
   ]
  },
  {
   "cell_type": "markdown",
   "metadata": {},
   "source": [
    "#### Q3. Convert the data in the `fire_name` column such that the data starts with a capital letter. (ie `PIGEON LAKE` -> `Pigeon lake`)"
   ]
  },
  {
   "cell_type": "code",
   "execution_count": 5,
   "metadata": {},
   "outputs": [
    {
     "data": {
      "text/plain": [
       "0                           Fountain\n",
       "1                             Pigeon\n",
       "2                              Slack\n",
       "3                               Deer\n",
       "4                           Stevenot\n",
       "                     ...            \n",
       "1880460                     Odessa 2\n",
       "1880461                          NaN\n",
       "1880462                          NaN\n",
       "1880463                          NaN\n",
       "1880464    Barker bl  big_bear_lake_\n",
       "Name: fire_name, Length: 1880465, dtype: object"
      ]
     },
     "execution_count": 5,
     "metadata": {},
     "output_type": "execute_result"
    }
   ],
   "source": [
    "# Applying the capitalize function to the column\n",
    "fires_df[\"fire_name\"] = fires_df[\"fire_name\"].str.capitalize()\n",
    "\n",
    "# Checking the values\n",
    "fires_df[\"fire_name\"]\n"
   ]
  },
  {
   "cell_type": "markdown",
   "metadata": {},
   "source": [
    "#### Q4. Drop unnecessary rows- having fire size less than 10 acres."
   ]
  },
  {
   "cell_type": "code",
   "execution_count": 6,
   "metadata": {},
   "outputs": [
    {
     "data": {
      "text/plain": [
       "10.0"
      ]
     },
     "execution_count": 6,
     "metadata": {},
     "output_type": "execute_result"
    }
   ],
   "source": [
    "# Selecting the rows with fire size more than 10 acres\n",
    "fires_df = fires_df.query(\"acres_burned >= 10\")\n",
    "\n",
    "# Checking the minimum value\n",
    "fires_df[\"acres_burned\"].min()"
   ]
  },
  {
   "cell_type": "markdown",
   "metadata": {},
   "source": [
    "#### Q5. Drop duplicate rows, if any. If so, keep the first duplicate of each such duplicate set."
   ]
  },
  {
   "cell_type": "code",
   "execution_count": 7,
   "metadata": {},
   "outputs": [
    {
     "data": {
      "text/plain": [
       "False"
      ]
     },
     "execution_count": 7,
     "metadata": {},
     "output_type": "execute_result"
    }
   ],
   "source": [
    "# Removing the duplicate rows while keeping the first record\n",
    "fires_df.drop_duplicates(keep=\"first\")\n",
    "\n",
    "# Checking our operation that whether it contains a true value or not\n",
    "True in fires_df.duplicated()"
   ]
  },
  {
   "cell_type": "markdown",
   "metadata": {},
   "source": [
    "#### Q6. Ensure that the `date` columns have the correct datatype."
   ]
  },
  {
   "cell_type": "code",
   "execution_count": 8,
   "metadata": {},
   "outputs": [
    {
     "name": "stdout",
     "output_type": "stream",
     "text": [
      "<class 'pandas.core.frame.DataFrame'>\n",
      "Index: 274170 entries, 16 to 1880441\n",
      "Data columns (total 8 columns):\n",
      " #   Column          Non-Null Count   Dtype  \n",
      "---  ------          --------------   -----  \n",
      " 0   fire_name       128661 non-null  object \n",
      " 1   acres_burned    274170 non-null  float64\n",
      " 2   state           274170 non-null  object \n",
      " 3   latitude        274170 non-null  float64\n",
      " 4   longitude       274170 non-null  float64\n",
      " 5   fire_year       274170 non-null  int64  \n",
      " 6   discovery_date  274170 non-null  object \n",
      " 7   contain_date    137377 non-null  object \n",
      "dtypes: float64(3), int64(1), object(4)\n",
      "memory usage: 18.8+ MB\n"
     ]
    }
   ],
   "source": [
    "# Checking the datatype of all columns\n",
    "fires_df.info()"
   ]
  },
  {
   "cell_type": "code",
   "execution_count": 9,
   "metadata": {},
   "outputs": [
    {
     "name": "stdout",
     "output_type": "stream",
     "text": [
      "<class 'pandas.core.frame.DataFrame'>\n",
      "Index: 274170 entries, 16 to 1880441\n",
      "Data columns (total 8 columns):\n",
      " #   Column          Non-Null Count   Dtype         \n",
      "---  ------          --------------   -----         \n",
      " 0   fire_name       128661 non-null  object        \n",
      " 1   acres_burned    274170 non-null  float64       \n",
      " 2   state           274170 non-null  object        \n",
      " 3   latitude        274170 non-null  float64       \n",
      " 4   longitude       274170 non-null  float64       \n",
      " 5   fire_year       274170 non-null  int64         \n",
      " 6   discovery_date  274170 non-null  datetime64[ns]\n",
      " 7   contain_date    137377 non-null  datetime64[ns]\n",
      "dtypes: datetime64[ns](2), float64(3), int64(1), object(2)\n",
      "memory usage: 18.8+ MB\n"
     ]
    }
   ],
   "source": [
    "# Selecting the datetime columns\n",
    "date_columns = [col for col in fires_df.columns if col.endswith(\"_date\")]\n",
    "\n",
    "# Converting the columns to the appropriate data type\n",
    "for column in date_columns:\n",
    "    fires_df[column] = pd.to_datetime(fires_df[column])\n",
    "\n",
    "# Verifying our operation\n",
    "fires_df.info()"
   ]
  },
  {
   "cell_type": "code",
   "execution_count": 10,
   "metadata": {},
   "outputs": [
    {
     "data": {
      "text/html": [
       "<div>\n",
       "<style scoped>\n",
       "    .dataframe tbody tr th:only-of-type {\n",
       "        vertical-align: middle;\n",
       "    }\n",
       "\n",
       "    .dataframe tbody tr th {\n",
       "        vertical-align: top;\n",
       "    }\n",
       "\n",
       "    .dataframe thead th {\n",
       "        text-align: right;\n",
       "    }\n",
       "</style>\n",
       "<table border=\"1\" class=\"dataframe\">\n",
       "  <thead>\n",
       "    <tr style=\"text-align: right;\">\n",
       "      <th></th>\n",
       "      <th>fire_name</th>\n",
       "      <th>acres_burned</th>\n",
       "      <th>state</th>\n",
       "      <th>latitude</th>\n",
       "      <th>longitude</th>\n",
       "      <th>fire_year</th>\n",
       "      <th>discovery_date</th>\n",
       "      <th>contain_date</th>\n",
       "    </tr>\n",
       "  </thead>\n",
       "  <tbody>\n",
       "    <tr>\n",
       "      <th>16</th>\n",
       "      <td>Power</td>\n",
       "      <td>16823.0</td>\n",
       "      <td>CA</td>\n",
       "      <td>38.523333</td>\n",
       "      <td>-120.211667</td>\n",
       "      <td>2004</td>\n",
       "      <td>2004-10-06</td>\n",
       "      <td>2004-10-21</td>\n",
       "    </tr>\n",
       "    <tr>\n",
       "      <th>17</th>\n",
       "      <td>Freds</td>\n",
       "      <td>7700.0</td>\n",
       "      <td>CA</td>\n",
       "      <td>38.780000</td>\n",
       "      <td>-120.260000</td>\n",
       "      <td>2004</td>\n",
       "      <td>2004-10-13</td>\n",
       "      <td>2004-10-17</td>\n",
       "    </tr>\n",
       "    <tr>\n",
       "      <th>25</th>\n",
       "      <td>Bachelor</td>\n",
       "      <td>10.0</td>\n",
       "      <td>NM</td>\n",
       "      <td>33.315833</td>\n",
       "      <td>-105.512222</td>\n",
       "      <td>2004</td>\n",
       "      <td>2004-07-20</td>\n",
       "      <td>2004-07-20</td>\n",
       "    </tr>\n",
       "    <tr>\n",
       "      <th>37</th>\n",
       "      <td>Howard gap</td>\n",
       "      <td>50.3</td>\n",
       "      <td>NC</td>\n",
       "      <td>35.000278</td>\n",
       "      <td>-83.351111</td>\n",
       "      <td>2005</td>\n",
       "      <td>2005-01-27</td>\n",
       "      <td>2005-01-28</td>\n",
       "    </tr>\n",
       "    <tr>\n",
       "      <th>39</th>\n",
       "      <td>Austin creek</td>\n",
       "      <td>125.0</td>\n",
       "      <td>NC</td>\n",
       "      <td>36.001667</td>\n",
       "      <td>-81.590000</td>\n",
       "      <td>2005</td>\n",
       "      <td>2005-02-12</td>\n",
       "      <td>2005-02-13</td>\n",
       "    </tr>\n",
       "  </tbody>\n",
       "</table>\n",
       "</div>"
      ],
      "text/plain": [
       "       fire_name  acres_burned state   latitude   longitude  fire_year  \\\n",
       "16         Power       16823.0    CA  38.523333 -120.211667       2004   \n",
       "17         Freds        7700.0    CA  38.780000 -120.260000       2004   \n",
       "25      Bachelor          10.0    NM  33.315833 -105.512222       2004   \n",
       "37    Howard gap          50.3    NC  35.000278  -83.351111       2005   \n",
       "39  Austin creek         125.0    NC  36.001667  -81.590000       2005   \n",
       "\n",
       "   discovery_date contain_date  \n",
       "16     2004-10-06   2004-10-21  \n",
       "17     2004-10-13   2004-10-17  \n",
       "25     2004-07-20   2004-07-20  \n",
       "37     2005-01-27   2005-01-28  \n",
       "39     2005-02-12   2005-02-13  "
      ]
     },
     "execution_count": 10,
     "metadata": {},
     "output_type": "execute_result"
    }
   ],
   "source": [
    "fires_df.head()"
   ]
  },
  {
   "cell_type": "markdown",
   "metadata": {},
   "source": [
    "#### Q7. Check for missing values in the `contain_date` column. Find the number."
   ]
  },
  {
   "cell_type": "code",
   "execution_count": 11,
   "metadata": {},
   "outputs": [
    {
     "name": "stdout",
     "output_type": "stream",
     "text": [
      "The number of missing values in contain_date are: 136793\n"
     ]
    }
   ],
   "source": [
    "print(f\"The number of missing values in contain_date are: {fires_df['contain_date'].isnull().sum()}\")"
   ]
  },
  {
   "cell_type": "markdown",
   "metadata": {},
   "source": [
    "##### a) Check for missing values of  `contain_date`  where fires exceed 10000 acres."
   ]
  },
  {
   "cell_type": "code",
   "execution_count": 12,
   "metadata": {},
   "outputs": [
    {
     "name": "stdout",
     "output_type": "stream",
     "text": [
      "The number of missing values in contain_date where fires exceed 10000 acres are: 263\n"
     ]
    }
   ],
   "source": [
    "# Calculating the number of missing values in contain_date where fires exceed 10000 acres\n",
    "num_missing = fires_df.query(\"acres_burned > 10000\")[\"contain_date\"].isnull().sum()\n",
    "\n",
    "print(f\"The number of missing values in contain_date where fires exceed 10000 acres are: {num_missing}\")"
   ]
  },
  {
   "cell_type": "markdown",
   "metadata": {},
   "source": [
    "##### b) Check the values of  `contain_date` to see if they are reasonable."
   ]
  },
  {
   "cell_type": "code",
   "execution_count": 13,
   "metadata": {},
   "outputs": [
    {
     "data": {
      "text/plain": [
       "contain_date\n",
       "1993-03-10    215\n",
       "2015-02-14    186\n",
       "1992-03-02    177\n",
       "2013-03-16    168\n",
       "1996-02-24    167\n",
       "             ... \n",
       "1995-01-29      1\n",
       "1995-01-16      1\n",
       "1994-03-02      1\n",
       "1993-01-07      1\n",
       "2015-01-02      1\n",
       "Name: count, Length: 8479, dtype: int64"
      ]
     },
     "execution_count": 13,
     "metadata": {},
     "output_type": "execute_result"
    }
   ],
   "source": [
    "fires_df.contain_date.value_counts()"
   ]
  },
  {
   "cell_type": "code",
   "execution_count": 14,
   "metadata": {},
   "outputs": [
    {
     "name": "stdout",
     "output_type": "stream",
     "text": [
      "Nulls: 136793\n",
      "All: 274170\n",
      "Null Percentage: 49.893496735602\n"
     ]
    }
   ],
   "source": [
    "null_values = fires_df.contain_date.isnull().sum()\n",
    "print(f\"Nulls: {null_values}\")\n",
    "all_values = fires_df.shape[0]\n",
    "print(f\"All: {all_values}\")\n",
    "\n",
    "\n",
    "null_pct = (null_values/all_values)*100\n",
    "print(f\"Null Percentage: {null_pct}\")"
   ]
  },
  {
   "cell_type": "code",
   "execution_count": 15,
   "metadata": {},
   "outputs": [
    {
     "data": {
      "text/plain": [
       "fire_name         145509\n",
       "acres_burned           0\n",
       "state                  0\n",
       "latitude               0\n",
       "longitude              0\n",
       "fire_year              0\n",
       "discovery_date         0\n",
       "contain_date      136793\n",
       "dtype: int64"
      ]
     },
     "execution_count": 15,
     "metadata": {},
     "output_type": "execute_result"
    }
   ],
   "source": [
    "fires_df.isnull().sum()"
   ]
  },
  {
   "cell_type": "markdown",
   "metadata": {},
   "source": [
    "##### Since the number of missing values is significant (i.e. close to 50%), the data in `contain_date` is not dependable.\n",
    "##### It depends upon our target analysis on how we deal with the missing values. If we're performing a time-series analysis then imputation can be considered. However, the large number of missing values makes it more fit for omission. Therefore, I will proceed with handling them by omission."
   ]
  },
  {
   "cell_type": "code",
   "execution_count": 16,
   "metadata": {},
   "outputs": [],
   "source": [
    "# Removing the missing values from the data\n",
    "fires_df.dropna(subset=['contain_date'], inplace=True)"
   ]
  },
  {
   "cell_type": "code",
   "execution_count": 17,
   "metadata": {},
   "outputs": [
    {
     "data": {
      "text/plain": [
       "0"
      ]
     },
     "execution_count": 17,
     "metadata": {},
     "output_type": "execute_result"
    }
   ],
   "source": [
    "# Checking the null values in contain_date\n",
    "fires_df[\"contain_date\"].isnull().sum()"
   ]
  },
  {
   "cell_type": "markdown",
   "metadata": {},
   "source": [
    "### (II) Prepare the data:\n",
    "#### Q9. Add the `fire_month` and `days_burning` columns"
   ]
  },
  {
   "cell_type": "code",
   "execution_count": 18,
   "metadata": {},
   "outputs": [
    {
     "data": {
      "text/html": [
       "<div>\n",
       "<style scoped>\n",
       "    .dataframe tbody tr th:only-of-type {\n",
       "        vertical-align: middle;\n",
       "    }\n",
       "\n",
       "    .dataframe tbody tr th {\n",
       "        vertical-align: top;\n",
       "    }\n",
       "\n",
       "    .dataframe thead th {\n",
       "        text-align: right;\n",
       "    }\n",
       "</style>\n",
       "<table border=\"1\" class=\"dataframe\">\n",
       "  <thead>\n",
       "    <tr style=\"text-align: right;\">\n",
       "      <th></th>\n",
       "      <th>fire_name</th>\n",
       "      <th>acres_burned</th>\n",
       "      <th>state</th>\n",
       "      <th>latitude</th>\n",
       "      <th>longitude</th>\n",
       "      <th>fire_year</th>\n",
       "      <th>discovery_date</th>\n",
       "      <th>contain_date</th>\n",
       "      <th>fire_month</th>\n",
       "    </tr>\n",
       "  </thead>\n",
       "  <tbody>\n",
       "    <tr>\n",
       "      <th>16</th>\n",
       "      <td>Power</td>\n",
       "      <td>16823.0</td>\n",
       "      <td>CA</td>\n",
       "      <td>38.523333</td>\n",
       "      <td>-120.211667</td>\n",
       "      <td>2004</td>\n",
       "      <td>2004-10-06</td>\n",
       "      <td>2004-10-21</td>\n",
       "      <td>10</td>\n",
       "    </tr>\n",
       "    <tr>\n",
       "      <th>17</th>\n",
       "      <td>Freds</td>\n",
       "      <td>7700.0</td>\n",
       "      <td>CA</td>\n",
       "      <td>38.780000</td>\n",
       "      <td>-120.260000</td>\n",
       "      <td>2004</td>\n",
       "      <td>2004-10-13</td>\n",
       "      <td>2004-10-17</td>\n",
       "      <td>10</td>\n",
       "    </tr>\n",
       "    <tr>\n",
       "      <th>25</th>\n",
       "      <td>Bachelor</td>\n",
       "      <td>10.0</td>\n",
       "      <td>NM</td>\n",
       "      <td>33.315833</td>\n",
       "      <td>-105.512222</td>\n",
       "      <td>2004</td>\n",
       "      <td>2004-07-20</td>\n",
       "      <td>2004-07-20</td>\n",
       "      <td>7</td>\n",
       "    </tr>\n",
       "    <tr>\n",
       "      <th>37</th>\n",
       "      <td>Howard gap</td>\n",
       "      <td>50.3</td>\n",
       "      <td>NC</td>\n",
       "      <td>35.000278</td>\n",
       "      <td>-83.351111</td>\n",
       "      <td>2005</td>\n",
       "      <td>2005-01-27</td>\n",
       "      <td>2005-01-28</td>\n",
       "      <td>1</td>\n",
       "    </tr>\n",
       "    <tr>\n",
       "      <th>39</th>\n",
       "      <td>Austin creek</td>\n",
       "      <td>125.0</td>\n",
       "      <td>NC</td>\n",
       "      <td>36.001667</td>\n",
       "      <td>-81.590000</td>\n",
       "      <td>2005</td>\n",
       "      <td>2005-02-12</td>\n",
       "      <td>2005-02-13</td>\n",
       "      <td>2</td>\n",
       "    </tr>\n",
       "  </tbody>\n",
       "</table>\n",
       "</div>"
      ],
      "text/plain": [
       "       fire_name  acres_burned state   latitude   longitude  fire_year  \\\n",
       "16         Power       16823.0    CA  38.523333 -120.211667       2004   \n",
       "17         Freds        7700.0    CA  38.780000 -120.260000       2004   \n",
       "25      Bachelor          10.0    NM  33.315833 -105.512222       2004   \n",
       "37    Howard gap          50.3    NC  35.000278  -83.351111       2005   \n",
       "39  Austin creek         125.0    NC  36.001667  -81.590000       2005   \n",
       "\n",
       "   discovery_date contain_date  fire_month  \n",
       "16     2004-10-06   2004-10-21          10  \n",
       "17     2004-10-13   2004-10-17          10  \n",
       "25     2004-07-20   2004-07-20           7  \n",
       "37     2005-01-27   2005-01-28           1  \n",
       "39     2005-02-12   2005-02-13           2  "
      ]
     },
     "execution_count": 18,
     "metadata": {},
     "output_type": "execute_result"
    }
   ],
   "source": [
    "# creating fire_month\n",
    "fires_df[\"fire_month\"] = fires_df[\"discovery_date\"].dt.month\n",
    "\n",
    "# Checking the dataset\n",
    "fires_df.head()"
   ]
  },
  {
   "cell_type": "code",
   "execution_count": 19,
   "metadata": {},
   "outputs": [
    {
     "data": {
      "text/html": [
       "<div>\n",
       "<style scoped>\n",
       "    .dataframe tbody tr th:only-of-type {\n",
       "        vertical-align: middle;\n",
       "    }\n",
       "\n",
       "    .dataframe tbody tr th {\n",
       "        vertical-align: top;\n",
       "    }\n",
       "\n",
       "    .dataframe thead th {\n",
       "        text-align: right;\n",
       "    }\n",
       "</style>\n",
       "<table border=\"1\" class=\"dataframe\">\n",
       "  <thead>\n",
       "    <tr style=\"text-align: right;\">\n",
       "      <th></th>\n",
       "      <th>fire_name</th>\n",
       "      <th>acres_burned</th>\n",
       "      <th>state</th>\n",
       "      <th>latitude</th>\n",
       "      <th>longitude</th>\n",
       "      <th>fire_year</th>\n",
       "      <th>discovery_date</th>\n",
       "      <th>contain_date</th>\n",
       "      <th>fire_month</th>\n",
       "      <th>days_burning</th>\n",
       "    </tr>\n",
       "  </thead>\n",
       "  <tbody>\n",
       "    <tr>\n",
       "      <th>16</th>\n",
       "      <td>Power</td>\n",
       "      <td>16823.0</td>\n",
       "      <td>CA</td>\n",
       "      <td>38.523333</td>\n",
       "      <td>-120.211667</td>\n",
       "      <td>2004</td>\n",
       "      <td>2004-10-06</td>\n",
       "      <td>2004-10-21</td>\n",
       "      <td>10</td>\n",
       "      <td>15 days</td>\n",
       "    </tr>\n",
       "    <tr>\n",
       "      <th>17</th>\n",
       "      <td>Freds</td>\n",
       "      <td>7700.0</td>\n",
       "      <td>CA</td>\n",
       "      <td>38.780000</td>\n",
       "      <td>-120.260000</td>\n",
       "      <td>2004</td>\n",
       "      <td>2004-10-13</td>\n",
       "      <td>2004-10-17</td>\n",
       "      <td>10</td>\n",
       "      <td>4 days</td>\n",
       "    </tr>\n",
       "    <tr>\n",
       "      <th>25</th>\n",
       "      <td>Bachelor</td>\n",
       "      <td>10.0</td>\n",
       "      <td>NM</td>\n",
       "      <td>33.315833</td>\n",
       "      <td>-105.512222</td>\n",
       "      <td>2004</td>\n",
       "      <td>2004-07-20</td>\n",
       "      <td>2004-07-20</td>\n",
       "      <td>7</td>\n",
       "      <td>0 days</td>\n",
       "    </tr>\n",
       "    <tr>\n",
       "      <th>37</th>\n",
       "      <td>Howard gap</td>\n",
       "      <td>50.3</td>\n",
       "      <td>NC</td>\n",
       "      <td>35.000278</td>\n",
       "      <td>-83.351111</td>\n",
       "      <td>2005</td>\n",
       "      <td>2005-01-27</td>\n",
       "      <td>2005-01-28</td>\n",
       "      <td>1</td>\n",
       "      <td>1 days</td>\n",
       "    </tr>\n",
       "    <tr>\n",
       "      <th>39</th>\n",
       "      <td>Austin creek</td>\n",
       "      <td>125.0</td>\n",
       "      <td>NC</td>\n",
       "      <td>36.001667</td>\n",
       "      <td>-81.590000</td>\n",
       "      <td>2005</td>\n",
       "      <td>2005-02-12</td>\n",
       "      <td>2005-02-13</td>\n",
       "      <td>2</td>\n",
       "      <td>1 days</td>\n",
       "    </tr>\n",
       "  </tbody>\n",
       "</table>\n",
       "</div>"
      ],
      "text/plain": [
       "       fire_name  acres_burned state   latitude   longitude  fire_year  \\\n",
       "16         Power       16823.0    CA  38.523333 -120.211667       2004   \n",
       "17         Freds        7700.0    CA  38.780000 -120.260000       2004   \n",
       "25      Bachelor          10.0    NM  33.315833 -105.512222       2004   \n",
       "37    Howard gap          50.3    NC  35.000278  -83.351111       2005   \n",
       "39  Austin creek         125.0    NC  36.001667  -81.590000       2005   \n",
       "\n",
       "   discovery_date contain_date  fire_month days_burning  \n",
       "16     2004-10-06   2004-10-21          10      15 days  \n",
       "17     2004-10-13   2004-10-17          10       4 days  \n",
       "25     2004-07-20   2004-07-20           7       0 days  \n",
       "37     2005-01-27   2005-01-28           1       1 days  \n",
       "39     2005-02-12   2005-02-13           2       1 days  "
      ]
     },
     "execution_count": 19,
     "metadata": {},
     "output_type": "execute_result"
    }
   ],
   "source": [
    "# Creating days_burning\n",
    "fires_df[\"days_burning\"] =  fires_df[\"contain_date\"] - fires_df[\"discovery_date\"]\n",
    "\n",
    "# Checking the dataset\n",
    "fires_df.head()"
   ]
  },
  {
   "cell_type": "code",
   "execution_count": 20,
   "metadata": {},
   "outputs": [
    {
     "data": {
      "text/plain": [
       "356156    1881 days\n",
       "738317    1827 days\n",
       "305237    1101 days\n",
       "1276621   1096 days\n",
       "357487     735 days\n",
       "             ...   \n",
       "782321       0 days\n",
       "782320       0 days\n",
       "782318       0 days\n",
       "782317       0 days\n",
       "1880411      0 days\n",
       "Name: days_burning, Length: 137377, dtype: timedelta64[ns]"
      ]
     },
     "execution_count": 20,
     "metadata": {},
     "output_type": "execute_result"
    }
   ],
   "source": [
    "# Checking the maximum days by sorting the values\n",
    "fires_df[\"days_burning\"].sort_values(ascending=False)"
   ]
  },
  {
   "cell_type": "markdown",
   "metadata": {},
   "source": [
    "#### Q10. Get the statistical summary of the `days_burning` column. What trends do you see in the 3rd quartile, mean and Max length of the fires? Is or isn't anything fishy?"
   ]
  },
  {
   "cell_type": "code",
   "execution_count": 21,
   "metadata": {},
   "outputs": [
    {
     "data": {
      "text/plain": [
       "count                        137377\n",
       "mean      3 days 06:06:28.519184434\n",
       "std      16 days 01:15:59.937796238\n",
       "min                 0 days 00:00:00\n",
       "25%                 0 days 00:00:00\n",
       "50%                 0 days 00:00:00\n",
       "75%                 1 days 00:00:00\n",
       "max              1881 days 00:00:00\n",
       "Name: days_burning, dtype: object"
      ]
     },
     "execution_count": 21,
     "metadata": {},
     "output_type": "execute_result"
    }
   ],
   "source": [
    "# Calculating the statistical measures\n",
    "fires_df[\"days_burning\"].describe()"
   ]
  },
  {
   "cell_type": "code",
   "execution_count": 22,
   "metadata": {},
   "outputs": [
    {
     "data": {
      "text/plain": [
       "<Axes: >"
      ]
     },
     "execution_count": 22,
     "metadata": {},
     "output_type": "execute_result"
    },
    {
     "data": {
      "image/png": "[encoded data removed]",
      "text/plain": [
       "<Figure size 640x480 with 1 Axes>"
      ]
     },
     "metadata": {},
     "output_type": "display_data"
    }
   ],
   "source": [
    "# plotting the values for visualization\n",
    "fires_df[\"days_burning\"].plot()"
   ]
  },
  {
   "cell_type": "code",
   "execution_count": 23,
   "metadata": {},
   "outputs": [
    {
     "data": {
      "text/plain": [
       "<Axes: xlabel='days_burning'>"
      ]
     },
     "execution_count": 23,
     "metadata": {},
     "output_type": "execute_result"
    },
    {
     "data": {
      "image/png": "[encoded data removed]",
      "text/plain": [
       "<Figure size 640x480 with 1 Axes>"
      ]
     },
     "metadata": {},
     "output_type": "display_data"
    }
   ],
   "source": [
    "# Plotting the value counts of the days burning\n",
    "fires_df[\"days_burning\"].value_counts().plot()"
   ]
  },
  {
   "cell_type": "markdown",
   "metadata": {},
   "source": [
    "##### The statistical summary of the `days_burning` column shows that most of the fires are contained within the very day. Similar trend moves forward towards 1 day, 2 days and so on.\n",
    "\n",
    "##### The max value is 1881 days which is more than 5 years and it is unrealistic. Similarly, there are other similar values like 1827, 1101, 1096 days. There seems to be an inaccuracy with the dataset."
   ]
  },
  {
   "cell_type": "markdown",
   "metadata": {},
   "source": [
    "####\n",
    "####"
   ]
  },
  {
   "cell_type": "markdown",
   "metadata": {},
   "source": [
    "#### Q11. Check the value of `days_burning` for fires that exceed 100 acres. What do you notice about the acreage and the `days_burning` for certain outliers?"
   ]
  },
  {
   "cell_type": "code",
   "execution_count": 24,
   "metadata": {},
   "outputs": [
    {
     "data": {
      "text/html": [
       "<div>\n",
       "<style scoped>\n",
       "    .dataframe tbody tr th:only-of-type {\n",
       "        vertical-align: middle;\n",
       "    }\n",
       "\n",
       "    .dataframe tbody tr th {\n",
       "        vertical-align: top;\n",
       "    }\n",
       "\n",
       "    .dataframe thead th {\n",
       "        text-align: right;\n",
       "    }\n",
       "</style>\n",
       "<table border=\"1\" class=\"dataframe\">\n",
       "  <thead>\n",
       "    <tr style=\"text-align: right;\">\n",
       "      <th></th>\n",
       "      <th>acres_burned</th>\n",
       "      <th>days_burning</th>\n",
       "    </tr>\n",
       "  </thead>\n",
       "  <tbody>\n",
       "    <tr>\n",
       "      <th>16</th>\n",
       "      <td>16823.0</td>\n",
       "      <td>15 days</td>\n",
       "    </tr>\n",
       "    <tr>\n",
       "      <th>17</th>\n",
       "      <td>7700.0</td>\n",
       "      <td>4 days</td>\n",
       "    </tr>\n",
       "    <tr>\n",
       "      <th>39</th>\n",
       "      <td>125.0</td>\n",
       "      <td>1 days</td>\n",
       "    </tr>\n",
       "    <tr>\n",
       "      <th>116</th>\n",
       "      <td>119.0</td>\n",
       "      <td>1 days</td>\n",
       "    </tr>\n",
       "    <tr>\n",
       "      <th>117</th>\n",
       "      <td>119.0</td>\n",
       "      <td>0 days</td>\n",
       "    </tr>\n",
       "    <tr>\n",
       "      <th>...</th>\n",
       "      <td>...</td>\n",
       "      <td>...</td>\n",
       "    </tr>\n",
       "    <tr>\n",
       "      <th>1879778</th>\n",
       "      <td>195.0</td>\n",
       "      <td>3 days</td>\n",
       "    </tr>\n",
       "    <tr>\n",
       "      <th>1879800</th>\n",
       "      <td>2264.0</td>\n",
       "      <td>12 days</td>\n",
       "    </tr>\n",
       "    <tr>\n",
       "      <th>1879825</th>\n",
       "      <td>157.0</td>\n",
       "      <td>0 days</td>\n",
       "    </tr>\n",
       "    <tr>\n",
       "      <th>1880293</th>\n",
       "      <td>480.0</td>\n",
       "      <td>2 days</td>\n",
       "    </tr>\n",
       "    <tr>\n",
       "      <th>1880328</th>\n",
       "      <td>150.0</td>\n",
       "      <td>0 days</td>\n",
       "    </tr>\n",
       "  </tbody>\n",
       "</table>\n",
       "<p>32218 rows × 2 columns</p>\n",
       "</div>"
      ],
      "text/plain": [
       "         acres_burned days_burning\n",
       "16            16823.0      15 days\n",
       "17             7700.0       4 days\n",
       "39              125.0       1 days\n",
       "116             119.0       1 days\n",
       "117             119.0       0 days\n",
       "...               ...          ...\n",
       "1879778         195.0       3 days\n",
       "1879800        2264.0      12 days\n",
       "1879825         157.0       0 days\n",
       "1880293         480.0       2 days\n",
       "1880328         150.0       0 days\n",
       "\n",
       "[32218 rows x 2 columns]"
      ]
     },
     "execution_count": 24,
     "metadata": {},
     "output_type": "execute_result"
    }
   ],
   "source": [
    "# Finding the records over 100 acres\n",
    "days_burning_over_100_acres = fires_df.query(\"acres_burned > 100\")[[\"acres_burned\",\"days_burning\"]]\n",
    "\n",
    "days_burning_over_100_acres"
   ]
  },
  {
   "cell_type": "code",
   "execution_count": 25,
   "metadata": {},
   "outputs": [
    {
     "data": {
      "text/plain": [
       "acres_burned  days_burning\n",
       "200.0         0 days          492\n",
       "150.0         0 days          466\n",
       "120.0         0 days          401\n",
       "300.0         0 days          296\n",
       "160.0         0 days          278\n",
       "                             ... \n",
       "681.0         2 days            1\n",
       "              43 days           1\n",
       "              76 days           1\n",
       "682.0         0 days            1\n",
       "606945.0      76 days           1\n",
       "Name: count, Length: 15301, dtype: int64"
      ]
     },
     "execution_count": 25,
     "metadata": {},
     "output_type": "execute_result"
    }
   ],
   "source": [
    "# counting the values\n",
    "days_burning_over_100_acres.value_counts()"
   ]
  },
  {
   "cell_type": "code",
   "execution_count": 26,
   "metadata": {},
   "outputs": [
    {
     "data": {
      "text/html": [
       "<div>\n",
       "<style scoped>\n",
       "    .dataframe tbody tr th:only-of-type {\n",
       "        vertical-align: middle;\n",
       "    }\n",
       "\n",
       "    .dataframe tbody tr th {\n",
       "        vertical-align: top;\n",
       "    }\n",
       "\n",
       "    .dataframe thead th {\n",
       "        text-align: right;\n",
       "    }\n",
       "</style>\n",
       "<table border=\"1\" class=\"dataframe\">\n",
       "  <thead>\n",
       "    <tr style=\"text-align: right;\">\n",
       "      <th></th>\n",
       "      <th>acres_burned</th>\n",
       "      <th>days_burning</th>\n",
       "    </tr>\n",
       "  </thead>\n",
       "  <tbody>\n",
       "    <tr>\n",
       "      <th>356156</th>\n",
       "      <td>120.0</td>\n",
       "      <td>1881 days</td>\n",
       "    </tr>\n",
       "    <tr>\n",
       "      <th>357487</th>\n",
       "      <td>900.0</td>\n",
       "      <td>735 days</td>\n",
       "    </tr>\n",
       "    <tr>\n",
       "      <th>1324066</th>\n",
       "      <td>158.0</td>\n",
       "      <td>732 days</td>\n",
       "    </tr>\n",
       "    <tr>\n",
       "      <th>1227849</th>\n",
       "      <td>250.0</td>\n",
       "      <td>731 days</td>\n",
       "    </tr>\n",
       "    <tr>\n",
       "      <th>1572579</th>\n",
       "      <td>17944.0</td>\n",
       "      <td>371 days</td>\n",
       "    </tr>\n",
       "    <tr>\n",
       "      <th>...</th>\n",
       "      <td>...</td>\n",
       "      <td>...</td>\n",
       "    </tr>\n",
       "    <tr>\n",
       "      <th>782266</th>\n",
       "      <td>160.0</td>\n",
       "      <td>0 days</td>\n",
       "    </tr>\n",
       "    <tr>\n",
       "      <th>782270</th>\n",
       "      <td>120.0</td>\n",
       "      <td>0 days</td>\n",
       "    </tr>\n",
       "    <tr>\n",
       "      <th>782275</th>\n",
       "      <td>250.0</td>\n",
       "      <td>0 days</td>\n",
       "    </tr>\n",
       "    <tr>\n",
       "      <th>782277</th>\n",
       "      <td>790.0</td>\n",
       "      <td>0 days</td>\n",
       "    </tr>\n",
       "    <tr>\n",
       "      <th>1880328</th>\n",
       "      <td>150.0</td>\n",
       "      <td>0 days</td>\n",
       "    </tr>\n",
       "  </tbody>\n",
       "</table>\n",
       "<p>32218 rows × 2 columns</p>\n",
       "</div>"
      ],
      "text/plain": [
       "         acres_burned days_burning\n",
       "356156          120.0    1881 days\n",
       "357487          900.0     735 days\n",
       "1324066         158.0     732 days\n",
       "1227849         250.0     731 days\n",
       "1572579       17944.0     371 days\n",
       "...               ...          ...\n",
       "782266          160.0       0 days\n",
       "782270          120.0       0 days\n",
       "782275          250.0       0 days\n",
       "782277          790.0       0 days\n",
       "1880328         150.0       0 days\n",
       "\n",
       "[32218 rows x 2 columns]"
      ]
     },
     "execution_count": 26,
     "metadata": {},
     "output_type": "execute_result"
    }
   ],
   "source": [
    "# displaying the sorted values with days_burning\n",
    "days_burning_over_100_acres.sort_values(by=\"days_burning\",ascending=False)"
   ]
  },
  {
   "cell_type": "code",
   "execution_count": 27,
   "metadata": {},
   "outputs": [
    {
     "data": {
      "text/plain": [
       "<Axes: xlabel='acres_burned', ylabel='days_burning'>"
      ]
     },
     "execution_count": 27,
     "metadata": {},
     "output_type": "execute_result"
    },
    {
     "data": {
      "image/png": "[encoded data removed]",
      "text/plain": [
       "<Figure size 640x480 with 1 Axes>"
      ]
     },
     "metadata": {},
     "output_type": "display_data"
    }
   ],
   "source": [
    "# Converting the days into integer\n",
    "days_burning_over_100_acres[\"days_burning\"] = days_burning_over_100_acres[\"days_burning\"].dt.days\n",
    "\n",
    "# Plotting the scatterplot to visualize the outliers\n",
    "days_burning_over_100_acres.plot.scatter(x=\"acres_burned\", y =\"days_burning\" )"
   ]
  },
  {
   "cell_type": "markdown",
   "metadata": {},
   "source": [
    "##### On exploring the number of days burning and the acres burned, we can see that the dataset contains the outliers in both directions. There are unrealistically high numbers in `acres_burned` as well as `days_burning`. Therefore, we've got to handle the outliers  before proceeding with any further analysis as they affect the analysis in an adverse way."
   ]
  }
 ],
 "metadata": {
  "kernelspec": {
   "display_name": "Python 3",
   "language": "python",
   "name": "python3"
  },
  "language_info": {
   "codemirror_mode": {
    "name": "ipython",
    "version": 3
   },
   "file_extension": ".py",
   "mimetype": "text/x-python",
   "name": "python",
   "nbconvert_exporter": "python",
   "pygments_lexer": "ipython3",
   "version": "3.11.5"
  }
 },
 "nbformat": 4,
 "nbformat_minor": 2
}

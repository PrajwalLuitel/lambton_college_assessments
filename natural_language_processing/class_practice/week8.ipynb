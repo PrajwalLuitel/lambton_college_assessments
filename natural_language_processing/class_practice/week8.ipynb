{
 "cells": [
  {
   "cell_type": "markdown",
   "metadata": {},
   "source": [
    "#### <center> Prajwal Luitel (C0927658)  - Natural Language Processing -</center>\n",
    "\n",
    "<center>25th July 2024</center>"
   ]
  },
  {
   "cell_type": "markdown",
   "metadata": {},
   "source": [
    "## Read PDF files"
   ]
  },
  {
   "cell_type": "code",
   "execution_count": 1,
   "metadata": {},
   "outputs": [],
   "source": [
    "import PyPDF2\n",
    "\n",
    "pdfFileObj = open(\"Lorem_ipsum.pdf\", 'rb')"
   ]
  },
  {
   "cell_type": "code",
   "execution_count": 2,
   "metadata": {},
   "outputs": [
    {
     "name": "stdout",
     "output_type": "stream",
     "text": [
      "1\n"
     ]
    }
   ],
   "source": [
    "pdfReader = PyPDF2.PdfReader(pdfFileObj)\n",
    "print(len(pdfReader.pages))"
   ]
  },
  {
   "cell_type": "code",
   "execution_count": 3,
   "metadata": {},
   "outputs": [],
   "source": [
    "pageObj = pdfReader.pages[0]"
   ]
  },
  {
   "cell_type": "code",
   "execution_count": 4,
   "metadata": {},
   "outputs": [
    {
     "name": "stdout",
     "output_type": "stream",
     "text": [
      "Test PDF  \n",
      "Lorem Ipsum is simply dummy text of the printing and typesetting industry. Lorem Ipsum has been the \n",
      "industry's standard dummy text ever since the 1500s, when an unknown printer took a galley of type \n",
      "and scrambled it to make a type specimen book. It has sur vived not only five centuries, but also the leap \n",
      "into electronic typesetting, remaining essentially unchanged. It was popularised in the 1960s with the \n",
      "release of Letraset sheets containing Lorem Ipsum passages, and more recently with desktop publishing \n",
      "software like Aldus PageMaker including versions of Lorem Ipsum.  \n",
      "Lorem Ipsum is simply dummy text of the printing and typesetting industry. Lorem Ipsum has been the \n",
      "industry's standard dummy text ever since the 1500s, when an unknown printer took a galley of type \n",
      "and scrambled it to make a type specimen book. It has survived not only five centuries, but also the leap \n",
      "into electronic typesetting, remaining essentially unchanged. It was popularised in the 1960s with the \n",
      "release of Letraset sheets containing Lore m Ipsum passages, and more recently with desktop publishing \n",
      "software like Aldus PageMaker including versions of Lorem Ipsum.  \n",
      "Lorem Ipsum is simply dummy text of the printing and typesetting industry. Lorem Ipsum has been the \n",
      "industry's standard dummy text e ver since the 1500s, when an unknown printer took a galley of type \n",
      "and scrambled it to make a type specimen book. It has survived not only five centuries, but also the leap \n",
      "into electronic typesetting, remaining essentially unchanged. It was popularised in  the 1960s with the \n",
      "release of Letraset sheets containing Lorem Ipsum passages, and more recently with desktop publishing \n",
      "software like Aldus PageMaker including versions of Lorem Ipsum.  \n",
      "Lorem Ipsum is simply dummy text of the printing and typesetting indus try. Lorem Ipsum has been the \n",
      "industry's standard dummy text ever since the 1500s, when an unknown printer took a galley of type \n",
      "and scrambled it to make a type specimen book. It has survived not only five centuries, but also the leap \n",
      "into electronic types etting, remaining essentially unchanged. It was popularised in the 1960s with the \n",
      "release of Letraset sheets containing Lorem Ipsum passages, and more recently with desktop publishing \n",
      "software like Aldus PageMaker including versions of Lorem Ipsum.  \n"
     ]
    }
   ],
   "source": [
    "print(pageObj.extract_text())"
   ]
  },
  {
   "cell_type": "code",
   "execution_count": 5,
   "metadata": {},
   "outputs": [
    {
     "name": "stdout",
     "output_type": "stream",
     "text": [
      "Test PDF  \n",
      "Lorem Ipsum is simply dummy text of the printing and typesetting industry. Lorem Ipsum has been the \n",
      "industry's standard dummy text ever since the 1500s, when an unknown printer took a galley of type \n",
      "and scrambled it to make a type specimen book. It has sur vived not only five centuries, but also the leap \n",
      "into electronic typesetting, remaining essentially unchanged. It was popularised in the 1960s with the \n",
      "release of Letraset sheets containing Lorem Ipsum passages, and more recently with desktop publishing \n",
      "software like Aldus PageMaker including versions of Lorem Ipsum.  \n",
      "Lorem Ipsum is simply dummy text of the printing and typesetting industry. Lorem Ipsum has been the \n",
      "industry's standard dummy text ever since the 1500s, when an unknown printer took a galley of type \n",
      "and scrambled it to make a type specimen book. It has survived not only five centuries, but also the leap \n",
      "into electronic typesetting, remaining essentially unchanged. It was popularised in the 1960s with the \n",
      "release of Letraset sheets containing Lore m Ipsum passages, and more recently with desktop publishing \n",
      "software like Aldus PageMaker including versions of Lorem Ipsum.  \n",
      "Lorem Ipsum is simply dummy text of the printing and typesetting industry. Lorem Ipsum has been the \n",
      "industry's standard dummy text e ver since the 1500s, when an unknown printer took a galley of type \n",
      "and scrambled it to make a type specimen book. It has survived not only five centuries, but also the leap \n",
      "into electronic typesetting, remaining essentially unchanged. It was popularised in  the 1960s with the \n",
      "release of Letraset sheets containing Lorem Ipsum passages, and more recently with desktop publishing \n",
      "software like Aldus PageMaker including versions of Lorem Ipsum.  \n",
      "Lorem Ipsum is simply dummy text of the printing and typesetting indus try. Lorem Ipsum has been the \n",
      "industry's standard dummy text ever since the 1500s, when an unknown printer took a galley of type \n",
      "and scrambled it to make a type specimen book. It has survived not only five centuries, but also the leap \n",
      "into electronic types etting, remaining essentially unchanged. It was popularised in the 1960s with the \n",
      "release of Letraset sheets containing Lorem Ipsum passages, and more recently with desktop publishing \n",
      "software like Aldus PageMaker including versions of Lorem Ipsum.  \n"
     ]
    }
   ],
   "source": [
    "c = 0\n",
    "text = \"\"\n",
    "\n",
    "while c< len(pdfReader.pages):\n",
    "    pageObj = pdfReader.pages[c]\n",
    "    c += 1\n",
    "    text += pageObj.extract_text()\n",
    "\n",
    "print(text)"
   ]
  },
  {
   "cell_type": "markdown",
   "metadata": {},
   "source": [
    "## Challenge question to get the only one line of text"
   ]
  },
  {
   "cell_type": "code",
   "execution_count": 6,
   "metadata": {},
   "outputs": [
    {
     "name": "stdout",
     "output_type": "stream",
     "text": [
      "The text on line 10 is : \n",
      "and scrambled it to make a type specimen book. It has survived not only five centuries, but also the leap \n"
     ]
    }
   ],
   "source": [
    "line_number = 10\n",
    "\n",
    "pageObj = pdfReader.pages[0]\n",
    "text = pageObj.extract_text()\n",
    "\n",
    "lines = text.split(\"\\n\")\n",
    "print(f\"The text on line {line_number} is : \\n{lines[line_number-1]}\")"
   ]
  },
  {
   "cell_type": "markdown",
   "metadata": {},
   "source": [
    "## Writing to PDF files"
   ]
  },
  {
   "cell_type": "code",
   "execution_count": 7,
   "metadata": {},
   "outputs": [],
   "source": [
    "page_one = pdfReader.pages[0]"
   ]
  },
  {
   "cell_type": "code",
   "execution_count": 8,
   "metadata": {},
   "outputs": [],
   "source": [
    "pdf_document_writer = PyPDF2.PdfWriter()"
   ]
  },
  {
   "cell_type": "code",
   "execution_count": 9,
   "metadata": {},
   "outputs": [
    {
     "data": {
      "text/plain": [
       "{'/Type': '/Page',\n",
       " '/Resources': {'/Font': {'/F1': {'/Type': '/Font',\n",
       "    '/Subtype': '/TrueType',\n",
       "    '/Name': '/F1',\n",
       "    '/BaseFont': '/ABCDEE+Calibri',\n",
       "    '/Encoding': '/WinAnsiEncoding',\n",
       "    '/FontDescriptor': {'/Type': '/FontDescriptor',\n",
       "     '/FontName': '/ABCDEE+Calibri',\n",
       "     '/Flags': 32,\n",
       "     '/ItalicAngle': 0,\n",
       "     '/Ascent': 750,\n",
       "     '/Descent': -250,\n",
       "     '/CapHeight': 750,\n",
       "     '/AvgWidth': 503,\n",
       "     '/MaxWidth': 1690,\n",
       "     '/FontWeight': 400,\n",
       "     '/XHeight': 250,\n",
       "     '/StemV': 50,\n",
       "     '/FontBBox': [-476, -250, 1214, 750],\n",
       "     '/FontFile2': {'/Filter': '/FlateDecode', '/Length1': 124424}},\n",
       "    '/FirstChar': 32,\n",
       "    '/LastChar': 121,\n",
       "    '/Widths': [226,\n",
       "     0,\n",
       "     0,\n",
       "     0,\n",
       "     0,\n",
       "     0,\n",
       "     0,\n",
       "     221,\n",
       "     0,\n",
       "     0,\n",
       "     0,\n",
       "     0,\n",
       "     250,\n",
       "     0,\n",
       "     252,\n",
       "     0,\n",
       "     507,\n",
       "     507,\n",
       "     0,\n",
       "     0,\n",
       "     0,\n",
       "     507,\n",
       "     507,\n",
       "     0,\n",
       "     0,\n",
       "     507,\n",
       "     0,\n",
       "     0,\n",
       "     0,\n",
       "     0,\n",
       "     0,\n",
       "     0,\n",
       "     0,\n",
       "     579,\n",
       "     0,\n",
       "     0,\n",
       "     615,\n",
       "     0,\n",
       "     459,\n",
       "     0,\n",
       "     0,\n",
       "     252,\n",
       "     0,\n",
       "     0,\n",
       "     420,\n",
       "     855,\n",
       "     0,\n",
       "     0,\n",
       "     517,\n",
       "     0,\n",
       "     0,\n",
       "     0,\n",
       "     487,\n",
       "     0,\n",
       "     0,\n",
       "     0,\n",
       "     0,\n",
       "     0,\n",
       "     0,\n",
       "     0,\n",
       "     0,\n",
       "     0,\n",
       "     0,\n",
       "     0,\n",
       "     0,\n",
       "     479,\n",
       "     525,\n",
       "     423,\n",
       "     525,\n",
       "     498,\n",
       "     305,\n",
       "     471,\n",
       "     525,\n",
       "     230,\n",
       "     0,\n",
       "     455,\n",
       "     230,\n",
       "     799,\n",
       "     525,\n",
       "     527,\n",
       "     525,\n",
       "     0,\n",
       "     349,\n",
       "     391,\n",
       "     335,\n",
       "     525,\n",
       "     452,\n",
       "     715,\n",
       "     433,\n",
       "     453]}},\n",
       "  '/ProcSet': ['/PDF', '/Text', '/ImageB', '/ImageC', '/ImageI']},\n",
       " '/MediaBox': [0, 0, 612, 792],\n",
       " '/Contents': {'/Filter': '/FlateDecode'},\n",
       " '/Group': {'/Type': '/Group', '/S': '/Transparency', '/CS': '/DeviceRGB'},\n",
       " '/Tabs': '/S',\n",
       " '/Parent': {'/Type': '/Pages',\n",
       "  '/Count': 1,\n",
       "  '/Kids': [IndirectObject(4, 0, 4685276048)]}}"
      ]
     },
     "execution_count": 9,
     "metadata": {},
     "output_type": "execute_result"
    }
   ],
   "source": [
    "pdf_document_writer.add_page(page_one)"
   ]
  },
  {
   "cell_type": "code",
   "execution_count": 10,
   "metadata": {},
   "outputs": [],
   "source": [
    "pdf_output = open('new_file.pdf', 'wb')\n"
   ]
  },
  {
   "cell_type": "code",
   "execution_count": 11,
   "metadata": {},
   "outputs": [
    {
     "data": {
      "text/plain": [
       "(False, <_io.BufferedWriter name='new_file.pdf'>)"
      ]
     },
     "execution_count": 11,
     "metadata": {},
     "output_type": "execute_result"
    }
   ],
   "source": [
    "pdf_document_writer.write(pdf_output)"
   ]
  },
  {
   "cell_type": "code",
   "execution_count": 12,
   "metadata": {},
   "outputs": [],
   "source": [
    "pdf_document_writer.close()\n",
    "pdf_output.close()"
   ]
  },
  {
   "cell_type": "code",
   "execution_count": 13,
   "metadata": {},
   "outputs": [],
   "source": [
    "def merge(pdfs, output):\n",
    "    pdfMerger = PyPDF2.PdfMerger()\n",
    "\n",
    "    for pdf in pdfs:\n",
    "        pdfMerger.append(pdf)\n",
    "    \n",
    "    with open(output, 'wb') as f:\n",
    "        pdfMerger.write(f)\n",
    "    \n",
    "pdfs = ['Lorem_ipsum.pdf', 'new_file.pdf']\n",
    "output = 'combinedPDF.pdf'\n",
    "merge(pdfs, output)"
   ]
  },
  {
   "cell_type": "markdown",
   "metadata": {},
   "source": [
    "### Challenge questions:\n",
    "\n",
    "#### Split file into two files called File1.pdf and File2.pdf.\n",
    "#### Rotate 'File1.pdf' for 180 degrees and save it to a new file called 'file3.pdf'.\n",
    "#### Add a watermark to the first page of 'File3.pdf' and save it as File4.pdf"
   ]
  },
  {
   "cell_type": "markdown",
   "metadata": {},
   "source": [
    "#### 1. Splitting the pdf"
   ]
  },
  {
   "cell_type": "code",
   "execution_count": 25,
   "metadata": {},
   "outputs": [],
   "source": [
    "pdfFileObj = open(\"combinedPDF.pdf\", 'rb')\n",
    "\n",
    "pdfReader = PyPDF2.PdfReader(pdfFileObj)\n",
    "\n",
    "files_split = {0:'File1.pdf', 1:'File2.pdf'}\n",
    "\n",
    "for page, filename in files_split.items():\n",
    "    pageObj = pdfReader.pages[page]\n",
    "    pdfWriter = PyPDF2.PdfWriter()\n",
    "    pdfWriter.add_page(pageObj)\n",
    "\n",
    "    with open(filename, 'wb') as pdf_output:\n",
    "        pdfWriter.write(pdf_output)\n",
    "\n",
    "    pdfWriter.close()\n",
    "    pdf_output.close()\n"
   ]
  },
  {
   "cell_type": "markdown",
   "metadata": {},
   "source": [
    "#### 2. Rotating the content of the file"
   ]
  },
  {
   "cell_type": "code",
   "execution_count": 27,
   "metadata": {},
   "outputs": [],
   "source": [
    "pdfFileObj = open(\"File1.pdf\", 'rb')\n",
    "\n",
    "pdfReader = PyPDF2.PdfReader(pdfFileObj)\n",
    "\n",
    "for i in range(len(pdfReader.pages)):\n",
    "    pageObj = pdfReader.pages[i]\n",
    "\n",
    "    with open(\"File3.pdf\", \"wb\") as pdf_output:\n",
    "        writer = PyPDF2.PdfWriter()\n",
    "        pageObj.rotate(180)\n",
    "        writer.add_page(pageObj)\n",
    "        writer.write(pdf_output)\n",
    "    \n",
    "    writer.close()\n",
    "    pdf_output.close()\n",
    "    pdfFileObj.close()"
   ]
  },
  {
   "cell_type": "markdown",
   "metadata": {},
   "source": [
    "#### 3. Adding watermark"
   ]
  },
  {
   "cell_type": "code",
   "execution_count": 31,
   "metadata": {},
   "outputs": [],
   "source": [
    "pdfFileObj = open(\"File3.pdf\", 'rb')\n",
    "pdfReader = PyPDF2.PdfReader(pdfFileObj)\n",
    "\n",
    "watermarkObj = open(\"watermark.pdf\", 'rb')\n",
    "pdfReader_watermark = PyPDF2.PdfReader(watermarkObj)\n",
    "\n",
    "\n",
    "for i in range(len(pdfReader.pages)):\n",
    "    watermarkPageObj = pdfReader_watermark.pages[0]\n",
    "    pageObj = pdfReader.pages[i]\n",
    "\n",
    "    with open(\"File4.pdf\", \"wb\") as pdf_output:\n",
    "        writer = PyPDF2.PdfWriter()\n",
    "        pageObj.merge_page(watermarkPageObj)\n",
    "        writer.add_page(pageObj)\n",
    "        writer.write(pdf_output)\n",
    "    \n",
    "    writer.close()\n",
    "    pdf_output.close()"
   ]
  }
 ],
 "metadata": {
  "kernelspec": {
   "display_name": "Python 3",
   "language": "python",
   "name": "python3"
  },
  "language_info": {
   "codemirror_mode": {
    "name": "ipython",
    "version": 3
   },
   "file_extension": ".py",
   "mimetype": "text/x-python",
   "name": "python",
   "nbconvert_exporter": "python",
   "pygments_lexer": "ipython3",
   "version": "3.11.5"
  }
 },
 "nbformat": 4,
 "nbformat_minor": 2
}

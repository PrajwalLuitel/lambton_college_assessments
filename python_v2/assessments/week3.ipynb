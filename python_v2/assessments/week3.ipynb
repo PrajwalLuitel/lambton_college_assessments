{
 "cells": [
  {
   "cell_type": "markdown",
   "metadata": {},
   "source": [
    "### 1-Write a Python program to find 4 numbers from an array such that the sum of 4 numbers equal to a given number. Input : [1, 0, -1, 0, -2, 2,10,11], 0) Output : [[-2, -1, 1, 2], [-2, 0, 0, 2], [-1, 0, 0, 1]]\n",
    "\n"
   ]
  },
  {
   "cell_type": "code",
   "execution_count": 1,
   "metadata": {},
   "outputs": [],
   "source": [
    "def find_four(array:list[int], target:int)->list[list[int]]:\n",
    "    \"\"\"A function to find which four numbers in the array add up to be the target value.\n",
    "    \n",
    "    Arguments:\n",
    "    array: list[int] : the array of numbers\n",
    "    target: int : the target\n",
    "    \n",
    "    Returns:\n",
    "    collection_of_fours: list[list[int]] : the lists of four numbers in array that add up to target\n",
    "    \"\"\"\n",
    "    collection_of_fours:list = []\n",
    "    length:int = len(array)\n",
    "    for i in range(length):\n",
    "        for j in range(i+1,length):\n",
    "            for k in range(j+1, length):\n",
    "                for l in range(k+1, length):\n",
    "                    if array[i]+array[j]+array[k]+array[l] == target:\n",
    "                        collection_of_fours.append([array[i],array[j],array[k],array[l]])\n",
    "    \n",
    "    return collection_of_fours\n"
   ]
  },
  {
   "cell_type": "code",
   "execution_count": 2,
   "metadata": {},
   "outputs": [
    {
     "data": {
      "text/plain": [
       "[[1, 0, -1, 0], [1, -1, -2, 2], [0, 0, -2, 2]]"
      ]
     },
     "execution_count": 2,
     "metadata": {},
     "output_type": "execute_result"
    }
   ],
   "source": [
    "find_four([1,0,-1,0,-2,2,10,11],0)"
   ]
  },
  {
   "cell_type": "markdown",
   "metadata": {},
   "source": [
    "## 2-Write a Python program to find the single element appears once in a list where every element appears multiple times except for one. \n",
    "## Input : [1, 1, 1, 2, 2, 2, 3]\n",
    "## Output : 3"
   ]
  },
  {
   "cell_type": "code",
   "execution_count": 3,
   "metadata": {},
   "outputs": [],
   "source": [
    "def find_one_unique(array:list[int])-> int:\n",
    "    \"\"\"A function to find one unique number from the given array.\n",
    "    \n",
    "    Arguments:\n",
    "    array: list[int] : the array of numbers\n",
    "    \n",
    "    Returns:\n",
    "    el: int : the unique number in the given array\n",
    "    \"\"\"\n",
    "    my_set:set = set(array)\n",
    "\n",
    "    for el in my_set:\n",
    "        if array.count(el) == 1:\n",
    "            return el"
   ]
  },
  {
   "cell_type": "code",
   "execution_count": 4,
   "metadata": {},
   "outputs": [
    {
     "data": {
      "text/plain": [
       "3"
      ]
     },
     "execution_count": 4,
     "metadata": {},
     "output_type": "execute_result"
    }
   ],
   "source": [
    "find_one_unique([1,1,1,2,2,2,3])"
   ]
  },
  {
   "cell_type": "code",
   "execution_count": 5,
   "metadata": {},
   "outputs": [
    {
     "data": {
      "text/plain": [
       "9"
      ]
     },
     "execution_count": 5,
     "metadata": {},
     "output_type": "execute_result"
    }
   ],
   "source": [
    "find_one_unique([1,2,2,3,3,5,5,1,7,7,6,9,6])"
   ]
  },
  {
   "cell_type": "markdown",
   "metadata": {},
   "source": [
    "#### 3-Write a Python program to add the digits of a positive integer repeatedly until the result has a single digit. \n",
    "#### Input : 48\n",
    "#### Output : 3\n",
    "#### For example given number is 59, the result will be 5.\n",
    "#### Step 1: 5 + 9 = 14\n",
    "#### Step 1: 1 + 4 = 5"
   ]
  },
  {
   "cell_type": "code",
   "execution_count": 6,
   "metadata": {},
   "outputs": [],
   "source": [
    "def add_digits(n:int)->int:\n",
    "    \"\"\"A function to add the digits of an integer.\n",
    "    \n",
    "    Arguments:\n",
    "    n: int : the integer whose digits are to be added\n",
    "    \n",
    "    Returns:\n",
    "    sum_of_digits: int : the sum of digits of the given integer\n",
    "    \"\"\"\n",
    "    rem:int = n//10\n",
    "    sum_of_digits:int =0\n",
    "    if rem == 0:\n",
    "        return n\n",
    "\n",
    "    while rem!=0:\n",
    "        rem:int = n//10\n",
    "        sum_of_digits += n%10\n",
    "        n=rem\n",
    "    return sum_of_digits\n"
   ]
  },
  {
   "cell_type": "code",
   "execution_count": 7,
   "metadata": {},
   "outputs": [
    {
     "data": {
      "text/plain": [
       "7"
      ]
     },
     "execution_count": 7,
     "metadata": {},
     "output_type": "execute_result"
    }
   ],
   "source": [
    "add_digits(34)"
   ]
  },
  {
   "cell_type": "code",
   "execution_count": 8,
   "metadata": {},
   "outputs": [
    {
     "data": {
      "text/plain": [
       "4"
      ]
     },
     "execution_count": 8,
     "metadata": {},
     "output_type": "execute_result"
    }
   ],
   "source": [
    "add_digits(4)"
   ]
  },
  {
   "cell_type": "code",
   "execution_count": 9,
   "metadata": {},
   "outputs": [
    {
     "data": {
      "text/plain": [
       "21"
      ]
     },
     "execution_count": 9,
     "metadata": {},
     "output_type": "execute_result"
    }
   ],
   "source": [
    "add_digits(399)"
   ]
  }
 ],
 "metadata": {
  "kernelspec": {
   "display_name": "Python 3",
   "language": "python",
   "name": "python3"
  },
  "language_info": {
   "codemirror_mode": {
    "name": "ipython",
    "version": 3
   },
   "file_extension": ".py",
   "mimetype": "text/x-python",
   "name": "python",
   "nbconvert_exporter": "python",
   "pygments_lexer": "ipython3",
   "version": "3.11.5"
  }
 },
 "nbformat": 4,
 "nbformat_minor": 2
}

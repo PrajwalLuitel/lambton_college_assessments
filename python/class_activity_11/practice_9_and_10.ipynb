{
 "cells": [
  {
   "cell_type": "markdown",
   "metadata": {},
   "source": [
    "### Prajwal Luitel (C0927658)"
   ]
  },
  {
   "cell_type": "markdown",
   "metadata": {},
   "source": [
    "#### 9-1. Restaurant: Make a class called Restaurant. The __init__() method for\n",
    "#### Restaurant should store two attributes: a restaurant_name and a cuisine_type.\n",
    "#### Make a method called describe_restaurant) that prints these two pieces of\n",
    "#### information, and a method called open _restaurant () that prints a message indi-\n",
    "#### cating that the restaurant is open.\n",
    "#### Make an instance called restaurant from your class. Print the two attri-\n",
    "#### butes individually, and then call both methods."
   ]
  },
  {
   "cell_type": "code",
   "execution_count": 1,
   "metadata": {},
   "outputs": [
    {
     "name": "stdout",
     "output_type": "stream",
     "text": [
      "The restaurant name is Thakali Khaja Ghar and the cuisine type is Nepali Traditional Food\n",
      "This restaurant is open !!\n",
      "This restaurant is closed, sorry !\n"
     ]
    }
   ],
   "source": [
    "# Creating restaurant class\n",
    "class Restaurant:\n",
    "    # Initializing the class with appropriate attributes\n",
    "    def __init__(self, restaurant_name, cuisine_type) -> None:\n",
    "        self.restaurant_name = restaurant_name\n",
    "        self.cuisine_type = cuisine_type\n",
    "        self.open = True # Initializing a new attribute to store the openness of restaurant \n",
    "\n",
    "    # Method to describe the restaurant\n",
    "    def describe_restaurant(self):\n",
    "        print(f\"The restaurant name is {self.restaurant_name} and the cuisine type is {self.cuisine_type}\")\n",
    "\n",
    "    # Method to check if the restaurant is open\n",
    "    def open_restaurant(self):\n",
    "        if self.open:\n",
    "            print(\"This restaurant is open !!\")\n",
    "        else:\n",
    "            print(\"This restaurant is closed, sorry !\")\n",
    "\n",
    "\n",
    "# Main driver code\n",
    "my_restaurant = Restaurant(\"Thakali Khaja Ghar\", \"Nepali Traditional Food\")\n",
    "my_restaurant.describe_restaurant()\n",
    "my_restaurant.open_restaurant()\n",
    "# Altering the value of open in the restaurant\n",
    "my_restaurant.open = False\n",
    "my_restaurant.open_restaurant()\n"
   ]
  },
  {
   "cell_type": "markdown",
   "metadata": {},
   "source": [
    "#### 9-2. Three Restaurants: Start with your class from Exercise 9-1. Create three different instances from the class, and call describe_restaurant () for each instance."
   ]
  },
  {
   "cell_type": "code",
   "execution_count": 2,
   "metadata": {},
   "outputs": [
    {
     "name": "stdout",
     "output_type": "stream",
     "text": [
      "The restaurant name is Thakali Khaja Ghar and the cuisine type is Nepali Traditional Food\n",
      "The restaurant name is Paramount and the cuisine type is Middle Eastern Cuisine\n",
      "The restaurant name is Edo and the cuisine type is Japanese Food\n"
     ]
    }
   ],
   "source": [
    "# Creating one instance\n",
    "restaurant_one = Restaurant(\"Thakali Khaja Ghar\", \"Nepali Traditional Food\")\n",
    "\n",
    "# Creating another instance\n",
    "restaurant_two = Restaurant(\"Paramount\", \"Middle Eastern Cuisine\")\n",
    "\n",
    "# Creating another instance\n",
    "restaurant_three = Restaurant(\"Edo\", \"Japanese Food\")\n",
    "\n",
    "# Now, calling describe_restaurant for all \n",
    "restaurant_one.describe_restaurant()\n",
    "restaurant_two.describe_restaurant()\n",
    "restaurant_three.describe_restaurant()"
   ]
  },
  {
   "cell_type": "markdown",
   "metadata": {},
   "source": [
    "#### 9-3. Users: Make a class called User. Create two attributes called first_name and last _name, and then create several other attributes that are typically stored in a user profile. Make a method called describe _user () that prints a summary of the user's information. Make another method called greet _user() that prints a personalized greeting to the user. Create several instances representing different users, and call both methods for each user."
   ]
  },
  {
   "cell_type": "code",
   "execution_count": 3,
   "metadata": {},
   "outputs": [
    {
     "name": "stdout",
     "output_type": "stream",
     "text": [
      "The user's first name is Prajwal and the user's last name is Luitel.\n",
      "Hello, Prajwal Luitel ! \n",
      "Welcome to my Program!!\n",
      "\n",
      "The user's first name is John and the user's last name is Doe.\n",
      "Hello, John Doe ! \n",
      "Welcome to my Program!!\n",
      "\n",
      "The user's first name is Samridhi and the user's last name is Parajuli.\n",
      "Hello, Samridhi Parajuli ! \n",
      "Welcome to my Program!!\n",
      "\n",
      "The user's first name is Januka and the user's last name is Poudel.\n",
      "Hello, Januka Poudel ! \n",
      "Welcome to my Program!!\n",
      "\n"
     ]
    }
   ],
   "source": [
    "# Creating user class\n",
    "class User:\n",
    "    # Initializing the parameters\n",
    "    def __init__(self, first_name, last_name) -> None:\n",
    "        self.first_name = first_name\n",
    "        self.last_name = last_name\n",
    "\n",
    "     # function to describe the user \n",
    "    def describe_user(self):\n",
    "        print(f\"The user's first name is {self.first_name} and the user's last name is {self.last_name}.\")\n",
    "    \n",
    "    # Function to greet the user\n",
    "    def greet_user(self):\n",
    "        print(f\"Hello, {self.first_name} {self.last_name} ! \\nWelcome to my Program!!\\n\")\n",
    "\n",
    "# Main driver code where the users are initialized and their methods are called\n",
    "user_one = User(\"Prajwal\", \"Luitel\")\n",
    "user_two = User(\"John\", \"Doe\")\n",
    "user_three = User(\"Samridhi\", \"Parajuli\")\n",
    "user_four = User(\"Januka\", \"Poudel\")\n",
    "\n",
    "user_one.describe_user()\n",
    "user_one.greet_user()\n",
    "\n",
    "user_two.describe_user()\n",
    "user_two.greet_user()\n",
    "\n",
    "user_three.describe_user()\n",
    "user_three.greet_user()\n",
    "\n",
    "user_four.describe_user()\n",
    "user_four.greet_user()\n",
    "\n"
   ]
  },
  {
   "cell_type": "markdown",
   "metadata": {},
   "source": [
    "### Write a method that updates the odometer in the following code and then instantiate an object and test your newly added method."
   ]
  },
  {
   "cell_type": "code",
   "execution_count": 4,
   "metadata": {},
   "outputs": [
    {
     "name": "stdout",
     "output_type": "stream",
     "text": [
      "2019 Audi A4\n",
      "This car has 0 miles on it.\n",
      "This car has 50 miles on it.\n"
     ]
    }
   ],
   "source": [
    "class Car: \n",
    "    def __init__(self, make, model, year): \n",
    "        \"\"\"Initialize attributes to describe a car.\"\"\" \n",
    "        self.make = make \n",
    "        self.model = model \n",
    "        self.year = year \n",
    "        self.odometer_reading = 0 \n",
    " \n",
    "    def get_descriptive_name(self): \n",
    "        \"\"\"Return a neatly formatted descriptive name.\"\"\" \n",
    "        long_name = f\"{self.year} {self.make} {self.model}\" \n",
    "        return long_name.title()  # titleCased value \n",
    " \n",
    "    def read_odometer(self): \n",
    "        \"\"\"Print a statement showing the car's mileage.\"\"\" \n",
    "        print(f\"This car has {self.odometer_reading} miles on it.\") \n",
    "    \n",
    "    def increment_odometer(self, miles):\n",
    "        \"\"\"Increment the value of the odometer according to the number of miles.\"\"\"\n",
    "        self.odometer_reading += abs(miles) # taking absolute value as miles travelled cannot be negative\n",
    " \n",
    "my_new_car = Car('audi', 'a4', 2019) \n",
    "print(my_new_car.get_descriptive_name()) \n",
    "my_new_car.read_odometer() \n",
    "## Now let's assume that care has been used for 50 miles \n",
    "my_new_car.increment_odometer(50)\n",
    "my_new_car.read_odometer()"
   ]
  },
  {
   "cell_type": "markdown",
   "metadata": {},
   "source": [
    "#### 9-4. Number Served: Start with your program from Exercise 9-1. Add an attribute called number_served with a default value of 0. Create an instance called restaurant from this class. Print the number of customers the restaurant has served, and then change this value and print it again. Add a method called set_ number_served() that lets you set the number of customers that have been served. Call this method with a new number and print the value again. Add a method called increment_number_ served() that lets you increment the number of customers who've been served. Call this method with any number you like that could represent how many customers were served in, say, a day of business."
   ]
  },
  {
   "cell_type": "code",
   "execution_count": 6,
   "metadata": {},
   "outputs": [
    {
     "name": "stdout",
     "output_type": "stream",
     "text": [
      "The restaurant name is Thakali Khaja Ghar and the cuisine type is Nepali Traditional Food and number of customers served is 0\n",
      "This restaurant is open !!\n",
      "This restaurant is closed, sorry !\n",
      "The number served is set as 500 successfully !!\n",
      "The restaurant name is Thakali Khaja Ghar and the cuisine type is Nepali Traditional Food and number of customers served is 500\n",
      "Number served has been increased by 25, so now it's 525\n",
      "The restaurant name is Thakali Khaja Ghar and the cuisine type is Nepali Traditional Food and number of customers served is 525\n"
     ]
    }
   ],
   "source": [
    "# Beginning with the code from previous exercise\n",
    "\n",
    "# Creating restaurant class\n",
    "class Restaurant:\n",
    "    # Initializing the class with appropriate attributes\n",
    "    def __init__(self, restaurant_name, cuisine_type) -> None:\n",
    "        self.restaurant_name = restaurant_name\n",
    "        self.cuisine_type = cuisine_type\n",
    "        self.open = True # Initializing a new attribute to store the openness of restaurant \n",
    "        self.number_served = 0 # initializing a new attribute to store the number of customers who've been served\n",
    "\n",
    "    # Method to describe the restaurant\n",
    "    def describe_restaurant(self):\n",
    "        print(f\"The restaurant name is {self.restaurant_name} and the cuisine type is {self.cuisine_type} and number of customers served is {self.number_served}\")\n",
    "\n",
    "    # Method to check if the restaurant is open\n",
    "    def open_restaurant(self):\n",
    "        if self.open:\n",
    "            print(\"This restaurant is open !!\")\n",
    "        else:\n",
    "            print(\"This restaurant is closed, sorry !\")\n",
    "    \n",
    "    # Method to set the number of customers served\n",
    "    def set_number_served(self, number_served):\n",
    "        self.number_served = number_served\n",
    "        return f\"The number served is set as {self.number_served} successfully !!\"\n",
    "\n",
    "    # Method to add the number of customers served\n",
    "    def increment_number_served(self, number_served):\n",
    "        self.number_served += number_served\n",
    "        return f\"Number served has been increased by {number_served}, so now it's {self.number_served}\"\n",
    "\n",
    "\n",
    "# Main driver code\n",
    "my_restaurant = Restaurant(\"Thakali Khaja Ghar\", \"Nepali Traditional Food\")\n",
    "my_restaurant.describe_restaurant()\n",
    "my_restaurant.open_restaurant()\n",
    "# Altering the value of open in the restaurant\n",
    "my_restaurant.open = False\n",
    "my_restaurant.open_restaurant()\n",
    "\n",
    "\n",
    "# Setting the number of customers served\n",
    "print(my_restaurant.set_number_served(500))\n",
    "my_restaurant.describe_restaurant()\n",
    "\n",
    "# Incrementing the number of customers served\n",
    "print(my_restaurant.increment_number_served(25))\n",
    "my_restaurant.describe_restaurant()\n"
   ]
  },
  {
   "cell_type": "markdown",
   "metadata": {},
   "source": [
    "#### 9-5. Login Attempts: Add an attribute called login_attempts to your User class from Exercise 9-3 Write a method called increment_login_attempts() that increments the value of login_attempts by 1. Write another method called reset_login_attempts() that resets the value of login_attempts to O. Make an instance of the User class and call increment_login _attempts) several times. Print the value of login_attempts to make sure it was incremented properly, and then call reset _login_attempts). Print login_attempts again to make sure it was reset to O."
   ]
  },
  {
   "cell_type": "code",
   "execution_count": 8,
   "metadata": {},
   "outputs": [
    {
     "name": "stdout",
     "output_type": "stream",
     "text": [
      "The user's first name is Prajwal and the user's last name is Luitel.\n",
      "Hello, Prajwal Luitel ! \n",
      "Welcome to my Program!!\n",
      "\n",
      "The user's first name is John and the user's last name is Doe.\n",
      "Hello, John Doe ! \n",
      "Welcome to my Program!!\n",
      "\n",
      "The user's first name is Samridhi and the user's last name is Parajuli.\n",
      "Hello, Samridhi Parajuli ! \n",
      "Welcome to my Program!!\n",
      "\n",
      "The user's first name is Januka and the user's last name is Poudel.\n",
      "Hello, Januka Poudel ! \n",
      "Welcome to my Program!!\n",
      "\n",
      "The login attempts for Prajwal Luitel has been successfully incremented to 1\n",
      "The login attempts for John Doe has been successfully incremented to 1\n",
      "The login attempts for Samridhi Parajuli has been successfully incremented to 1\n",
      "The login attempts for Prajwal Luitel has been successfully incremented to 2\n",
      "The login attempts for Prajwal Luitel has been successfully incremented to 3\n",
      "The login attempts for Prajwal Luitel has been reset to 0\n",
      "The login attempts for Samridhi Parajuli has been reset to 0\n"
     ]
    }
   ],
   "source": [
    "# Reusing the previous code\n",
    "\n",
    "# Creating user class\n",
    "class User:\n",
    "    # Initializing the parameters\n",
    "    def __init__(self, first_name, last_name) -> None:\n",
    "        self.first_name = first_name\n",
    "        self.last_name = last_name\n",
    "        self.login_attempts = 0\n",
    "\n",
    "    # function to describe the user \n",
    "    def describe_user(self):\n",
    "        print(f\"The user's first name is {self.first_name} and the user's last name is {self.last_name}.\")\n",
    "    \n",
    "    # Function to greet the user\n",
    "    def greet_user(self):\n",
    "        print(f\"Hello, {self.first_name} {self.last_name} ! \\nWelcome to my Program!!\\n\")\n",
    "\n",
    "    # Method to increment login attempts\n",
    "    def increment_login_attempts(self):\n",
    "        self.login_attempts += 1\n",
    "        print(f\"The login attempts for {self.first_name} {self.last_name} has been successfully incremented to {self.login_attempts}\")\n",
    "\n",
    "    # Method to reset login attempts\n",
    "    def reset_login_attempts(self):\n",
    "        self.login_attempts = 0\n",
    "        print(f\"The login attempts for {self.first_name} {self.last_name} has been reset to {self.login_attempts}\")\n",
    "\n",
    "# Main driver code where the users are initialized and their methods are called\n",
    "user_one = User(\"Prajwal\", \"Luitel\")\n",
    "user_two = User(\"John\", \"Doe\")\n",
    "user_three = User(\"Samridhi\", \"Parajuli\")\n",
    "user_four = User(\"Januka\", \"Poudel\")\n",
    "\n",
    "user_one.describe_user()\n",
    "user_one.greet_user()\n",
    "\n",
    "user_two.describe_user()\n",
    "user_two.greet_user()\n",
    "\n",
    "user_three.describe_user()\n",
    "user_three.greet_user()\n",
    "\n",
    "user_four.describe_user()\n",
    "user_four.greet_user()\n",
    "\n",
    "# Incrementing the login attempts for users\n",
    "user_one.increment_login_attempts()\n",
    "user_two.increment_login_attempts()\n",
    "user_three.increment_login_attempts()\n",
    "user_one.increment_login_attempts()\n",
    "user_one.increment_login_attempts()\n",
    "\n",
    "# Reseting the login attempts for users\n",
    "user_one.reset_login_attempts()\n",
    "user_three.reset_login_attempts()\n"
   ]
  },
  {
   "cell_type": "code",
   "execution_count": null,
   "metadata": {},
   "outputs": [],
   "source": []
  }
 ],
 "metadata": {
  "kernelspec": {
   "display_name": "Python 3",
   "language": "python",
   "name": "python3"
  },
  "language_info": {
   "codemirror_mode": {
    "name": "ipython",
    "version": 3
   },
   "file_extension": ".py",
   "mimetype": "text/x-python",
   "name": "python",
   "nbconvert_exporter": "python",
   "pygments_lexer": "ipython3",
   "version": "3.11.5"
  }
 },
 "nbformat": 4,
 "nbformat_minor": 2
}

{
 "cells": [
  {
   "cell_type": "markdown",
   "metadata": {},
   "source": [
    "# Class Activity 3 "
   ]
  },
  {
   "cell_type": "code",
   "execution_count": 1,
   "metadata": {},
   "outputs": [
    {
     "name": "stdout",
     "output_type": "stream",
     "text": [
      "Hello, this is a simple message !\n",
      "This is a changed simple message, it is different from the previous\n"
     ]
    }
   ],
   "source": [
    "\"\"\"A program to print the messages in the following ways:\n",
    "\n",
    "2-1. simple message: Assign a message to a variable and then print that message\n",
    "\n",
    "2-2. Simple Messages: Assign a message to a variable, and print that message. Then change the value of the variable to a new message, and print the new message\n",
    "\"\"\"\n",
    "\n",
    "\n",
    "\n",
    "# assigning a variable\n",
    "simple_message = \"Hello, this is a simple message !\"\n",
    "# printing the assigned message using the print() function\n",
    "print(simple_message)\n",
    "\n",
    "# now, changing the value of the variable\n",
    "simple_message = \"This is a changed simple message, it is different from the previous\"\n",
    "# printing the assigned message using the print() function\n",
    "print(simple_message)"
   ]
  },
  {
   "cell_type": "code",
   "execution_count": 2,
   "metadata": {},
   "outputs": [
    {
     "name": "stdout",
     "output_type": "stream",
     "text": [
      "Hello, Prajwal Luitel, Welcome to the python class\n"
     ]
    }
   ],
   "source": [
    "\"\"\"\n",
    "2-3. Personal Message: Use a variable to respresent a person's name, and print a message to that person\n",
    "\"\"\"\n",
    "\n",
    "# variable that stores name of the person\n",
    "person_name = \"Prajwal Luitel\"\n",
    "# printing the assigned message using the print() function\n",
    "print(f\"Hello, {person_name}, Welcome to the python class\")\n"
   ]
  },
  {
   "cell_type": "code",
   "execution_count": 3,
   "metadata": {},
   "outputs": [
    {
     "name": "stdout",
     "output_type": "stream",
     "text": [
      "Name in lower case : prajwal luitel\n",
      "Name in upper case : PRAJWAL LUITEL\n",
      "Name in title case : Prajwal Luitel\n"
     ]
    }
   ],
   "source": [
    "\"\"\"\n",
    "2-4. Name Cases: Use a variable to represent a person's name, and then print that person's name in lowercase, uppercase and title case\n",
    "\"\"\"\n",
    "\n",
    "# storing name of the person\n",
    "person_name = \"Prajwal Luitel\"\n",
    "\n",
    "# printing the name in lowercase\n",
    "print(f\"Name in lower case : {person_name.lower()}\")\n",
    "\n",
    "# printing the name in upper case\n",
    "print(f\"Name in upper case : {person_name.upper()}\")\n",
    "\n",
    "# printing the name in title case\n",
    "print(f\"Name in title case : {person_name.title()}\")\n"
   ]
  },
  {
   "cell_type": "code",
   "execution_count": 4,
   "metadata": {},
   "outputs": [
    {
     "name": "stdout",
     "output_type": "stream",
     "text": [
      "Albert Einstein once said, \"A person who never made a mistake never tried anything new\n"
     ]
    }
   ],
   "source": [
    "\"\"\"\n",
    "2-5. Famous Quotes: Find a quote from a famous person you admire. Print the quote and the name of it's author. Output should look like:\n",
    "\n",
    "Albert Einstein once said, \"A person who never made a mistake never tried anything new\"\n",
    "\"\"\"\n",
    "\n",
    "# displaying the result\n",
    "print('Albert Einstein once said, \"A person who never made a mistake never tried anything new')"
   ]
  },
  {
   "cell_type": "code",
   "execution_count": 5,
   "metadata": {},
   "outputs": [
    {
     "name": "stdout",
     "output_type": "stream",
     "text": [
      "Albert Einstein said, \"A person who never made a mistake never tried anything new.\"\n"
     ]
    }
   ],
   "source": [
    "\"\"\"\n",
    "2-6. Famous Quote 2: repeat exercise 2-5 but this time, represent the famous person's name using a variable called famous_person,\n",
    "    then, compose your message and store it in variable called message. Print your message\n",
    "\"\"\"\n",
    "# storing author of the quote\n",
    "famous_person = \"Albert Einstein\"\n",
    "\n",
    "# storing the quote\n",
    "message = \"A person who never made a mistake never tried anything new.\"\n",
    "\n",
    "# Displaying the quote with the author\n",
    "print(f'{famous_person} said, \"{message}\"')"
   ]
  },
  {
   "cell_type": "code",
   "execution_count": 6,
   "metadata": {},
   "outputs": [
    {
     "name": "stdout",
     "output_type": "stream",
     "text": [
      "It is stored as: \n",
      "\tPrajwal \n",
      " Luitel\n",
      "\n",
      "\n",
      "Using lstrip: \n",
      "Prajwal \n",
      " Luitel\n",
      "\n",
      "\n",
      "Using rstrip: \n",
      "\tPrajwal \n",
      " Luitel\n",
      "\n",
      "\n",
      "Using strip: \n",
      "Prajwal \n",
      " Luitel\n"
     ]
    }
   ],
   "source": [
    "\"\"\"\n",
    "2-7. Stripping Names: Use a variable to represent a person's name, and incluse some whitespace characters at the beginning and end of the name. Make sure you use each character combination \"\\t\" and \"\\n\" at least once.\n",
    "    Print the name once, so whitespace is displayed, then print same using each of three stripping functions : lstrip(), rstrip() and strip()\n",
    "\"\"\"\n",
    "\n",
    "# storing the name\n",
    "name = \"\\tPrajwal \\n Luitel\"\n",
    "\n",
    "# Displaying as it is\n",
    "print(\"It is stored as: \\n\"+name)\n",
    "\n",
    "# displaying using lstrip\n",
    "print(\"\\n\\nUsing lstrip: \\n\"+name.lstrip())\n",
    "\n",
    "# displaying using rstrip\n",
    "print(\"\\n\\nUsing rstrip: \\n\"+name.rstrip())\n",
    "\n",
    "# Displaying using strip\n",
    "print(\"\\n\\nUsing strip: \\n\"+name.strip())"
   ]
  },
  {
   "cell_type": "code",
   "execution_count": 7,
   "metadata": {},
   "outputs": [
    {
     "name": "stdout",
     "output_type": "stream",
     "text": [
      "5+3 = 8\n",
      "11-3 = 8\n",
      "4x2 = 8\n",
      "16/2 = 8.0\n"
     ]
    }
   ],
   "source": [
    "\"\"\"\n",
    "2-8. Number Eight: Write addition, subtraction, multiplication, and division operations that each result in the number 8. Be sure to enclose your operations in print()\n",
    "\"\"\"\n",
    "\n",
    "# Addition for 8\n",
    "print(f\"5+3 = {5+3}\")\n",
    "\n",
    "# Subtraction for 8\n",
    "print(f\"11-3 = {11-3}\")\n",
    "\n",
    "# Multiplication for 8\n",
    "print(f\"4x2 = {4*2}\")\n",
    "\n",
    "# Division for 8\n",
    "print(f\"16/2 = {16/2}\")\n"
   ]
  },
  {
   "cell_type": "code",
   "execution_count": 8,
   "metadata": {},
   "outputs": [
    {
     "name": "stdout",
     "output_type": "stream",
     "text": [
      "My favorite number is 1\n"
     ]
    }
   ],
   "source": [
    "\"\"\"\n",
    "2-9. Favorite Number: Use a variable to represent your favorite number. Then, using that variable, create a message that reveals your favorite number. Print that message\n",
    "\"\"\"\n",
    "\n",
    "# Storing favorite number\n",
    "favorite_number = 1\n",
    "\n",
    "# Displaying the favorite number\n",
    "print(f\"My favorite number is {favorite_number}\")\n"
   ]
  }
 ],
 "metadata": {
  "kernelspec": {
   "display_name": "Python 3",
   "language": "python",
   "name": "python3"
  },
  "language_info": {
   "codemirror_mode": {
    "name": "ipython",
    "version": 3
   },
   "file_extension": ".py",
   "mimetype": "text/x-python",
   "name": "python",
   "nbconvert_exporter": "python",
   "pygments_lexer": "ipython3",
   "version": "3.11.5"
  }
 },
 "nbformat": 4,
 "nbformat_minor": 2
}

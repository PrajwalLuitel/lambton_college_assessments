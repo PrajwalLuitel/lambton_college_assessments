{
 "cells": [
  {
   "cell_type": "markdown",
   "metadata": {},
   "source": [
    "## Activity 02: Indexing, Slicing, and Iterating"
   ]
  },
  {
   "cell_type": "markdown",
   "metadata": {},
   "source": [
    "Our client wants to prove that our dataset is nicely distributed around the mean value of 100.   \n",
    "They asked us to run some tests on several subsections of it to make sure they won't get a non-descriptive section of our data.\n",
    "\n",
    "Look at the mean value of each subtask."
   ]
  },
  {
   "cell_type": "markdown",
   "metadata": {},
   "source": [
    "#### Loading the dataset"
   ]
  },
  {
   "cell_type": "code",
   "execution_count": 1,
   "metadata": {},
   "outputs": [],
   "source": [
    "# importing the necessary dependencies\n",
    "import numpy as np"
   ]
  },
  {
   "cell_type": "code",
   "execution_count": 2,
   "metadata": {},
   "outputs": [],
   "source": [
    "# loading the Dataset\n",
    "dataset = np.genfromtxt('./data/normal_distribution.csv', delimiter=',')"
   ]
  },
  {
   "cell_type": "markdown",
   "metadata": {},
   "source": [
    "---"
   ]
  },
  {
   "cell_type": "markdown",
   "metadata": {},
   "source": [
    "#### Indexing"
   ]
  },
  {
   "cell_type": "markdown",
   "metadata": {},
   "source": [
    "Since we need several rows of our dataset to complete the given task, we have to use indexing to get the right rows.   \n",
    "To recap, we need: \n",
    "- the second row \n",
    "- the last row\n",
    "- the first value of the first row\n",
    "- the last value of the second to the last row"
   ]
  },
  {
   "cell_type": "code",
   "execution_count": 3,
   "metadata": {},
   "outputs": [
    {
     "name": "stdout",
     "output_type": "stream",
     "text": [
      "The second row is: [ 92.02628776  97.10439252  99.32066924  97.24584816  92.9267508\n",
      "  92.65657752 105.7197853  101.23162942  93.87155456]\n"
     ]
    }
   ],
   "source": [
    "# indexing the second row of the dataset (2nd row)\n",
    "print(f\"The second row is: {dataset[1]}\")"
   ]
  },
  {
   "cell_type": "code",
   "execution_count": 4,
   "metadata": {},
   "outputs": [
    {
     "name": "stdout",
     "output_type": "stream",
     "text": [
      "The last row of dataset is: [ 94.11176915  99.62387832 104.51786419  97.62787811  93.97853495\n",
      "  98.75108352 106.05042487 100.07721494 106.89005002]\n"
     ]
    }
   ],
   "source": [
    "# indexing the last element of the dataset (last row)\n",
    "print(f\"The last row of dataset is: {dataset[-1]}\")"
   ]
  },
  {
   "cell_type": "code",
   "execution_count": 5,
   "metadata": {},
   "outputs": [
    {
     "name": "stdout",
     "output_type": "stream",
     "text": [
      "The first value of the second row is: 92.02628776\n"
     ]
    }
   ],
   "source": [
    "# indexing the first value of the second row (1st row, 1st value)\n",
    "print(f\"The first value of the second row is: {dataset[1][0]}\")"
   ]
  },
  {
   "cell_type": "code",
   "execution_count": 6,
   "metadata": {},
   "outputs": [
    {
     "name": "stdout",
     "output_type": "stream",
     "text": [
      "The last value of second to last row is: 101.2226037\n"
     ]
    }
   ],
   "source": [
    "# indexing the last value of the second to last row (we want to use the combined access syntax here) \n",
    "print(f\"The last value of second to last row is: {dataset[-2][-1]}\")"
   ]
  },
  {
   "cell_type": "markdown",
   "metadata": {},
   "source": [
    "---"
   ]
  },
  {
   "cell_type": "markdown",
   "metadata": {},
   "source": [
    "#### Slicing"
   ]
  },
  {
   "cell_type": "markdown",
   "metadata": {},
   "source": [
    "Other than the single rows and values we also need to get some subsets of the dataset.   \n",
    "Here we want slices:\n",
    "- a 2x2 slice starting from the second row and second element to the 4th element in the 4th row\n",
    "- every other element of the 5th row\n",
    "- the content of the last row in reversed order"
   ]
  },
  {
   "cell_type": "code",
   "execution_count": 7,
   "metadata": {},
   "outputs": [
    {
     "name": "stdout",
     "output_type": "stream",
     "text": [
      "The first two rows and first two columns are: [[ 99.14931546 104.03852715]\n",
      " [ 92.02628776  97.10439252]]\n"
     ]
    }
   ],
   "source": [
    "# slicing an intersection of 4 elements (2x2) of the first two rows and first two columns\n",
    "print(f\"The first two rows and first two columns are: {dataset[:2, :2]}\")"
   ]
  },
  {
   "cell_type": "markdown",
   "metadata": {},
   "source": [
    "##### Why is it not a problem if such a small subsection has a bigger standard deviation from 100?"
   ]
  },
  {
   "cell_type": "markdown",
   "metadata": {},
   "source": [
    "Several smaller values can cluster in such a small subsection leading to the value being really low.   \n",
    "If we make our subsection larger, we have a higher chance of getting a more expressive view of our data."
   ]
  },
  {
   "cell_type": "code",
   "execution_count": 9,
   "metadata": {},
   "outputs": [
    {
     "name": "stdout",
     "output_type": "stream",
     "text": [
      "The second element of fifth row: [101.20862522 100.28690912  93.37126331 100.79478953  96.10020311]\n"
     ]
    }
   ],
   "source": [
    "# selecting every second element of the fifth row \n",
    "print(f\"The second element of fifth row: {dataset[4, ::2]}\")"
   ]
  },
  {
   "cell_type": "code",
   "execution_count": 10,
   "metadata": {},
   "outputs": [
    {
     "name": "stdout",
     "output_type": "stream",
     "text": [
      "The first two rows in reversed order is: [[101.34745901  98.56783189  96.81964892  98.80833412  98.74986914\n",
      "   97.85230675 107.43534677 104.03852715  99.14931546]\n",
      " [ 93.87155456 101.23162942 105.7197853   92.65657752  92.9267508\n",
      "   97.24584816  99.32066924  97.10439252  92.02628776]]\n"
     ]
    }
   ],
   "source": [
    "# reversing the entry order, selecting the first two rows in reversed order\n",
    "print(f\"The first two rows in reversed order is: {dataset[:2, ::-1]}\")"
   ]
  },
  {
   "cell_type": "markdown",
   "metadata": {},
   "source": [
    "---"
   ]
  },
  {
   "cell_type": "markdown",
   "metadata": {},
   "source": [
    "#### Splitting"
   ]
  },
  {
   "cell_type": "markdown",
   "metadata": {},
   "source": [
    "Our client's team only wants to use a small subset of the given dataset.   \n",
    "Therefore we need to first split it into 3 equal pieces and then give them the first half of the first split.   \n",
    "They sent us this drawing to show us what they need:\n",
    "```\n",
    "1, 2, 3, 4, 5, 6          1, 2     3, 4    5, 6          1, 2  \n",
    "3, 2, 1, 5, 4, 6    =>    3, 2     1, 5    4, 6    =>    3, 2    =>    1, 2\n",
    "5, 3, 1, 2, 4, 3          5, 3     1, 2    4, 3                        3, 2\n",
    "1, 2, 2, 4, 1, 5          1, 2     2, 4    1, 5          5, 3\n",
    "                                                         1, 2\n",
    "```\n",
    "\n",
    "> **Note:**   \n",
    "We are using a very small dataset here but imagine you have a huge amount of data and only want to look at a small subset of it to tweak your visualizations"
   ]
  },
  {
   "cell_type": "code",
   "execution_count": 12,
   "metadata": {},
   "outputs": [
    {
     "name": "stdout",
     "output_type": "stream",
     "text": [
      "The first split: [[ 99.14931546 104.03852715 107.43534677]\n",
      " [ 92.02628776  97.10439252  99.32066924]\n",
      " [ 95.66253664  95.17750125  90.93318132]\n",
      " [ 91.37294597 100.96781394 100.40118279]\n",
      " [101.20862522 103.5730309  100.28690912]\n",
      " [102.80387079  98.29687616  93.24376389]\n",
      " [106.71751618 102.97585605  98.45723272]\n",
      " [ 96.02548256 102.82360856 106.47551845]\n",
      " [105.30350449  92.87730812 103.19258339]\n",
      " [110.44484313  93.87155456 101.5363647 ]\n",
      " [101.3514185  100.37372248 106.6471081 ]\n",
      " [ 97.21315663 107.02874163 102.17642112]\n",
      " [ 95.65982034 107.22482426 107.19119932]\n",
      " [100.39303522  92.0108226   97.75887636]\n",
      " [103.1521596  109.40523174  93.83969256]\n",
      " [106.11454989  88.80221141  94.5081787 ]\n",
      " [ 96.78266211  99.84251605 104.03478031]\n",
      " [101.86186193 103.61720152  99.57859892]\n",
      " [ 97.49594839  96.59385486 104.63817694]\n",
      " [ 96.76814836  91.6779221  101.79132774]\n",
      " [106.89005002 106.57364584 102.26648279]\n",
      " [ 99.80873105 101.63973121 106.46476468]\n",
      " [ 96.10020311  94.57421727 100.80409326]\n",
      " [ 94.11176915  99.62387832 104.51786419]]\n"
     ]
    }
   ],
   "source": [
    "# splitting up our dataset horizontally on indices one third and two thirds\n",
    "horizontally_splitted_dataset = np.array_split(dataset, 3, axis=1)\n",
    "# print(f\"Splitted data: {horizontally_splitted_dataset}\")\n",
    "print(f\"The first split: {horizontally_splitted_dataset[0]}\")"
   ]
  },
  {
   "cell_type": "code",
   "execution_count": 15,
   "metadata": {},
   "outputs": [
    {
     "name": "stdout",
     "output_type": "stream",
     "text": [
      "The first split of vertically splitted data is: [[ 99.14931546 104.03852715 107.43534677]\n",
      " [ 92.02628776  97.10439252  99.32066924]]\n"
     ]
    }
   ],
   "source": [
    "# splitting up our dataset vertically on index 2\n",
    "vertically_splitted_dataset = np.array_split(horizontally_splitted_dataset, 2, axis=1)\n",
    "print(f\"The first split of vertically splitted data is: {vertically_splitted_dataset[0][0]}\")"
   ]
  },
  {
   "cell_type": "markdown",
   "metadata": {},
   "source": [
    "---"
   ]
  },
  {
   "cell_type": "markdown",
   "metadata": {},
   "source": [
    "#### Iterating"
   ]
  },
  {
   "cell_type": "markdown",
   "metadata": {},
   "source": [
    "Once you sent over the dataset they tell you that they also need a way iterate over the whole dataset element by element as if it would be a one-dimensional list.   \n",
    "However, they want to also now the position in the dataset itself.\n",
    "\n",
    "They send you this piece of code and tell you that it's not working as mentioned.   \n",
    "Come up with the right solution for their needs."
   ]
  },
  {
   "cell_type": "code",
   "execution_count": 22,
   "metadata": {},
   "outputs": [
    {
     "name": "stdout",
     "output_type": "stream",
     "text": [
      "99.14931546 0\n",
      "104.03852715 1\n",
      "107.43534677 2\n",
      "97.85230675 3\n",
      "98.74986914 4\n",
      "98.80833412 5\n",
      "96.81964892 6\n",
      "98.56783189 7\n",
      "101.34745901 8\n",
      "92.02628776 9\n",
      "97.10439252 10\n",
      "99.32066924 11\n",
      "97.24584816 12\n",
      "92.9267508 13\n",
      "92.65657752 14\n",
      "105.7197853 15\n",
      "101.23162942 16\n",
      "93.87155456 17\n",
      "95.66253664 18\n",
      "95.17750125 19\n",
      "90.93318132 20\n",
      "110.18889465 21\n",
      "98.80084371 22\n",
      "105.95297652 23\n",
      "98.37481387 24\n",
      "106.54654286 25\n",
      "107.22482426 26\n",
      "91.37294597 27\n",
      "100.96781394 28\n",
      "100.40118279 29\n",
      "113.42090475 30\n",
      "105.48508838 31\n",
      "91.6604946 32\n",
      "106.1472841 33\n",
      "95.08715803 34\n",
      "103.40412146 35\n",
      "101.20862522 36\n",
      "103.5730309 37\n",
      "100.28690912 38\n",
      "105.85269352 39\n",
      "93.37126331 40\n",
      "108.57980357 41\n",
      "100.79478953 42\n",
      "94.20019732 43\n",
      "96.10020311 44\n",
      "102.80387079 45\n",
      "98.29687616 46\n",
      "93.24376389 47\n",
      "97.24130034 48\n",
      "89.03452725 49\n",
      "96.2832753 50\n",
      "104.60344836 51\n",
      "101.13442416 52\n",
      "97.62787811 53\n",
      "106.71751618 54\n",
      "102.97585605 55\n",
      "98.45723272 56\n",
      "100.72418901 57\n",
      "106.39798503 58\n",
      "95.46493436 59\n",
      "94.35373179 60\n",
      "106.83273763 61\n",
      "100.07721494 62\n",
      "96.02548256 63\n",
      "102.82360856 64\n",
      "106.47551845 65\n",
      "101.34745901 66\n",
      "102.45651798 67\n",
      "98.74767493 68\n",
      "97.57544275 69\n",
      "92.5748759 70\n",
      "91.37294597 71\n",
      "105.30350449 72\n",
      "92.87730812 73\n",
      "103.19258339 74\n",
      "104.40518318 75\n",
      "101.29326772 76\n",
      "100.85447132 77\n",
      "101.2226037 78\n",
      "106.03868807 79\n",
      "97.85230675 80\n",
      "110.44484313 81\n",
      "93.87155456 82\n",
      "101.5363647 83\n",
      "97.65393524 84\n",
      "92.75048583 85\n",
      "101.72074646 86\n",
      "96.96851209 87\n",
      "103.29147111 88\n",
      "99.14931546 89\n",
      "101.3514185 90\n",
      "100.37372248 91\n",
      "106.6471081 92\n",
      "100.61742813 93\n",
      "105.0320535 94\n",
      "99.35999981 95\n",
      "98.87007532 96\n",
      "95.85284217 97\n",
      "93.97853495 98\n",
      "97.21315663 99\n",
      "107.02874163 100\n",
      "102.17642112 101\n",
      "96.74630281 102\n",
      "95.93799169 103\n",
      "102.62384733 104\n",
      "105.07475277 105\n",
      "97.59572169 106\n",
      "106.57364584 107\n",
      "95.65982034 108\n",
      "107.22482426 109\n",
      "107.19119932 110\n",
      "102.93039474 111\n",
      "85.98839623 112\n",
      "95.19184343 113\n",
      "91.32093303 114\n",
      "102.35313953 115\n",
      "100.39303522 116\n",
      "100.39303522 117\n",
      "92.0108226 118\n",
      "97.75887636 119\n",
      "93.18884302 120\n",
      "100.44940274 121\n",
      "108.09423367 122\n",
      "96.50342927 123\n",
      "99.58664719 124\n",
      "95.19184343 125\n",
      "103.1521596 126\n",
      "109.40523174 127\n",
      "93.83969256 128\n",
      "99.95827854 129\n",
      "101.83462816 130\n",
      "99.69982772 131\n",
      "103.05289628 132\n",
      "103.93383957 133\n",
      "104.15899829 134\n",
      "106.11454989 135\n",
      "88.80221141 136\n",
      "94.5081787 137\n",
      "94.59300658 138\n",
      "101.08830521 139\n",
      "96.34622848 140\n",
      "96.89244283 141\n",
      "98.07122664 142\n",
      "100.28690912 143\n",
      "96.78266211 144\n",
      "99.84251605 145\n",
      "104.03478031 146\n",
      "106.57052697 147\n",
      "105.13668343 148\n",
      "105.37011896 149\n",
      "99.07551254 150\n",
      "104.15899829 151\n",
      "98.75108352 152\n",
      "101.86186193 153\n",
      "103.61720152 154\n",
      "99.57859892 155\n",
      "99.4889538 156\n",
      "103.05541444 157\n",
      "98.65912661 158\n",
      "98.72774132 159\n",
      "104.70526438 160\n",
      "110.44484313 161\n",
      "97.49594839 162\n",
      "96.59385486 163\n",
      "104.63817694 164\n",
      "102.55198606 165\n",
      "105.86078488 166\n",
      "96.5937781 167\n",
      "93.04610867 168\n",
      "99.92159953 169\n",
      "100.96781394 170\n",
      "96.76814836 171\n",
      "91.6779221 172\n",
      "101.79132774 173\n",
      "101.20773355 174\n",
      "98.29243952 175\n",
      "101.83845792 176\n",
      "97.94046856 177\n",
      "102.20618501 178\n",
      "91.37294597 179\n",
      "106.89005002 180\n",
      "106.57364584 181\n",
      "102.26648279 182\n",
      "107.40064604 183\n",
      "99.94318168 184\n",
      "103.40412146 185\n",
      "106.38276709 186\n",
      "98.00253006 187\n",
      "97.10439252 188\n",
      "99.80873105 189\n",
      "101.63973121 190\n",
      "106.46476468 191\n",
      "110.43976681 192\n",
      "100.69156231 193\n",
      "99.99579473 194\n",
      "101.32113654 195\n",
      "94.76253572 196\n",
      "97.24130034 197\n",
      "96.10020311 198\n",
      "94.57421727 199\n",
      "100.80409326 200\n",
      "105.02389857 201\n",
      "98.61325194 202\n",
      "95.62359311 203\n",
      "97.99762409 204\n",
      "103.83852459 205\n",
      "101.2226037 206\n",
      "94.11176915 207\n",
      "99.62387832 208\n",
      "104.51786419 209\n",
      "97.62787811 210\n",
      "93.97853495 211\n",
      "98.75108352 212\n",
      "106.05042487 213\n",
      "100.07721494 214\n",
      "106.89005002 215\n"
     ]
    }
   ],
   "source": [
    "# iterating over whole dataset (each value in each row)\n",
    "curr_index = 0\n",
    "for x in np.nditer(dataset.T):\n",
    "    print(x, curr_index)\n",
    "    curr_index += 1"
   ]
  },
  {
   "cell_type": "code",
   "execution_count": 23,
   "metadata": {},
   "outputs": [
    {
     "name": "stdout",
     "output_type": "stream",
     "text": [
      "Value: 99.14931546, Index: (0, 0)\n",
      "Value: 104.03852715, Index: (0, 1)\n",
      "Value: 107.43534677, Index: (0, 2)\n",
      "Value: 97.85230675, Index: (0, 3)\n",
      "Value: 98.74986914, Index: (0, 4)\n",
      "Value: 98.80833412, Index: (0, 5)\n",
      "Value: 96.81964892, Index: (0, 6)\n",
      "Value: 98.56783189, Index: (0, 7)\n",
      "Value: 101.34745901, Index: (0, 8)\n",
      "Value: 92.02628776, Index: (1, 0)\n",
      "Value: 97.10439252, Index: (1, 1)\n",
      "Value: 99.32066924, Index: (1, 2)\n",
      "Value: 97.24584816, Index: (1, 3)\n",
      "Value: 92.9267508, Index: (1, 4)\n",
      "Value: 92.65657752, Index: (1, 5)\n",
      "Value: 105.7197853, Index: (1, 6)\n",
      "Value: 101.23162942, Index: (1, 7)\n",
      "Value: 93.87155456, Index: (1, 8)\n",
      "Value: 95.66253664, Index: (2, 0)\n",
      "Value: 95.17750125, Index: (2, 1)\n",
      "Value: 90.93318132, Index: (2, 2)\n",
      "Value: 110.18889465, Index: (2, 3)\n",
      "Value: 98.80084371, Index: (2, 4)\n",
      "Value: 105.95297652, Index: (2, 5)\n",
      "Value: 98.37481387, Index: (2, 6)\n",
      "Value: 106.54654286, Index: (2, 7)\n",
      "Value: 107.22482426, Index: (2, 8)\n",
      "Value: 91.37294597, Index: (3, 0)\n",
      "Value: 100.96781394, Index: (3, 1)\n",
      "Value: 100.40118279, Index: (3, 2)\n",
      "Value: 113.42090475, Index: (3, 3)\n",
      "Value: 105.48508838, Index: (3, 4)\n",
      "Value: 91.6604946, Index: (3, 5)\n",
      "Value: 106.1472841, Index: (3, 6)\n",
      "Value: 95.08715803, Index: (3, 7)\n",
      "Value: 103.40412146, Index: (3, 8)\n",
      "Value: 101.20862522, Index: (4, 0)\n",
      "Value: 103.5730309, Index: (4, 1)\n",
      "Value: 100.28690912, Index: (4, 2)\n",
      "Value: 105.85269352, Index: (4, 3)\n",
      "Value: 93.37126331, Index: (4, 4)\n",
      "Value: 108.57980357, Index: (4, 5)\n",
      "Value: 100.79478953, Index: (4, 6)\n",
      "Value: 94.20019732, Index: (4, 7)\n",
      "Value: 96.10020311, Index: (4, 8)\n",
      "Value: 102.80387079, Index: (5, 0)\n",
      "Value: 98.29687616, Index: (5, 1)\n",
      "Value: 93.24376389, Index: (5, 2)\n",
      "Value: 97.24130034, Index: (5, 3)\n",
      "Value: 89.03452725, Index: (5, 4)\n",
      "Value: 96.2832753, Index: (5, 5)\n",
      "Value: 104.60344836, Index: (5, 6)\n",
      "Value: 101.13442416, Index: (5, 7)\n",
      "Value: 97.62787811, Index: (5, 8)\n",
      "Value: 106.71751618, Index: (6, 0)\n",
      "Value: 102.97585605, Index: (6, 1)\n",
      "Value: 98.45723272, Index: (6, 2)\n",
      "Value: 100.72418901, Index: (6, 3)\n",
      "Value: 106.39798503, Index: (6, 4)\n",
      "Value: 95.46493436, Index: (6, 5)\n",
      "Value: 94.35373179, Index: (6, 6)\n",
      "Value: 106.83273763, Index: (6, 7)\n",
      "Value: 100.07721494, Index: (6, 8)\n",
      "Value: 96.02548256, Index: (7, 0)\n",
      "Value: 102.82360856, Index: (7, 1)\n",
      "Value: 106.47551845, Index: (7, 2)\n",
      "Value: 101.34745901, Index: (7, 3)\n",
      "Value: 102.45651798, Index: (7, 4)\n",
      "Value: 98.74767493, Index: (7, 5)\n",
      "Value: 97.57544275, Index: (7, 6)\n",
      "Value: 92.5748759, Index: (7, 7)\n",
      "Value: 91.37294597, Index: (7, 8)\n",
      "Value: 105.30350449, Index: (8, 0)\n",
      "Value: 92.87730812, Index: (8, 1)\n",
      "Value: 103.19258339, Index: (8, 2)\n",
      "Value: 104.40518318, Index: (8, 3)\n",
      "Value: 101.29326772, Index: (8, 4)\n",
      "Value: 100.85447132, Index: (8, 5)\n",
      "Value: 101.2226037, Index: (8, 6)\n",
      "Value: 106.03868807, Index: (8, 7)\n",
      "Value: 97.85230675, Index: (8, 8)\n",
      "Value: 110.44484313, Index: (9, 0)\n",
      "Value: 93.87155456, Index: (9, 1)\n",
      "Value: 101.5363647, Index: (9, 2)\n",
      "Value: 97.65393524, Index: (9, 3)\n",
      "Value: 92.75048583, Index: (9, 4)\n",
      "Value: 101.72074646, Index: (9, 5)\n",
      "Value: 96.96851209, Index: (9, 6)\n",
      "Value: 103.29147111, Index: (9, 7)\n",
      "Value: 99.14931546, Index: (9, 8)\n",
      "Value: 101.3514185, Index: (10, 0)\n",
      "Value: 100.37372248, Index: (10, 1)\n",
      "Value: 106.6471081, Index: (10, 2)\n",
      "Value: 100.61742813, Index: (10, 3)\n",
      "Value: 105.0320535, Index: (10, 4)\n",
      "Value: 99.35999981, Index: (10, 5)\n",
      "Value: 98.87007532, Index: (10, 6)\n",
      "Value: 95.85284217, Index: (10, 7)\n",
      "Value: 93.97853495, Index: (10, 8)\n",
      "Value: 97.21315663, Index: (11, 0)\n",
      "Value: 107.02874163, Index: (11, 1)\n",
      "Value: 102.17642112, Index: (11, 2)\n",
      "Value: 96.74630281, Index: (11, 3)\n",
      "Value: 95.93799169, Index: (11, 4)\n",
      "Value: 102.62384733, Index: (11, 5)\n",
      "Value: 105.07475277, Index: (11, 6)\n",
      "Value: 97.59572169, Index: (11, 7)\n",
      "Value: 106.57364584, Index: (11, 8)\n",
      "Value: 95.65982034, Index: (12, 0)\n",
      "Value: 107.22482426, Index: (12, 1)\n",
      "Value: 107.19119932, Index: (12, 2)\n",
      "Value: 102.93039474, Index: (12, 3)\n",
      "Value: 85.98839623, Index: (12, 4)\n",
      "Value: 95.19184343, Index: (12, 5)\n",
      "Value: 91.32093303, Index: (12, 6)\n",
      "Value: 102.35313953, Index: (12, 7)\n",
      "Value: 100.39303522, Index: (12, 8)\n",
      "Value: 100.39303522, Index: (13, 0)\n",
      "Value: 92.0108226, Index: (13, 1)\n",
      "Value: 97.75887636, Index: (13, 2)\n",
      "Value: 93.18884302, Index: (13, 3)\n",
      "Value: 100.44940274, Index: (13, 4)\n",
      "Value: 108.09423367, Index: (13, 5)\n",
      "Value: 96.50342927, Index: (13, 6)\n",
      "Value: 99.58664719, Index: (13, 7)\n",
      "Value: 95.19184343, Index: (13, 8)\n",
      "Value: 103.1521596, Index: (14, 0)\n",
      "Value: 109.40523174, Index: (14, 1)\n",
      "Value: 93.83969256, Index: (14, 2)\n",
      "Value: 99.95827854, Index: (14, 3)\n",
      "Value: 101.83462816, Index: (14, 4)\n",
      "Value: 99.69982772, Index: (14, 5)\n",
      "Value: 103.05289628, Index: (14, 6)\n",
      "Value: 103.93383957, Index: (14, 7)\n",
      "Value: 104.15899829, Index: (14, 8)\n",
      "Value: 106.11454989, Index: (15, 0)\n",
      "Value: 88.80221141, Index: (15, 1)\n",
      "Value: 94.5081787, Index: (15, 2)\n",
      "Value: 94.59300658, Index: (15, 3)\n",
      "Value: 101.08830521, Index: (15, 4)\n",
      "Value: 96.34622848, Index: (15, 5)\n",
      "Value: 96.89244283, Index: (15, 6)\n",
      "Value: 98.07122664, Index: (15, 7)\n",
      "Value: 100.28690912, Index: (15, 8)\n",
      "Value: 96.78266211, Index: (16, 0)\n",
      "Value: 99.84251605, Index: (16, 1)\n",
      "Value: 104.03478031, Index: (16, 2)\n",
      "Value: 106.57052697, Index: (16, 3)\n",
      "Value: 105.13668343, Index: (16, 4)\n",
      "Value: 105.37011896, Index: (16, 5)\n",
      "Value: 99.07551254, Index: (16, 6)\n",
      "Value: 104.15899829, Index: (16, 7)\n",
      "Value: 98.75108352, Index: (16, 8)\n",
      "Value: 101.86186193, Index: (17, 0)\n",
      "Value: 103.61720152, Index: (17, 1)\n",
      "Value: 99.57859892, Index: (17, 2)\n",
      "Value: 99.4889538, Index: (17, 3)\n",
      "Value: 103.05541444, Index: (17, 4)\n",
      "Value: 98.65912661, Index: (17, 5)\n",
      "Value: 98.72774132, Index: (17, 6)\n",
      "Value: 104.70526438, Index: (17, 7)\n",
      "Value: 110.44484313, Index: (17, 8)\n",
      "Value: 97.49594839, Index: (18, 0)\n",
      "Value: 96.59385486, Index: (18, 1)\n",
      "Value: 104.63817694, Index: (18, 2)\n",
      "Value: 102.55198606, Index: (18, 3)\n",
      "Value: 105.86078488, Index: (18, 4)\n",
      "Value: 96.5937781, Index: (18, 5)\n",
      "Value: 93.04610867, Index: (18, 6)\n",
      "Value: 99.92159953, Index: (18, 7)\n",
      "Value: 100.96781394, Index: (18, 8)\n",
      "Value: 96.76814836, Index: (19, 0)\n",
      "Value: 91.6779221, Index: (19, 1)\n",
      "Value: 101.79132774, Index: (19, 2)\n",
      "Value: 101.20773355, Index: (19, 3)\n",
      "Value: 98.29243952, Index: (19, 4)\n",
      "Value: 101.83845792, Index: (19, 5)\n",
      "Value: 97.94046856, Index: (19, 6)\n",
      "Value: 102.20618501, Index: (19, 7)\n",
      "Value: 91.37294597, Index: (19, 8)\n",
      "Value: 106.89005002, Index: (20, 0)\n",
      "Value: 106.57364584, Index: (20, 1)\n",
      "Value: 102.26648279, Index: (20, 2)\n",
      "Value: 107.40064604, Index: (20, 3)\n",
      "Value: 99.94318168, Index: (20, 4)\n",
      "Value: 103.40412146, Index: (20, 5)\n",
      "Value: 106.38276709, Index: (20, 6)\n",
      "Value: 98.00253006, Index: (20, 7)\n",
      "Value: 97.10439252, Index: (20, 8)\n",
      "Value: 99.80873105, Index: (21, 0)\n",
      "Value: 101.63973121, Index: (21, 1)\n",
      "Value: 106.46476468, Index: (21, 2)\n",
      "Value: 110.43976681, Index: (21, 3)\n",
      "Value: 100.69156231, Index: (21, 4)\n",
      "Value: 99.99579473, Index: (21, 5)\n",
      "Value: 101.32113654, Index: (21, 6)\n",
      "Value: 94.76253572, Index: (21, 7)\n",
      "Value: 97.24130034, Index: (21, 8)\n",
      "Value: 96.10020311, Index: (22, 0)\n",
      "Value: 94.57421727, Index: (22, 1)\n",
      "Value: 100.80409326, Index: (22, 2)\n",
      "Value: 105.02389857, Index: (22, 3)\n",
      "Value: 98.61325194, Index: (22, 4)\n",
      "Value: 95.62359311, Index: (22, 5)\n",
      "Value: 97.99762409, Index: (22, 6)\n",
      "Value: 103.83852459, Index: (22, 7)\n",
      "Value: 101.2226037, Index: (22, 8)\n",
      "Value: 94.11176915, Index: (23, 0)\n",
      "Value: 99.62387832, Index: (23, 1)\n",
      "Value: 104.51786419, Index: (23, 2)\n",
      "Value: 97.62787811, Index: (23, 3)\n",
      "Value: 93.97853495, Index: (23, 4)\n",
      "Value: 98.75108352, Index: (23, 5)\n",
      "Value: 106.05042487, Index: (23, 6)\n",
      "Value: 100.07721494, Index: (23, 7)\n",
      "Value: 106.89005002, Index: (23, 8)\n"
     ]
    }
   ],
   "source": [
    "# iterating over the whole dataset with indices matching the position in the dataset\n",
    "for index, value in np.ndenumerate(dataset):\n",
    "    print(f\"Value: {value}, Index: {index}\")"
   ]
  }
 ],
 "metadata": {
  "kernelspec": {
   "display_name": "Python 3",
   "language": "python",
   "name": "python3"
  },
  "language_info": {
   "codemirror_mode": {
    "name": "ipython",
    "version": 3
   },
   "file_extension": ".py",
   "mimetype": "text/x-python",
   "name": "python",
   "nbconvert_exporter": "python",
   "pygments_lexer": "ipython3",
   "version": "3.11.5"
  }
 },
 "nbformat": 4,
 "nbformat_minor": 4
}

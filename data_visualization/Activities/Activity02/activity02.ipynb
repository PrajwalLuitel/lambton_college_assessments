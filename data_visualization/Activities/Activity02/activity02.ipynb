{
 "cells": [
  {
   "cell_type": "markdown",
   "metadata": {},
   "source": [
    "## Activity 02: Indexing, Slicing, and Iterating"
   ]
  },
  {
   "cell_type": "markdown",
   "metadata": {},
   "source": [
    "Our client wants to prove that our dataset is nicely distributed around the mean value of 100.   \n",
    "They asked us to run some tests on several subsections of it to make sure they won't get a non-descriptive section of our data.\n",
    "\n",
    "Look at the mean value of each subtask."
   ]
  },
  {
   "cell_type": "markdown",
   "metadata": {},
   "source": [
    "#### Loading the dataset"
   ]
  },
  {
   "cell_type": "code",
   "execution_count": 1,
   "metadata": {},
   "outputs": [],
   "source": [
    "# importing the necessary dependencies\n",
    "import numpy as np"
   ]
  },
  {
   "cell_type": "code",
   "execution_count": 2,
   "metadata": {},
   "outputs": [],
   "source": [
    "# loading the Dataset\n",
    "dataset = np.genfromtxt('./data/normal_distribution.csv', delimiter=',')"
   ]
  },
  {
   "cell_type": "markdown",
   "metadata": {},
   "source": [
    "---"
   ]
  },
  {
   "cell_type": "markdown",
   "metadata": {},
   "source": [
    "#### Indexing"
   ]
  },
  {
   "cell_type": "markdown",
   "metadata": {},
   "source": [
    "Since we need several rows of our dataset to complete the given task, we have to use indexing to get the right rows.   \n",
    "To recap, we need: \n",
    "- the second row \n",
    "- the last row\n",
    "- the first value of the first row\n",
    "- the last value of the second to the last row"
   ]
  },
  {
   "cell_type": "code",
   "execution_count": 3,
   "metadata": {},
   "outputs": [
    {
     "name": "stdout",
     "output_type": "stream",
     "text": [
      "The second row is: [ 92.02628776  97.10439252  99.32066924  97.24584816  92.9267508\n",
      "  92.65657752 105.7197853  101.23162942  93.87155456]\n"
     ]
    }
   ],
   "source": [
    "# indexing the second row of the dataset (2nd row)\n",
    "print(f\"The second row is: {dataset[1]}\")"
   ]
  },
  {
   "cell_type": "code",
   "execution_count": 4,
   "metadata": {},
   "outputs": [
    {
     "name": "stdout",
     "output_type": "stream",
     "text": [
      "The last row of dataset is: [ 94.11176915  99.62387832 104.51786419  97.62787811  93.97853495\n",
      "  98.75108352 106.05042487 100.07721494 106.89005002]\n"
     ]
    }
   ],
   "source": [
    "# indexing the last element of the dataset (last row)\n",
    "print(f\"The last row of dataset is: {dataset[-1]}\")"
   ]
  },
  {
   "cell_type": "code",
   "execution_count": 5,
   "metadata": {},
   "outputs": [
    {
     "name": "stdout",
     "output_type": "stream",
     "text": [
      "The first value of the second row is: 92.02628776\n"
     ]
    }
   ],
   "source": [
    "# indexing the first value of the second row (1st row, 1st value)\n",
    "print(f\"The first value of the second row is: {dataset[1][0]}\")"
   ]
  },
  {
   "cell_type": "code",
   "execution_count": 6,
   "metadata": {},
   "outputs": [
    {
     "name": "stdout",
     "output_type": "stream",
     "text": [
      "The last value of second to last row is: 101.2226037\n"
     ]
    }
   ],
   "source": [
    "# indexing the last value of the second to last row (we want to use the combined access syntax here) \n",
    "print(f\"The last value of second to last row is: {dataset[-2][-1]}\")"
   ]
  },
  {
   "cell_type": "markdown",
   "metadata": {},
   "source": [
    "---"
   ]
  },
  {
   "cell_type": "markdown",
   "metadata": {},
   "source": [
    "#### Slicing"
   ]
  },
  {
   "cell_type": "markdown",
   "metadata": {},
   "source": [
    "Other than the single rows and values we also need to get some subsets of the dataset.   \n",
    "Here we want slices:\n",
    "- a 2x2 slice starting from the second row and second element to the 4th element in the 4th row\n",
    "- every other element of the 5th row\n",
    "- the content of the last row in reversed order"
   ]
  },
  {
   "cell_type": "code",
   "execution_count": 7,
   "metadata": {},
   "outputs": [
    {
     "name": "stdout",
     "output_type": "stream",
     "text": [
      "The first two rows and first two columns are: [[ 99.14931546 104.03852715]\n",
      " [ 92.02628776  97.10439252]]\n"
     ]
    }
   ],
   "source": [
    "# slicing an intersection of 4 elements (2x2) of the first two rows and first two columns\n",
    "print(f\"The first two rows and first two columns are: {dataset[:2, :2]}\")"
   ]
  },
  {
   "cell_type": "markdown",
   "metadata": {},
   "source": [
    "##### Why is it not a problem if such a small subsection has a bigger standard deviation from 100?"
   ]
  },
  {
   "cell_type": "markdown",
   "metadata": {},
   "source": [
    "Several smaller values can cluster in such a small subsection leading to the value being really low.   \n",
    "If we make our subsection larger, we have a higher chance of getting a more expressive view of our data."
   ]
  },
  {
   "cell_type": "code",
   "execution_count": 9,
   "metadata": {},
   "outputs": [
    {
     "name": "stdout",
     "output_type": "stream",
     "text": [
      "The second element of fifth row: [101.20862522 100.28690912  93.37126331 100.79478953  96.10020311]\n"
     ]
    }
   ],
   "source": [
    "# selecting every second element of the fifth row \n",
    "print(f\"The second element of fifth row: {dataset[4, ::2]}\")"
   ]
  },
  {
   "cell_type": "code",
   "execution_count": 10,
   "metadata": {},
   "outputs": [
    {
     "name": "stdout",
     "output_type": "stream",
     "text": [
      "The first two rows in reversed order is: [[101.34745901  98.56783189  96.81964892  98.80833412  98.74986914\n",
      "   97.85230675 107.43534677 104.03852715  99.14931546]\n",
      " [ 93.87155456 101.23162942 105.7197853   92.65657752  92.9267508\n",
      "   97.24584816  99.32066924  97.10439252  92.02628776]]\n"
     ]
    }
   ],
   "source": [
    "# reversing the entry order, selecting the first two rows in reversed order\n",
    "print(f\"The first two rows in reversed order is: {dataset[:2, ::-1]}\")"
   ]
  },
  {
   "cell_type": "markdown",
   "metadata": {},
   "source": [
    "---"
   ]
  },
  {
   "cell_type": "markdown",
   "metadata": {},
   "source": [
    "#### Splitting"
   ]
  },
  {
   "cell_type": "markdown",
   "metadata": {},
   "source": [
    "Our client's team only wants to use a small subset of the given dataset.   \n",
    "Therefore we need to first split it into 3 equal pieces and then give them the first half of the first split.   \n",
    "They sent us this drawing to show us what they need:\n",
    "```\n",
    "1, 2, 3, 4, 5, 6          1, 2     3, 4    5, 6          1, 2  \n",
    "3, 2, 1, 5, 4, 6    =>    3, 2     1, 5    4, 6    =>    3, 2    =>    1, 2\n",
    "5, 3, 1, 2, 4, 3          5, 3     1, 2    4, 3                        3, 2\n",
    "1, 2, 2, 4, 1, 5          1, 2     2, 4    1, 5          5, 3\n",
    "                                                         1, 2\n",
    "```\n",
    "\n",
    "> **Note:**   \n",
    "We are using a very small dataset here but imagine you have a huge amount of data and only want to look at a small subset of it to tweak your visualizations"
   ]
  },
  {
   "cell_type": "code",
   "execution_count": 12,
   "metadata": {},
   "outputs": [
    {
     "name": "stdout",
     "output_type": "stream",
     "text": [
      "The first split: [[ 99.14931546 104.03852715 107.43534677]\n",
      " [ 92.02628776  97.10439252  99.32066924]\n",
      " [ 95.66253664  95.17750125  90.93318132]\n",
      " [ 91.37294597 100.96781394 100.40118279]\n",
      " [101.20862522 103.5730309  100.28690912]\n",
      " [102.80387079  98.29687616  93.24376389]\n",
      " [106.71751618 102.97585605  98.45723272]\n",
      " [ 96.02548256 102.82360856 106.47551845]\n",
      " [105.30350449  92.87730812 103.19258339]\n",
      " [110.44484313  93.87155456 101.5363647 ]\n",
      " [101.3514185  100.37372248 106.6471081 ]\n",
      " [ 97.21315663 107.02874163 102.17642112]\n",
      " [ 95.65982034 107.22482426 107.19119932]\n",
      " [100.39303522  92.0108226   97.75887636]\n",
      " [103.1521596  109.40523174  93.83969256]\n",
      " [106.11454989  88.80221141  94.5081787 ]\n",
      " [ 96.78266211  99.84251605 104.03478031]\n",
      " [101.86186193 103.61720152  99.57859892]\n",
      " [ 97.49594839  96.59385486 104.63817694]\n",
      " [ 96.76814836  91.6779221  101.79132774]\n",
      " [106.89005002 106.57364584 102.26648279]\n",
      " [ 99.80873105 101.63973121 106.46476468]\n",
      " [ 96.10020311  94.57421727 100.80409326]\n",
      " [ 94.11176915  99.62387832 104.51786419]]\n"
     ]
    }
   ],
   "source": [
    "# splitting up our dataset horizontally on indices one third and two thirds\n",
    "horizontally_splitted_dataset = np.array_split(dataset, 3, axis=1)\n",
    "# print(f\"Splitted data: {horizontally_splitted_dataset}\")\n",
    "print(f\"The first split: {horizontally_splitted_dataset[0]}\")"
   ]
  },
  {
   "cell_type": "code",
   "execution_count": 15,
   "metadata": {},
   "outputs": [
    {
     "name": "stdout",
     "output_type": "stream",
     "text": [
      "The first split of vertically splitted data is: [[ 99.14931546 104.03852715 107.43534677]\n",
      " [ 92.02628776  97.10439252  99.32066924]]\n"
     ]
    }
   ],
   "source": [
    "# splitting up our dataset vertically on index 2\n",
    "vertically_splitted_dataset = np.array_split(horizontally_splitted_dataset, 2, axis=1)\n",
    "print(f\"The first split of vertically splitted data is: {vertically_splitted_dataset[0][0]}\")"
   ]
  },
  {
   "cell_type": "markdown",
   "metadata": {},
   "source": [
    "---"
   ]
  },
  {
   "cell_type": "markdown",
   "metadata": {},
   "source": [
    "#### Iterating"
   ]
  },
  {
   "cell_type": "markdown",
   "metadata": {},
   "source": [
    "Once you sent over the dataset they tell you that they also need a way iterate over the whole dataset element by element as if it would be a one-dimensional list.   \n",
    "However, they want to also now the position in the dataset itself.\n",
    "\n",
    "They send you this piece of code and tell you that it's not working as mentioned.   \n",
    "Come up with the right solution for their needs."
   ]
  },
  {
   "cell_type": "code",
   "execution_count": 12,
   "metadata": {},
   "outputs": [
    {
     "ename": "NameError",
     "evalue": "name 'np' is not defined",
     "output_type": "error",
     "traceback": [
      "\u001b[0;31m-------------------------------------------------------------------------\u001b[0m",
      "\u001b[0;31mNameError\u001b[0m                               Traceback (most recent call last)",
      "\u001b[0;32m<ipython-input-12-78d769259c0d>\u001b[0m in \u001b[0;36m<module>\u001b[0;34m()\u001b[0m\n\u001b[1;32m      1\u001b[0m \u001b[0;31m# iterating over whole dataset (each value in each row)\u001b[0m\u001b[0;34m\u001b[0m\u001b[0;34m\u001b[0m\u001b[0m\n\u001b[1;32m      2\u001b[0m \u001b[0mcurr_index\u001b[0m \u001b[0;34m=\u001b[0m \u001b[0;36m0\u001b[0m\u001b[0;34m\u001b[0m\u001b[0m\n\u001b[0;32m----> 3\u001b[0;31m \u001b[0;32mfor\u001b[0m \u001b[0mx\u001b[0m \u001b[0;32min\u001b[0m \u001b[0mnp\u001b[0m\u001b[0;34m.\u001b[0m\u001b[0mnditer\u001b[0m\u001b[0;34m(\u001b[0m\u001b[0mdataset\u001b[0m\u001b[0;34m)\u001b[0m\u001b[0;34m:\u001b[0m\u001b[0;34m\u001b[0m\u001b[0m\n\u001b[0m\u001b[1;32m      4\u001b[0m     \u001b[0mprint\u001b[0m\u001b[0;34m(\u001b[0m\u001b[0mx\u001b[0m\u001b[0;34m,\u001b[0m \u001b[0mcurr_index\u001b[0m\u001b[0;34m)\u001b[0m\u001b[0;34m\u001b[0m\u001b[0m\n\u001b[1;32m      5\u001b[0m     \u001b[0mcurr_index\u001b[0m \u001b[0;34m+=\u001b[0m \u001b[0;36m1\u001b[0m\u001b[0;34m\u001b[0m\u001b[0m\n",
      "\u001b[0;31mNameError\u001b[0m: name 'np' is not defined"
     ]
    }
   ],
   "source": [
    "# iterating over whole dataset (each value in each row)\n",
    "curr_index = 0\n",
    "for x in np.nditer(dataset):\n",
    "    print(x, curr_index)\n",
    "    curr_index += 1"
   ]
  },
  {
   "cell_type": "code",
   "execution_count": 13,
   "metadata": {},
   "outputs": [],
   "source": [
    "# iterating over the whole dataset with indices matching the position in the dataset\n"
   ]
  },
  {
   "cell_type": "code",
   "execution_count": null,
   "metadata": {},
   "outputs": [],
   "source": []
  }
 ],
 "metadata": {
  "kernelspec": {
   "display_name": "Python 3",
   "language": "python",
   "name": "python3"
  },
  "language_info": {
   "codemirror_mode": {
    "name": "ipython",
    "version": 3
   },
   "file_extension": ".py",
   "mimetype": "text/x-python",
   "name": "python",
   "nbconvert_exporter": "python",
   "pygments_lexer": "ipython3",
   "version": "3.11.5"
  }
 },
 "nbformat": 4,
 "nbformat_minor": 4
}

{
 "cells": [
  {
   "cell_type": "markdown",
   "metadata": {},
   "source": [
    "## Advanced python programming for AI and ML\n",
    "#### Prajwal Luitel (C0927658)\n",
    "### Week 12"
   ]
  },
  {
   "cell_type": "markdown",
   "metadata": {},
   "source": [
    "Q1 You are given a large integer represented as an integer array digits, where each digits[i] is the ith digit of the integer. The digits are ordered from most significant to least significant in left-to-right order. The large integer does not contain any leading 0's.\n",
    "\n",
    "Increment the large integer by one and return the resulting array of digits.\n",
    "\n",
    " Example 1:\n",
    "\n",
    "Input: digits = [1,2,3]\n",
    "\n",
    "Output: [1,2,4]\n",
    "\n",
    "Explanation: The array represents the integer 123.\n",
    "\n",
    "Incrementing by one gives 123 + 1 = 124.\n",
    "\n",
    "Thus, the result should be [1,2,4]."
   ]
  },
  {
   "cell_type": "code",
   "execution_count": 1,
   "metadata": {},
   "outputs": [],
   "source": [
    "def add_one(integer_array:list[int]) -> list[int]:\n",
    "    \"\"\"\n",
    "    Adds one to the integer array that represents a large integer.\n",
    "\n",
    "    Arguments:\n",
    "    integer_array : list[int] : the integer array to add one to.\n",
    "\n",
    "    Returns:\n",
    "    added_array : list[int] : the integer array where one is added.\n",
    "    \"\"\"\n",
    "    if integer_array[-1] != 9:\n",
    "        integer_array[-1]+= 1\n",
    "        return integer_array\n",
    "    else:\n",
    "        if len(integer_array) == 1:\n",
    "            integer_array[-1] = 0\n",
    "            integer_array.insert(0,1)\n",
    "        else:\n",
    "            integer_array[-1] = 0\n",
    "            integer_array[-2]+= 1\n",
    "        \n",
    "        return integer_array"
   ]
  },
  {
   "cell_type": "code",
   "execution_count": 2,
   "metadata": {},
   "outputs": [
    {
     "data": {
      "text/plain": [
       "[1, 2, 5]"
      ]
     },
     "execution_count": 2,
     "metadata": {},
     "output_type": "execute_result"
    }
   ],
   "source": [
    "add_one([1,2,4])"
   ]
  },
  {
   "cell_type": "code",
   "execution_count": 3,
   "metadata": {},
   "outputs": [
    {
     "data": {
      "text/plain": [
       "[1, 0]"
      ]
     },
     "execution_count": 3,
     "metadata": {},
     "output_type": "execute_result"
    }
   ],
   "source": [
    "add_one([9])"
   ]
  },
  {
   "cell_type": "code",
   "execution_count": 4,
   "metadata": {},
   "outputs": [
    {
     "data": {
      "text/plain": [
       "[2, 0]"
      ]
     },
     "execution_count": 4,
     "metadata": {},
     "output_type": "execute_result"
    }
   ],
   "source": [
    "add_one([1,9])"
   ]
  },
  {
   "cell_type": "markdown",
   "metadata": {},
   "source": [
    "Q2 Given two strings ransomNote and magazine, return true if ransomNote can be constructed by using the letters from magazine and false otherwise.\n",
    "\n",
    "Each letter in magazine can only be used once in ransomNote.\n",
    "\n",
    " Example 1:\n",
    "\n",
    "Input: ransomNote = \"a\", magazine = \"b\"\n",
    "\n",
    "Output: false\n",
    "\n",
    "Example 2:\n",
    "\n",
    "Input: ransomNote = \"aa\", magazine = \"ab\"\n",
    "\n",
    "Output: false"
   ]
  },
  {
   "cell_type": "code",
   "execution_count": 9,
   "metadata": {},
   "outputs": [],
   "source": [
    "def can_create_ransomnote(ransom_note:str, magazine:str) -> bool:\n",
    "    \"\"\"\n",
    "    Evaluates whether the ransom note can be created from the available magazine or not.\n",
    "\n",
    "    Arguments:\n",
    "    ransom_note : str : the ransom note to be created.\n",
    "    magazine : str : the magazine available.\n",
    "\n",
    "    Returns:\n",
    "    can_create_ransomnote : bool : True if the ransomnote can be created from the available magazine or false otherwise.\n",
    "    \"\"\"\n",
    "    count_ransom_note:dict[str:int] = {}\n",
    "    count_magazine:dict[str:int] = {}\n",
    "\n",
    "    for el in ransom_note:\n",
    "        count_ransom_note[el] = count_ransom_note.get(el, 0)+1\n",
    "    \n",
    "    for el in magazine:\n",
    "        count_magazine[el] = count_magazine.get(el, 0)+1\n",
    "\n",
    "\n",
    "    for k,v in count_ransom_note.items():\n",
    "        try:\n",
    "            if count_magazine[k] < count_ransom_note[k]:\n",
    "                raise Exception()\n",
    "        except:\n",
    "            return False\n",
    "    \n",
    "    return True\n"
   ]
  },
  {
   "cell_type": "code",
   "execution_count": 14,
   "metadata": {},
   "outputs": [
    {
     "data": {
      "text/plain": [
       "False"
      ]
     },
     "execution_count": 14,
     "metadata": {},
     "output_type": "execute_result"
    }
   ],
   "source": [
    "can_create_ransomnote(\"a\", 'cc')"
   ]
  },
  {
   "cell_type": "code",
   "execution_count": 15,
   "metadata": {},
   "outputs": [
    {
     "data": {
      "text/plain": [
       "True"
      ]
     },
     "execution_count": 15,
     "metadata": {},
     "output_type": "execute_result"
    }
   ],
   "source": [
    "can_create_ransomnote(\"aa\", \"abaasdfe\")"
   ]
  },
  {
   "cell_type": "markdown",
   "metadata": {},
   "source": [
    "Q3 A permutation of an array of integers is an arrangement of its members into a sequence or linear order.\n",
    "\n",
    "For example, for arr = [1,2,3], the following are considered permutations of arr: [1,2,3], [1,3,2], [3,1,2], [2,3,1].\n",
    "The next permutation of an array of integers is the next lexicographically greater permutation of its integer. More formally, if all the permutations of the array are sorted in one container according to their lexicographical order, then the next permutation of that array is the permutation that follows it in the sorted container. If such arrangement is not possible, the array must be rearranged as the lowest possible order (i.e., sorted in ascending order).\n",
    "\n",
    "For example, the next permutation of arr = [1,2,3] is [1,3,2].\n",
    "Similarly, the next permutation of arr = [2,3,1] is [3,1,2].\n",
    "While the next permutation of arr = [3,2,1] is [1,2,3] because [3,2,1] does not have a lexicographical larger rearrangement.\n",
    "Given an array of integers nums, find the next permutation of nums.\n",
    "\n",
    "The replacement must be in place and use only constant extra memory.\n",
    "\n",
    " Example 1:\n",
    "\n",
    "Input: nums = [1,2,3]\n",
    "Output: [1,3,2]\n"
   ]
  },
  {
   "cell_type": "code",
   "execution_count": 16,
   "metadata": {},
   "outputs": [],
   "source": [
    "def next_permutation(nums: list[int]) -> list[int]:\n",
    "    \"\"\"\n",
    "    Evaluates the next permutation of a given list and returns the corresponding permutation.\n",
    "\n",
    "    Args:\n",
    "    nums : list[int] : the array for which next permutation is to be evaluated.\n",
    "\n",
    "    Returns:\n",
    "    next_permutation : list[int] : the corresponding permutation of the given list.\n",
    "    \"\"\"\n",
    "\n",
    "\n",
    "    length = len(nums)\n",
    "    \n",
    "    last = -1\n",
    "    for i in range(length - 2, -1, -1):\n",
    "        if nums[i] < nums[i + 1]:\n",
    "            last = i\n",
    "            break\n",
    "    \n",
    "    if last == -1:\n",
    "        nums.reverse()\n",
    "        return nums\n",
    "    \n",
    "    for i in range(length - 1, last, -1):\n",
    "        if nums[i] > nums[last]:\n",
    "            l = i\n",
    "            break\n",
    "    \n",
    "    nums[last], nums[l] = nums[l], nums[last]\n",
    "    nums[last + 1:] = reversed(nums[last + 1:])\n",
    "\n",
    "    return nums"
   ]
  },
  {
   "cell_type": "code",
   "execution_count": 17,
   "metadata": {},
   "outputs": [
    {
     "data": {
      "text/plain": [
       "[2, 1, 3]"
      ]
     },
     "execution_count": 17,
     "metadata": {},
     "output_type": "execute_result"
    }
   ],
   "source": [
    "next_permutation([1,3,2])"
   ]
  }
 ],
 "metadata": {
  "kernelspec": {
   "display_name": "Python 3",
   "language": "python",
   "name": "python3"
  },
  "language_info": {
   "codemirror_mode": {
    "name": "ipython",
    "version": 3
   },
   "file_extension": ".py",
   "mimetype": "text/x-python",
   "name": "python",
   "nbconvert_exporter": "python",
   "pygments_lexer": "ipython3",
   "version": "3.11.5"
  }
 },
 "nbformat": 4,
 "nbformat_minor": 2
}

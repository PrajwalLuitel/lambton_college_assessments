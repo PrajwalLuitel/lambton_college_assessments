{
 "cells": [
  {
   "cell_type": "markdown",
   "metadata": {},
   "source": [
    "### Class practice on 21/05/2024 - Advanced python programming\n",
    "##### Prajwal Luitel (C0927658)"
   ]
  },
  {
   "cell_type": "code",
   "execution_count": 1,
   "metadata": {},
   "outputs": [],
   "source": [
    "import pymongo\n",
    "from pymongo import MongoClient"
   ]
  },
  {
   "cell_type": "code",
   "execution_count": 2,
   "metadata": {},
   "outputs": [],
   "source": [
    "client = MongoClient()"
   ]
  },
  {
   "cell_type": "code",
   "execution_count": 3,
   "metadata": {},
   "outputs": [],
   "source": [
    "db = client.test"
   ]
  },
  {
   "cell_type": "code",
   "execution_count": 4,
   "metadata": {},
   "outputs": [
    {
     "data": {
      "text/plain": [
       "Database(MongoClient(host=['localhost:27017'], document_class=dict, tz_aware=False, connect=True), 'test')"
      ]
     },
     "execution_count": 4,
     "metadata": {},
     "output_type": "execute_result"
    }
   ],
   "source": [
    "db"
   ]
  },
  {
   "cell_type": "code",
   "execution_count": 5,
   "metadata": {},
   "outputs": [],
   "source": [
    "employee = db.employee"
   ]
  },
  {
   "cell_type": "code",
   "execution_count": 6,
   "metadata": {},
   "outputs": [
    {
     "data": {
      "text/plain": [
       "Collection(Database(MongoClient(host=['localhost:27017'], document_class=dict, tz_aware=False, connect=True), 'test'), 'employee')"
      ]
     },
     "execution_count": 6,
     "metadata": {},
     "output_type": "execute_result"
    }
   ],
   "source": [
    "employee"
   ]
  },
  {
   "cell_type": "markdown",
   "metadata": {},
   "source": [
    "#### Inserting values"
   ]
  },
  {
   "cell_type": "code",
   "execution_count": 12,
   "metadata": {},
   "outputs": [],
   "source": [
    "employee_details = {\n",
    "    'name':'Prajwal Luitel',\n",
    "    \"address\":\"Toronto, ON, CA\",\n",
    "    \"age\":\"23\"\n",
    "}"
   ]
  },
  {
   "cell_type": "code",
   "execution_count": 13,
   "metadata": {},
   "outputs": [],
   "source": [
    "result = employee.insert_one(employee_details)"
   ]
  },
  {
   "cell_type": "code",
   "execution_count": 18,
   "metadata": {},
   "outputs": [
    {
     "data": {
      "text/plain": [
       "ObjectId('664d2e6b355695db1e49905d')"
      ]
     },
     "execution_count": 18,
     "metadata": {},
     "output_type": "execute_result"
    }
   ],
   "source": [
    "result.inserted_id"
   ]
  },
  {
   "cell_type": "markdown",
   "metadata": {},
   "source": [
    "### Checking the database and the collection"
   ]
  },
  {
   "cell_type": "code",
   "execution_count": 14,
   "metadata": {},
   "outputs": [
    {
     "data": {
      "text/plain": [
       "['admin', 'config', 'local', 'test']"
      ]
     },
     "execution_count": 14,
     "metadata": {},
     "output_type": "execute_result"
    }
   ],
   "source": [
    "client.list_database_names()"
   ]
  },
  {
   "cell_type": "code",
   "execution_count": 15,
   "metadata": {},
   "outputs": [
    {
     "name": "stdout",
     "output_type": "stream",
     "text": [
      "The test is found !!\n"
     ]
    }
   ],
   "source": [
    "dblist = client.list_database_names()\n",
    "if \"test\" in dblist:\n",
    "    print(f\"The {'test'} is found !!\")\n",
    "else:\n",
    "    print(f\"The {'test'} is NOT found !!\")"
   ]
  },
  {
   "cell_type": "code",
   "execution_count": 16,
   "metadata": {},
   "outputs": [
    {
     "data": {
      "text/plain": [
       "['employee']"
      ]
     },
     "execution_count": 16,
     "metadata": {},
     "output_type": "execute_result"
    }
   ],
   "source": [
    "db.list_collection_names()"
   ]
  },
  {
   "cell_type": "code",
   "execution_count": 17,
   "metadata": {},
   "outputs": [
    {
     "name": "stdout",
     "output_type": "stream",
     "text": [
      "The employee collection exists!!\n"
     ]
    }
   ],
   "source": [
    "collist = db.list_collection_names()\n",
    "if \"employee\" in collist:\n",
    "    print(\"The employee collection exists!!\")"
   ]
  },
  {
   "cell_type": "markdown",
   "metadata": {},
   "source": [
    "### Inserting multiple records"
   ]
  },
  {
   "cell_type": "code",
   "execution_count": 19,
   "metadata": {},
   "outputs": [
    {
     "data": {
      "text/plain": [
       "InsertManyResult([1, 2, 3, 4, 5, 6, 7, 8, 9], acknowledged=True)"
      ]
     },
     "execution_count": 19,
     "metadata": {},
     "output_type": "execute_result"
    }
   ],
   "source": [
    "my_records = [{\"_id\":1,\"name\":\"John\",\"address\":\"Highway 37\"},\n",
    "          {\"_id\":2,\"name\":\"Peter\",\"address\":\"Lowstreet 27\"},\n",
    "          {\"_id\":3,\"name\":\"Amy\",\"address\": \"Close st 652\"},\n",
    "          {\"_id\":4,\"name\":\"Hannah\",\"address\":\"Mountain 21\"},\n",
    "          {\"_id\":5,\"name\":\"Michael\",\"address\":\"Valley 345\"},\n",
    "          {\"_id\":6,\"name\": \"Vicky\", \"address\": \"Yellow Garden 124\"},\n",
    "          {\"_id\":7,\"name\": \"Nicky\", \"address\": \"Yellow Garden 23\"},\n",
    "          {\"_id\":8,\"name\": \"Nancy\", \"address\": \"Younge Ave. 123\"},\n",
    "          {\"_id\":9,\"name\": \"Viola\", \"address\": \"Sideway Ave\"}]\n",
    "\n",
    "employee.insert_many(my_records)\n"
   ]
  },
  {
   "cell_type": "markdown",
   "metadata": {},
   "source": [
    "## Reading records"
   ]
  },
  {
   "cell_type": "code",
   "execution_count": 22,
   "metadata": {},
   "outputs": [
    {
     "data": {
      "text/plain": [
       "{'_id': ObjectId('664d2e6b355695db1e49905d'),\n",
       " 'Name': 'Prajwal Luitel',\n",
       " 'Address': 'Toronto, ON, CA',\n",
       " 'Age': '23'}"
      ]
     },
     "execution_count": 22,
     "metadata": {},
     "output_type": "execute_result"
    }
   ],
   "source": [
    "x = employee.find_one()\n",
    "x"
   ]
  },
  {
   "cell_type": "code",
   "execution_count": 23,
   "metadata": {},
   "outputs": [
    {
     "name": "stdout",
     "output_type": "stream",
     "text": [
      "{'_id': ObjectId('664d2e6b355695db1e49905d'), 'Name': 'Prajwal Luitel', 'Address': 'Toronto, ON, CA', 'Age': '23'}\n",
      "{'_id': 1, 'name': 'John', 'address': 'Highway 37'}\n",
      "{'_id': 2, 'name': 'Peter', 'address': 'Lowstreet 27'}\n",
      "{'_id': 3, 'name': 'Amy', 'address': 'Close st 652'}\n",
      "{'_id': 4, 'name': 'Hannah', 'address': 'Mountain 21'}\n",
      "{'_id': 5, 'name': 'Michael', 'address': 'Valley 345'}\n",
      "{'_id': 6, 'name': 'Vicky', 'address': 'Yellow Garden 124'}\n",
      "{'_id': 7, 'name': 'Nicky', 'address': 'Yellow Garden 23'}\n",
      "{'_id': 8, 'name': 'Nancy', 'address': 'Younge Ave. 123'}\n",
      "{'_id': 9, 'name': 'Viola', 'address': 'Sideway Ave'}\n"
     ]
    }
   ],
   "source": [
    "for x in employee.find():\n",
    "    print(x)"
   ]
  },
  {
   "cell_type": "markdown",
   "metadata": {},
   "source": [
    "#### Read by limiting result"
   ]
  },
  {
   "cell_type": "code",
   "execution_count": 24,
   "metadata": {},
   "outputs": [
    {
     "name": "stdout",
     "output_type": "stream",
     "text": [
      "{'_id': ObjectId('664d2e6b355695db1e49905d'), 'Name': 'Prajwal Luitel', 'Address': 'Toronto, ON, CA', 'Age': '23'}\n",
      "{'_id': 1, 'name': 'John', 'address': 'Highway 37'}\n",
      "{'_id': 2, 'name': 'Peter', 'address': 'Lowstreet 27'}\n",
      "{'_id': 3, 'name': 'Amy', 'address': 'Close st 652'}\n",
      "{'_id': 4, 'name': 'Hannah', 'address': 'Mountain 21'}\n"
     ]
    }
   ],
   "source": [
    "myresult = employee.find().limit(5)\n",
    "\n",
    "for record in myresult:\n",
    "    print(record)"
   ]
  },
  {
   "cell_type": "code",
   "execution_count": 25,
   "metadata": {},
   "outputs": [
    {
     "data": {
      "text/plain": [
       "pymongo.cursor.Cursor"
      ]
     },
     "execution_count": 25,
     "metadata": {},
     "output_type": "execute_result"
    }
   ],
   "source": [
    "type(myresult)"
   ]
  },
  {
   "cell_type": "markdown",
   "metadata": {},
   "source": [
    "#### Without using the limit method"
   ]
  },
  {
   "cell_type": "code",
   "execution_count": 27,
   "metadata": {},
   "outputs": [
    {
     "name": "stdout",
     "output_type": "stream",
     "text": [
      "{'_id': ObjectId('664d2e6b355695db1e49905d'), 'Name': 'Prajwal Luitel', 'Address': 'Toronto, ON, CA', 'Age': '23'}\n",
      "{'_id': 1, 'name': 'John', 'address': 'Highway 37'}\n",
      "{'_id': 2, 'name': 'Peter', 'address': 'Lowstreet 27'}\n",
      "{'_id': 3, 'name': 'Amy', 'address': 'Close st 652'}\n",
      "{'_id': 4, 'name': 'Hannah', 'address': 'Mountain 21'}\n"
     ]
    }
   ],
   "source": [
    "for i,x in enumerate(employee.find()):\n",
    "    if i ==5:\n",
    "        break\n",
    "    print(x)"
   ]
  },
  {
   "cell_type": "markdown",
   "metadata": {},
   "source": [
    "### Finding specific records"
   ]
  },
  {
   "cell_type": "code",
   "execution_count": 28,
   "metadata": {},
   "outputs": [
    {
     "name": "stdout",
     "output_type": "stream",
     "text": [
      "{}\n",
      "{'name': 'John', 'address': 'Highway 37'}\n",
      "{'name': 'Peter', 'address': 'Lowstreet 27'}\n",
      "{'name': 'Amy', 'address': 'Close st 652'}\n",
      "{'name': 'Hannah', 'address': 'Mountain 21'}\n",
      "{'name': 'Michael', 'address': 'Valley 345'}\n",
      "{'name': 'Vicky', 'address': 'Yellow Garden 124'}\n",
      "{'name': 'Nicky', 'address': 'Yellow Garden 23'}\n",
      "{'name': 'Nancy', 'address': 'Younge Ave. 123'}\n",
      "{'name': 'Viola', 'address': 'Sideway Ave'}\n"
     ]
    }
   ],
   "source": [
    "for x in employee.find({}, {\"_id\":0, \"name\":1, \"address\":1}):\n",
    "    print(x)"
   ]
  },
  {
   "cell_type": "markdown",
   "metadata": {},
   "source": [
    "#### print everything except age"
   ]
  },
  {
   "cell_type": "code",
   "execution_count": 29,
   "metadata": {},
   "outputs": [
    {
     "name": "stdout",
     "output_type": "stream",
     "text": [
      "{'_id': ObjectId('664d2e6b355695db1e49905d'), 'Name': 'Prajwal Luitel', 'Address': 'Toronto, ON, CA', 'Age': '23'}\n",
      "{'_id': 1, 'name': 'John', 'address': 'Highway 37'}\n",
      "{'_id': 2, 'name': 'Peter', 'address': 'Lowstreet 27'}\n",
      "{'_id': 3, 'name': 'Amy', 'address': 'Close st 652'}\n",
      "{'_id': 4, 'name': 'Hannah', 'address': 'Mountain 21'}\n",
      "{'_id': 5, 'name': 'Michael', 'address': 'Valley 345'}\n",
      "{'_id': 6, 'name': 'Vicky', 'address': 'Yellow Garden 124'}\n",
      "{'_id': 7, 'name': 'Nicky', 'address': 'Yellow Garden 23'}\n",
      "{'_id': 8, 'name': 'Nancy', 'address': 'Younge Ave. 123'}\n",
      "{'_id': 9, 'name': 'Viola', 'address': 'Sideway Ave'}\n"
     ]
    }
   ],
   "source": [
    "for x in employee.find({}, {\"age\":0}):\n",
    "    print(x)"
   ]
  },
  {
   "cell_type": "markdown",
   "metadata": {},
   "source": [
    "### Advanced mongodb query"
   ]
  },
  {
   "cell_type": "code",
   "execution_count": 30,
   "metadata": {},
   "outputs": [
    {
     "name": "stdout",
     "output_type": "stream",
     "text": [
      "{'_id': 1, 'name': 'John', 'address': 'Highway 37'}\n"
     ]
    }
   ],
   "source": [
    "myquery = {\"address\":\"Highway 37\"}\n",
    "mydoc = employee.find(myquery)\n",
    "for x in mydoc:\n",
    "    print(x)"
   ]
  },
  {
   "cell_type": "markdown",
   "metadata": {},
   "source": [
    "##### Imagine there are multiple records that meets the conditions, modify to get the last 2 records that meet the condition"
   ]
  },
  {
   "cell_type": "code",
   "execution_count": 35,
   "metadata": {},
   "outputs": [
    {
     "name": "stdout",
     "output_type": "stream",
     "text": [
      "{'_id': 1, 'name': 'John', 'address': 'Highway 37'}\n"
     ]
    }
   ],
   "source": [
    "myquery = {\"address\":\"Highway 37\"}\n",
    "mydoc = employee.find(filter=myquery, sort=[(\"_id\",-1)]).limit(2)\n",
    "for x in mydoc:\n",
    "    print(x)"
   ]
  },
  {
   "cell_type": "markdown",
   "metadata": {},
   "source": [
    "##### Filter with regular expressions"
   ]
  },
  {
   "cell_type": "code",
   "execution_count": 36,
   "metadata": {},
   "outputs": [
    {
     "name": "stdout",
     "output_type": "stream",
     "text": [
      "{'_id': 5, 'name': 'Michael', 'address': 'Valley 345'}\n"
     ]
    }
   ],
   "source": [
    "myquery = {\"address\":{\"$regex\":\"^V\"}}\n",
    "\n",
    "for x in employee.find(filter=myquery):\n",
    "    print(x)"
   ]
  },
  {
   "cell_type": "markdown",
   "metadata": {},
   "source": [
    "##### Prints all records having l in their address"
   ]
  },
  {
   "cell_type": "code",
   "execution_count": 37,
   "metadata": {},
   "outputs": [
    {
     "name": "stdout",
     "output_type": "stream",
     "text": [
      "{'_id': 3, 'name': 'Amy', 'address': 'Close st 652'}\n",
      "{'_id': 5, 'name': 'Michael', 'address': 'Valley 345'}\n",
      "{'_id': 6, 'name': 'Vicky', 'address': 'Yellow Garden 124'}\n",
      "{'_id': 7, 'name': 'Nicky', 'address': 'Yellow Garden 23'}\n"
     ]
    }
   ],
   "source": [
    "myquery = {\"address\":{\"$regex\":\"l\"}}\n",
    "\n",
    "for x in employee.find(filter=myquery):\n",
    "    print(x)"
   ]
  },
  {
   "cell_type": "markdown",
   "metadata": {},
   "source": [
    "#### Logical OR"
   ]
  },
  {
   "cell_type": "code",
   "execution_count": 41,
   "metadata": {},
   "outputs": [
    {
     "name": "stdout",
     "output_type": "stream",
     "text": [
      "{'_id': 6, 'name': 'Vicky', 'address': 'Yellow Garden 124'}\n",
      "{'_id': 7, 'name': 'Nicky', 'address': 'Yellow Garden 23'}\n",
      "{'_id': 8, 'name': 'Nancy', 'address': 'Younge Ave. 123'}\n",
      "{'_id': 9, 'name': 'Viola', 'address': 'Sideway Ave'}\n"
     ]
    }
   ],
   "source": [
    "myquery = {\"$or\":[{\"address\":{\"$regex\":\"^Y\"}},{\"address\":{\"$regex\":\"^S\"}}]}\n",
    "\n",
    "for x in employee.find(myquery):\n",
    "    print(x)"
   ]
  },
  {
   "cell_type": "markdown",
   "metadata": {},
   "source": [
    "#### Alternatively,"
   ]
  },
  {
   "cell_type": "code",
   "execution_count": 39,
   "metadata": {},
   "outputs": [
    {
     "name": "stdout",
     "output_type": "stream",
     "text": [
      "{'_id': 6, 'name': 'Vicky', 'address': 'Yellow Garden 124'}\n",
      "{'_id': 7, 'name': 'Nicky', 'address': 'Yellow Garden 23'}\n",
      "{'_id': 8, 'name': 'Nancy', 'address': 'Younge Ave. 123'}\n",
      "{'_id': 9, 'name': 'Viola', 'address': 'Sideway Ave'}\n"
     ]
    }
   ],
   "source": [
    "myquery = {\"address\":{\"$regex\":\"^Y|^S\"}}\n",
    "\n",
    "for x in employee.find(myquery):\n",
    "    print(x)"
   ]
  },
  {
   "cell_type": "markdown",
   "metadata": {},
   "source": [
    "#### Logical AND"
   ]
  },
  {
   "cell_type": "code",
   "execution_count": 42,
   "metadata": {},
   "outputs": [
    {
     "name": "stdout",
     "output_type": "stream",
     "text": [
      "{'_id': 6, 'name': 'Vicky', 'address': 'Yellow Garden 124'}\n",
      "{'_id': 8, 'name': 'Nancy', 'address': 'Younge Ave. 123'}\n"
     ]
    }
   ],
   "source": [
    "myquery = {\"$and\":[{\"address\":{\"$regex\":\"^Y\"}},{\"address\":{\"$regex\":\"1\"}}]}\n",
    "\n",
    "for x in employee.find(myquery):\n",
    "    print(x)"
   ]
  },
  {
   "cell_type": "code",
   "execution_count": 45,
   "metadata": {},
   "outputs": [
    {
     "name": "stdout",
     "output_type": "stream",
     "text": [
      "{'_id': 8, 'name': 'Nancy', 'address': 'Younge Ave. 123'}\n"
     ]
    }
   ],
   "source": [
    "myquery = {\"$and\":[{\"address\":{\"$regex\":\"^Y\"}},{\"address\":{\"$regex\":\"1\"}},{\"name\":{\"$regex\":\"^N\"}}]}\n",
    "\n",
    "for x in employee.find(myquery):\n",
    "    print(x)"
   ]
  },
  {
   "cell_type": "markdown",
   "metadata": {},
   "source": [
    "### Logical NOT"
   ]
  },
  {
   "cell_type": "code",
   "execution_count": 47,
   "metadata": {},
   "outputs": [
    {
     "name": "stdout",
     "output_type": "stream",
     "text": [
      "{'_id': ObjectId('664d2e6b355695db1e49905d'), 'Name': 'Prajwal Luitel', 'Address': 'Toronto, ON, CA', 'Age': '23'}\n",
      "{'_id': 1, 'name': 'John', 'address': 'Highway 37'}\n",
      "{'_id': 2, 'name': 'Peter', 'address': 'Lowstreet 27'}\n",
      "{'_id': 3, 'name': 'Amy', 'address': 'Close st 652'}\n",
      "{'_id': 4, 'name': 'Hannah', 'address': 'Mountain 21'}\n",
      "{'_id': 5, 'name': 'Michael', 'address': 'Valley 345'}\n",
      "{'_id': 6, 'name': 'Vicky', 'address': 'Yellow Garden 124'}\n",
      "{'_id': 7, 'name': 'Nicky', 'address': 'Yellow Garden 23'}\n",
      "{'_id': 9, 'name': 'Viola', 'address': 'Sideway Ave'}\n"
     ]
    }
   ],
   "source": [
    "myquery = {\"name\":{\"$ne\":\"Nancy\"}}\n",
    "\n",
    "for x in employee.find(myquery):\n",
    "    print(x)"
   ]
  },
  {
   "cell_type": "code",
   "execution_count": 49,
   "metadata": {},
   "outputs": [
    {
     "name": "stdout",
     "output_type": "stream",
     "text": [
      "{'_id': 6, 'name': 'Vicky', 'address': 'Yellow Garden 124'}\n"
     ]
    }
   ],
   "source": [
    "myquery = {\"$and\":[{\"address\":{\"$regex\":\"^Y\"}},{\"address\":{\"$regex\":\"1\"}},{\"name\":{\"$ne\":\"Nancy\"}}]}\n",
    "\n",
    "for x in employee.find(myquery):\n",
    "    print(x)"
   ]
  },
  {
   "cell_type": "markdown",
   "metadata": {},
   "source": [
    "### Greater than"
   ]
  },
  {
   "cell_type": "code",
   "execution_count": 50,
   "metadata": {},
   "outputs": [
    {
     "name": "stdout",
     "output_type": "stream",
     "text": [
      "{'_id': 5, 'name': 'Michael', 'address': 'Valley 345'}\n",
      "{'_id': 6, 'name': 'Vicky', 'address': 'Yellow Garden 124'}\n",
      "{'_id': 7, 'name': 'Nicky', 'address': 'Yellow Garden 23'}\n",
      "{'_id': 8, 'name': 'Nancy', 'address': 'Younge Ave. 123'}\n",
      "{'_id': 9, 'name': 'Viola', 'address': 'Sideway Ave'}\n"
     ]
    }
   ],
   "source": [
    "myquery = {\"address\":{\"$gt\":\"S\"}}\n",
    "\n",
    "for x in employee.find(myquery):\n",
    "    print(x)"
   ]
  },
  {
   "cell_type": "markdown",
   "metadata": {},
   "source": [
    "### Sorting"
   ]
  },
  {
   "cell_type": "code",
   "execution_count": 52,
   "metadata": {},
   "outputs": [
    {
     "name": "stdout",
     "output_type": "stream",
     "text": [
      "{'_id': ObjectId('664d2e6b355695db1e49905d'), 'Name': 'Prajwal Luitel', 'Address': 'Toronto, ON, CA', 'Age': '23'}\n",
      "{'_id': 3, 'name': 'Amy', 'address': 'Close st 652'}\n",
      "{'_id': 4, 'name': 'Hannah', 'address': 'Mountain 21'}\n",
      "{'_id': 1, 'name': 'John', 'address': 'Highway 37'}\n",
      "{'_id': 5, 'name': 'Michael', 'address': 'Valley 345'}\n",
      "{'_id': 8, 'name': 'Nancy', 'address': 'Younge Ave. 123'}\n",
      "{'_id': 7, 'name': 'Nicky', 'address': 'Yellow Garden 23'}\n",
      "{'_id': 2, 'name': 'Peter', 'address': 'Lowstreet 27'}\n",
      "{'_id': 6, 'name': 'Vicky', 'address': 'Yellow Garden 124'}\n",
      "{'_id': 9, 'name': 'Viola', 'address': 'Sideway Ave'}\n"
     ]
    }
   ],
   "source": [
    "for x in employee.find().sort(\"name\"):\n",
    "    print(x)"
   ]
  },
  {
   "cell_type": "code",
   "execution_count": 54,
   "metadata": {},
   "outputs": [
    {
     "name": "stdout",
     "output_type": "stream",
     "text": [
      "{'_id': 9, 'name': 'Viola', 'address': 'Sideway Ave'}\n",
      "{'_id': 6, 'name': 'Vicky', 'address': 'Yellow Garden 124'}\n",
      "{'_id': 2, 'name': 'Peter', 'address': 'Lowstreet 27'}\n",
      "{'_id': 7, 'name': 'Nicky', 'address': 'Yellow Garden 23'}\n",
      "{'_id': 8, 'name': 'Nancy', 'address': 'Younge Ave. 123'}\n",
      "{'_id': 5, 'name': 'Michael', 'address': 'Valley 345'}\n",
      "{'_id': 1, 'name': 'John', 'address': 'Highway 37'}\n",
      "{'_id': 4, 'name': 'Hannah', 'address': 'Mountain 21'}\n",
      "{'_id': 3, 'name': 'Amy', 'address': 'Close st 652'}\n",
      "{'_id': ObjectId('664d2e6b355695db1e49905d'), 'Name': 'Prajwal Luitel', 'Address': 'Toronto, ON, CA', 'Age': '23'}\n"
     ]
    }
   ],
   "source": [
    "for x in employee.find(sort=[(\"name\", -1), (\"address\",1)]):\n",
    "    print(x)"
   ]
  },
  {
   "cell_type": "markdown",
   "metadata": {},
   "source": [
    "### Update one record"
   ]
  },
  {
   "cell_type": "code",
   "execution_count": 55,
   "metadata": {},
   "outputs": [
    {
     "name": "stdout",
     "output_type": "stream",
     "text": [
      "{'_id': ObjectId('664d2e6b355695db1e49905d'), 'Name': 'Prajwal Luitel', 'Address': 'Toronto, ON, CA', 'Age': '23'}\n",
      "{'_id': 1, 'name': 'John', 'address': 'Highway 37'}\n",
      "{'_id': 2, 'name': 'Peter', 'address': 'Lowstreet 27'}\n",
      "{'_id': 3, 'name': 'Amy', 'address': 'Close st 652'}\n",
      "{'_id': 4, 'name': 'Hannah', 'address': 'Mountain 21'}\n",
      "{'_id': 5, 'name': 'Michael', 'address': 'Valley 345'}\n",
      "{'_id': 6, 'name': 'Vicky', 'address': 'Yellow Garden 124'}\n",
      "{'_id': 7, 'name': 'Nicky', 'address': 'Yellow Garden 23'}\n",
      "{'_id': 8, 'name': 'Nancy', 'address': 'Younge Ave. 123'}\n",
      "{'_id': 9, 'name': 'Viola', 'address': 'Sideway Ave'}\n",
      "\n",
      "\n",
      " After update: \n",
      "{'_id': ObjectId('664d2e6b355695db1e49905d'), 'Name': 'Prajwal Luitel', 'Address': 'Toronto, ON, CA', 'Age': '23'}\n",
      "{'_id': 1, 'name': 'John', 'address': 'Highway 37'}\n",
      "{'_id': 2, 'name': 'Peter', 'address': 'Lowstreet 27'}\n",
      "{'_id': 3, 'name': 'Amy', 'address': 'Close st 652'}\n",
      "{'_id': 4, 'name': 'Hannah', 'address': 'Mountain 21'}\n",
      "{'_id': 5, 'name': 'Michael', 'address': 'Canyon 123'}\n",
      "{'_id': 6, 'name': 'Vicky', 'address': 'Yellow Garden 124'}\n",
      "{'_id': 7, 'name': 'Nicky', 'address': 'Yellow Garden 23'}\n",
      "{'_id': 8, 'name': 'Nancy', 'address': 'Younge Ave. 123'}\n",
      "{'_id': 9, 'name': 'Viola', 'address': 'Sideway Ave'}\n"
     ]
    }
   ],
   "source": [
    "# Display before the update\n",
    "for x in employee.find():\n",
    "    print(x)\n",
    "\n",
    "myquery = {\"address\":\"Valley 345\"}\n",
    "newvalues = {\"$set\":{\"address\":\"Canyon 123\"}}\n",
    "\n",
    "employee.update_one(myquery, newvalues)\n",
    "\n",
    "print(\"\\n\\n After update: \")\n",
    "for x in employee.find():\n",
    "    print(x)"
   ]
  },
  {
   "cell_type": "code",
   "execution_count": 57,
   "metadata": {},
   "outputs": [
    {
     "name": "stdout",
     "output_type": "stream",
     "text": [
      "1 documents updated\n",
      "After update: \n",
      "{'_id': ObjectId('664d2e6b355695db1e49905d'), 'Name': 'Prajwal Luitel', 'Address': 'Toronto, ON, CA', 'Age': '23'}\n",
      "{'_id': 1, 'name': 'John', 'address': 'Highway 37'}\n",
      "{'_id': 2, 'name': 'Peter', 'address': 'Lowstreet 27'}\n",
      "{'_id': 3, 'name': 'Minnie', 'address': 'Close st 652'}\n",
      "{'_id': 4, 'name': 'Hannah', 'address': 'Mountain 21'}\n",
      "{'_id': 5, 'name': 'Minnie', 'address': 'Canyon 123'}\n",
      "{'_id': 6, 'name': 'Vicky', 'address': 'Yellow Garden 124'}\n",
      "{'_id': 7, 'name': 'Nicky', 'address': 'Yellow Garden 23'}\n",
      "{'_id': 8, 'name': 'Nancy', 'address': 'Younge Ave. 123'}\n",
      "{'_id': 9, 'name': 'Viola', 'address': 'Sideway Ave'}\n"
     ]
    }
   ],
   "source": [
    "myquery = {\"address\":{\"$regex\":\"C\"}}\n",
    "newvalues = {\"$set\":{\"name\":\"Minnie\"}}\n",
    "\n",
    "x = employee.update_many(myquery, newvalues)\n",
    "\n",
    "print(x.modified_count, \"documents updated\")\n",
    "\n",
    "print(\"After update: \")\n",
    "for x in employee.find():\n",
    "    print(x)"
   ]
  },
  {
   "cell_type": "markdown",
   "metadata": {},
   "source": [
    "## Rename  collection from employee to employee_details"
   ]
  },
  {
   "cell_type": "code",
   "execution_count": 58,
   "metadata": {},
   "outputs": [
    {
     "data": {
      "text/plain": [
       "['employee_details']"
      ]
     },
     "execution_count": 58,
     "metadata": {},
     "output_type": "execute_result"
    }
   ],
   "source": [
    "db['employee'].rename('employee_details')\n",
    "db.list_collection_names()"
   ]
  },
  {
   "cell_type": "markdown",
   "metadata": {},
   "source": [
    "## Address should be changed to employee_address"
   ]
  },
  {
   "cell_type": "code",
   "execution_count": 61,
   "metadata": {},
   "outputs": [
    {
     "name": "stdout",
     "output_type": "stream",
     "text": [
      "{'_id': ObjectId('664d2e6b355695db1e49905d'), 'Name': 'Prajwal Luitel', 'Address': 'Toronto, ON, CA', 'Age': '23'}\n",
      "{'_id': 1, 'name': 'John', 'employee_address': 'Highway 37'}\n",
      "{'_id': 2, 'name': 'Peter', 'employee_address': 'Lowstreet 27'}\n",
      "{'_id': 3, 'name': 'Minnie', 'employee_address': 'Close st 652'}\n",
      "{'_id': 4, 'name': 'Hannah', 'employee_address': 'Mountain 21'}\n",
      "{'_id': 5, 'name': 'Minnie', 'employee_address': 'Canyon 123'}\n",
      "{'_id': 6, 'name': 'Vicky', 'employee_address': 'Yellow Garden 124'}\n",
      "{'_id': 7, 'name': 'Nicky', 'employee_address': 'Yellow Garden 23'}\n",
      "{'_id': 8, 'name': 'Nancy', 'employee_address': 'Younge Ave. 123'}\n",
      "{'_id': 9, 'name': 'Viola', 'employee_address': 'Sideway Ave'}\n"
     ]
    }
   ],
   "source": [
    "employee_details = db['employee_details']\n",
    "\n",
    "result = employee_details.update_many(\n",
    "    {},\n",
    "    {\n",
    "        '$rename': {\n",
    "            'address': 'employee_address'\n",
    "        }\n",
    "    }\n",
    ")\n",
    "\n",
    "for x in employee_details.find():\n",
    "    print(x)"
   ]
  },
  {
   "cell_type": "markdown",
   "metadata": {},
   "source": [
    "#### Delete many documents"
   ]
  },
  {
   "cell_type": "code",
   "execution_count": 63,
   "metadata": {},
   "outputs": [
    {
     "name": "stdout",
     "output_type": "stream",
     "text": [
      "3 documents deleted!!\n"
     ]
    }
   ],
   "source": [
    "myquery = {\"employee_address\":{\"$regex\":\"^Y\"}}\n",
    "x = employee_details.delete_many(myquery)\n",
    "print(x.deleted_count, \"documents deleted!!\")"
   ]
  },
  {
   "cell_type": "markdown",
   "metadata": {},
   "source": [
    "## Delete the field 'name'"
   ]
  },
  {
   "cell_type": "code",
   "execution_count": 64,
   "metadata": {},
   "outputs": [
    {
     "name": "stdout",
     "output_type": "stream",
     "text": [
      "{'_id': ObjectId('664d2e6b355695db1e49905d'), 'Name': 'Prajwal Luitel', 'Address': 'Toronto, ON, CA', 'Age': '23'}\n",
      "{'_id': 1, 'employee_address': 'Highway 37'}\n",
      "{'_id': 2, 'employee_address': 'Lowstreet 27'}\n",
      "{'_id': 3, 'employee_address': 'Close st 652'}\n",
      "{'_id': 4, 'employee_address': 'Mountain 21'}\n",
      "{'_id': 5, 'employee_address': 'Canyon 123'}\n",
      "{'_id': 9, 'employee_address': 'Sideway Ave'}\n"
     ]
    }
   ],
   "source": [
    "result = employee_details.update_many(\n",
    "    {},\n",
    "    {\n",
    "        '$unset': {\n",
    "            'name': \"\"\n",
    "        }\n",
    "    }\n",
    ")\n",
    "\n",
    "for x in employee_details.find():\n",
    "    print(x)"
   ]
  },
  {
   "cell_type": "markdown",
   "metadata": {},
   "source": [
    "### Delete everything"
   ]
  },
  {
   "cell_type": "code",
   "execution_count": 65,
   "metadata": {},
   "outputs": [
    {
     "name": "stdout",
     "output_type": "stream",
     "text": [
      "7 documents deleted.\n"
     ]
    }
   ],
   "source": [
    "x = employee_details.delete_many({})\n",
    "print(x.deleted_count, \"documents deleted.\")"
   ]
  },
  {
   "cell_type": "markdown",
   "metadata": {},
   "source": [
    "### Drop collection"
   ]
  },
  {
   "cell_type": "code",
   "execution_count": 66,
   "metadata": {},
   "outputs": [],
   "source": [
    "employee_details.drop()"
   ]
  },
  {
   "cell_type": "code",
   "execution_count": 67,
   "metadata": {},
   "outputs": [
    {
     "data": {
      "text/plain": [
       "[]"
      ]
     },
     "execution_count": 67,
     "metadata": {},
     "output_type": "execute_result"
    }
   ],
   "source": [
    "db.list_collection_names()"
   ]
  }
 ],
 "metadata": {
  "kernelspec": {
   "display_name": "Python 3",
   "language": "python",
   "name": "python3"
  },
  "language_info": {
   "codemirror_mode": {
    "name": "ipython",
    "version": 3
   },
   "file_extension": ".py",
   "mimetype": "text/x-python",
   "name": "python",
   "nbconvert_exporter": "python",
   "pygments_lexer": "ipython3",
   "version": "3.11.5"
  }
 },
 "nbformat": 4,
 "nbformat_minor": 2
}

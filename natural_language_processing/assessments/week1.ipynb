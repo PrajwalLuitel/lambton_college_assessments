{
 "cells": [
  {
   "cell_type": "markdown",
   "metadata": {},
   "source": [
    "##### Prajwal Luitel (C0927658)  - Natural Language Processing -"
   ]
  },
  {
   "cell_type": "markdown",
   "metadata": {},
   "source": [
    "### Write a Python program to replace maximum 2 occurrences of space, comma, or dot with a colon.\n"
   ]
  },
  {
   "cell_type": "code",
   "execution_count": 15,
   "metadata": {},
   "outputs": [],
   "source": [
    "def replace_two(text:str):\n",
    "    counter = 0\n",
    "    edited_text = \"\"\n",
    "\n",
    "    for character in text:\n",
    "        if (counter <2) and (character == \" \" or character==\",\" or character==\".\"):\n",
    "            edited_text += \":\"\n",
    "            counter += 1\n",
    "        else:\n",
    "            edited_text += character\n",
    "\n",
    "    return edited_text "
   ]
  },
  {
   "cell_type": "code",
   "execution_count": 16,
   "metadata": {},
   "outputs": [
    {
     "data": {
      "text/plain": [
       "'Hello:World:.How are you?'"
      ]
     },
     "execution_count": 16,
     "metadata": {},
     "output_type": "execute_result"
    }
   ],
   "source": [
    "replace_two(\"Hello World,.How are you?\")"
   ]
  },
  {
   "cell_type": "code",
   "execution_count": 17,
   "metadata": {},
   "outputs": [
    {
     "data": {
      "text/plain": [
       "'TheTwo::Occurrences are gone , , , . .'"
      ]
     },
     "execution_count": 17,
     "metadata": {},
     "output_type": "execute_result"
    }
   ],
   "source": [
    "replace_two(\"TheTwo..Occurrences are gone , , , . .\")"
   ]
  },
  {
   "cell_type": "markdown",
   "metadata": {},
   "source": [
    "#### Write a Python program to find all five-character words in a string."
   ]
  },
  {
   "cell_type": "code",
   "execution_count": 20,
   "metadata": {},
   "outputs": [],
   "source": [
    "def find_five(text:str):\n",
    "    words = text.split(\" \")\n",
    "    all_five = [word for word in words if len(word.strip())==5 and word.isalpha()]\n",
    "    return all_five"
   ]
  },
  {
   "cell_type": "code",
   "execution_count": 21,
   "metadata": {},
   "outputs": [
    {
     "data": {
      "text/plain": [
       "['Hello', 'there']"
      ]
     },
     "execution_count": 21,
     "metadata": {},
     "output_type": "execute_result"
    }
   ],
   "source": [
    "find_five(\"Hello there are two five letterred word here. Let us see !!\")"
   ]
  },
  {
   "cell_type": "code",
   "execution_count": 22,
   "metadata": {},
   "outputs": [
    {
     "data": {
      "text/plain": [
       "['logic', 'Check']"
      ]
     },
     "execution_count": 22,
     "metadata": {},
     "output_type": "execute_result"
    }
   ],
   "source": [
    "find_five(\"This is a nice and efficient logic that I've applied. Check it out, friend !!\")"
   ]
  },
  {
   "cell_type": "markdown",
   "metadata": {},
   "source": [
    "### Write a Python program to find all three, four, and five character words in a string."
   ]
  },
  {
   "cell_type": "code",
   "execution_count": 23,
   "metadata": {},
   "outputs": [],
   "source": [
    "def find_three_four_five(text:str):\n",
    "    words = text.split(\" \")\n",
    "    all_five = [word for word in words if len(word.strip())>=3 and len(word.strip())<=5 and word.isalpha()]\n",
    "    return all_five"
   ]
  },
  {
   "cell_type": "code",
   "execution_count": 24,
   "metadata": {},
   "outputs": [
    {
     "data": {
      "text/plain": [
       "['Hello', 'there', 'are', 'two', 'five', 'word', 'Let', 'see']"
      ]
     },
     "execution_count": 24,
     "metadata": {},
     "output_type": "execute_result"
    }
   ],
   "source": [
    "find_three_four_five(\"Hello there are two five letterred word here. Let us see !!\")"
   ]
  },
  {
   "cell_type": "code",
   "execution_count": 26,
   "metadata": {},
   "outputs": [
    {
     "data": {
      "text/plain": [
       "['This', 'nice', 'and', 'logic', 'that', 'Check']"
      ]
     },
     "execution_count": 26,
     "metadata": {},
     "output_type": "execute_result"
    }
   ],
   "source": [
    "find_three_four_five(\"This is a nice and efficient logic that I've applied. Check it out, friend !!\")"
   ]
  },
  {
   "cell_type": "markdown",
   "metadata": {},
   "source": [
    "### Write a Python program to find all words that are at least 4 characters long in a string."
   ]
  },
  {
   "cell_type": "code",
   "execution_count": 27,
   "metadata": {},
   "outputs": [],
   "source": [
    "def find_least_four(text:str):\n",
    "    words = text.split(\" \")\n",
    "    least_four = [word for word in words if len(word.strip())>=4 and word.isalpha()]\n",
    "    return least_four"
   ]
  },
  {
   "cell_type": "code",
   "execution_count": 28,
   "metadata": {},
   "outputs": [
    {
     "data": {
      "text/plain": [
       "['Hello', 'there', 'five', 'letterred', 'word']"
      ]
     },
     "execution_count": 28,
     "metadata": {},
     "output_type": "execute_result"
    }
   ],
   "source": [
    "find_least_four(\"Hello there are two five letterred word here. Let us see !!\")"
   ]
  },
  {
   "cell_type": "code",
   "execution_count": 30,
   "metadata": {},
   "outputs": [
    {
     "data": {
      "text/plain": [
       "['This', 'nice', 'efficient', 'logic', 'that', 'Check', 'friend']"
      ]
     },
     "execution_count": 30,
     "metadata": {},
     "output_type": "execute_result"
    }
   ],
   "source": [
    "find_least_four(\"This is a nice and efficient logic that I've applied. Check it out, friend !!\")"
   ]
  },
  {
   "cell_type": "markdown",
   "metadata": {},
   "source": [
    "### Write a Python program to convert a camel-case string to a snake-case string."
   ]
  },
  {
   "cell_type": "code",
   "execution_count": 50,
   "metadata": {},
   "outputs": [],
   "source": [
    "def camel_to_snake(text:str):\n",
    "    i = 0\n",
    "    words = []\n",
    "    temp = \"\"\n",
    "    for i,character in enumerate(text):\n",
    "        if character.isupper():\n",
    "            words.append(temp)\n",
    "            temp = character\n",
    "\n",
    "        elif i == len(text)-1:\n",
    "            temp+= character\n",
    "            words.append(temp)\n",
    "        \n",
    "        else:\n",
    "            temp+= character\n",
    "\n",
    "    del words[0]\n",
    "    snake_case = \"_\".join(words).lower()\n",
    "\n",
    "    return snake_case"
   ]
  },
  {
   "cell_type": "code",
   "execution_count": 51,
   "metadata": {},
   "outputs": [
    {
     "data": {
      "text/plain": [
       "'this_is_camel_case_word'"
      ]
     },
     "execution_count": 51,
     "metadata": {},
     "output_type": "execute_result"
    }
   ],
   "source": [
    "camel_to_snake(\"ThisIsCamelCaseWord\")"
   ]
  },
  {
   "cell_type": "markdown",
   "metadata": {},
   "source": [
    "### Write a python program to convert snake-case string to camel-case string."
   ]
  },
  {
   "cell_type": "code",
   "execution_count": 52,
   "metadata": {},
   "outputs": [],
   "source": [
    "def snake_to_camel(text:str):\n",
    "    words_capitalized = [word.capitalize() for word in text.split(\"_\")]\n",
    "    camel = \"\".join(words_capitalized)\n",
    "    return camel"
   ]
  },
  {
   "cell_type": "code",
   "execution_count": 53,
   "metadata": {},
   "outputs": [
    {
     "data": {
      "text/plain": [
       "'ThisIsASnakeCase'"
      ]
     },
     "execution_count": 53,
     "metadata": {},
     "output_type": "execute_result"
    }
   ],
   "source": [
    "snake_to_camel(\"this_is_a_snake_case\")"
   ]
  },
  {
   "cell_type": "markdown",
   "metadata": {},
   "source": [
    "### Write a Python program to extract values between quotation marks of a string."
   ]
  },
  {
   "cell_type": "code",
   "execution_count": 60,
   "metadata": {},
   "outputs": [],
   "source": [
    "import re\n",
    "\n",
    "def extract_values(text:str):\n",
    "    return re.findall(r'-?\\b\\d+(?:\\.\\d+)?\\b', text)\n"
   ]
  },
  {
   "cell_type": "code",
   "execution_count": 61,
   "metadata": {},
   "outputs": [
    {
     "data": {
      "text/plain": [
       "['100', '1', '3.5']"
      ]
     },
     "execution_count": 61,
     "metadata": {},
     "output_type": "execute_result"
    }
   ],
   "source": [
    "extract_values(\"This is my text with a 100 values and I wish to get every 1 of them in my including this 3.5 value\")"
   ]
  },
  {
   "cell_type": "markdown",
   "metadata": {},
   "source": []
  }
 ],
 "metadata": {
  "kernelspec": {
   "display_name": "Python 3",
   "language": "python",
   "name": "python3"
  },
  "language_info": {
   "codemirror_mode": {
    "name": "ipython",
    "version": 3
   },
   "file_extension": ".py",
   "mimetype": "text/x-python",
   "name": "python",
   "nbconvert_exporter": "python",
   "pygments_lexer": "ipython3",
   "version": "3.11.5"
  }
 },
 "nbformat": 4,
 "nbformat_minor": 2
}

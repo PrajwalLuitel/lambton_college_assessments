{
 "cells": [
  {
   "cell_type": "markdown",
   "metadata": {},
   "source": [
    "## Advanced python programming for AI and ML\n",
    "#### Prajwal Luitel (C0927658)\n",
    "### Week 6"
   ]
  },
  {
   "cell_type": "markdown",
   "metadata": {},
   "source": [
    "#### 1-Write a Python program to check a sequence of numbers is an arithmetic progression or not. \n",
    "#### Input : [5, 7, 9, 11]\n",
    "#### Output : True\n",
    "#### In mathematics, an arithmetic progression or arithmetic sequence is a sequence of numbers such that the difference between the consecutive terms is constant.\n",
    "#### For example, the sequence 5, 7, 9, 11, 13, 15 ... is an arithmetic progression with common difference of 2.\n",
    "\n"
   ]
  },
  {
   "cell_type": "code",
   "execution_count": 1,
   "metadata": {},
   "outputs": [],
   "source": [
    "def find_aritimetic_progression(sequence:list[int])-> bool:\n",
    "    \"\"\"\n",
    "    Identifies whether a given sequence of numbers is an arithmetic progression.\n",
    "\n",
    "    Arguments:\n",
    "    sequence : list[int] : the sequence of numbers to be checked.\n",
    "\n",
    "    Returns:\n",
    "    is_aritimistic_progression : bool : True if the sequence of numbers is an arithmetic progression\n",
    "    \"\"\"\n",
    "    # identifying the length\n",
    "    length:int = len(sequence)\n",
    "\n",
    "    if length<=2:\n",
    "        return True\n",
    "\n",
    "    # Identifying the difference between the consecutive numbers\n",
    "    diff:int = sequence[1]-sequence[0]\n",
    "    for i in range(2,length):\n",
    "        # If the difference is not equal to diff, then it is not an arithmetic progression\n",
    "        if sequence[i] - sequence[i-1] != diff:\n",
    "            return False    \n",
    "    return True"
   ]
  },
  {
   "cell_type": "code",
   "execution_count": 2,
   "metadata": {},
   "outputs": [
    {
     "data": {
      "text/plain": [
       "True"
      ]
     },
     "execution_count": 2,
     "metadata": {},
     "output_type": "execute_result"
    }
   ],
   "source": [
    "find_aritimetic_progression([5,7,9,11,13])"
   ]
  },
  {
   "cell_type": "code",
   "execution_count": 3,
   "metadata": {},
   "outputs": [
    {
     "data": {
      "text/plain": [
       "False"
      ]
     },
     "execution_count": 3,
     "metadata": {},
     "output_type": "execute_result"
    }
   ],
   "source": [
    "find_aritimetic_progression([2,4,6,9])"
   ]
  },
  {
   "cell_type": "markdown",
   "metadata": {},
   "source": [
    "#### 2-Write a Python program to check whether a given number is an ugly number. \n",
    "#### Input : 12\n",
    "#### Output : True\n",
    "#### Ugly numbers are positive numbers whose only prime factors are 2, 3 or 5. The sequence 1, 2, 3, 4, 5, 6, 8, 9, 10, 12, ...\n",
    "#### shows the first 10 ugly numbers.\n",
    "#### Note: 1 is typically treated as an ugly number"
   ]
  },
  {
   "cell_type": "code",
   "execution_count": 7,
   "metadata": {},
   "outputs": [],
   "source": [
    "def check_ugly(number:int)->bool:\n",
    "    \"\"\"\n",
    "    Checks whether a given number is an ugly number. Ugly number is the number which has other prime factors than 2, 3 or 5.\n",
    "\n",
    "    Arguments:\n",
    "    number : int : the number to be checked if it is an ugly number\n",
    "\n",
    "    Returns:\n",
    "    is_ugly : bool : truth value for ugly number. True if it is an ugly number.\n",
    "    \"\"\"\n",
    "\n",
    "    # The idea is that if 2, 3 and 5 divide the given number, then if still the remainder is not 1, then there is another prime factor.\n",
    "    divided_by_2:int = number\n",
    "    while divided_by_2 % 2 == 0:\n",
    "        divided_by_2 //= 2\n",
    "    \n",
    "    divided_by_3:int = divided_by_2\n",
    "    while divided_by_3 % 3 == 0:\n",
    "        divided_by_3 //= 3\n",
    "    \n",
    "    divided_by_5:int = divided_by_3\n",
    "    while divided_by_5 %5 ==0:\n",
    "        divided_by_5 //=5\n",
    "\n",
    "    if divided_by_5 == 1:\n",
    "        return True\n",
    "    return False\n"
   ]
  },
  {
   "cell_type": "code",
   "execution_count": 5,
   "metadata": {},
   "outputs": [
    {
     "data": {
      "text/plain": [
       "True"
      ]
     },
     "execution_count": 5,
     "metadata": {},
     "output_type": "execute_result"
    }
   ],
   "source": [
    "check_ugly(12)"
   ]
  },
  {
   "cell_type": "code",
   "execution_count": 8,
   "metadata": {},
   "outputs": [
    {
     "data": {
      "text/plain": [
       "False"
      ]
     },
     "execution_count": 8,
     "metadata": {},
     "output_type": "execute_result"
    }
   ],
   "source": [
    "check_ugly(35)"
   ]
  },
  {
   "cell_type": "markdown",
   "metadata": {},
   "source": [
    "#### 3-Write a Python Function to find the single number in a list that doesn't occur n times.\n",
    "#### Input : [5, 3,3,4, 4, 3, 4], N=3\n",
    "#### Output : 5"
   ]
  },
  {
   "cell_type": "code",
   "execution_count": 9,
   "metadata": {},
   "outputs": [],
   "source": [
    "def find_appearing_once(array:list[int], n:int)->list[int]:\n",
    "    \"\"\"\n",
    "    Finds an element which appear once in a list where every other element appears n times.\n",
    "\n",
    "    Arguments:\n",
    "    array: list[int] : the array which contains integers.\n",
    "    n: int : the frequency of all the numbers except one numbers.\n",
    "\n",
    "    Returns:\n",
    "    appears_once : int : the number which appears once in the list.\n",
    "    \"\"\"\n",
    "\n",
    "    # Sorting the array to easily count the frequency\n",
    "    array.sort()\n",
    "    length:int = len(array)\n",
    "    i:int = 0\n",
    "    appears_once:list[int] = []\n",
    "\n",
    "    # If the array[i] and array[i+n-1] are equal, they appear n times, else not. If the single element appears at end of array, indexerror occurrs, so handling it with try/except block\n",
    "    while i<length:\n",
    "        try:\n",
    "            if array[i] == array[i+n-1]:\n",
    "                i += n\n",
    "            else:\n",
    "                raise IndexError\n",
    "\n",
    "        except IndexError:\n",
    "            appears_once.append(array[i])\n",
    "            i += 1\n",
    "    \n",
    "    return appears_once[0]"
   ]
  },
  {
   "cell_type": "code",
   "execution_count": 10,
   "metadata": {},
   "outputs": [
    {
     "data": {
      "text/plain": [
       "5"
      ]
     },
     "execution_count": 10,
     "metadata": {},
     "output_type": "execute_result"
    }
   ],
   "source": [
    "find_appearing_once([5,3,3,4,4,3,4],3)"
   ]
  },
  {
   "cell_type": "code",
   "execution_count": 11,
   "metadata": {},
   "outputs": [
    {
     "data": {
      "text/plain": [
       "1"
      ]
     },
     "execution_count": 11,
     "metadata": {},
     "output_type": "execute_result"
    }
   ],
   "source": [
    "find_appearing_once([5,5,5,5,3,4,4,4,3,3,3,4,1],4)"
   ]
  }
 ],
 "metadata": {
  "kernelspec": {
   "display_name": "Python 3",
   "language": "python",
   "name": "python3"
  },
  "language_info": {
   "codemirror_mode": {
    "name": "ipython",
    "version": 3
   },
   "file_extension": ".py",
   "mimetype": "text/x-python",
   "name": "python",
   "nbconvert_exporter": "python",
   "pygments_lexer": "ipython3",
   "version": "3.11.5"
  }
 },
 "nbformat": 4,
 "nbformat_minor": 2
}

{
 "cells": [
  {
   "cell_type": "markdown",
   "metadata": {},
   "source": [
    "##### Prajwal Luitel (C0927658)  - Natural Language Processing -"
   ]
  },
  {
   "cell_type": "markdown",
   "metadata": {},
   "source": [
    "### Write a Python program to replace maximum 2 occurrences of space, comma, or dot with a colon.\n"
   ]
  },
  {
   "cell_type": "code",
   "execution_count": 1,
   "metadata": {},
   "outputs": [],
   "source": [
    "def replace_two(text:str) -> str:\n",
    "    \"\"\"\n",
    "    Replaces the two occurrences of space, comma, or dot with a colon\n",
    "\n",
    "    Arguments:\n",
    "    text: str : the text where the replacement is to be done.\n",
    "\n",
    "    Returns:\n",
    "    edited_text: str : the test with the replacement done if two space, comma or dot are there\n",
    "    \n",
    "    \"\"\"\n",
    "    counter:int = 0\n",
    "    edited_text:str = \"\"\n",
    "\n",
    "    for character in text:\n",
    "        if (counter <2) and (character == \" \" or character==\",\" or character==\".\"):\n",
    "            edited_text += \":\"\n",
    "            counter += 1\n",
    "        else:\n",
    "            edited_text += character\n",
    "\n",
    "    return edited_text "
   ]
  },
  {
   "cell_type": "code",
   "execution_count": 2,
   "metadata": {},
   "outputs": [
    {
     "data": {
      "text/plain": [
       "'Hello:World:.How are you?'"
      ]
     },
     "execution_count": 2,
     "metadata": {},
     "output_type": "execute_result"
    }
   ],
   "source": [
    "replace_two(\"Hello World,.How are you?\")"
   ]
  },
  {
   "cell_type": "code",
   "execution_count": 3,
   "metadata": {},
   "outputs": [
    {
     "data": {
      "text/plain": [
       "'TheTwo::Occurrences are gone , , , . .'"
      ]
     },
     "execution_count": 3,
     "metadata": {},
     "output_type": "execute_result"
    }
   ],
   "source": [
    "replace_two(\"TheTwo..Occurrences are gone , , , . .\")"
   ]
  },
  {
   "cell_type": "markdown",
   "metadata": {},
   "source": [
    "#### Write a Python program to find all five-character words in a string."
   ]
  },
  {
   "cell_type": "code",
   "execution_count": 4,
   "metadata": {},
   "outputs": [],
   "source": [
    "def find_five(text:str) -> list[str]:\n",
    "    \"\"\"\n",
    "    Finds all the words with five characters in a string.\n",
    "\n",
    "    Arguments:\n",
    "    text : str : the text where the words are to be found from.\n",
    "\n",
    "    Returns:\n",
    "    all_five: list[str] : a list of words which are five characters long\n",
    "    \n",
    "    \"\"\"\n",
    "    words:list[str] = text.split(\" \")\n",
    "    all_five:list[str] = [word for word in words if len(word.strip())==5 and word.isalpha()]\n",
    "    return all_five"
   ]
  },
  {
   "cell_type": "code",
   "execution_count": 5,
   "metadata": {},
   "outputs": [
    {
     "data": {
      "text/plain": [
       "['Hello', 'there']"
      ]
     },
     "execution_count": 5,
     "metadata": {},
     "output_type": "execute_result"
    }
   ],
   "source": [
    "find_five(\"Hello there are two five letterred word here. Let us see !!\")"
   ]
  },
  {
   "cell_type": "code",
   "execution_count": 6,
   "metadata": {},
   "outputs": [
    {
     "data": {
      "text/plain": [
       "['logic', 'Check']"
      ]
     },
     "execution_count": 6,
     "metadata": {},
     "output_type": "execute_result"
    }
   ],
   "source": [
    "find_five(\"This is a nice and efficient logic that I've applied. Check it out, friend !!\")"
   ]
  },
  {
   "cell_type": "markdown",
   "metadata": {},
   "source": [
    "### Write a Python program to find all three, four, and five character words in a string."
   ]
  },
  {
   "cell_type": "code",
   "execution_count": 7,
   "metadata": {},
   "outputs": [],
   "source": [
    "def find_three_four_five(text:str) -> list[str]:\n",
    "    \"\"\"\n",
    "    Finds all the words of length three, four and five form any given string.\n",
    "\n",
    "    Arguments:\n",
    "    text: str : the text where the words are to be found from.\n",
    "\n",
    "    Returns:\n",
    "    three_four_five: list[str] : the list with words with three/four/five characters length.\n",
    "    \n",
    "    \"\"\"\n",
    "    words:list[str] = text.split(\" \")\n",
    "    three_four_five:list[str] = [word for word in words if len(word.strip())>=3 and len(word.strip())<=5 and word.isalpha()]\n",
    "    return three_four_five"
   ]
  },
  {
   "cell_type": "code",
   "execution_count": 8,
   "metadata": {},
   "outputs": [
    {
     "data": {
      "text/plain": [
       "['Hello', 'there', 'are', 'two', 'five', 'word', 'Let', 'see']"
      ]
     },
     "execution_count": 8,
     "metadata": {},
     "output_type": "execute_result"
    }
   ],
   "source": [
    "find_three_four_five(\"Hello there are two five letterred word here. Let us see !!\")"
   ]
  },
  {
   "cell_type": "code",
   "execution_count": 9,
   "metadata": {},
   "outputs": [
    {
     "data": {
      "text/plain": [
       "['This', 'nice', 'and', 'logic', 'that', 'Check']"
      ]
     },
     "execution_count": 9,
     "metadata": {},
     "output_type": "execute_result"
    }
   ],
   "source": [
    "find_three_four_five(\"This is a nice and efficient logic that I've applied. Check it out, friend !!\")"
   ]
  },
  {
   "cell_type": "markdown",
   "metadata": {},
   "source": [
    "### Write a Python program to find all words that are at least 4 characters long in a string."
   ]
  },
  {
   "cell_type": "code",
   "execution_count": 10,
   "metadata": {},
   "outputs": [],
   "source": [
    "def find_least_four(text:str) -> list[str]:\n",
    "    \"\"\"\n",
    "    Finds the words which are at least four characters long.\n",
    "\n",
    "    Arguments:\n",
    "    text : str : the text from where the words are to be found\n",
    "    \n",
    "    Returns:\n",
    "    least_four : list[str] : list containing the words which are four characters long.\n",
    "    \n",
    "    \"\"\"\n",
    "    words:list[str] = text.split(\" \")\n",
    "    least_four:list[str] = [word for word in words if len(word.strip())>=4 and word.isalpha()]\n",
    "    return least_four"
   ]
  },
  {
   "cell_type": "code",
   "execution_count": 11,
   "metadata": {},
   "outputs": [
    {
     "data": {
      "text/plain": [
       "['Hello', 'there', 'five', 'letterred', 'word']"
      ]
     },
     "execution_count": 11,
     "metadata": {},
     "output_type": "execute_result"
    }
   ],
   "source": [
    "find_least_four(\"Hello there are two five letterred word here. Let us see !!\")"
   ]
  },
  {
   "cell_type": "code",
   "execution_count": 12,
   "metadata": {},
   "outputs": [
    {
     "data": {
      "text/plain": [
       "['This', 'nice', 'efficient', 'logic', 'that', 'Check', 'friend']"
      ]
     },
     "execution_count": 12,
     "metadata": {},
     "output_type": "execute_result"
    }
   ],
   "source": [
    "find_least_four(\"This is a nice and efficient logic that I've applied. Check it out, friend !!\")"
   ]
  },
  {
   "cell_type": "markdown",
   "metadata": {},
   "source": [
    "### Write a Python program to convert a camel-case string to a snake-case string."
   ]
  },
  {
   "cell_type": "code",
   "execution_count": 13,
   "metadata": {},
   "outputs": [],
   "source": [
    "def camel_to_snake(text:str)-> str:\n",
    "    \"\"\"\n",
    "    Converts the camel case string to snake case.\n",
    "\n",
    "    Arguments:\n",
    "    text: str : the string in camel case which is to be converted to snake case\n",
    "\n",
    "    Returns:\n",
    "    snake_case : str : the snake case converted text\n",
    "    \n",
    "    \"\"\"\n",
    "    i:int = 0\n",
    "    words:list[str] = []\n",
    "    temp:str = \"\"\n",
    "    for i,character in enumerate(text):\n",
    "        if character.isupper():\n",
    "            words.append(temp)\n",
    "            temp = character\n",
    "\n",
    "        elif i == len(text)-1:\n",
    "            temp+= character\n",
    "            words.append(temp)\n",
    "        \n",
    "        else:\n",
    "            temp+= character\n",
    "\n",
    "    del words[0]\n",
    "    snake_case:str = \"_\".join(words).lower()\n",
    "\n",
    "    return snake_case"
   ]
  },
  {
   "cell_type": "code",
   "execution_count": 14,
   "metadata": {},
   "outputs": [
    {
     "data": {
      "text/plain": [
       "'this_is_camel_case_word'"
      ]
     },
     "execution_count": 14,
     "metadata": {},
     "output_type": "execute_result"
    }
   ],
   "source": [
    "camel_to_snake(\"ThisIsCamelCaseWord\")"
   ]
  },
  {
   "cell_type": "markdown",
   "metadata": {},
   "source": [
    "### Write a python program to convert snake-case string to camel-case string."
   ]
  },
  {
   "cell_type": "code",
   "execution_count": 15,
   "metadata": {},
   "outputs": [],
   "source": [
    "def snake_to_camel(text:str)->str:\n",
    "    \"\"\"\n",
    "    Converts the snake case characters to camel case.\n",
    "\n",
    "    Arguments:\n",
    "    text : str : the text in snake case which is to be converted to camel case.\n",
    "\n",
    "    Returns:\n",
    "    camel : str : the text converted to camel case.\n",
    "    \n",
    "    \"\"\"\n",
    "    words_capitalized:list[str] = [word.capitalize() for word in text.split(\"_\")]\n",
    "    camel:str = \"\".join(words_capitalized)\n",
    "    return camel"
   ]
  },
  {
   "cell_type": "code",
   "execution_count": 16,
   "metadata": {},
   "outputs": [
    {
     "data": {
      "text/plain": [
       "'ThisIsASnakeCase'"
      ]
     },
     "execution_count": 16,
     "metadata": {},
     "output_type": "execute_result"
    }
   ],
   "source": [
    "snake_to_camel(\"this_is_a_snake_case\")"
   ]
  },
  {
   "cell_type": "markdown",
   "metadata": {},
   "source": [
    "### Write a Python program to extract values between quotation marks of a string."
   ]
  },
  {
   "cell_type": "code",
   "execution_count": 17,
   "metadata": {},
   "outputs": [],
   "source": [
    "import re\n",
    "\n",
    "def extract_values(text:str) -> list[str]:\n",
    "    \"\"\"\n",
    "    Extracts and returns the list of all the numeric values within the string.\n",
    "\n",
    "    Arguments:\n",
    "    text: str : the text from which the values are to be retrieved.\n",
    "    \n",
    "    Returns:\n",
    "    values : list[str] : a list of all the numeric values in the given string\n",
    "    \n",
    "    \"\"\"\n",
    "    values:list[str] = re.findall(r'-?\\b\\d+(?:\\.\\d+)?\\b', text)\n",
    "    return values\n"
   ]
  },
  {
   "cell_type": "code",
   "execution_count": 18,
   "metadata": {},
   "outputs": [
    {
     "data": {
      "text/plain": [
       "['100', '1', '3.5']"
      ]
     },
     "execution_count": 18,
     "metadata": {},
     "output_type": "execute_result"
    }
   ],
   "source": [
    "extract_values(\"This is my text with a 100 values and I wish to get every 1 of them in my including this 3.5 value\")"
   ]
  },
  {
   "cell_type": "markdown",
   "metadata": {},
   "source": [
    "### Write a Python program to remove multiple spaces from a string."
   ]
  },
  {
   "cell_type": "code",
   "execution_count": 19,
   "metadata": {},
   "outputs": [],
   "source": [
    "def remove_multiple_spaces(text:str) -> str:\n",
    "    \"\"\"\n",
    "    Removes multiple spaces from any given string.\n",
    "\n",
    "    Arguments:\n",
    "    text: str : the text form which the redundant spaces are to be removed.\n",
    "    \n",
    "    Returns:\n",
    "    multiple_spaces_removed : str : the text where all the redundant spaces are removed.\n",
    "    \n",
    "    \"\"\"\n",
    "    first_last_removed:str = text.strip()\n",
    "    multiple_spaces_removed:str = re.sub(' +', ' ', first_last_removed)\n",
    "    return multiple_spaces_removed"
   ]
  },
  {
   "cell_type": "code",
   "execution_count": 20,
   "metadata": {},
   "outputs": [
    {
     "data": {
      "text/plain": [
       "'Hello this is a test to remove multiple spaces'"
      ]
     },
     "execution_count": 20,
     "metadata": {},
     "output_type": "execute_result"
    }
   ],
   "source": [
    "remove_multiple_spaces(\"Hello    this is   a test to remove   multiple    spaces      \")"
   ]
  },
  {
   "cell_type": "markdown",
   "metadata": {},
   "source": [
    "### Write a Python program to remove all whitespaces from a string."
   ]
  },
  {
   "cell_type": "code",
   "execution_count": 21,
   "metadata": {},
   "outputs": [],
   "source": [
    "def remove_all_space(text:str) -> str:\n",
    "    \"\"\"\n",
    "    Removes all the whitespaces from the given text.\n",
    "\n",
    "    Arguments:\n",
    "    text: str : the text from where the whitespaces are to be removed. \n",
    "    \n",
    "    Returns:\n",
    "    removed_text : str : the text where all the whitespaces are removed.\n",
    "    \n",
    "    \"\"\"\n",
    "\n",
    "    removed_text:str = re.sub(' +', '', text)\n",
    "    return removed_text"
   ]
  },
  {
   "cell_type": "code",
   "execution_count": 22,
   "metadata": {},
   "outputs": [
    {
     "data": {
      "text/plain": [
       "'Hellothisisatesttoremoveallspaces'"
      ]
     },
     "execution_count": 22,
     "metadata": {},
     "output_type": "execute_result"
    }
   ],
   "source": [
    "remove_all_space(\"Hello    this is   a test to remove   all    spaces      \")"
   ]
  },
  {
   "cell_type": "markdown",
   "metadata": {},
   "source": [
    "### Write a Python program to remove everything except alphanumeric characters from a string."
   ]
  },
  {
   "cell_type": "code",
   "execution_count": 23,
   "metadata": {},
   "outputs": [],
   "source": [
    "def remove_all_but_alphanumeric(text:str) -> str:\n",
    "    \"\"\"\n",
    "    Removes all the characters from the given string except for alphabets and numbers.\n",
    "\n",
    "    Arguments:\n",
    "    text: str : the text from which the non-alphanumeric characters are to be removed\n",
    "    \n",
    "    Returns:\n",
    "    non_alpha_removed : str : the text where all non-alphanumeric characters are removed\n",
    "    \n",
    "    \"\"\"\n",
    "    non_alpha_removed:str = re.sub('[\\W_]+', '', text)\n",
    "    return non_alpha_removed"
   ]
  },
  {
   "cell_type": "code",
   "execution_count": 24,
   "metadata": {},
   "outputs": [
    {
     "data": {
      "text/plain": [
       "'Thisstringcontains100ofdifferentcharactersIwanttoremoveallexceptalphanumeric'"
      ]
     },
     "execution_count": 24,
     "metadata": {},
     "output_type": "execute_result"
    }
   ],
   "source": [
    "remove_all_but_alphanumeric(\"This string contains 100 of different characters &%$#&^*(&&( I want to remove all except alphanumeric *&^)) ^%\")"
   ]
  },
  {
   "cell_type": "markdown",
   "metadata": {},
   "source": [
    "### Write a Python program to find URLs in a string."
   ]
  },
  {
   "cell_type": "code",
   "execution_count": 25,
   "metadata": {},
   "outputs": [],
   "source": [
    "def find_url(text:str) -> list[str]:\n",
    "    \"\"\"\n",
    "    Finds all the urls present in any given string.\n",
    "\n",
    "    Arguments:\n",
    "    text: str : the string where urls are to be identified\n",
    "\n",
    "    Returns:\n",
    "    all_urls: list[str] : a list containing all the urls from the given string.\n",
    "    \n",
    "    \"\"\"\n",
    "    all_urls:list[str] = re.findall(r'(https?://[^\\s]+)',text)\n",
    "    return all_urls"
   ]
  },
  {
   "cell_type": "code",
   "execution_count": 26,
   "metadata": {},
   "outputs": [
    {
     "data": {
      "text/plain": [
       "['https://www.linkedin.com/in/PrajwalLuitel',\n",
       " 'https://www.github.com/PrajwalLuitel']"
      ]
     },
     "execution_count": 26,
     "metadata": {},
     "output_type": "execute_result"
    }
   ],
   "source": [
    "find_url(\"https://www.linkedin.com/in/PrajwalLuitel is my linkedin page and my github is: https://www.github.com/PrajwalLuitel\")"
   ]
  },
  {
   "cell_type": "markdown",
   "metadata": {},
   "source": [
    "### Write a Python program to split a string into uppercase letters."
   ]
  },
  {
   "cell_type": "code",
   "execution_count": 27,
   "metadata": {},
   "outputs": [],
   "source": [
    "def split_into_uppercase(text:str) -> list[str]:\n",
    "    \"\"\"\n",
    "    Splits the given string at all uppercase characters and returns a list of splitted strings.\n",
    "\n",
    "    Arguments:\n",
    "    text : str : the text where split is to be done.\n",
    "\n",
    "    Returns:\n",
    "    splitted_list: list[str] : the list which contains all the strings splitted at uppercase character\n",
    "    \n",
    "    \"\"\"\n",
    "    splitted_list:list[str] = re.findall(r'[A-Z][a-z]*', text)\n",
    "    return splitted_list"
   ]
  },
  {
   "cell_type": "code",
   "execution_count": 28,
   "metadata": {},
   "outputs": [
    {
     "data": {
      "text/plain": [
       "['This', 'Is', 'My', 'Text', 'To', 'Split', 'From', 'Uppercase', 'Letters']"
      ]
     },
     "execution_count": 28,
     "metadata": {},
     "output_type": "execute_result"
    }
   ],
   "source": [
    "split_into_uppercase(\"ThisIsMyTextToSplitFromUppercaseLetters\")"
   ]
  },
  {
   "cell_type": "markdown",
   "metadata": {},
   "source": [
    "### Write a Python program to do case-insensitive string replacement."
   ]
  },
  {
   "cell_type": "code",
   "execution_count": 29,
   "metadata": {},
   "outputs": [],
   "source": [
    "def case_insensitive_replacement(text:str, to_replace:str, replace_with:str) -> str:\n",
    "    \"\"\"\n",
    "    Replaces a part of the string while maintaining case insensitivity.\n",
    "\n",
    "    Arguments:\n",
    "    text: str : the text from which the part is to be replaced\n",
    "    to_replace : str : the text which is to be replaced from the main text\n",
    "    replace_with: str : the text which is to be replaced with\n",
    "    \n",
    "    Returns:\n",
    "    replaced_text : str : the replaced text\n",
    "\n",
    "    \"\"\"\n",
    "    replaced_text:str = re.sub('(?i)'+to_replace, replace_with, text)\n",
    "    return replaced_text"
   ]
  },
  {
   "cell_type": "code",
   "execution_count": 30,
   "metadata": {},
   "outputs": [
    {
     "data": {
      "text/plain": [
       "'Hello ThIs Is A TexT Where REPLACED is To be DoNe'"
      ]
     },
     "execution_count": 30,
     "metadata": {},
     "output_type": "execute_result"
    }
   ],
   "source": [
    "case_insensitive_replacement(\"Hello ThIs Is A TexT Where REPlacement is To be DoNe\", 'repLacement', \"REPLACED\")"
   ]
  },
  {
   "cell_type": "markdown",
   "metadata": {},
   "source": [
    "### Write a Python program to insert spaces between words starting with capital letters."
   ]
  },
  {
   "cell_type": "code",
   "execution_count": 31,
   "metadata": {},
   "outputs": [],
   "source": [
    "def insert_spaces(text:str) -> str:\n",
    "    \"\"\"\n",
    "    Inserts space between the words starting with capital letters\n",
    "\n",
    "    Arguments:\n",
    "    text: str : the text where whitespaces are to be added.\n",
    "\n",
    "    Returns:\n",
    "    space_inserted : str : the text where the whitespaces are added at each uppercase letter.\n",
    "    \n",
    "    \"\"\"\n",
    "    splitted_by_uppercase:list[str] = re.findall(r'[A-Z][a-z]*', text)\n",
    "    space_inserted:str = \" \".join(splitted_by_uppercase)\n",
    "    return space_inserted"
   ]
  },
  {
   "cell_type": "code",
   "execution_count": 32,
   "metadata": {},
   "outputs": [
    {
     "data": {
      "text/plain": [
       "'You Have To Insert Space Here In This Text As It Is A Very Important Part Of Text Processing'"
      ]
     },
     "execution_count": 32,
     "metadata": {},
     "output_type": "execute_result"
    }
   ],
   "source": [
    "insert_spaces(\"YouHaveToInsertSpaceHereInThisTextAsItIsAVeryImportantPartOfTextProcessing\")"
   ]
  }
 ],
 "metadata": {
  "kernelspec": {
   "display_name": "Python 3",
   "language": "python",
   "name": "python3"
  },
  "language_info": {
   "codemirror_mode": {
    "name": "ipython",
    "version": 3
   },
   "file_extension": ".py",
   "mimetype": "text/x-python",
   "name": "python",
   "nbconvert_exporter": "python",
   "pygments_lexer": "ipython3",
   "version": "3.11.5"
  }
 },
 "nbformat": 4,
 "nbformat_minor": 2
}

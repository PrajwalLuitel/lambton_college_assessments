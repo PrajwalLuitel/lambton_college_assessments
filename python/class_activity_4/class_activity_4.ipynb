{
 "cells": [
  {
   "cell_type": "code",
   "execution_count": 1,
   "metadata": {},
   "outputs": [
    {
     "name": "stdout",
     "output_type": "stream",
     "text": [
      "I have invited Albert Einstein to dinner !!\n",
      "I have invited Bruce Lee to dinner !!\n",
      "I have invited Nicola Tesla to dinner !!\n",
      "I have invited Alan Turing to dinner !!\n"
     ]
    }
   ],
   "source": [
    "\"\"\"\n",
    "3-4. Guest list: If you could invite anyone, living or deceased, to dinner, who would you invite? Make a list that includes at least three people you'd like to invite to dinner. Then use your list to print a message to each person, inviting them to dinner.\n",
    "\"\"\"\n",
    "\n",
    "my_dinner_list = [\"Albert Einstein\", \"Bruce Lee\", \"Nicola Tesla\", \"Alan Turing\"]\n",
    "for person in my_dinner_list:\n",
    "    print(f\"I have invited {person} to dinner !!\")"
   ]
  },
  {
   "cell_type": "code",
   "execution_count": 2,
   "metadata": {},
   "outputs": [
    {
     "name": "stdout",
     "output_type": "stream",
     "text": [
      "People who can't make it to dinner: Albert Einstein, Nicola Tesla\n",
      "Replacing the people who can't make it with Batman and Superman\n",
      "This is a new invitation to Batman !!\n",
      "This is a new invitation to Bruce Lee !!\n",
      "This is a new invitation to Superman !!\n",
      "This is a new invitation to Alan Turing !!\n"
     ]
    }
   ],
   "source": [
    "\"\"\"\n",
    "3-5. Changing guest list: Changing the guest list to send new invitation. Modify the list replacing the one who isn't able to make it to dinner.\n",
    "\"\"\"\n",
    "\n",
    "my_original_list = [\"Albert Einstein\", \"Bruce Lee\", \"Nicola Tesla\", \"Alan Turing\"]\n",
    "\n",
    "print(\"People who can't make it to dinner: Albert Einstein, Nicola Tesla\")\n",
    "print(\"Replacing the people who can't make it with Batman and Superman\")\n",
    "\n",
    "my_original_list[my_original_list.index(\"Albert Einstein\")] = \"Batman\"\n",
    "my_original_list[my_original_list.index(\"Nicola Tesla\")] = \"Superman\"\n",
    "\n",
    "for person in my_original_list:\n",
    "    print(f\"This is a new invitation to {person} !!\")\n"
   ]
  },
  {
   "cell_type": "code",
   "execution_count": 3,
   "metadata": {},
   "outputs": [
    {
     "name": "stdout",
     "output_type": "stream",
     "text": [
      "My original list is ['Batman', 'Bruce Lee', 'Superman', 'Alan Turing']\n",
      "\n",
      "Now, adding more people : \n",
      "Adding Thor with insert in beginning: \n",
      "Now my list looks like: ['Thor', 'Batman', 'Bruce Lee', 'Superman', 'Alan Turing']\n",
      "\n",
      " adding Loki with insert in middle: \n",
      "Now my list looks like: ['Thor', 'Batman', 'Bruce Lee', 'Loki', 'Superman', 'Alan Turing']\n",
      "\n",
      " adding Wonder Woman with append in end: \n",
      "Now my list looks like: ['Thor', 'Batman', 'Bruce Lee', 'Loki', 'Superman', 'Alan Turing', 'Wonder Woman']\n",
      "\n",
      " Sending invitation: \n",
      "This is an extended invitation to Thor !!\n",
      "This is an extended invitation to Batman !!\n",
      "This is an extended invitation to Bruce Lee !!\n",
      "This is an extended invitation to Loki !!\n",
      "This is an extended invitation to Superman !!\n",
      "This is an extended invitation to Alan Turing !!\n",
      "This is an extended invitation to Wonder Woman !!\n"
     ]
    }
   ],
   "source": [
    "\"\"\"\n",
    "3-6. More Guests: Adding more people to the list using insert() in beginning, insert() in middle and append() at end\n",
    "\"\"\"\n",
    "\n",
    "print(f\"My original list is {my_original_list}\")\n",
    "\n",
    "print(\"\\nNow, adding more people : \")\n",
    "print(\"Adding Thor with insert in beginning: \")\n",
    "my_original_list.insert(0, \"Thor\")\n",
    "print(f\"Now my list looks like: {my_original_list}\")\n",
    "\n",
    "print(\"\\n adding Loki with insert in middle: \")\n",
    "my_original_list.insert(3, \"Loki\")\n",
    "print(f\"Now my list looks like: {my_original_list}\")\n",
    "\n",
    "print(\"\\n adding Wonder Woman with append in end: \")\n",
    "my_original_list.append(\"Wonder Woman\")\n",
    "print(f\"Now my list looks like: {my_original_list}\")\n",
    "\n",
    "print(\"\\n Sending invitation: \")\n",
    "\n",
    "for person in my_original_list:\n",
    "    print(f\"This is an extended invitation to {person} !!\")\n",
    "\n"
   ]
  },
  {
   "cell_type": "code",
   "execution_count": 4,
   "metadata": {},
   "outputs": [
    {
     "name": "stdout",
     "output_type": "stream",
     "text": [
      "My intended guests were: ['Thor', 'Batman', 'Bruce Lee', 'Loki', 'Superman', 'Alan Turing', 'Wonder Woman']\n",
      "I'm sorry Wonder Woman, but I can only accommodate two people.\n",
      "I'm sorry Alan Turing, but I can only accommodate two people.\n",
      "I'm sorry Superman, but I can only accommodate two people.\n",
      "I'm sorry Loki, but I can only accommodate two people.\n",
      "I'm sorry Bruce Lee, but I can only accommodate two people.\n",
      "\n",
      " Sending invitation for final time\n",
      "This is the final invitation to Thor !!\n",
      "This is the final invitation to Batman !!\n",
      "\n",
      " Now, removing every data from my list\n",
      "Now, my list looks like: []\n"
     ]
    }
   ],
   "source": [
    "\"\"\"\n",
    "3-7. Shrinking Guest list: My table only accomodates two people\n",
    "\"\"\"\n",
    "\n",
    "print(f\"My intended guests were: {my_original_list}\")\n",
    "\n",
    "while len(my_original_list) > 2:\n",
    "    guest = my_original_list.pop()\n",
    "    print(f\"I'm sorry {guest}, but I can only accommodate two people.\")\n",
    "\n",
    "print(\"\\n Sending invitation for final time\")\n",
    "for person in my_original_list:\n",
    "    print(f\"This is the final invitation to {person} !!\")\n",
    "\n",
    "print(\"\\n Now, removing every data from my list\")\n",
    "\n",
    "while len(my_original_list) > 0:\n",
    "    del my_original_list[0]\n",
    "\n",
    "print(f\"Now, my list looks like: {my_original_list}\")"
   ]
  },
  {
   "cell_type": "code",
   "execution_count": 5,
   "metadata": {},
   "outputs": [
    {
     "name": "stdout",
     "output_type": "stream",
     "text": [
      "Original List: ['Paris', 'Venice', 'Banff National Part', 'Everest', 'California']\n",
      "\n",
      "Using sorted() to print in alphabetical order: ['Banff National Part', 'California', 'Everest', 'Paris', 'Venice']\n",
      "\n",
      "Still, the original list is: ['Paris', 'Venice', 'Banff National Part', 'Everest', 'California']\n",
      "\n",
      "Using sorted() to print in reverse alphabetic order: ['Venice', 'Paris', 'Everest', 'California', 'Banff National Part']\n",
      "\n",
      "Still, the original list is: ['Paris', 'Venice', 'Banff National Part', 'Everest', 'California']\n",
      "\n",
      "Using reverse() to change the list:\n",
      "\n",
      "Now, the original list is: ['California', 'Everest', 'Banff National Part', 'Venice', 'Paris']\n",
      "\n",
      "Reversing again: \n",
      "\n",
      "Now, the original list is: ['Paris', 'Venice', 'Banff National Part', 'Everest', 'California']\n",
      "\n",
      "Now, sorting in alphabetical order: \n",
      "\n",
      "The original list is: ['Banff National Part', 'California', 'Everest', 'Paris', 'Venice']\n",
      "\n",
      "Reverse sorting using sort(): \n",
      "\n",
      "The original list is: ['Venice', 'Paris', 'Everest', 'California', 'Banff National Part']\n"
     ]
    }
   ],
   "source": [
    "\"\"\"\n",
    "3-8. Seeing the world: Think of 5 places you'd like to visit.\n",
    "\n",
    "    - Store locations in list (not in alphabetic order)\n",
    "    - Print your list in original order\n",
    "    - use sorted() to print list in alphabetical order without modifying actual list\n",
    "    - show list by printing\n",
    "    - Use sorted to print in reverse alphabetical order\n",
    "    - Show the list by printing\n",
    "    - use reverse() to change order of the list\n",
    "    - use reverse() to change order of the list again\n",
    "    - use sort() to sort in alphabetical order\n",
    "    - show that it has been changed\n",
    "    - use sort() to change and store in reverse alphabetical order\n",
    "\"\"\"\n",
    "\n",
    "places_to_visit = [\"Paris\", \"Venice\", \"Banff National Part\",\"Everest\", \"California\"]\n",
    "\n",
    "print(f\"Original List: {places_to_visit}\")\n",
    "\n",
    "print(f\"\\nUsing sorted() to print in alphabetical order: {sorted(places_to_visit)}\")\n",
    "\n",
    "print(f\"\\nStill, the original list is: {places_to_visit}\")\n",
    "\n",
    "print(f\"\\nUsing sorted() to print in reverse alphabetic order: {sorted(places_to_visit, reverse=True)}\")\n",
    "print(f\"\\nStill, the original list is: {places_to_visit}\")\n",
    "print(f\"\\nUsing reverse() to change the list:\")\n",
    "places_to_visit.reverse()\n",
    "print(f\"\\nNow, the original list is: {places_to_visit}\")\n",
    "print(f\"\\nReversing again: \")\n",
    "places_to_visit.reverse()\n",
    "print(f\"\\nNow, the original list is: {places_to_visit}\")\n",
    "print(f\"\\nNow, sorting in alphabetical order: \")\n",
    "places_to_visit.sort()\n",
    "print(f\"\\nThe original list is: {places_to_visit}\")\n",
    "print(f\"\\nReverse sorting using sort(): \")\n",
    "places_to_visit.sort(reverse=True)\n",
    "print(f\"\\nThe original list is: {places_to_visit}\")"
   ]
  },
  {
   "cell_type": "code",
   "execution_count": 6,
   "metadata": {},
   "outputs": [
    {
     "name": "stdout",
     "output_type": "stream",
     "text": [
      "1. Hello, Albert Einstein You are invited !!\n",
      "2. Hello, Bruce Lee You are invited !!\n",
      "3. Hello, Nicola Tesla You are invited !!\n",
      "4. Hello, Alan Turing You are invited !!\n"
     ]
    }
   ],
   "source": [
    "\"\"\"\n",
    "3-9. Dinner guests: Working with one of the programs from exercise above, use len() to print a message indicating the number of people you're inviting to dinner\n",
    "\"\"\"\n",
    "\n",
    "my_new_dinner_list = [\"Albert Einstein\", \"Bruce Lee\", \"Nicola Tesla\", \"Alan Turing\"]\n",
    "\n",
    "total_people = len(my_new_dinner_list)\n",
    "\n",
    "for i in range(1,total_people+1):\n",
    "    print(f\"{i}. Hello, {my_new_dinner_list[i-1]} You are invited !!\")"
   ]
  },
  {
   "cell_type": "code",
   "execution_count": 7,
   "metadata": {},
   "outputs": [
    {
     "name": "stdout",
     "output_type": "stream",
     "text": [
      "Adding a country at last:None\n",
      "\n",
      "Adding a country in the beginning: None\n",
      "\n",
      "Adding a country in middle: None\n",
      "Printing the alphabetically sorted list:['Canada', 'India', 'Iran', 'Japan', 'Mexico', 'Morocco', 'Nepal', 'South Korea', 'UK', 'USA', 'Vatican City']\n",
      "Printing the alphabetically reverse sorted list:['Vatican City', 'USA', 'UK', 'South Korea', 'Nepal', 'Morocco', 'Mexico', 'Japan', 'Iran', 'India', 'Canada']\n",
      "Reversing the existing original list:\n",
      "['India', 'Vatican City', 'South Korea', 'Japan', 'UK', 'USA', 'Iran', 'Mexico', 'Canada', 'Nepal', 'Morocco']\n",
      "Reversing back the existing original list:\n",
      "['Morocco', 'Nepal', 'Canada', 'Mexico', 'Iran', 'USA', 'UK', 'Japan', 'South Korea', 'Vatican City', 'India']\n",
      "Removing an item at index 1\n",
      "['Morocco', 'Canada', 'Mexico', 'Iran', 'USA', 'UK', 'Japan', 'South Korea', 'Vatican City', 'India']\n",
      "Removing the item at index 3\n",
      "['Morocco', 'Canada', 'Mexico', 'USA', 'UK', 'Japan', 'South Korea', 'Vatican City', 'India']\n",
      "Sorting in alphabetical order\n",
      "['Canada', 'India', 'Japan', 'Mexico', 'Morocco', 'South Korea', 'UK', 'USA', 'Vatican City']\n",
      "Sorting in reverse alphabetical order\n",
      "['Vatican City', 'USA', 'UK', 'South Korea', 'Morocco', 'Mexico', 'Japan', 'India', 'Canada']\n",
      "Clearing all the data in the list:\n",
      "[]\n"
     ]
    }
   ],
   "source": [
    "\"\"\"\n",
    "3-10. Every Function: Think of something you could store in a list. For example, you could make a list of mountains, rivers, countries, cities and write a program that creates a list containing these items and use each function introduced in the chapter\n",
    "\"\"\"\n",
    "\n",
    "countries = [\"Nepal\", \"Canada\", \"Iran\", \"USA\", \"UK\", \"Japan\", \"South Korea\",\"Vatican City\" ]\n",
    "\n",
    "# Adding a country at last\n",
    "print(f\"Adding a country at last:{countries.append('India')}\")\n",
    "\n",
    "\n",
    "# Adding a country in beginning\n",
    "print(f\"\\nAdding a country in the beginning: {countries.insert(0,'Morocco')}\")\n",
    "\n",
    "\n",
    "# Adding a country in middle\n",
    "print(f\"\\nAdding a country in middle: {countries.insert(3,'Mexico')}\")\n",
    "\n",
    "print(f\"Printing the alphabetically sorted list:{sorted(countries)}\")\n",
    "print(f\"Printing the alphabetically reverse sorted list:{sorted(countries, reverse=True)}\")\n",
    "\n",
    "print(f\"Reversing the existing original list:\")\n",
    "countries.reverse()\n",
    "print(countries)\n",
    "\n",
    "print(f\"Reversing back the existing original list:\")\n",
    "countries.reverse()\n",
    "print(countries)\n",
    "\n",
    "print(f\"Removing an item at index 1\")\n",
    "countries.pop(1)\n",
    "print(countries)\n",
    "\n",
    "print(f\"Removing the item at index 3\")\n",
    "del countries[3]\n",
    "print(countries)\n",
    "\n",
    "print(f\"Sorting in alphabetical order\")\n",
    "countries.sort()\n",
    "print(countries)\n",
    "\n",
    "print(f\"Sorting in reverse alphabetical order\")\n",
    "countries.sort(reverse=True)\n",
    "print(countries)\n",
    "\n",
    "print(f\"Clearing all the data in the list:\")\n",
    "countries.clear()\n",
    "print(countries)\n"
   ]
  },
  {
   "cell_type": "code",
   "execution_count": 8,
   "metadata": {},
   "outputs": [
    {
     "name": "stdout",
     "output_type": "stream",
     "text": [
      "My dictionary is: \n",
      "{'Big data': 'Tyler Adams', 'Python Programming': 'Pouria Modaresi', 'Data Science': 'Reena Shaw', 'Introduction to AI': 'Ashish Gupta'}\n",
      "\n",
      "After changing Mike's name to Big Data:\n",
      " {'Big data': 'Mike Aleshams', 'Python Programming': 'Pouria Modaresi', 'Data Science': 'Reena Shaw', 'Introduction to AI': 'Ashish Gupta'}\n"
     ]
    }
   ],
   "source": [
    "\"\"\"\n",
    "Dictionary: Create a dictionary of instructors and courses, and change name of an instructor and display\n",
    "\n",
    "\"\"\"\n",
    "\n",
    "my_dict = {\"Big data\": \"Tyler Adams\", \"Python Programming\": \"Pouria Modaresi\", \"Data Science\": \"Reena Shaw\", \"Introduction to AI\": \"Ashish Gupta\"}\n",
    "print(f\"My dictionary is: \\n{my_dict}\")\n",
    "\n",
    "# Changing the name of instructor\n",
    "my_dict[\"Big data\"] = \"Mike Aleshams\"\n",
    "print(f\"\\nAfter changing Mike's name to Big Data:\\n {my_dict}\")"
   ]
  }
 ],
 "metadata": {
  "kernelspec": {
   "display_name": "Python 3",
   "language": "python",
   "name": "python3"
  },
  "language_info": {
   "codemirror_mode": {
    "name": "ipython",
    "version": 3
   },
   "file_extension": ".py",
   "mimetype": "text/x-python",
   "name": "python",
   "nbconvert_exporter": "python",
   "pygments_lexer": "ipython3",
   "version": "3.11.5"
  }
 },
 "nbformat": 4,
 "nbformat_minor": 2
}

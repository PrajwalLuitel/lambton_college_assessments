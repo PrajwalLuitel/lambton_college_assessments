{
 "cells": [
  {
   "cell_type": "markdown",
   "metadata": {},
   "source": [
    "#### Class Activity - 1\n",
    "#### Neural networks and deep learning (AML 3104) \n",
    "\n",
    "\n",
    "##### Sudip Chaudhary (c0922310)\n",
    "##### Prajwal Luitel (c0927658)\n",
    "\n",
    "\n",
    "### Gradient descent"
   ]
  },
  {
   "cell_type": "markdown",
   "metadata": {},
   "source": []
  }
 ],
 "metadata": {
  "language_info": {
   "name": "python"
  }
 },
 "nbformat": 4,
 "nbformat_minor": 2
}

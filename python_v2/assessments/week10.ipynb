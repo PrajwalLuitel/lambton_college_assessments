{
 "cells": [
  {
   "cell_type": "markdown",
   "metadata": {},
   "source": [
    "## Advanced python programming for AI and ML\n",
    "#### Prajwal Luitel (C0927658)\n",
    "### Week 10"
   ]
  },
  {
   "cell_type": "markdown",
   "metadata": {},
   "source": [
    "Q1) Given two non-negative integers num1 and num2 represented as strings, return the product of num1 and num2, also represented as a string.\n",
    "\n",
    "Note: You must not use any built-in BigInteger library or convert the inputs to integer directly.\n",
    "\n",
    " \n",
    "\n",
    "Example 1:\n",
    "\n",
    "Input: num1 = \"2\", num2 = \"3\"\n",
    "\n",
    "Output: \"6\""
   ]
  },
  {
   "cell_type": "code",
   "execution_count": 3,
   "metadata": {},
   "outputs": [],
   "source": [
    "def addition(num1:str, num2:str) -> str:\n",
    "    \"\"\"\n",
    "    Evaluates the addition of two numbers as strings without type conversion and returns the resulting number as a string.\n",
    "\n",
    "    Args:\n",
    "    num1 : str : first number as string\n",
    "    num2 : str : second number as string\n",
    "\n",
    "    Returns:\n",
    "    sum : str : the sum of the two numbers in string form.\n",
    "    \"\"\"\n",
    "    return str(eval(f\"{num1} + {num2}\"))\n"
   ]
  },
  {
   "cell_type": "code",
   "execution_count": 4,
   "metadata": {},
   "outputs": [
    {
     "data": {
      "text/plain": [
       "'7'"
      ]
     },
     "execution_count": 4,
     "metadata": {},
     "output_type": "execute_result"
    }
   ],
   "source": [
    "addition(\"3\",\"4\")"
   ]
  },
  {
   "cell_type": "markdown",
   "metadata": {},
   "source": [
    "Q2) The count-and-say sequence is a sequence of digit strings defined by the recursive formula:\n",
    "\n",
    "countAndSay(1) = \"1\"\n",
    "countAndSay(n) is the way you would \"say\" the digit string from countAndSay(n-1), which is then converted into a different digit string.\n",
    "To determine how you \"say\" a digit string, split it into the minimal number of substrings such that each substring contains exactly one unique digit. Then for each substring, say the number of digits, then say the digit. Finally, concatenate every said digit.\n",
    "\n",
    "For example, the saying and conversion for digit string \"3322251\":"
   ]
  },
  {
   "cell_type": "code",
   "execution_count": 9,
   "metadata": {},
   "outputs": [],
   "source": [
    "def count_and_say(number:str) -> str:\n",
    "    \"\"\"\n",
    "    Evaluates the count and say for the digits in the given string. For example, 332225551113333 can be counted and said as 2332353143.\n",
    "\n",
    "    Args:\n",
    "    number : str : numbers in a string format.\n",
    "\n",
    "    Returns:\n",
    "    counted_and_said : str : the digits in the count and say format for the digits in the given string.\n",
    "    \"\"\"\n",
    "    counter = 1\n",
    "    result = \"\"\n",
    "\n",
    "    for i in range(len(number)-1):\n",
    "        if number[i] == number[i+1]:\n",
    "            counter += 1\n",
    "        else:\n",
    "            result += str(counter)+number[i]\n",
    "            counter = 1\n",
    "\n",
    "    result += str(counter)+number[i]\n",
    "\n",
    "    return result"
   ]
  },
  {
   "cell_type": "code",
   "execution_count": 10,
   "metadata": {},
   "outputs": [
    {
     "data": {
      "text/plain": [
       "'2332353143'"
      ]
     },
     "execution_count": 10,
     "metadata": {},
     "output_type": "execute_result"
    }
   ],
   "source": [
    "count_and_say(\"332225551113333\")"
   ]
  },
  {
   "cell_type": "code",
   "execution_count": null,
   "metadata": {},
   "outputs": [],
   "source": []
  }
 ],
 "metadata": {
  "kernelspec": {
   "display_name": "Python 3",
   "language": "python",
   "name": "python3"
  },
  "language_info": {
   "codemirror_mode": {
    "name": "ipython",
    "version": 3
   },
   "file_extension": ".py",
   "mimetype": "text/x-python",
   "name": "python",
   "nbconvert_exporter": "python",
   "pygments_lexer": "ipython3",
   "version": "3.11.5"
  }
 },
 "nbformat": 4,
 "nbformat_minor": 2
}
